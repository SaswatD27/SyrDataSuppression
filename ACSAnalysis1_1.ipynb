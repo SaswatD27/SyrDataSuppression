{
  "nbformat": 4,
  "nbformat_minor": 0,
  "metadata": {
    "colab": {
      "name": "ACSAnalysis1.1.ipynb",
      "provenance": [],
      "collapsed_sections": [
        "5LSkO27i0tlZ",
        "IC6P-otiBFJu"
      ],
      "authorship_tag": "ABX9TyMKdifajF7ogms+TLnId0T+",
      "include_colab_link": true
    },
    "kernelspec": {
      "name": "python3",
      "display_name": "Python 3"
    },
    "language_info": {
      "name": "python"
    }
  },
  "cells": [
    {
      "cell_type": "markdown",
      "metadata": {
        "id": "view-in-github",
        "colab_type": "text"
      },
      "source": [
        "<a href=\"https://colab.research.google.com/github/SaswatD27/SyrDataSuppression/blob/main/ACSAnalysis1_1.ipynb\" target=\"_parent\"><img src=\"https://colab.research.google.com/assets/colab-badge.svg\" alt=\"Open In Colab\"/></a>"
      ]
    },
    {
      "cell_type": "code",
      "source": [
        "#import libraries\n",
        "import numpy as np\n",
        "import pandas as pd\n",
        "import seaborn as sns\n",
        "import matplotlib.pyplot as plt\n",
        "#import pipeline_dp as pdp\n",
        "import math\n",
        "import random\n",
        "import data_tools_syr as syr\n",
        "from sklearn.tree import DecisionTreeClassifier \n",
        "from sklearn.model_selection import train_test_split \n",
        "from sklearn import metrics "
      ],
      "metadata": {
        "id": "MjX2KJnDQR-E"
      },
      "execution_count": null,
      "outputs": []
    },
    {
      "cell_type": "markdown",
      "source": [
        "##Analysis Tools"
      ],
      "metadata": {
        "id": "5LSkO27i0tlZ"
      }
    },
    {
      "cell_type": "code",
      "source": [
        "def zeroProb(p):\n",
        "#                    this is the chance of \"staying put at 0\"\n",
        "  if random.random()<(1.0 - p)/(1.0 + p):\n",
        "    return 0\n",
        "  else:\n",
        "    return 1\n",
        "    # Coin flip to determine if the result is negative or positive.\n",
        "    # This only applies when we \"leave 0.\"\n",
        "def signProb():\n",
        "  if random.random() < 0.5:\n",
        "    return -1\n",
        "  else:\n",
        "    return 1\n",
        "\n",
        "def twoSidedGeoDist(p):\n",
        "#      (1) Did we \"leave 0\"? [Y=1|N=0]        (3) +/-\n",
        "  return zeroProb(p) * np.random.geometric(1-p) * signProb()\n",
        "def mech_disclaplace(eps):\n",
        "  return twoSidedGeoDist(math.e**(-eps))\n",
        "#--------------------\n",
        "\n",
        "#----- Adding DP to Hist ----\n",
        "def add_dp_hist(counts):\n",
        "  dp_counts=[]\n",
        "  for i in range(len(counts)):\n",
        "    dp_counts.append(counts[i]+twoSidedGeoDist(math.e**(-eps)))\n",
        "  return [abs(x) for x in dp_counts]\n",
        "#----------------------------\n",
        "\n",
        "#----- Multiple Runs of DP and extraction of worst runs ---\n",
        "\n",
        "#----------------------------------------------------------\n",
        "\n",
        "#----- Merge Columns ----------- (Probably useless, let's see)\n",
        "def suppress_merge(df,colvec): #colvec: list of columns to merge\n",
        "  data_suppressed=df.copy()\n",
        "  data_suppressed=data_suppressed.drop(columns=colvec)\n",
        "  #Then add a hybrid column with tuples\n",
        "  #A column needs a name!\n",
        "  colname=\"\"\n",
        "  for c in colvec:\n",
        "    colname=colname+str(c)\n",
        "  data_suppressed[str(colname)]=df[colvec].astype(str).agg('-'.join, axis=1)\n",
        "  return data_suppressed\n",
        "#-----------------------\n",
        "\n",
        "#----- Binning ----------\n",
        "def data_col_bin(df,col,wid):#col - index of the column, wid - desired width\n",
        "  min_l=min(df[col])\n",
        "  max_l=max(df[col])\n",
        "  bins=[]\n",
        "  for i in range(min_l//wid,max_l//wid):\n",
        "    bin.append([i,i+wid])\n",
        "  df_bin=df.copy()\n",
        "  df_bin=df[col]\n",
        "  return df_bin\n",
        "#------------------------\n",
        "\n",
        "#----- Merging Categories for a categorical attribute----\n",
        "\n",
        "#--------------------------------------------------------\n",
        "\n",
        "#----- Fairness Error ----\n",
        "def fair_err(hist):\n",
        "  return max(hist)-min(hist)\n",
        "#-------------------------\n",
        "\n",
        "#----- Randomly k anonymise by merging----\n",
        "def merge_random(hist,col,k): #Merges a given bin/bucket with another bin\n",
        "  hist1=list(hist)\n",
        "  col2=0\n",
        "  #print(hist)\n",
        "  #print(hist[col]+hist[col2])\n",
        "  while hist[col]+hist[col2]<k:\n",
        "    col2=random.choice([*range(0,col),*range(col+1,len(hist))])\n",
        "  hist1.append(hist[col]+hist[col2])\n",
        "  del hist1[col]\n",
        "  del hist1[col2]\n",
        "  return hist1\n",
        "\n",
        "def k_anonymise_rand(hist,k): #k anonymises a histogram with random bin merging\n",
        "  hist=np.array(hist)\n",
        "  #print(hist<k)\n",
        "  while any(hist<k):\n",
        "    i=np.where(hist<k)\n",
        "    #print('i=',i[0][0])\n",
        "    hist=np.array(merge_random(hist,i[0][0],k))\n",
        "  return hist\n",
        "#-------------------------------\n",
        "\n",
        "#----- k anonymise and spread ---------\n",
        "def spread_random(hist,cols,k): #Merges a given bin/bucket with another bin\n",
        "  hist1=list(hist)\n",
        "  col=cols[0]\n",
        "  if col == 0:\n",
        "    col2=1\n",
        "  else:\n",
        "    col2=0\n",
        "  #print(hist)\n",
        "  #print(hist[col]+hist[col2])\n",
        "  while (hist[col]+hist[col2]<k) or (col2 in cols):\n",
        "    col2=random.choice([*range(0,len(hist))])\n",
        "    #print('lol')\n",
        "  #print(col2)\n",
        "  val=(hist[col]+hist[col2])/2\n",
        "  hist1[col2]=val\n",
        "  hist1[col]=val\n",
        "  return hist1\n",
        "\n",
        "def spread_k_anonymise(hist,k): #k anonymises a histogram with random bin merging\n",
        "  hist=np.array(hist)\n",
        "  #print(hist<k)\n",
        "  while any(hist<k):\n",
        "    #print('lel')\n",
        "    i=np.where(hist<k)\n",
        "    #print(i)\n",
        "    #print('i=',i[0][0])\n",
        "    hist=np.array(spread_random(hist,i[0],k))\n",
        "  return hist.astype(int)\n",
        "#--------------------------------------\n",
        "\n",
        "#----- Suppress by Omission ----\n",
        "def supp_omit(hist, thres):\n",
        "  hist1=list(hist)\n",
        "  for i in range(len(hist1)):\n",
        "    if hist1[i]<thres:\n",
        "      hist1[i]=0\n",
        "  return hist1\n",
        "#-------------------------------\n",
        "\n",
        "#----- k anon adj merge ------#incomplete\n",
        "def spread_bins(hist,col1,col2):\n",
        "  hist1=list(hist)\n",
        "  hist1[col1]=(hist[col1]+hist[col2])/2\n",
        "  hist1[col2]=float(hist1[col1])\n",
        "  return hist1\n",
        "\n",
        "def spread_adjacent(hist,col,k): #Merges a given bin/bucket with adjacent bins\n",
        "  hist1=list(hist)\n",
        "  if col==len(hist)-1:\n",
        "    hist1=list(spread_bins(hist1,col,col-1))\n",
        "  elif col==0:\n",
        "    hist1=list(spread_bins(hist1,col,col+1))\n",
        "  else:\n",
        "    if hist1[col-1]>hist1[col+1]:\n",
        "      hist1=list(spread_bins(hist1,col,col-1))\n",
        "    else:\n",
        "      hist1=list(spread_bins(hist1,col,col+1))\n",
        "  return hist1\n",
        "\n",
        "def adj_k_anonymise(hist,k):\n",
        "  hist=np.array(hist)\n",
        "  l=0\n",
        "  while any(hist<k):\n",
        "    l+=1\n",
        "    print(l)\n",
        "    i=np.where(hist<k)\n",
        "    print(i)\n",
        "    for j in i[0]:\n",
        "      spread_adjacent(hist,j,k)\n",
        "  return hist.astype(int)\n",
        "#-----------------------------\n",
        "\n",
        "#----- Times DP is beaten ----\n",
        "#Perhaps write it in the notebook itself\n",
        "#-----------------------------"
      ],
      "metadata": {
        "id": "R786t2Q7KQrV"
      },
      "execution_count": null,
      "outputs": []
    },
    {
      "cell_type": "markdown",
      "source": [
        "Correlation. k as percentiles."
      ],
      "metadata": {
        "id": "KSar8gd2J9bO"
      }
    },
    {
      "cell_type": "markdown",
      "source": [
        "# Import Dataset"
      ],
      "metadata": {
        "id": "GfWUDoOA0zYJ"
      }
    },
    {
      "cell_type": "markdown",
      "source": [
        "Packages for rep on a map. Join with another table for counties. Maybe try for different PUMAs"
      ],
      "metadata": {
        "id": "jNe0jwC4XNUH"
      }
    },
    {
      "cell_type": "code",
      "execution_count": null,
      "metadata": {
        "id": "Yym0S8krQBXu"
      },
      "outputs": [],
      "source": [
        "#import dataset - tx\n",
        "df=pd.read_csv(\"outlier_acs_2019.csv\")"
      ]
    },
    {
      "cell_type": "code",
      "source": [
        "df"
      ],
      "metadata": {
        "colab": {
          "base_uri": "https://localhost:8080/",
          "height": 468
        },
        "id": "nJFLcIgQQlbR",
        "outputId": "7eab71da-af6d-483b-a7b0-83342090d621"
      },
      "execution_count": null,
      "outputs": [
        {
          "output_type": "execute_result",
          "data": {
            "text/plain": [
              "       Unnamed: 0     PUMA  GQ  OWNERSHP  FAMSIZE  NCHILD  AGE  SEX  MARST  \\\n",
              "0              37   1-1301   4         0        1       0   18    2      6   \n",
              "1              84   1-1301   4         0        1       0   27    1      6   \n",
              "2              85   1-1301   3         0        1       0   74    2      5   \n",
              "3              95   1-1301   4         0        1       0   22    1      6   \n",
              "4             152   1-1301   4         0        1       0   18    2      6   \n",
              "...           ...      ...  ..       ...      ...     ...  ...  ...    ...   \n",
              "27248     3077532  51-1301   1         1        4       0   10    1      6   \n",
              "27249     3077595  51-1301   1         2        2       0   19    1      6   \n",
              "27250     3077596  51-1301   1         2        2       1   56    2      5   \n",
              "27251     3077798  51-1301   1         1        1       0   67    2      2   \n",
              "27252     3077799  51-1301   1         1        1       0   69    1      4   \n",
              "\n",
              "       RACE  ...  INCTOT_DECILE  POVERTY  DENSITY  VETDISAB  DIFFREM  \\\n",
              "0         8  ...              0        0   2731.2         0        1   \n",
              "1         1  ...              3      116   2731.2         0        1   \n",
              "2         2  ...              3        0   2731.2         0        1   \n",
              "3         1  ...              0        0   2731.2         0        1   \n",
              "4         1  ...              0        0   2731.2         0        1   \n",
              "...     ...  ...            ...      ...      ...       ...      ...   \n",
              "27248     1  ...              9      501  11162.8         0        1   \n",
              "27249     1  ...              0      187  11162.8         0        1   \n",
              "27250     1  ...              4      187  11162.8         0        1   \n",
              "27251     1  ...              8      501  11162.8         0        1   \n",
              "27252     1  ...              5      358  11162.8         0        1   \n",
              "\n",
              "       DIFFPHYS  DIFFEYE  DIFFHEAR   HHWT  PERWT  \n",
              "0             1        1         1   79.0   79.0  \n",
              "1             1        1         1    5.0    5.0  \n",
              "2             2        1         1   19.0   19.0  \n",
              "3             1        1         1   10.0   10.0  \n",
              "4             1        1         1   85.0   85.0  \n",
              "...         ...      ...       ...    ...    ...  \n",
              "27248         1        1         1  120.0  149.0  \n",
              "27249         1        1         1  366.0  365.0  \n",
              "27250         1        1         1  366.0  316.0  \n",
              "27251         1        1         1   63.0   62.0  \n",
              "27252         2        1         1   63.0   64.0  \n",
              "\n",
              "[27253 rows x 25 columns]"
            ],
            "text/html": [
              "\n",
              "  <div id=\"df-c8c70eb6-33c5-4f78-99ea-4f138849085b\">\n",
              "    <div class=\"colab-df-container\">\n",
              "      <div>\n",
              "<style scoped>\n",
              "    .dataframe tbody tr th:only-of-type {\n",
              "        vertical-align: middle;\n",
              "    }\n",
              "\n",
              "    .dataframe tbody tr th {\n",
              "        vertical-align: top;\n",
              "    }\n",
              "\n",
              "    .dataframe thead th {\n",
              "        text-align: right;\n",
              "    }\n",
              "</style>\n",
              "<table border=\"1\" class=\"dataframe\">\n",
              "  <thead>\n",
              "    <tr style=\"text-align: right;\">\n",
              "      <th></th>\n",
              "      <th>Unnamed: 0</th>\n",
              "      <th>PUMA</th>\n",
              "      <th>GQ</th>\n",
              "      <th>OWNERSHP</th>\n",
              "      <th>FAMSIZE</th>\n",
              "      <th>NCHILD</th>\n",
              "      <th>AGE</th>\n",
              "      <th>SEX</th>\n",
              "      <th>MARST</th>\n",
              "      <th>RACE</th>\n",
              "      <th>...</th>\n",
              "      <th>INCTOT_DECILE</th>\n",
              "      <th>POVERTY</th>\n",
              "      <th>DENSITY</th>\n",
              "      <th>VETDISAB</th>\n",
              "      <th>DIFFREM</th>\n",
              "      <th>DIFFPHYS</th>\n",
              "      <th>DIFFEYE</th>\n",
              "      <th>DIFFHEAR</th>\n",
              "      <th>HHWT</th>\n",
              "      <th>PERWT</th>\n",
              "    </tr>\n",
              "  </thead>\n",
              "  <tbody>\n",
              "    <tr>\n",
              "      <th>0</th>\n",
              "      <td>37</td>\n",
              "      <td>1-1301</td>\n",
              "      <td>4</td>\n",
              "      <td>0</td>\n",
              "      <td>1</td>\n",
              "      <td>0</td>\n",
              "      <td>18</td>\n",
              "      <td>2</td>\n",
              "      <td>6</td>\n",
              "      <td>8</td>\n",
              "      <td>...</td>\n",
              "      <td>0</td>\n",
              "      <td>0</td>\n",
              "      <td>2731.2</td>\n",
              "      <td>0</td>\n",
              "      <td>1</td>\n",
              "      <td>1</td>\n",
              "      <td>1</td>\n",
              "      <td>1</td>\n",
              "      <td>79.0</td>\n",
              "      <td>79.0</td>\n",
              "    </tr>\n",
              "    <tr>\n",
              "      <th>1</th>\n",
              "      <td>84</td>\n",
              "      <td>1-1301</td>\n",
              "      <td>4</td>\n",
              "      <td>0</td>\n",
              "      <td>1</td>\n",
              "      <td>0</td>\n",
              "      <td>27</td>\n",
              "      <td>1</td>\n",
              "      <td>6</td>\n",
              "      <td>1</td>\n",
              "      <td>...</td>\n",
              "      <td>3</td>\n",
              "      <td>116</td>\n",
              "      <td>2731.2</td>\n",
              "      <td>0</td>\n",
              "      <td>1</td>\n",
              "      <td>1</td>\n",
              "      <td>1</td>\n",
              "      <td>1</td>\n",
              "      <td>5.0</td>\n",
              "      <td>5.0</td>\n",
              "    </tr>\n",
              "    <tr>\n",
              "      <th>2</th>\n",
              "      <td>85</td>\n",
              "      <td>1-1301</td>\n",
              "      <td>3</td>\n",
              "      <td>0</td>\n",
              "      <td>1</td>\n",
              "      <td>0</td>\n",
              "      <td>74</td>\n",
              "      <td>2</td>\n",
              "      <td>5</td>\n",
              "      <td>2</td>\n",
              "      <td>...</td>\n",
              "      <td>3</td>\n",
              "      <td>0</td>\n",
              "      <td>2731.2</td>\n",
              "      <td>0</td>\n",
              "      <td>1</td>\n",
              "      <td>2</td>\n",
              "      <td>1</td>\n",
              "      <td>1</td>\n",
              "      <td>19.0</td>\n",
              "      <td>19.0</td>\n",
              "    </tr>\n",
              "    <tr>\n",
              "      <th>3</th>\n",
              "      <td>95</td>\n",
              "      <td>1-1301</td>\n",
              "      <td>4</td>\n",
              "      <td>0</td>\n",
              "      <td>1</td>\n",
              "      <td>0</td>\n",
              "      <td>22</td>\n",
              "      <td>1</td>\n",
              "      <td>6</td>\n",
              "      <td>1</td>\n",
              "      <td>...</td>\n",
              "      <td>0</td>\n",
              "      <td>0</td>\n",
              "      <td>2731.2</td>\n",
              "      <td>0</td>\n",
              "      <td>1</td>\n",
              "      <td>1</td>\n",
              "      <td>1</td>\n",
              "      <td>1</td>\n",
              "      <td>10.0</td>\n",
              "      <td>10.0</td>\n",
              "    </tr>\n",
              "    <tr>\n",
              "      <th>4</th>\n",
              "      <td>152</td>\n",
              "      <td>1-1301</td>\n",
              "      <td>4</td>\n",
              "      <td>0</td>\n",
              "      <td>1</td>\n",
              "      <td>0</td>\n",
              "      <td>18</td>\n",
              "      <td>2</td>\n",
              "      <td>6</td>\n",
              "      <td>1</td>\n",
              "      <td>...</td>\n",
              "      <td>0</td>\n",
              "      <td>0</td>\n",
              "      <td>2731.2</td>\n",
              "      <td>0</td>\n",
              "      <td>1</td>\n",
              "      <td>1</td>\n",
              "      <td>1</td>\n",
              "      <td>1</td>\n",
              "      <td>85.0</td>\n",
              "      <td>85.0</td>\n",
              "    </tr>\n",
              "    <tr>\n",
              "      <th>...</th>\n",
              "      <td>...</td>\n",
              "      <td>...</td>\n",
              "      <td>...</td>\n",
              "      <td>...</td>\n",
              "      <td>...</td>\n",
              "      <td>...</td>\n",
              "      <td>...</td>\n",
              "      <td>...</td>\n",
              "      <td>...</td>\n",
              "      <td>...</td>\n",
              "      <td>...</td>\n",
              "      <td>...</td>\n",
              "      <td>...</td>\n",
              "      <td>...</td>\n",
              "      <td>...</td>\n",
              "      <td>...</td>\n",
              "      <td>...</td>\n",
              "      <td>...</td>\n",
              "      <td>...</td>\n",
              "      <td>...</td>\n",
              "      <td>...</td>\n",
              "    </tr>\n",
              "    <tr>\n",
              "      <th>27248</th>\n",
              "      <td>3077532</td>\n",
              "      <td>51-1301</td>\n",
              "      <td>1</td>\n",
              "      <td>1</td>\n",
              "      <td>4</td>\n",
              "      <td>0</td>\n",
              "      <td>10</td>\n",
              "      <td>1</td>\n",
              "      <td>6</td>\n",
              "      <td>1</td>\n",
              "      <td>...</td>\n",
              "      <td>9</td>\n",
              "      <td>501</td>\n",
              "      <td>11162.8</td>\n",
              "      <td>0</td>\n",
              "      <td>1</td>\n",
              "      <td>1</td>\n",
              "      <td>1</td>\n",
              "      <td>1</td>\n",
              "      <td>120.0</td>\n",
              "      <td>149.0</td>\n",
              "    </tr>\n",
              "    <tr>\n",
              "      <th>27249</th>\n",
              "      <td>3077595</td>\n",
              "      <td>51-1301</td>\n",
              "      <td>1</td>\n",
              "      <td>2</td>\n",
              "      <td>2</td>\n",
              "      <td>0</td>\n",
              "      <td>19</td>\n",
              "      <td>1</td>\n",
              "      <td>6</td>\n",
              "      <td>1</td>\n",
              "      <td>...</td>\n",
              "      <td>0</td>\n",
              "      <td>187</td>\n",
              "      <td>11162.8</td>\n",
              "      <td>0</td>\n",
              "      <td>1</td>\n",
              "      <td>1</td>\n",
              "      <td>1</td>\n",
              "      <td>1</td>\n",
              "      <td>366.0</td>\n",
              "      <td>365.0</td>\n",
              "    </tr>\n",
              "    <tr>\n",
              "      <th>27250</th>\n",
              "      <td>3077596</td>\n",
              "      <td>51-1301</td>\n",
              "      <td>1</td>\n",
              "      <td>2</td>\n",
              "      <td>2</td>\n",
              "      <td>1</td>\n",
              "      <td>56</td>\n",
              "      <td>2</td>\n",
              "      <td>5</td>\n",
              "      <td>1</td>\n",
              "      <td>...</td>\n",
              "      <td>4</td>\n",
              "      <td>187</td>\n",
              "      <td>11162.8</td>\n",
              "      <td>0</td>\n",
              "      <td>1</td>\n",
              "      <td>1</td>\n",
              "      <td>1</td>\n",
              "      <td>1</td>\n",
              "      <td>366.0</td>\n",
              "      <td>316.0</td>\n",
              "    </tr>\n",
              "    <tr>\n",
              "      <th>27251</th>\n",
              "      <td>3077798</td>\n",
              "      <td>51-1301</td>\n",
              "      <td>1</td>\n",
              "      <td>1</td>\n",
              "      <td>1</td>\n",
              "      <td>0</td>\n",
              "      <td>67</td>\n",
              "      <td>2</td>\n",
              "      <td>2</td>\n",
              "      <td>1</td>\n",
              "      <td>...</td>\n",
              "      <td>8</td>\n",
              "      <td>501</td>\n",
              "      <td>11162.8</td>\n",
              "      <td>0</td>\n",
              "      <td>1</td>\n",
              "      <td>1</td>\n",
              "      <td>1</td>\n",
              "      <td>1</td>\n",
              "      <td>63.0</td>\n",
              "      <td>62.0</td>\n",
              "    </tr>\n",
              "    <tr>\n",
              "      <th>27252</th>\n",
              "      <td>3077799</td>\n",
              "      <td>51-1301</td>\n",
              "      <td>1</td>\n",
              "      <td>1</td>\n",
              "      <td>1</td>\n",
              "      <td>0</td>\n",
              "      <td>69</td>\n",
              "      <td>1</td>\n",
              "      <td>4</td>\n",
              "      <td>1</td>\n",
              "      <td>...</td>\n",
              "      <td>5</td>\n",
              "      <td>358</td>\n",
              "      <td>11162.8</td>\n",
              "      <td>0</td>\n",
              "      <td>1</td>\n",
              "      <td>2</td>\n",
              "      <td>1</td>\n",
              "      <td>1</td>\n",
              "      <td>63.0</td>\n",
              "      <td>64.0</td>\n",
              "    </tr>\n",
              "  </tbody>\n",
              "</table>\n",
              "<p>27253 rows × 25 columns</p>\n",
              "</div>\n",
              "      <button class=\"colab-df-convert\" onclick=\"convertToInteractive('df-c8c70eb6-33c5-4f78-99ea-4f138849085b')\"\n",
              "              title=\"Convert this dataframe to an interactive table.\"\n",
              "              style=\"display:none;\">\n",
              "        \n",
              "  <svg xmlns=\"http://www.w3.org/2000/svg\" height=\"24px\"viewBox=\"0 0 24 24\"\n",
              "       width=\"24px\">\n",
              "    <path d=\"M0 0h24v24H0V0z\" fill=\"none\"/>\n",
              "    <path d=\"M18.56 5.44l.94 2.06.94-2.06 2.06-.94-2.06-.94-.94-2.06-.94 2.06-2.06.94zm-11 1L8.5 8.5l.94-2.06 2.06-.94-2.06-.94L8.5 2.5l-.94 2.06-2.06.94zm10 10l.94 2.06.94-2.06 2.06-.94-2.06-.94-.94-2.06-.94 2.06-2.06.94z\"/><path d=\"M17.41 7.96l-1.37-1.37c-.4-.4-.92-.59-1.43-.59-.52 0-1.04.2-1.43.59L10.3 9.45l-7.72 7.72c-.78.78-.78 2.05 0 2.83L4 21.41c.39.39.9.59 1.41.59.51 0 1.02-.2 1.41-.59l7.78-7.78 2.81-2.81c.8-.78.8-2.07 0-2.86zM5.41 20L4 18.59l7.72-7.72 1.47 1.35L5.41 20z\"/>\n",
              "  </svg>\n",
              "      </button>\n",
              "      \n",
              "  <style>\n",
              "    .colab-df-container {\n",
              "      display:flex;\n",
              "      flex-wrap:wrap;\n",
              "      gap: 12px;\n",
              "    }\n",
              "\n",
              "    .colab-df-convert {\n",
              "      background-color: #E8F0FE;\n",
              "      border: none;\n",
              "      border-radius: 50%;\n",
              "      cursor: pointer;\n",
              "      display: none;\n",
              "      fill: #1967D2;\n",
              "      height: 32px;\n",
              "      padding: 0 0 0 0;\n",
              "      width: 32px;\n",
              "    }\n",
              "\n",
              "    .colab-df-convert:hover {\n",
              "      background-color: #E2EBFA;\n",
              "      box-shadow: 0px 1px 2px rgba(60, 64, 67, 0.3), 0px 1px 3px 1px rgba(60, 64, 67, 0.15);\n",
              "      fill: #174EA6;\n",
              "    }\n",
              "\n",
              "    [theme=dark] .colab-df-convert {\n",
              "      background-color: #3B4455;\n",
              "      fill: #D2E3FC;\n",
              "    }\n",
              "\n",
              "    [theme=dark] .colab-df-convert:hover {\n",
              "      background-color: #434B5C;\n",
              "      box-shadow: 0px 1px 3px 1px rgba(0, 0, 0, 0.15);\n",
              "      filter: drop-shadow(0px 1px 2px rgba(0, 0, 0, 0.3));\n",
              "      fill: #FFFFFF;\n",
              "    }\n",
              "  </style>\n",
              "\n",
              "      <script>\n",
              "        const buttonEl =\n",
              "          document.querySelector('#df-c8c70eb6-33c5-4f78-99ea-4f138849085b button.colab-df-convert');\n",
              "        buttonEl.style.display =\n",
              "          google.colab.kernel.accessAllowed ? 'block' : 'none';\n",
              "\n",
              "        async function convertToInteractive(key) {\n",
              "          const element = document.querySelector('#df-c8c70eb6-33c5-4f78-99ea-4f138849085b');\n",
              "          const dataTable =\n",
              "            await google.colab.kernel.invokeFunction('convertToInteractive',\n",
              "                                                     [key], {});\n",
              "          if (!dataTable) return;\n",
              "\n",
              "          const docLinkHtml = 'Like what you see? Visit the ' +\n",
              "            '<a target=\"_blank\" href=https://colab.research.google.com/notebooks/data_table.ipynb>data table notebook</a>'\n",
              "            + ' to learn more about interactive tables.';\n",
              "          element.innerHTML = '';\n",
              "          dataTable['output_type'] = 'display_data';\n",
              "          await google.colab.output.renderOutput(dataTable, element);\n",
              "          const docLink = document.createElement('div');\n",
              "          docLink.innerHTML = docLinkHtml;\n",
              "          element.appendChild(docLink);\n",
              "        }\n",
              "      </script>\n",
              "    </div>\n",
              "  </div>\n",
              "  "
            ]
          },
          "metadata": {},
          "execution_count": 403
        }
      ]
    },
    {
      "cell_type": "markdown",
      "source": [
        "#Marginal Query 1"
      ],
      "metadata": {
        "id": "w840yrGLYCYi"
      }
    },
    {
      "cell_type": "code",
      "source": [
        "mar_df_1=pd.DataFrame()"
      ],
      "metadata": {
        "id": "n0w8sTiIYJWl"
      },
      "execution_count": null,
      "outputs": []
    },
    {
      "cell_type": "code",
      "source": [
        "#3-Way Marginal Query\n",
        "#for i in range(7):\n",
        "#  df2=df1[(df1['AGE']>i*10) & (df1['AGE']<=(i+1)*10) & (df1['SEX']==2) & (df1['RACE']==2)]# & (df['MARST']==2)]# & (df['hours-per-week'] >30)]# & (df['native-country']=='United-States')]\n",
        "#  #print(df2.head())\n",
        "#  mar_df_1=mar_df_1.append(df2, ignore_index=True)\n",
        "  #print(mar_df.head())\n",
        "mar_df_1=df.groupby(['PUMA','RACE','SEX'])"
      ],
      "metadata": {
        "id": "8a5ObYLWYZ0o"
      },
      "execution_count": null,
      "outputs": []
    },
    {
      "cell_type": "code",
      "source": [
        "counts_1=mar_df_1.count()['GQ'].values.tolist()\n",
        "counts_1.sort()\n",
        "print(counts_1)"
      ],
      "metadata": {
        "id": "eeGia5YZZe7H",
        "colab": {
          "base_uri": "https://localhost:8080/"
        },
        "outputId": "221ab0fa-2731-4fd9-f388-bed10a50d75a"
      },
      "execution_count": null,
      "outputs": [
        {
          "output_type": "stream",
          "name": "stdout",
          "text": [
            "[1, 1, 1, 1, 1, 1, 1, 1, 1, 1, 1, 1, 1, 1, 1, 1, 1, 1, 1, 1, 1, 1, 1, 1, 1, 1, 1, 1, 1, 1, 1, 1, 1, 1, 1, 1, 1, 2, 2, 2, 2, 2, 2, 2, 2, 2, 2, 2, 2, 2, 2, 2, 2, 2, 2, 2, 2, 2, 2, 2, 2, 3, 3, 3, 3, 3, 3, 3, 3, 3, 3, 3, 3, 3, 3, 3, 3, 3, 3, 3, 3, 3, 3, 3, 4, 4, 4, 4, 4, 4, 4, 4, 4, 4, 4, 4, 5, 5, 5, 5, 5, 5, 5, 5, 6, 6, 6, 6, 6, 6, 6, 6, 6, 7, 7, 7, 8, 8, 8, 8, 8, 9, 9, 9, 9, 10, 10, 10, 10, 10, 10, 10, 10, 11, 11, 11, 11, 11, 11, 11, 12, 12, 12, 12, 12, 12, 12, 12, 13, 13, 13, 14, 14, 14, 14, 15, 15, 15, 16, 16, 17, 17, 17, 17, 17, 17, 18, 18, 18, 18, 18, 20, 20, 21, 22, 22, 22, 22, 22, 22, 22, 23, 23, 23, 23, 24, 25, 25, 26, 26, 27, 27, 27, 28, 29, 29, 29, 30, 30, 31, 31, 32, 33, 33, 33, 33, 34, 35, 36, 36, 37, 37, 38, 39, 39, 41, 42, 43, 46, 47, 47, 51, 52, 56, 57, 58, 66, 66, 67, 70, 73, 82, 96, 97, 101, 105, 106, 107, 108, 109, 113, 115, 117, 120, 122, 127, 129, 132, 133, 141, 151, 151, 155, 156, 161, 162, 175, 176, 178, 179, 184, 193, 197, 206, 212, 265, 297, 310, 314, 317, 329, 339, 341, 350, 350, 375, 376, 376, 376, 376, 378, 421, 428, 433, 456, 480, 492, 500, 513, 546, 556, 556, 567, 568, 590, 595, 612, 821, 827, 913, 934, 1003, 1039]\n"
          ]
        }
      ]
    },
    {
      "cell_type": "markdown",
      "source": [
        "[44,44,48,47,47,42,42]"
      ],
      "metadata": {
        "id": "SMvNzupz_HGk"
      }
    },
    {
      "cell_type": "code",
      "source": [
        "#Calculating k with percentiles\n",
        "sum_counts_1=sum(counts_1)\n",
        "k_95=counts_1[int(len(counts_1)*0.05)]\n",
        "print(k_95)\n",
        "k_90=counts_1[int(len(counts_1)*0.1)]\n",
        "print(k_90)\n",
        "k_87=counts_1[int(len(counts_1)*0.13)]\n",
        "print(k_87)\n",
        "k_80=counts_1[int(len(counts_1)*0.2)]\n",
        "print(k_80)"
      ],
      "metadata": {
        "id": "cfC4tsTtlrDh",
        "colab": {
          "base_uri": "https://localhost:8080/"
        },
        "outputId": "b9ea6b2d-1a9b-4bc1-af5f-2f0756083270"
      },
      "execution_count": null,
      "outputs": [
        {
          "output_type": "stream",
          "name": "stdout",
          "text": [
            "1\n",
            "1\n",
            "2\n",
            "2\n"
          ]
        }
      ]
    },
    {
      "cell_type": "markdown",
      "source": [
        "##Suppression by Omission"
      ],
      "metadata": {
        "id": "gtspUcFCno0Z"
      }
    },
    {
      "cell_type": "code",
      "source": [
        "counts_1_redact_95=syr.supp_omit(counts_1,k_95)\n",
        "print(counts_1_redact_95)\n",
        "#l_1 Error\n",
        "err_counts_1_redact_95=sum(abs(np.array(counts_1_redact_95)-counts_1))\n",
        "print(\"l_1 error: \",err_counts_1_redact_95)\n",
        "#Fairness Error\n",
        "fair_err_counts_1_redact_95=max(abs(np.array(counts_1_redact_95)-counts_1))-min(abs(np.array(counts_1_redact_95)-counts_1))\n",
        "print(\"Fairness error: \",fair_err_counts_1_redact_95)"
      ],
      "metadata": {
        "id": "UislKRu9ndL4",
        "colab": {
          "base_uri": "https://localhost:8080/"
        },
        "outputId": "41683e5f-912d-4f88-efbb-3e6358f91b66"
      },
      "execution_count": null,
      "outputs": [
        {
          "output_type": "stream",
          "name": "stdout",
          "text": [
            "[1, 1, 1, 1, 1, 1, 1, 1, 1, 1, 1, 1, 1, 1, 1, 1, 1, 1, 1, 1, 1, 1, 1, 1, 1, 1, 1, 1, 1, 1, 1, 1, 1, 1, 1, 1, 1, 2, 2, 2, 2, 2, 2, 2, 2, 2, 2, 2, 2, 2, 2, 2, 2, 2, 2, 2, 2, 2, 2, 2, 2, 3, 3, 3, 3, 3, 3, 3, 3, 3, 3, 3, 3, 3, 3, 3, 3, 3, 3, 3, 3, 3, 3, 3, 4, 4, 4, 4, 4, 4, 4, 4, 4, 4, 4, 4, 5, 5, 5, 5, 5, 5, 5, 5, 6, 6, 6, 6, 6, 6, 6, 6, 6, 7, 7, 7, 8, 8, 8, 8, 8, 9, 9, 9, 9, 10, 10, 10, 10, 10, 10, 10, 10, 11, 11, 11, 11, 11, 11, 11, 12, 12, 12, 12, 12, 12, 12, 12, 13, 13, 13, 14, 14, 14, 14, 15, 15, 15, 16, 16, 17, 17, 17, 17, 17, 17, 18, 18, 18, 18, 18, 20, 20, 21, 22, 22, 22, 22, 22, 22, 22, 23, 23, 23, 23, 24, 25, 25, 26, 26, 27, 27, 27, 28, 29, 29, 29, 30, 30, 31, 31, 32, 33, 33, 33, 33, 34, 35, 36, 36, 37, 37, 38, 39, 39, 41, 42, 43, 46, 47, 47, 51, 52, 56, 57, 58, 66, 66, 67, 70, 73, 82, 96, 97, 101, 105, 106, 107, 108, 109, 113, 115, 117, 120, 122, 127, 129, 132, 133, 141, 151, 151, 155, 156, 161, 162, 175, 176, 178, 179, 184, 193, 197, 206, 212, 265, 297, 310, 314, 317, 329, 339, 341, 350, 350, 375, 376, 376, 376, 376, 378, 421, 428, 433, 456, 480, 492, 500, 513, 546, 556, 556, 567, 568, 590, 595, 612, 821, 827, 913, 934, 1003, 1039]\n",
            "l_1 error:  0\n",
            "Fairness error:  0\n"
          ]
        }
      ]
    },
    {
      "cell_type": "code",
      "source": [
        "counts_1_redact_90=syr.supp_omit(counts_1,k_90)\n",
        "print(counts_1_redact_90)\n",
        "err_counts_1_redact_90=sum(abs(np.array(counts_1_redact_90)-counts_1))\n",
        "print(\"l_1 error: \",err_counts_1_redact_90)\n",
        "#Fairness Error\n",
        "fair_err_counts_1_redact_90=max(abs(np.array(counts_1_redact_90)-counts_1))-min(abs(np.array(counts_1_redact_90)-counts_1))\n",
        "print(\"Fairness error: \",fair_err_counts_1_redact_90)"
      ],
      "metadata": {
        "id": "2-vSLxcynrRt",
        "colab": {
          "base_uri": "https://localhost:8080/"
        },
        "outputId": "a8bc066f-042c-4bf1-8ff8-1891f0106deb"
      },
      "execution_count": null,
      "outputs": [
        {
          "output_type": "stream",
          "name": "stdout",
          "text": [
            "[1, 1, 1, 1, 1, 1, 1, 1, 1, 1, 1, 1, 1, 1, 1, 1, 1, 1, 1, 1, 1, 1, 1, 1, 1, 1, 1, 1, 1, 1, 1, 1, 1, 1, 1, 1, 1, 2, 2, 2, 2, 2, 2, 2, 2, 2, 2, 2, 2, 2, 2, 2, 2, 2, 2, 2, 2, 2, 2, 2, 2, 3, 3, 3, 3, 3, 3, 3, 3, 3, 3, 3, 3, 3, 3, 3, 3, 3, 3, 3, 3, 3, 3, 3, 4, 4, 4, 4, 4, 4, 4, 4, 4, 4, 4, 4, 5, 5, 5, 5, 5, 5, 5, 5, 6, 6, 6, 6, 6, 6, 6, 6, 6, 7, 7, 7, 8, 8, 8, 8, 8, 9, 9, 9, 9, 10, 10, 10, 10, 10, 10, 10, 10, 11, 11, 11, 11, 11, 11, 11, 12, 12, 12, 12, 12, 12, 12, 12, 13, 13, 13, 14, 14, 14, 14, 15, 15, 15, 16, 16, 17, 17, 17, 17, 17, 17, 18, 18, 18, 18, 18, 20, 20, 21, 22, 22, 22, 22, 22, 22, 22, 23, 23, 23, 23, 24, 25, 25, 26, 26, 27, 27, 27, 28, 29, 29, 29, 30, 30, 31, 31, 32, 33, 33, 33, 33, 34, 35, 36, 36, 37, 37, 38, 39, 39, 41, 42, 43, 46, 47, 47, 51, 52, 56, 57, 58, 66, 66, 67, 70, 73, 82, 96, 97, 101, 105, 106, 107, 108, 109, 113, 115, 117, 120, 122, 127, 129, 132, 133, 141, 151, 151, 155, 156, 161, 162, 175, 176, 178, 179, 184, 193, 197, 206, 212, 265, 297, 310, 314, 317, 329, 339, 341, 350, 350, 375, 376, 376, 376, 376, 378, 421, 428, 433, 456, 480, 492, 500, 513, 546, 556, 556, 567, 568, 590, 595, 612, 821, 827, 913, 934, 1003, 1039]\n",
            "l_1 error:  0\n",
            "Fairness error:  0\n"
          ]
        }
      ]
    },
    {
      "cell_type": "code",
      "source": [
        "counts_1_redact_87=syr.supp_omit(counts_1,k_87)\n",
        "print(counts_1_redact_87)\n",
        "err_counts_1_redact_87=sum(abs(np.array(counts_1_redact_87)-counts_1))\n",
        "print(\"l_1 error: \",err_counts_1_redact_87)\n",
        "#Fairness Error\n",
        "fair_err_counts_1_redact_87=max(abs(np.array(counts_1_redact_87)-counts_1))-min(abs(np.array(counts_1_redact_87)-counts_1))\n",
        "print(\"Fairness error: \",fair_err_counts_1_redact_87)"
      ],
      "metadata": {
        "id": "z02gyQtOn58i",
        "colab": {
          "base_uri": "https://localhost:8080/"
        },
        "outputId": "3e2c4ae2-1e65-4cf0-8ab9-b3dbdb20f17c"
      },
      "execution_count": null,
      "outputs": [
        {
          "output_type": "stream",
          "name": "stdout",
          "text": [
            "[0, 0, 0, 0, 0, 0, 0, 0, 0, 0, 0, 0, 0, 0, 0, 0, 0, 0, 0, 0, 0, 0, 0, 0, 0, 0, 0, 0, 0, 0, 0, 0, 0, 0, 0, 0, 0, 2, 2, 2, 2, 2, 2, 2, 2, 2, 2, 2, 2, 2, 2, 2, 2, 2, 2, 2, 2, 2, 2, 2, 2, 3, 3, 3, 3, 3, 3, 3, 3, 3, 3, 3, 3, 3, 3, 3, 3, 3, 3, 3, 3, 3, 3, 3, 4, 4, 4, 4, 4, 4, 4, 4, 4, 4, 4, 4, 5, 5, 5, 5, 5, 5, 5, 5, 6, 6, 6, 6, 6, 6, 6, 6, 6, 7, 7, 7, 8, 8, 8, 8, 8, 9, 9, 9, 9, 10, 10, 10, 10, 10, 10, 10, 10, 11, 11, 11, 11, 11, 11, 11, 12, 12, 12, 12, 12, 12, 12, 12, 13, 13, 13, 14, 14, 14, 14, 15, 15, 15, 16, 16, 17, 17, 17, 17, 17, 17, 18, 18, 18, 18, 18, 20, 20, 21, 22, 22, 22, 22, 22, 22, 22, 23, 23, 23, 23, 24, 25, 25, 26, 26, 27, 27, 27, 28, 29, 29, 29, 30, 30, 31, 31, 32, 33, 33, 33, 33, 34, 35, 36, 36, 37, 37, 38, 39, 39, 41, 42, 43, 46, 47, 47, 51, 52, 56, 57, 58, 66, 66, 67, 70, 73, 82, 96, 97, 101, 105, 106, 107, 108, 109, 113, 115, 117, 120, 122, 127, 129, 132, 133, 141, 151, 151, 155, 156, 161, 162, 175, 176, 178, 179, 184, 193, 197, 206, 212, 265, 297, 310, 314, 317, 329, 339, 341, 350, 350, 375, 376, 376, 376, 376, 378, 421, 428, 433, 456, 480, 492, 500, 513, 546, 556, 556, 567, 568, 590, 595, 612, 821, 827, 913, 934, 1003, 1039]\n",
            "l_1 error:  37\n",
            "Fairness error:  1\n"
          ]
        }
      ]
    },
    {
      "cell_type": "markdown",
      "source": [
        "##Suppression by $k$-Anonymity (Adj)"
      ],
      "metadata": {
        "id": "ta1jr2w7oYYV"
      }
    },
    {
      "cell_type": "code",
      "source": [
        "counts_1_adj_95=syr.adj_k_anonymise(counts_1,k_95)\n",
        "print(counts_1_adj_95)\n",
        "#l_1 Error\n",
        "err_counts_1_adj_95=sum(abs(np.array(counts_1_adj_95)-counts_1))\n",
        "print(\"l_1 error: \",err_counts_1_adj_95)\n",
        "#Fairness Error\n",
        "fair_err_counts_1_adj_95=max(abs(np.array(counts_1_adj_95)-counts_1))-min(abs(np.array(counts_1_adj_95)-counts_1))\n",
        "print(\"Fairness error: \",fair_err_counts_1_adj_95)"
      ],
      "metadata": {
        "id": "I-pHpIQaoene",
        "colab": {
          "base_uri": "https://localhost:8080/"
        },
        "outputId": "7eaaa3c8-fdcb-49e1-950b-6d4b7d97f491"
      },
      "execution_count": null,
      "outputs": [
        {
          "output_type": "stream",
          "name": "stdout",
          "text": [
            "[   1    1    1    1    1    1    1    1    1    1    1    1    1    1\n",
            "    1    1    1    1    1    1    1    1    1    1    1    1    1    1\n",
            "    1    1    1    1    1    1    1    1    1    2    2    2    2    2\n",
            "    2    2    2    2    2    2    2    2    2    2    2    2    2    2\n",
            "    2    2    2    2    2    3    3    3    3    3    3    3    3    3\n",
            "    3    3    3    3    3    3    3    3    3    3    3    3    3    3\n",
            "    4    4    4    4    4    4    4    4    4    4    4    4    5    5\n",
            "    5    5    5    5    5    5    6    6    6    6    6    6    6    6\n",
            "    6    7    7    7    8    8    8    8    8    9    9    9    9   10\n",
            "   10   10   10   10   10   10   10   11   11   11   11   11   11   11\n",
            "   12   12   12   12   12   12   12   12   13   13   13   14   14   14\n",
            "   14   15   15   15   16   16   17   17   17   17   17   17   18   18\n",
            "   18   18   18   20   20   21   22   22   22   22   22   22   22   23\n",
            "   23   23   23   24   25   25   26   26   27   27   27   28   29   29\n",
            "   29   30   30   31   31   32   33   33   33   33   34   35   36   36\n",
            "   37   37   38   39   39   41   42   43   46   47   47   51   52   56\n",
            "   57   58   66   66   67   70   73   82   96   97  101  105  106  107\n",
            "  108  109  113  115  117  120  122  127  129  132  133  141  151  151\n",
            "  155  156  161  162  175  176  178  179  184  193  197  206  212  265\n",
            "  297  310  314  317  329  339  341  350  350  375  376  376  376  376\n",
            "  378  421  428  433  456  480  492  500  513  546  556  556  567  568\n",
            "  590  595  612  821  827  913  934 1003 1039]\n",
            "l_1 error:  0\n",
            "Fairness error:  0\n"
          ]
        }
      ]
    },
    {
      "cell_type": "code",
      "source": [
        "plt.bar(len(counts_1),counts_1_adj_95)\n",
        "plt.title('Marginal Query Hist : Black Women : Adj Merge 95')\n",
        "plt.xlabel('Age Brackets')\n",
        "plt.ylabel('Number of People')"
      ],
      "metadata": {
        "id": "o8bKbctdJzwt",
        "colab": {
          "base_uri": "https://localhost:8080/",
          "height": 312
        },
        "outputId": "87f49c59-3380-4661-d074-2da6aaed0dcf"
      },
      "execution_count": null,
      "outputs": [
        {
          "output_type": "execute_result",
          "data": {
            "text/plain": [
              "Text(0, 0.5, 'Number of People')"
            ]
          },
          "metadata": {},
          "execution_count": 412
        },
        {
          "output_type": "display_data",
          "data": {
            "text/plain": [
              "<Figure size 432x288 with 1 Axes>"
            ],
            "image/png": "[encoded data removed]"
          },
          "metadata": {
            "needs_background": "light"
          }
        }
      ]
    },
    {
      "cell_type": "code",
      "source": [
        "counts_1_adj_90=syr.adj_k_anonymise(counts_1,k_90)\n",
        "print(counts_1_adj_90)\n",
        "err_counts_1_adj_90=sum(abs(counts_1_adj_90-counts_1))\n",
        "print(err_counts_1_adj_90)\n",
        "#l_1 Error\n",
        "err_counts_1_adj_90=sum(abs(np.array(counts_1_adj_90)-counts_1))\n",
        "print(\"l_1 error: \",err_counts_1_adj_90)\n",
        "#Fairness Error\n",
        "fair_err_counts_1_adj_90=max(abs(np.array(counts_1_adj_90)-counts_1))-min(abs(np.array(counts_1_adj_90)-counts_1))\n",
        "print(\"Fairness error: \",fair_err_counts_1_adj_90)"
      ],
      "metadata": {
        "id": "oH6aDjYEyBDG",
        "colab": {
          "base_uri": "https://localhost:8080/"
        },
        "outputId": "7f601965-d3f5-4027-f390-0f12f04fce95"
      },
      "execution_count": null,
      "outputs": [
        {
          "output_type": "stream",
          "name": "stdout",
          "text": [
            "[   1    1    1    1    1    1    1    1    1    1    1    1    1    1\n",
            "    1    1    1    1    1    1    1    1    1    1    1    1    1    1\n",
            "    1    1    1    1    1    1    1    1    1    2    2    2    2    2\n",
            "    2    2    2    2    2    2    2    2    2    2    2    2    2    2\n",
            "    2    2    2    2    2    3    3    3    3    3    3    3    3    3\n",
            "    3    3    3    3    3    3    3    3    3    3    3    3    3    3\n",
            "    4    4    4    4    4    4    4    4    4    4    4    4    5    5\n",
            "    5    5    5    5    5    5    6    6    6    6    6    6    6    6\n",
            "    6    7    7    7    8    8    8    8    8    9    9    9    9   10\n",
            "   10   10   10   10   10   10   10   11   11   11   11   11   11   11\n",
            "   12   12   12   12   12   12   12   12   13   13   13   14   14   14\n",
            "   14   15   15   15   16   16   17   17   17   17   17   17   18   18\n",
            "   18   18   18   20   20   21   22   22   22   22   22   22   22   23\n",
            "   23   23   23   24   25   25   26   26   27   27   27   28   29   29\n",
            "   29   30   30   31   31   32   33   33   33   33   34   35   36   36\n",
            "   37   37   38   39   39   41   42   43   46   47   47   51   52   56\n",
            "   57   58   66   66   67   70   73   82   96   97  101  105  106  107\n",
            "  108  109  113  115  117  120  122  127  129  132  133  141  151  151\n",
            "  155  156  161  162  175  176  178  179  184  193  197  206  212  265\n",
            "  297  310  314  317  329  339  341  350  350  375  376  376  376  376\n",
            "  378  421  428  433  456  480  492  500  513  546  556  556  567  568\n",
            "  590  595  612  821  827  913  934 1003 1039]\n",
            "0\n",
            "l_1 error:  0\n",
            "Fairness error:  0\n"
          ]
        }
      ]
    },
    {
      "cell_type": "code",
      "source": [
        "counts_1_adj_87=syr.adj_k_anonymise(counts_1,k_87)\n",
        "print(counts_1_adj_87)\n",
        "err_counts_1_adj_87=sum(abs(counts_1_adj_87-counts_1))\n",
        "print(err_counts_1_adj_87)\n",
        "#l_1 Error\n",
        "err_counts_1_adj_87=sum(abs(np.array(counts_1_adj_87)-counts_1))\n",
        "print(\"l_1 error: \",err_counts_1_adj_87)\n",
        "#Fairness Error\n",
        "fair_err_counts_1_adj_87=max(abs(np.array(counts_1_adj_87)-counts_1))-min(abs(np.array(counts_1_adj_87)-counts_1))\n",
        "print(\"Fairness error: \",fair_err_counts_1_adj_87)"
      ],
      "metadata": {
        "id": "tMaNIS6k9YWD",
        "colab": {
          "base_uri": "https://localhost:8080/",
          "height": 356
        },
        "outputId": "e585e458-eade-47db-cf89-db3c0ad252f1"
      },
      "execution_count": null,
      "outputs": [
        {
          "output_type": "error",
          "ename": "KeyboardInterrupt",
          "evalue": "ignored",
          "traceback": [
            "\u001b[0;31m---------------------------------------------------------------------------\u001b[0m",
            "\u001b[0;31mKeyboardInterrupt\u001b[0m                         Traceback (most recent call last)",
            "\u001b[0;32m<ipython-input-414-5f56443e6e3c>\u001b[0m in \u001b[0;36m<module>\u001b[0;34m()\u001b[0m\n\u001b[0;32m----> 1\u001b[0;31m \u001b[0mcounts_1_adj_87\u001b[0m\u001b[0;34m=\u001b[0m\u001b[0msyr\u001b[0m\u001b[0;34m.\u001b[0m\u001b[0madj_k_anonymise\u001b[0m\u001b[0;34m(\u001b[0m\u001b[0mcounts_1\u001b[0m\u001b[0;34m,\u001b[0m\u001b[0mk_87\u001b[0m\u001b[0;34m)\u001b[0m\u001b[0;34m\u001b[0m\u001b[0;34m\u001b[0m\u001b[0m\n\u001b[0m\u001b[1;32m      2\u001b[0m \u001b[0mprint\u001b[0m\u001b[0;34m(\u001b[0m\u001b[0mcounts_1_adj_87\u001b[0m\u001b[0;34m)\u001b[0m\u001b[0;34m\u001b[0m\u001b[0;34m\u001b[0m\u001b[0m\n\u001b[1;32m      3\u001b[0m \u001b[0merr_counts_1_adj_87\u001b[0m\u001b[0;34m=\u001b[0m\u001b[0msum\u001b[0m\u001b[0;34m(\u001b[0m\u001b[0mabs\u001b[0m\u001b[0;34m(\u001b[0m\u001b[0mcounts_1_adj_87\u001b[0m\u001b[0;34m-\u001b[0m\u001b[0mcounts_1\u001b[0m\u001b[0;34m)\u001b[0m\u001b[0;34m)\u001b[0m\u001b[0;34m\u001b[0m\u001b[0;34m\u001b[0m\u001b[0m\n\u001b[1;32m      4\u001b[0m \u001b[0mprint\u001b[0m\u001b[0;34m(\u001b[0m\u001b[0merr_counts_1_adj_87\u001b[0m\u001b[0;34m)\u001b[0m\u001b[0;34m\u001b[0m\u001b[0;34m\u001b[0m\u001b[0m\n\u001b[1;32m      5\u001b[0m \u001b[0;31m#l_1 Error\u001b[0m\u001b[0;34m\u001b[0m\u001b[0;34m\u001b[0m\u001b[0;34m\u001b[0m\u001b[0m\n",
            "\u001b[0;32m/content/data_tools_syr.py\u001b[0m in \u001b[0;36madj_k_anonymise\u001b[0;34m(hist, k)\u001b[0m\n\u001b[1;32m    166\u001b[0m     \u001b[0;31m#print(len(i[0]))\u001b[0m\u001b[0;34m\u001b[0m\u001b[0;34m\u001b[0m\u001b[0;34m\u001b[0m\u001b[0m\n\u001b[1;32m    167\u001b[0m     \u001b[0;32mfor\u001b[0m \u001b[0mj\u001b[0m \u001b[0;32min\u001b[0m \u001b[0mi\u001b[0m\u001b[0;34m[\u001b[0m\u001b[0;36m0\u001b[0m\u001b[0;34m]\u001b[0m\u001b[0;34m:\u001b[0m\u001b[0;34m\u001b[0m\u001b[0;34m\u001b[0m\u001b[0m\n\u001b[0;32m--> 168\u001b[0;31m       \u001b[0mhist\u001b[0m\u001b[0;34m=\u001b[0m\u001b[0mnp\u001b[0m\u001b[0;34m.\u001b[0m\u001b[0marray\u001b[0m\u001b[0;34m(\u001b[0m\u001b[0mspread_adjacent\u001b[0m\u001b[0;34m(\u001b[0m\u001b[0mhist\u001b[0m\u001b[0;34m,\u001b[0m\u001b[0mj\u001b[0m\u001b[0;34m,\u001b[0m\u001b[0mk\u001b[0m\u001b[0;34m)\u001b[0m\u001b[0;34m)\u001b[0m\u001b[0;34m\u001b[0m\u001b[0;34m\u001b[0m\u001b[0m\n\u001b[0m\u001b[1;32m    169\u001b[0m   \u001b[0;32mreturn\u001b[0m \u001b[0mhist\u001b[0m\u001b[0;34m.\u001b[0m\u001b[0mastype\u001b[0m\u001b[0;34m(\u001b[0m\u001b[0mint\u001b[0m\u001b[0;34m)\u001b[0m\u001b[0;34m\u001b[0m\u001b[0;34m\u001b[0m\u001b[0m\n\u001b[1;32m    170\u001b[0m \u001b[0;31m#-----------------------------\u001b[0m\u001b[0;34m\u001b[0m\u001b[0;34m\u001b[0m\u001b[0;34m\u001b[0m\u001b[0m\n",
            "\u001b[0;31mKeyboardInterrupt\u001b[0m: "
          ]
        }
      ]
    },
    {
      "cell_type": "code",
      "source": [
        "counts_1_adj_80=syr.adj_k_anonymise(counts_1,k_80)\n",
        "print(counts_1_adj_80)\n",
        "#l_1 Error\n",
        "err_counts_1_adj_80=sum(abs(np.array(counts_1_adj_80)-counts_1))\n",
        "print(\"l_1 error: \",err_counts_1_adj_80)\n",
        "#Fairness Error\n",
        "fair_err_counts_1_adj_80=max(abs(np.array(counts_1_adj_80)-counts_1))-min(abs(np.array(counts_1_adj_80)-counts_1))\n",
        "print(\"Fairness error: \",fair_err_counts_1_adj_80)"
      ],
      "metadata": {
        "id": "5RLDWdbtTPRT"
      },
      "execution_count": null,
      "outputs": []
    },
    {
      "cell_type": "markdown",
      "source": [
        "## Applying the Discrete Laplace Mechanism"
      ],
      "metadata": {
        "id": "BX-q8pZmz8L4"
      }
    },
    {
      "cell_type": "markdown",
      "source": [
        "### $\\epsilon=1$"
      ],
      "metadata": {
        "id": "6uC9Dluuj3kR"
      }
    },
    {
      "cell_type": "code",
      "source": [
        "#eps=1\n",
        "errs_dp_1_counts_1=[]\n",
        "fair_errs_dp_1_counts_1=[]\n",
        "for i in range(1000):\n",
        "  dp_counts_1=syr.add_dp_hist(counts_1,eps=1)\n",
        "  errs_dp_1_counts_1.append(sum(abs(np.array(dp_counts_1)-counts_1)))\n",
        "  fair_errs_dp_1_counts_1.append(max(abs(np.array(dp_counts_1)-counts_1))-min(abs(np.array(dp_counts_1)-counts_1)))"
      ],
      "metadata": {
        "id": "Zs67rKEC0AJ3"
      },
      "execution_count": null,
      "outputs": []
    },
    {
      "cell_type": "code",
      "source": [
        "print(errs_dp_1_counts_1)\n",
        "print(fair_errs_dp_1_counts_1)"
      ],
      "metadata": {
        "id": "FKW7P29P23Yu",
        "colab": {
          "base_uri": "https://localhost:8080/"
        },
        "outputId": "8729fc9e-2746-4cda-fa70-6d40713a8055"
      },
      "execution_count": null,
      "outputs": [
        {
          "output_type": "stream",
          "name": "stdout",
          "text": [
            "[292, 227, 236, 219, 215, 279, 281, 233, 251, 226, 214, 242, 221, 234, 265, 267, 236, 247, 236, 226, 273, 239, 244, 269, 233, 261, 275, 264, 228, 280, 235, 254, 246, 243, 244, 228, 246, 258, 230, 240, 228, 222, 218, 263, 244, 254, 262, 229, 264, 264, 237, 240, 272, 257, 240, 243, 237, 255, 212, 231, 270, 233, 254, 256, 257, 260, 265, 241, 240, 191, 225, 250, 256, 218, 239, 266, 243, 231, 246, 227, 240, 231, 258, 232, 216, 245, 249, 252, 230, 243, 267, 257, 230, 262, 242, 258, 270, 203, 268, 276, 292, 272, 227, 260, 256, 248, 275, 239, 249, 268, 245, 257, 238, 252, 256, 241, 247, 243, 246, 281, 236, 213, 268, 246, 261, 230, 300, 267, 246, 279, 250, 231, 241, 251, 231, 244, 226, 234, 200, 244, 254, 264, 250, 262, 211, 242, 249, 250, 260, 247, 279, 231, 271, 225, 239, 227, 260, 252, 245, 241, 226, 241, 257, 232, 247, 215, 235, 271, 231, 234, 262, 242, 290, 307, 243, 249, 231, 268, 253, 225, 240, 229, 254, 210, 242, 212, 244, 239, 226, 267, 232, 262, 239, 222, 225, 238, 240, 209, 241, 243, 242, 241, 233, 249, 256, 248, 216, 263, 243, 235, 204, 245, 271, 225, 259, 259, 245, 240, 275, 235, 257, 249, 248, 232, 249, 262, 250, 222, 237, 275, 249, 224, 227, 251, 257, 245, 252, 242, 256, 239, 218, 256, 231, 258, 229, 246, 248, 256, 256, 262, 255, 251, 275, 246, 252, 269, 265, 250, 232, 208, 222, 287, 257, 252, 249, 247, 232, 236, 240, 238, 238, 237, 239, 262, 248, 263, 241, 258, 253, 218, 273, 255, 213, 246, 239, 256, 240, 222, 259, 245, 249, 245, 262, 242, 209, 222, 266, 256, 254, 228, 252, 227, 249, 251, 235, 245, 232, 235, 232, 290, 248, 229, 245, 258, 258, 249, 221, 276, 250, 232, 229, 211, 273, 268, 213, 259, 212, 238, 246, 249, 236, 236, 228, 263, 240, 237, 283, 239, 224, 262, 274, 238, 255, 264, 245, 254, 259, 266, 249, 255, 238, 223, 245, 238, 255, 251, 259, 280, 269, 243, 260, 213, 229, 247, 236, 286, 266, 241, 273, 273, 255, 243, 253, 245, 218, 285, 262, 222, 266, 212, 265, 238, 211, 242, 230, 231, 244, 268, 272, 245, 268, 254, 228, 253, 248, 230, 226, 218, 225, 228, 247, 255, 252, 284, 228, 282, 247, 210, 241, 250, 226, 252, 255, 255, 235, 240, 234, 235, 250, 284, 240, 262, 220, 253, 260, 245, 238, 246, 243, 251, 245, 215, 250, 257, 287, 230, 267, 255, 247, 251, 259, 266, 291, 304, 228, 242, 242, 253, 260, 258, 256, 257, 283, 206, 242, 227, 257, 254, 234, 250, 247, 253, 253, 252, 230, 259, 229, 249, 237, 271, 254, 252, 230, 277, 229, 229, 259, 250, 239, 214, 249, 237, 273, 250, 275, 243, 244, 274, 272, 243, 229, 221, 286, 240, 263, 264, 224, 210, 247, 250, 275, 258, 272, 252, 248, 221, 234, 214, 243, 245, 235, 233, 231, 244, 248, 243, 253, 256, 253, 260, 247, 242, 246, 213, 238, 257, 243, 220, 240, 285, 253, 276, 289, 240, 239, 246, 271, 245, 242, 223, 225, 262, 251, 244, 248, 256, 241, 254, 263, 255, 239, 224, 238, 239, 237, 237, 251, 245, 240, 251, 255, 245, 222, 263, 244, 236, 237, 243, 262, 240, 229, 225, 253, 243, 252, 260, 256, 236, 222, 244, 226, 260, 250, 234, 262, 240, 262, 240, 217, 266, 234, 255, 231, 245, 253, 261, 241, 244, 235, 241, 265, 260, 246, 255, 220, 265, 234, 266, 236, 252, 270, 223, 219, 230, 249, 234, 232, 263, 257, 257, 229, 237, 253, 224, 239, 232, 246, 258, 247, 233, 267, 247, 308, 237, 240, 260, 242, 276, 253, 243, 254, 240, 241, 257, 261, 239, 239, 256, 241, 245, 252, 251, 251, 261, 222, 249, 254, 231, 234, 216, 226, 236, 255, 267, 258, 240, 256, 245, 251, 258, 259, 234, 269, 286, 267, 277, 314, 275, 258, 214, 233, 258, 234, 231, 269, 268, 246, 236, 252, 263, 246, 257, 252, 253, 226, 257, 286, 239, 256, 255, 288, 236, 226, 261, 260, 270, 264, 232, 234, 241, 242, 237, 246, 247, 211, 263, 243, 242, 257, 259, 259, 226, 273, 229, 223, 235, 229, 241, 235, 255, 273, 236, 252, 218, 259, 252, 231, 268, 276, 261, 254, 239, 243, 227, 238, 243, 249, 231, 250, 273, 231, 243, 248, 225, 226, 251, 247, 250, 214, 282, 225, 267, 248, 234, 226, 226, 268, 248, 241, 231, 255, 248, 251, 239, 280, 256, 252, 255, 228, 258, 240, 231, 239, 244, 220, 260, 255, 245, 266, 241, 249, 265, 250, 250, 282, 234, 253, 201, 266, 266, 239, 258, 251, 236, 224, 234, 244, 239, 276, 242, 264, 242, 230, 279, 247, 220, 264, 250, 223, 280, 256, 228, 256, 257, 221, 253, 241, 243, 238, 240, 256, 225, 276, 254, 263, 262, 223, 251, 249, 233, 228, 280, 295, 252, 276, 233, 257, 242, 245, 232, 294, 266, 229, 265, 217, 240, 237, 275, 261, 224, 242, 209, 268, 214, 226, 229, 253, 259, 255, 271, 256, 276, 251, 268, 256, 260, 259, 264, 267, 265, 278, 209, 258, 244, 267, 265, 270, 229, 268, 237, 247, 243, 229, 259, 231, 288, 242, 235, 229, 284, 251, 262, 269, 288, 231, 249, 232, 239, 248, 226, 241, 214, 281, 227, 247, 255, 230, 275, 259, 213, 271, 230, 257, 258, 240, 239, 249, 293, 239, 258, 234, 227, 274, 247, 231, 221, 225, 241, 240, 235, 246, 247, 236, 242, 246, 239, 275, 252, 275, 239, 282, 261, 230, 252, 285, 227, 241, 250, 240, 261, 269, 261, 288, 244, 252, 231, 207, 254, 284, 231, 244, 229, 221, 279, 251, 254, 262, 241, 270, 255, 243, 232, 263, 248, 227, 268, 248, 252, 233, 263, 246, 287, 251, 220, 252, 241, 262, 259, 246, 251]\n",
            "[5, 6, 5, 4, 8, 7, 7, 4, 6, 6, 4, 4, 5, 8, 7, 6, 5, 5, 6, 6, 7, 5, 6, 5, 8, 6, 6, 6, 6, 6, 5, 6, 14, 5, 6, 7, 6, 6, 7, 6, 6, 4, 5, 7, 7, 7, 5, 6, 7, 9, 9, 5, 4, 7, 5, 6, 6, 6, 4, 7, 5, 9, 6, 4, 5, 6, 5, 6, 7, 4, 6, 6, 5, 4, 7, 6, 5, 7, 5, 6, 5, 4, 5, 6, 5, 6, 5, 6, 4, 4, 4, 5, 6, 5, 7, 6, 8, 7, 5, 8, 6, 7, 7, 6, 6, 6, 7, 6, 5, 12, 6, 7, 5, 7, 7, 7, 4, 5, 6, 5, 7, 5, 9, 4, 6, 5, 7, 8, 4, 9, 5, 5, 5, 7, 5, 7, 6, 5, 5, 9, 5, 5, 5, 7, 7, 6, 6, 5, 8, 6, 5, 6, 6, 4, 6, 7, 8, 5, 6, 6, 7, 6, 8, 5, 6, 6, 6, 6, 4, 5, 6, 7, 7, 7, 6, 5, 5, 7, 5, 5, 5, 4, 6, 4, 4, 6, 5, 8, 7, 6, 6, 5, 7, 6, 5, 4, 6, 8, 7, 9, 7, 5, 5, 6, 5, 7, 5, 8, 6, 6, 6, 7, 10, 6, 6, 7, 7, 6, 4, 8, 6, 6, 6, 5, 6, 6, 5, 5, 5, 8, 6, 6, 4, 6, 7, 6, 5, 5, 6, 5, 6, 7, 5, 6, 6, 5, 9, 5, 6, 5, 5, 5, 5, 7, 4, 6, 6, 4, 5, 6, 3, 9, 9, 5, 5, 5, 5, 5, 6, 8, 7, 6, 5, 6, 5, 4, 6, 7, 7, 4, 5, 9, 6, 5, 6, 6, 5, 5, 6, 5, 6, 4, 8, 7, 4, 4, 5, 5, 5, 8, 4, 6, 8, 6, 6, 6, 5, 5, 7, 6, 4, 6, 7, 5, 6, 5, 6, 5, 6, 6, 5, 7, 11, 8, 5, 6, 6, 6, 6, 6, 6, 7, 5, 8, 5, 7, 8, 6, 7, 7, 6, 4, 5, 7, 6, 5, 5, 5, 5, 6, 11, 6, 7, 6, 9, 6, 8, 6, 6, 7, 5, 8, 5, 10, 6, 10, 4, 6, 6, 5, 11, 5, 7, 5, 5, 6, 6, 8, 9, 6, 6, 7, 6, 9, 5, 5, 7, 7, 5, 5, 5, 5, 7, 6, 8, 5, 8, 5, 5, 5, 5, 6, 4, 8, 5, 5, 6, 8, 5, 6, 5, 6, 7, 5, 7, 5, 5, 9, 5, 6, 7, 6, 7, 5, 8, 6, 6, 5, 5, 8, 5, 6, 6, 6, 6, 4, 7, 6, 6, 6, 6, 5, 10, 7, 6, 6, 9, 10, 9, 5, 5, 7, 5, 6, 7, 5, 6, 8, 6, 5, 8, 7, 4, 6, 5, 7, 4, 6, 5, 7, 6, 7, 8, 7, 6, 7, 7, 8, 8, 4, 5, 5, 6, 6, 6, 6, 6, 8, 5, 5, 6, 6, 6, 5, 7, 6, 5, 5, 6, 5, 6, 5, 5, 7, 6, 7, 5, 5, 5, 8, 5, 4, 7, 5, 6, 5, 6, 6, 5, 8, 7, 5, 5, 6, 6, 7, 8, 5, 6, 6, 4, 9, 7, 7, 5, 6, 7, 6, 5, 6, 7, 5, 7, 8, 5, 7, 5, 5, 7, 8, 6, 6, 4, 5, 5, 8, 4, 5, 5, 5, 5, 9, 5, 6, 8, 6, 6, 7, 5, 6, 6, 5, 6, 7, 6, 7, 8, 7, 4, 8, 6, 4, 8, 5, 8, 6, 6, 6, 5, 8, 7, 6, 5, 5, 8, 10, 6, 5, 4, 4, 7, 8, 9, 7, 8, 4, 4, 5, 4, 6, 6, 5, 5, 6, 6, 7, 6, 5, 6, 5, 5, 5, 5, 6, 6, 5, 4, 5, 7, 5, 4, 6, 9, 5, 5, 5, 6, 6, 5, 7, 5, 5, 6, 5, 4, 5, 6, 6, 6, 6, 5, 5, 8, 9, 6, 5, 6, 7, 5, 6, 7, 6, 6, 6, 10, 6, 5, 6, 5, 6, 7, 5, 6, 6, 7, 6, 7, 7, 7, 6, 4, 5, 5, 5, 6, 8, 5, 4, 7, 7, 6, 5, 6, 6, 4, 5, 8, 9, 5, 5, 6, 6, 5, 7, 5, 6, 6, 6, 4, 5, 4, 5, 6, 5, 7, 7, 4, 6, 5, 5, 6, 5, 5, 7, 4, 6, 6, 5, 5, 5, 6, 7, 7, 6, 5, 9, 7, 5, 6, 6, 7, 6, 5, 5, 7, 8, 9, 6, 6, 7, 5, 6, 6, 7, 6, 5, 7, 4, 5, 6, 6, 5, 6, 6, 5, 6, 9, 6, 5, 4, 9, 9, 6, 7, 6, 6, 7, 6, 4, 5, 7, 7, 5, 6, 5, 7, 5, 5, 7, 9, 6, 6, 5, 5, 7, 5, 8, 3, 5, 5, 5, 7, 8, 6, 5, 4, 5, 5, 6, 5, 6, 6, 5, 6, 5, 5, 6, 6, 5, 5, 6, 6, 7, 7, 5, 9, 5, 5, 7, 6, 5, 6, 6, 5, 7, 7, 5, 5, 5, 6, 5, 6, 5, 5, 9, 4, 5, 5, 5, 8, 5, 8, 5, 5, 5, 5, 6, 7, 10, 7, 5, 6, 5, 6, 4, 6, 9, 6, 6, 7, 6, 6, 7, 7, 8, 5, 7, 6, 5, 4, 6, 6, 6, 4, 5, 6, 8, 7, 10, 6, 5, 4, 7, 8, 5, 9, 6, 4, 7, 8, 7, 8, 6, 6, 5, 5, 6, 7, 8, 5, 5, 5, 6, 4, 4, 5, 5, 5, 6, 5, 6, 6, 5, 6, 5, 5, 5, 6, 7, 12, 5, 5, 8, 5, 5, 7, 5, 7, 7, 5, 4, 13, 4, 5, 5, 5, 6, 5, 6, 5, 7, 7, 11, 5, 6, 5, 5, 8, 6, 6, 8, 4, 6, 6, 8, 6, 5, 6, 6, 6, 7, 6, 7, 8, 4, 6, 6, 5, 7, 6, 4, 6, 7, 6, 6, 5, 4, 5, 5, 6, 5, 6, 6, 5, 6, 5, 8, 6, 7, 5]\n"
          ]
        }
      ]
    },
    {
      "cell_type": "markdown",
      "source": [
        "#### vs Suppression (adj)"
      ],
      "metadata": {
        "id": "DbMjNFONi7Ls"
      }
    },
    {
      "cell_type": "code",
      "source": [
        "dp_better_1_v_k95_l1=0\n",
        "for i in errs_dp_1_counts_1:\n",
        "  if i<err_counts_1_adj_95:\n",
        "    dp_better_1_v_k95_l1+=1\n",
        "dp_better_1_v_k95_l1=(dp_better_1_v_k95_l1/1000)*100\n",
        "print(dp_better_1_v_k95_l1)"
      ],
      "metadata": {
        "colab": {
          "base_uri": "https://localhost:8080/"
        },
        "id": "SFqhfie9i9vZ",
        "outputId": "eea5ad38-4c7b-4fcf-b23e-11d17523df26"
      },
      "execution_count": null,
      "outputs": [
        {
          "output_type": "stream",
          "name": "stdout",
          "text": [
            "0.0\n"
          ]
        }
      ]
    },
    {
      "cell_type": "code",
      "source": [
        "dp_better_1_v_k95_fair=0\n",
        "for i in fair_errs_dp_1_counts_1:\n",
        "  if i<fair_err_counts_1_adj_95:\n",
        "    dp_better_1_v_k95_fair+=1\n",
        "dp_better_1_v_k95_fair=(dp_better_1_v_k95_fair/1000)*100\n",
        "print(dp_better_1_v_k95_fair)"
      ],
      "metadata": {
        "colab": {
          "base_uri": "https://localhost:8080/"
        },
        "id": "Qsu9mEsJjotP",
        "outputId": "2bafaec9-6da2-4262-acb1-014dd7854ff8"
      },
      "execution_count": null,
      "outputs": [
        {
          "output_type": "stream",
          "name": "stdout",
          "text": [
            "0.0\n"
          ]
        }
      ]
    },
    {
      "cell_type": "code",
      "source": [
        "dp_better_1_v_k87_l1=0\n",
        "for i in errs_dp_1_counts_1:\n",
        "  if i<err_counts_1_adj_87:\n",
        "    dp_better_1_v_k87_l1+=1\n",
        "dp_better_1_v_k87_l1=(dp_better_1_v_k87_l1/1000)*100\n",
        "print(dp_better_1_v_k87_l1)"
      ],
      "metadata": {
        "colab": {
          "base_uri": "https://localhost:8080/"
        },
        "id": "azGyrsollGxg",
        "outputId": "af6f07dd-b1a3-49cf-e4bd-ce57437edb02"
      },
      "execution_count": null,
      "outputs": [
        {
          "output_type": "stream",
          "name": "stdout",
          "text": [
            "0.0\n"
          ]
        }
      ]
    },
    {
      "cell_type": "code",
      "source": [
        "dp_better_1_v_k87_fair=0\n",
        "for i in fair_errs_dp_1_counts_1:\n",
        "  if i<fair_err_counts_1_adj_87:\n",
        "    dp_better_1_v_k87_fair+=1\n",
        "dp_better_1_v_k87_fair=(dp_better_1_v_k87_fair/1000)*100\n",
        "print(dp_better_1_v_k87_fair)"
      ],
      "metadata": {
        "colab": {
          "base_uri": "https://localhost:8080/"
        },
        "id": "cO6aMDbflRO4",
        "outputId": "f570e318-eec2-42a4-87e9-4e17f4db6c20"
      },
      "execution_count": null,
      "outputs": [
        {
          "output_type": "stream",
          "name": "stdout",
          "text": [
            "0.0\n"
          ]
        }
      ]
    },
    {
      "cell_type": "code",
      "source": [
        "dp_better_1_v_k80_l1=0\n",
        "for i in errs_dp_1_counts_1:\n",
        "  if i<err_counts_1_adj_80:\n",
        "    dp_better_1_v_k80_l1+=1\n",
        "dp_better_1_v_k80_l1=(dp_better_1_v_k80_l1/1000)*100\n",
        "print(dp_better_1_v_k80_l1)"
      ],
      "metadata": {
        "colab": {
          "base_uri": "https://localhost:8080/"
        },
        "outputId": "7e7c6cca-2ffe-4a68-ae9a-28c13fdd5d34",
        "id": "qk9-yKsT_iIM"
      },
      "execution_count": null,
      "outputs": [
        {
          "output_type": "stream",
          "name": "stdout",
          "text": [
            "0.0\n"
          ]
        }
      ]
    },
    {
      "cell_type": "code",
      "source": [
        "dp_better_1_v_k80_fair=0\n",
        "for i in fair_errs_dp_1_counts_1:\n",
        "  if i<fair_err_counts_1_adj_80:\n",
        "    dp_better_1_v_k80_fair+=1\n",
        "dp_better_1_v_k80_fair=(dp_better_1_v_k80_fair/1000)*100\n",
        "print(dp_better_1_v_k80_fair)"
      ],
      "metadata": {
        "colab": {
          "base_uri": "https://localhost:8080/"
        },
        "outputId": "b2ceacf6-3a21-4f6f-cda5-be968e6b988c",
        "id": "vxL-rvhE_iIO"
      },
      "execution_count": null,
      "outputs": [
        {
          "output_type": "stream",
          "name": "stdout",
          "text": [
            "71.89999999999999\n"
          ]
        }
      ]
    },
    {
      "cell_type": "markdown",
      "source": [
        "#### Box plots"
      ],
      "metadata": {
        "id": "MHH2y4GWjyzX"
      }
    },
    {
      "cell_type": "code",
      "source": [
        "plt.boxplot(errs_dp_1_counts_1)"
      ],
      "metadata": {
        "colab": {
          "base_uri": "https://localhost:8080/",
          "height": 408
        },
        "id": "buJz4XTIPlK6",
        "outputId": "534c7e4c-0a8e-4cb6-b417-8341894b17b6"
      },
      "execution_count": null,
      "outputs": [
        {
          "output_type": "execute_result",
          "data": {
            "text/plain": [
              "{'boxes': [<matplotlib.lines.Line2D at 0x7f659d32b910>],\n",
              " 'caps': [<matplotlib.lines.Line2D at 0x7f659d32d9d0>,\n",
              "  <matplotlib.lines.Line2D at 0x7f659d32df10>],\n",
              " 'fliers': [<matplotlib.lines.Line2D at 0x7f659d331a10>],\n",
              " 'means': [],\n",
              " 'medians': [<matplotlib.lines.Line2D at 0x7f659d3314d0>],\n",
              " 'whiskers': [<matplotlib.lines.Line2D at 0x7f659d32bf10>,\n",
              "  <matplotlib.lines.Line2D at 0x7f659d32d490>]}"
            ]
          },
          "metadata": {},
          "execution_count": 423
        },
        {
          "output_type": "display_data",
          "data": {
            "text/plain": [
              "<Figure size 432x288 with 1 Axes>"
            ],
            "image/png": "[encoded data removed]"
          },
          "metadata": {
            "needs_background": "light"
          }
        }
      ]
    },
    {
      "cell_type": "code",
      "source": [
        "plt.boxplot(fair_errs_dp_1_counts_1)"
      ],
      "metadata": {
        "colab": {
          "base_uri": "https://localhost:8080/",
          "height": 404
        },
        "id": "tVndYZvXPtS6",
        "outputId": "a8eb75da-6cef-4fa2-e14a-e6044b9346b7"
      },
      "execution_count": null,
      "outputs": [
        {
          "output_type": "execute_result",
          "data": {
            "text/plain": [
              "{'boxes': [<matplotlib.lines.Line2D at 0x7f659d3082d0>],\n",
              " 'caps': [<matplotlib.lines.Line2D at 0x7f659d30e350>,\n",
              "  <matplotlib.lines.Line2D at 0x7f659d30e890>],\n",
              " 'fliers': [<matplotlib.lines.Line2D at 0x7f659d296390>],\n",
              " 'means': [],\n",
              " 'medians': [<matplotlib.lines.Line2D at 0x7f659d30ee10>],\n",
              " 'whiskers': [<matplotlib.lines.Line2D at 0x7f659d308890>,\n",
              "  <matplotlib.lines.Line2D at 0x7f659d308dd0>]}"
            ]
          },
          "metadata": {},
          "execution_count": 424
        },
        {
          "output_type": "display_data",
          "data": {
            "text/plain": [
              "<Figure size 432x288 with 1 Axes>"
            ],
            "image/png": "[encoded data removed]"
          },
          "metadata": {
            "needs_background": "light"
          }
        }
      ]
    },
    {
      "cell_type": "markdown",
      "source": [
        "### $\\epsilon=2$"
      ],
      "metadata": {
        "id": "ReAgp8W8kAYN"
      }
    },
    {
      "cell_type": "code",
      "source": [
        "#eps=2\n",
        "errs_dp_2_counts_1=[]\n",
        "fair_errs_dp_2_counts_1=[]\n",
        "for i in range(1000):\n",
        "  dp_counts_1=syr.add_dp_hist(counts_1,eps=2)\n",
        "  errs_dp_2_counts_1.append(sum(abs(np.array(dp_counts_1)-counts_1)))\n",
        "  fair_errs_dp_2_counts_1.append(max(abs(np.array(dp_counts_1)-counts_1))-min(abs(np.array(dp_counts_1)-counts_1)))"
      ],
      "metadata": {
        "id": "XNzuf3wO5FHf"
      },
      "execution_count": null,
      "outputs": []
    },
    {
      "cell_type": "code",
      "source": [
        "print(errs_dp_2_counts_1)\n",
        "print(fair_errs_dp_2_counts_1)"
      ],
      "metadata": {
        "id": "KxLdxlED5Orq",
        "colab": {
          "base_uri": "https://localhost:8080/"
        },
        "outputId": "5bafe146-9d69-43e1-967f-9e8c04e789a0"
      },
      "execution_count": null,
      "outputs": [
        {
          "output_type": "stream",
          "name": "stdout",
          "text": [
            "[95, 80, 72, 85, 82, 87, 81, 91, 101, 84, 73, 78, 84, 94, 81, 73, 80, 83, 94, 87, 81, 91, 85, 92, 94, 67, 89, 63, 90, 82, 73, 87, 76, 78, 82, 70, 74, 93, 65, 76, 84, 81, 85, 89, 95, 77, 82, 83, 92, 72, 80, 82, 76, 70, 77, 78, 86, 85, 73, 86, 65, 68, 76, 85, 91, 92, 93, 89, 73, 72, 75, 80, 95, 75, 83, 66, 92, 87, 76, 94, 76, 76, 68, 83, 84, 83, 72, 80, 96, 83, 76, 85, 82, 82, 80, 66, 79, 85, 84, 79, 77, 79, 72, 71, 100, 73, 90, 85, 72, 99, 77, 74, 79, 62, 96, 79, 82, 84, 74, 70, 64, 73, 101, 80, 83, 93, 78, 91, 72, 82, 101, 94, 74, 89, 78, 81, 73, 64, 65, 90, 69, 74, 84, 85, 83, 78, 74, 95, 72, 60, 92, 94, 62, 89, 74, 82, 82, 94, 80, 94, 72, 85, 82, 78, 94, 86, 92, 74, 88, 94, 80, 76, 96, 75, 72, 89, 95, 83, 85, 89, 99, 88, 84, 95, 75, 92, 78, 83, 92, 93, 72, 88, 76, 75, 69, 90, 65, 67, 88, 80, 74, 89, 79, 89, 77, 93, 63, 74, 86, 97, 69, 69, 78, 80, 76, 76, 83, 81, 78, 78, 72, 68, 73, 81, 85, 87, 72, 74, 80, 81, 79, 83, 87, 74, 86, 92, 80, 94, 86, 86, 87, 84, 81, 86, 80, 78, 83, 80, 88, 85, 70, 75, 87, 103, 84, 77, 93, 84, 82, 84, 102, 92, 89, 95, 82, 84, 63, 75, 72, 78, 84, 92, 84, 92, 85, 83, 87, 87, 77, 97, 82, 87, 74, 87, 84, 79, 84, 84, 101, 70, 81, 90, 72, 84, 87, 86, 74, 72, 81, 78, 84, 84, 95, 87, 80, 70, 72, 66, 86, 77, 90, 101, 84, 78, 84, 85, 68, 76, 88, 74, 83, 73, 67, 74, 84, 66, 83, 85, 76, 77, 98, 80, 64, 87, 62, 93, 84, 73, 91, 85, 69, 79, 77, 86, 68, 73, 81, 73, 95, 96, 89, 72, 93, 87, 66, 63, 75, 71, 71, 90, 78, 78, 82, 74, 77, 71, 98, 113, 66, 87, 78, 77, 69, 74, 78, 74, 83, 89, 92, 91, 83, 87, 87, 80, 105, 99, 82, 70, 82, 86, 89, 85, 71, 62, 75, 83, 78, 71, 78, 90, 76, 75, 82, 74, 75, 74, 89, 81, 83, 78, 87, 87, 87, 76, 95, 86, 87, 70, 92, 82, 80, 79, 97, 81, 98, 93, 83, 94, 79, 65, 90, 85, 77, 77, 88, 85, 102, 84, 73, 94, 89, 70, 83, 72, 106, 85, 64, 89, 72, 88, 98, 71, 74, 76, 78, 79, 80, 89, 68, 68, 96, 84, 95, 86, 76, 85, 72, 83, 81, 62, 76, 96, 87, 77, 71, 82, 82, 54, 75, 86, 85, 90, 79, 85, 74, 83, 79, 87, 63, 84, 69, 93, 89, 81, 111, 81, 82, 78, 88, 81, 72, 75, 92, 83, 93, 80, 83, 98, 87, 79, 91, 76, 81, 90, 85, 76, 71, 86, 87, 89, 83, 84, 83, 83, 70, 81, 92, 77, 77, 85, 76, 79, 82, 79, 76, 84, 82, 95, 64, 73, 76, 81, 78, 71, 67, 58, 73, 80, 84, 91, 86, 82, 94, 97, 81, 70, 78, 85, 76, 90, 91, 90, 98, 96, 102, 79, 86, 98, 91, 89, 69, 102, 81, 71, 77, 89, 88, 91, 88, 65, 87, 79, 74, 93, 84, 91, 94, 72, 75, 83, 93, 85, 85, 83, 72, 81, 86, 81, 75, 76, 82, 81, 74, 75, 89, 79, 83, 94, 64, 76, 88, 85, 83, 84, 98, 92, 93, 71, 76, 71, 86, 91, 90, 78, 88, 77, 94, 84, 89, 88, 73, 76, 80, 100, 89, 86, 69, 88, 75, 79, 80, 89, 85, 73, 71, 82, 100, 82, 81, 92, 77, 77, 77, 82, 88, 83, 73, 82, 88, 97, 82, 94, 84, 93, 65, 82, 92, 78, 81, 69, 87, 79, 74, 66, 100, 83, 78, 73, 86, 78, 99, 82, 91, 76, 73, 72, 62, 76, 84, 83, 78, 88, 61, 83, 78, 87, 78, 88, 76, 104, 89, 78, 78, 78, 78, 88, 74, 82, 78, 88, 80, 97, 84, 86, 76, 74, 84, 90, 90, 86, 78, 95, 74, 90, 90, 86, 80, 76, 77, 87, 80, 91, 108, 68, 87, 87, 99, 71, 83, 70, 77, 106, 92, 96, 81, 70, 76, 88, 96, 69, 83, 89, 79, 83, 78, 78, 71, 73, 94, 73, 90, 88, 97, 89, 86, 80, 92, 73, 76, 82, 72, 76, 86, 82, 76, 73, 79, 85, 77, 92, 78, 79, 94, 71, 91, 91, 91, 87, 105, 81, 73, 77, 85, 76, 86, 89, 87, 81, 71, 100, 91, 90, 73, 84, 91, 88, 82, 88, 85, 83, 77, 75, 98, 76, 84, 77, 81, 85, 85, 90, 84, 71, 92, 81, 68, 78, 78, 73, 82, 81, 79, 74, 90, 72, 71, 95, 74, 76, 80, 88, 78, 81, 76, 77, 98, 74, 84, 95, 85, 78, 84, 106, 77, 82, 83, 71, 77, 78, 93, 69, 86, 88, 92, 85, 96, 85, 69, 96, 71, 87, 87, 88, 91, 88, 79, 80, 88, 70, 80, 85, 82, 89, 65, 74, 78, 87, 91, 77, 88, 79, 93, 92, 89, 65, 77, 74, 80, 73, 83, 68, 87, 85, 90, 82, 88, 86, 97, 74, 75, 86, 86, 70, 84, 82, 84, 85, 89, 85, 86, 81, 88, 89, 88, 93, 82, 87, 78, 81, 108, 85, 88, 80, 74, 80, 85, 77, 74, 84, 85, 85, 90, 75, 92, 70, 81, 96, 89, 92, 83, 87, 100, 84, 72, 78, 83, 92, 87, 72, 94, 86, 82, 81, 94, 87, 95, 70, 66, 82, 86, 84, 78, 80, 78, 76, 67, 86, 66, 67, 72, 77, 98, 77, 86, 86, 83, 91, 71, 89, 97, 80, 69, 101, 74, 84, 81, 96, 80, 84, 73, 75]\n",
            "[3, 2, 3, 4, 2, 4, 3, 3, 3, 4, 3, 3, 3, 3, 3, 4, 3, 4, 2, 4, 3, 4, 3, 4, 3, 2, 3, 2, 3, 3, 3, 2, 2, 3, 3, 3, 2, 4, 3, 2, 3, 3, 3, 3, 3, 3, 3, 3, 3, 2, 3, 2, 3, 3, 3, 2, 4, 3, 3, 3, 3, 3, 3, 3, 4, 3, 4, 3, 2, 3, 3, 3, 3, 3, 2, 3, 3, 3, 2, 3, 2, 2, 3, 3, 3, 3, 2, 3, 3, 4, 2, 3, 2, 3, 2, 2, 4, 3, 3, 3, 3, 2, 2, 2, 4, 3, 3, 3, 3, 4, 3, 2, 5, 2, 3, 3, 3, 2, 2, 3, 2, 3, 2, 4, 3, 3, 3, 3, 3, 3, 4, 6, 3, 4, 3, 3, 3, 3, 2, 3, 3, 2, 4, 3, 3, 3, 4, 3, 2, 2, 3, 3, 2, 3, 2, 4, 4, 2, 2, 3, 4, 3, 3, 3, 3, 3, 2, 3, 3, 3, 2, 2, 3, 3, 3, 3, 3, 3, 3, 4, 3, 2, 3, 3, 2, 3, 3, 2, 4, 3, 3, 2, 3, 3, 2, 4, 2, 2, 3, 3, 3, 3, 4, 3, 3, 2, 2, 4, 3, 3, 3, 3, 3, 3, 2, 3, 4, 3, 2, 3, 2, 3, 4, 3, 2, 2, 2, 2, 3, 2, 2, 3, 2, 2, 2, 4, 3, 3, 2, 3, 3, 3, 2, 3, 4, 3, 3, 4, 2, 3, 2, 2, 3, 3, 3, 3, 2, 2, 2, 4, 3, 3, 3, 3, 3, 2, 3, 6, 2, 2, 3, 3, 3, 3, 3, 3, 3, 3, 2, 4, 4, 3, 2, 4, 2, 3, 3, 4, 3, 3, 2, 3, 2, 3, 4, 4, 2, 4, 2, 3, 4, 2, 3, 4, 3, 2, 2, 3, 2, 2, 4, 3, 2, 4, 2, 3, 3, 2, 2, 2, 2, 3, 3, 2, 3, 3, 2, 3, 3, 2, 3, 2, 2, 2, 3, 3, 3, 2, 3, 4, 3, 3, 3, 4, 2, 3, 3, 2, 5, 3, 2, 2, 2, 3, 2, 2, 2, 2, 2, 4, 3, 3, 3, 3, 2, 3, 3, 3, 4, 3, 2, 2, 3, 3, 3, 3, 2, 3, 3, 4, 3, 2, 2, 3, 3, 2, 3, 4, 2, 3, 3, 3, 3, 3, 3, 4, 4, 4, 3, 4, 3, 2, 3, 3, 2, 2, 3, 4, 4, 3, 3, 3, 3, 2, 3, 3, 4, 2, 4, 2, 2, 3, 3, 2, 4, 4, 3, 2, 2, 2, 3, 2, 3, 3, 3, 3, 3, 3, 3, 4, 4, 3, 3, 2, 3, 3, 2, 3, 3, 4, 3, 2, 3, 2, 2, 2, 3, 4, 3, 3, 4, 3, 3, 3, 3, 5, 2, 2, 3, 3, 3, 3, 4, 3, 2, 3, 4, 2, 3, 3, 3, 3, 2, 3, 3, 4, 2, 2, 2, 3, 4, 2, 3, 4, 2, 4, 4, 2, 3, 3, 4, 2, 3, 5, 2, 4, 2, 2, 3, 3, 3, 3, 3, 3, 2, 3, 3, 2, 3, 2, 3, 4, 2, 3, 3, 3, 5, 2, 3, 2, 3, 2, 3, 4, 3, 3, 3, 3, 2, 5, 2, 2, 3, 3, 2, 2, 4, 2, 3, 3, 3, 4, 4, 3, 3, 3, 3, 2, 3, 5, 3, 3, 4, 3, 2, 3, 4, 3, 3, 3, 2, 3, 4, 3, 2, 4, 2, 3, 3, 2, 3, 3, 3, 3, 3, 4, 4, 2, 2, 2, 3, 3, 3, 3, 2, 3, 2, 3, 2, 3, 4, 3, 3, 3, 4, 2, 2, 4, 2, 2, 3, 3, 3, 2, 3, 2, 4, 2, 4, 2, 2, 3, 4, 3, 3, 2, 4, 2, 3, 4, 2, 2, 4, 4, 2, 3, 4, 3, 4, 2, 3, 2, 3, 2, 3, 2, 4, 3, 3, 3, 2, 3, 3, 2, 3, 2, 2, 2, 3, 2, 3, 3, 3, 4, 3, 2, 3, 2, 4, 3, 3, 4, 3, 2, 4, 2, 2, 2, 3, 3, 2, 3, 3, 3, 2, 2, 2, 3, 3, 3, 3, 4, 3, 2, 2, 4, 2, 3, 2, 4, 2, 4, 3, 3, 3, 3, 3, 3, 2, 3, 3, 4, 2, 3, 3, 3, 3, 3, 2, 3, 4, 4, 2, 2, 3, 3, 2, 2, 3, 2, 2, 4, 4, 2, 2, 3, 3, 2, 3, 4, 3, 2, 3, 3, 3, 3, 3, 3, 3, 4, 3, 3, 2, 2, 3, 3, 2, 2, 3, 2, 4, 3, 3, 3, 2, 3, 3, 3, 3, 3, 2, 4, 5, 3, 4, 4, 2, 3, 2, 3, 3, 2, 4, 4, 3, 3, 3, 4, 3, 2, 2, 2, 3, 2, 3, 3, 3, 2, 2, 3, 4, 3, 3, 3, 2, 3, 3, 3, 2, 3, 3, 3, 3, 3, 2, 3, 3, 3, 3, 3, 3, 4, 3, 3, 4, 3, 2, 4, 3, 3, 3, 3, 4, 3, 2, 3, 3, 4, 2, 3, 3, 3, 5, 4, 2, 2, 2, 4, 3, 2, 3, 5, 3, 2, 2, 3, 2, 4, 3, 3, 4, 3, 3, 3, 4, 3, 3, 3, 2, 3, 3, 3, 4, 3, 2, 2, 2, 3, 2, 2, 3, 3, 2, 3, 3, 3, 2, 2, 3, 4, 3, 3, 3, 2, 3, 4, 3, 2, 3, 3, 3, 4, 3, 2, 4, 2, 4, 3, 2, 3, 3, 2, 4, 3, 2, 3, 2, 2, 3, 4, 3, 3, 3, 3, 2, 5, 4, 3, 3, 3, 3, 2, 3, 3, 3, 2, 2, 3, 3, 3, 2, 2, 2, 2, 2, 3, 2, 3, 2, 2, 3, 3, 3, 3, 3, 3, 3, 2, 3, 3, 3, 3, 3, 3, 3, 3, 2, 4, 3, 5, 4, 2, 3, 3, 3, 3, 2, 2, 3, 4, 3, 2, 4, 3, 4, 3, 2, 6, 3, 3, 2, 4, 2, 2, 2, 4, 3, 2, 4, 4]\n"
          ]
        }
      ]
    },
    {
      "cell_type": "markdown",
      "source": [
        "#### vs Suppression (adj)"
      ],
      "metadata": {
        "id": "QW_B1TrAkIx-"
      }
    },
    {
      "cell_type": "code",
      "source": [
        "dp_better_2_v_k95_l1=0\n",
        "for i in errs_dp_2_counts_1:\n",
        "  if i<err_counts_1_adj_95:\n",
        "    dp_better_2_v_k95_l1+=1\n",
        "dp_better_2_v_k95_l1=(dp_better_2_v_k95_l1/1000)*100\n",
        "print(dp_better_2_v_k95_l1)"
      ],
      "metadata": {
        "colab": {
          "base_uri": "https://localhost:8080/"
        },
        "outputId": "f1e8dafe-00f0-418e-e436-279f8f16feb5",
        "id": "WXc_DN9k4SBn"
      },
      "execution_count": null,
      "outputs": [
        {
          "output_type": "stream",
          "name": "stdout",
          "text": [
            "0.0\n"
          ]
        }
      ]
    },
    {
      "cell_type": "code",
      "source": [
        "dp_better_2_v_k95_fair=0\n",
        "for i in fair_errs_dp_1_counts_1:\n",
        "  if i<fair_err_counts_1_adj_95:\n",
        "    dp_better_2_v_k95_fair+=1\n",
        "dp_better_2_v_k95_fair=(dp_better_2_v_k95_fair/1000)*100\n",
        "print(dp_better_2_v_k95_fair)"
      ],
      "metadata": {
        "colab": {
          "base_uri": "https://localhost:8080/"
        },
        "outputId": "4a974f82-6fdc-4961-e310-60a1b351c721",
        "id": "jGbS7Nyy4SBv"
      },
      "execution_count": null,
      "outputs": [
        {
          "output_type": "stream",
          "name": "stdout",
          "text": [
            "0.0\n"
          ]
        }
      ]
    },
    {
      "cell_type": "code",
      "source": [
        "dp_better_2_v_k90_l1=0\n",
        "for i in errs_dp_2_counts_1:\n",
        "  if i<err_counts_1_adj_90:\n",
        "    dp_better_2_v_k90_l1+=1\n",
        "dp_better_2_v_k90_l1=(dp_better_2_v_k90_l1/1000)*100\n",
        "print(dp_better_2_v_k90_l1)"
      ],
      "metadata": {
        "colab": {
          "base_uri": "https://localhost:8080/"
        },
        "outputId": "74f9009d-3857-4f6c-bb06-e9cf0a4f6132",
        "id": "eWfiWaSF4SBw"
      },
      "execution_count": null,
      "outputs": [
        {
          "output_type": "stream",
          "name": "stdout",
          "text": [
            "0.0\n"
          ]
        }
      ]
    },
    {
      "cell_type": "code",
      "source": [
        "dp_better_2_v_k90_fair=0\n",
        "for i in fair_errs_dp_2_counts_1:\n",
        "  if i<fair_err_counts_1_adj_90:\n",
        "    dp_better_2_v_k90_fair+=1\n",
        "dp_better_2_v_k90_fair=(dp_better_2_v_k90_fair/1000)*100\n",
        "print(dp_better_2_v_k90_fair)"
      ],
      "metadata": {
        "colab": {
          "base_uri": "https://localhost:8080/"
        },
        "outputId": "42035132-ddb3-4f6a-e942-1fb3d97e16b0",
        "id": "AWglcPmU4SBw"
      },
      "execution_count": null,
      "outputs": [
        {
          "output_type": "stream",
          "name": "stdout",
          "text": [
            "0.0\n"
          ]
        }
      ]
    },
    {
      "cell_type": "code",
      "source": [
        "dp_better_2_v_k80_l1=0\n",
        "for i in errs_dp_2_counts_1:\n",
        "  if i<err_counts_1_adj_80:\n",
        "    dp_better_2_v_k80_l1+=1\n",
        "dp_better_2_v_k80_l1=(dp_better_2_v_k80_l1/1000)*100\n",
        "print(dp_better_2_v_k80_l1)"
      ],
      "metadata": {
        "colab": {
          "base_uri": "https://localhost:8080/"
        },
        "outputId": "c0855e40-1314-4647-bff9-089576cad1c7",
        "id": "f14ahqvA5DG3"
      },
      "execution_count": null,
      "outputs": [
        {
          "output_type": "stream",
          "name": "stdout",
          "text": [
            "97.89999999999999\n"
          ]
        }
      ]
    },
    {
      "cell_type": "code",
      "source": [
        "dp_better_1_v_k95_fair=0\n",
        "for i in fair_errs_dp_2_counts_1:\n",
        "  if i<fair_err_counts_1_adj_80:\n",
        "    dp_better_1_v_k95_fair+=1\n",
        "dp_better_1_v_k95_fair=(dp_better_1_v_k95_fair/1000)*100\n",
        "print(dp_better_1_v_k95_fair)"
      ],
      "metadata": {
        "colab": {
          "base_uri": "https://localhost:8080/"
        },
        "outputId": "3cf3762a-fc44-4d86-c15d-f510bbccc1e4",
        "id": "92YBhL-25DG4"
      },
      "execution_count": null,
      "outputs": [
        {
          "output_type": "stream",
          "name": "stdout",
          "text": [
            "100.0\n"
          ]
        }
      ]
    },
    {
      "cell_type": "code",
      "source": [
        "dp_better_2_v_k87_l1=0\n",
        "for i in errs_dp_2_counts_1:\n",
        "  if i<err_counts_1_adj_87:\n",
        "    dp_better_2_v_k87_l1+=1\n",
        "dp_better_2_v_k87_l1=(dp_better_2_v_k87_l1/1000)*100\n",
        "print(dp_better_2_v_k87_l1)"
      ],
      "metadata": {
        "colab": {
          "base_uri": "https://localhost:8080/"
        },
        "outputId": "f329a016-e6fb-4d70-c354-9028cafeb7bd",
        "id": "gal5l1TF5DG5"
      },
      "execution_count": null,
      "outputs": [
        {
          "output_type": "stream",
          "name": "stdout",
          "text": [
            "0.0\n"
          ]
        }
      ]
    },
    {
      "cell_type": "code",
      "source": [
        "dp_better_2_v_k87_fair=0\n",
        "for i in fair_errs_dp_2_counts_1:\n",
        "  if i<fair_err_counts_1_adj_87:\n",
        "    dp_better_2_v_k87_fair+=1\n",
        "dp_better_2_v_k87_fair=(dp_better_2_v_k87_fair/1000)*100\n",
        "print(dp_better_2_v_k87_fair)"
      ],
      "metadata": {
        "colab": {
          "base_uri": "https://localhost:8080/"
        },
        "outputId": "d62b69b7-bfbe-46db-b87b-4dff0e59160d",
        "id": "LXY0Rq_85DG6"
      },
      "execution_count": null,
      "outputs": [
        {
          "output_type": "stream",
          "name": "stdout",
          "text": [
            "29.799999999999997\n"
          ]
        }
      ]
    },
    {
      "cell_type": "markdown",
      "source": [
        "#### Box plots"
      ],
      "metadata": {
        "id": "mWdR7MxGknOn"
      }
    },
    {
      "cell_type": "code",
      "source": [
        "plt.boxplot(errs_dp_5_counts_1)"
      ],
      "metadata": {
        "colab": {
          "base_uri": "https://localhost:8080/",
          "height": 404
        },
        "outputId": "e00dcecd-e46e-402d-ed51-1a405dfb2d69",
        "id": "By_uGChjknOn"
      },
      "execution_count": null,
      "outputs": [
        {
          "output_type": "execute_result",
          "data": {
            "text/plain": [
              "{'boxes': [<matplotlib.lines.Line2D at 0x7f659d27eed0>],\n",
              " 'caps': [<matplotlib.lines.Line2D at 0x7f659d285f90>,\n",
              "  <matplotlib.lines.Line2D at 0x7f659d28d510>],\n",
              " 'fliers': [<matplotlib.lines.Line2D at 0x7f659d28dfd0>],\n",
              " 'means': [],\n",
              " 'medians': [<matplotlib.lines.Line2D at 0x7f659d28da90>],\n",
              " 'whiskers': [<matplotlib.lines.Line2D at 0x7f659d285510>,\n",
              "  <matplotlib.lines.Line2D at 0x7f659d285a50>]}"
            ]
          },
          "metadata": {},
          "execution_count": 435
        },
        {
          "output_type": "display_data",
          "data": {
            "text/plain": [
              "<Figure size 432x288 with 1 Axes>"
            ],
            "image/png": "[encoded data removed]"
          },
          "metadata": {
            "needs_background": "light"
          }
        }
      ]
    },
    {
      "cell_type": "code",
      "source": [
        "plt.boxplot(fair_errs_dp_5_counts_1)"
      ],
      "metadata": {
        "colab": {
          "base_uri": "https://localhost:8080/",
          "height": 404
        },
        "outputId": "56f75430-a9b3-4d86-a35a-54c412f77b91",
        "id": "eom_EYvHknOn"
      },
      "execution_count": null,
      "outputs": [
        {
          "output_type": "execute_result",
          "data": {
            "text/plain": [
              "{'boxes': [<matplotlib.lines.Line2D at 0x7f659d1f5110>],\n",
              " 'caps': [<matplotlib.lines.Line2D at 0x7f659d1fd190>,\n",
              "  <matplotlib.lines.Line2D at 0x7f659d1fd6d0>],\n",
              " 'fliers': [<matplotlib.lines.Line2D at 0x7f659d2051d0>],\n",
              " 'means': [],\n",
              " 'medians': [<matplotlib.lines.Line2D at 0x7f659d1fdc50>],\n",
              " 'whiskers': [<matplotlib.lines.Line2D at 0x7f659d1f56d0>,\n",
              "  <matplotlib.lines.Line2D at 0x7f659d1f5c10>]}"
            ]
          },
          "metadata": {},
          "execution_count": 436
        },
        {
          "output_type": "display_data",
          "data": {
            "text/plain": [
              "<Figure size 432x288 with 1 Axes>"
            ],
            "image/png": "[encoded data removed]"
          },
          "metadata": {
            "needs_background": "light"
          }
        }
      ]
    },
    {
      "cell_type": "markdown",
      "source": [
        "### eps=5"
      ],
      "metadata": {
        "id": "ZlLJW5Vv6Adl"
      }
    },
    {
      "cell_type": "code",
      "source": [
        "#eps=5\n",
        "errs_dp_5_counts_1=[]\n",
        "fair_errs_dp_5_counts_1=[]\n",
        "for i in range(1000):\n",
        "  dp_counts_1=syr.add_dp_hist(counts_1,eps=5)\n",
        "  errs_dp_5_counts_1.append(sum(abs(np.array(dp_counts_1)-counts_1)))\n",
        "  fair_errs_dp_5_counts_1.append(max(abs(np.array(dp_counts_1)-counts_1))-min(abs(np.array(dp_counts_1)-counts_1)))"
      ],
      "metadata": {
        "id": "7332QOk75UZg"
      },
      "execution_count": null,
      "outputs": []
    },
    {
      "cell_type": "code",
      "source": [
        "print(errs_dp_5_counts_1)\n",
        "print(fair_errs_dp_5_counts_1)"
      ],
      "metadata": {
        "id": "3Fh-hNSS5di4",
        "colab": {
          "base_uri": "https://localhost:8080/"
        },
        "outputId": "f5400439-f39e-40b3-c497-3bf7d2162c01"
      },
      "execution_count": null,
      "outputs": [
        {
          "output_type": "stream",
          "name": "stdout",
          "text": [
            "[3, 6, 7, 3, 3, 3, 6, 6, 4, 2, 5, 3, 4, 4, 4, 8, 3, 5, 0, 7, 4, 3, 5, 4, 5, 7, 3, 5, 8, 2, 4, 6, 1, 3, 9, 3, 4, 2, 6, 3, 2, 7, 3, 5, 0, 5, 4, 3, 2, 3, 2, 5, 1, 3, 2, 3, 2, 3, 3, 3, 3, 3, 4, 4, 3, 2, 3, 4, 4, 4, 6, 1, 4, 5, 3, 3, 4, 5, 5, 5, 11, 5, 4, 6, 3, 2, 4, 6, 3, 5, 2, 5, 2, 4, 2, 5, 3, 7, 6, 8, 4, 7, 6, 8, 3, 5, 4, 7, 3, 0, 3, 4, 3, 4, 4, 4, 5, 5, 4, 5, 4, 5, 4, 8, 2, 7, 3, 4, 5, 1, 4, 3, 4, 8, 3, 4, 7, 1, 1, 5, 3, 4, 7, 6, 5, 4, 6, 1, 3, 3, 4, 6, 2, 4, 3, 6, 3, 1, 4, 3, 1, 5, 7, 2, 3, 3, 5, 6, 5, 2, 4, 7, 7, 9, 5, 9, 2, 6, 1, 4, 3, 5, 2, 6, 2, 4, 4, 3, 4, 3, 4, 5, 5, 2, 6, 6, 3, 7, 2, 2, 3, 4, 3, 4, 5, 6, 3, 4, 2, 1, 2, 1, 4, 7, 3, 3, 5, 3, 6, 2, 4, 7, 6, 4, 4, 3, 3, 1, 3, 6, 6, 6, 3, 6, 3, 3, 3, 8, 2, 12, 4, 1, 6, 4, 5, 4, 6, 1, 8, 2, 4, 4, 5, 4, 6, 6, 3, 6, 3, 3, 10, 4, 5, 3, 1, 4, 4, 2, 6, 4, 6, 3, 6, 1, 4, 8, 2, 7, 7, 5, 5, 3, 2, 4, 5, 5, 4, 1, 1, 6, 4, 5, 7, 0, 6, 7, 3, 1, 9, 8, 3, 3, 3, 6, 3, 4, 1, 6, 5, 4, 3, 7, 4, 4, 3, 7, 6, 4, 3, 0, 5, 5, 4, 5, 4, 2, 3, 1, 7, 6, 4, 2, 2, 2, 4, 3, 7, 4, 4, 1, 2, 1, 2, 1, 3, 3, 2, 8, 2, 5, 5, 6, 4, 5, 5, 2, 2, 6, 3, 3, 2, 2, 4, 3, 3, 7, 2, 2, 5, 3, 5, 2, 5, 6, 1, 4, 5, 6, 3, 9, 7, 7, 3, 6, 4, 2, 6, 5, 3, 2, 3, 2, 4, 2, 1, 2, 2, 8, 2, 5, 6, 8, 2, 3, 6, 2, 3, 4, 8, 5, 5, 2, 3, 3, 3, 1, 10, 6, 8, 4, 5, 3, 3, 3, 4, 4, 3, 8, 1, 4, 6, 3, 4, 1, 7, 5, 3, 4, 0, 3, 5, 3, 6, 3, 5, 2, 7, 4, 6, 5, 5, 0, 4, 2, 1, 5, 1, 3, 6, 2, 1, 2, 2, 6, 3, 7, 4, 3, 9, 5, 6, 6, 4, 4, 5, 8, 3, 4, 7, 5, 5, 5, 5, 3, 1, 2, 6, 6, 4, 6, 3, 3, 4, 1, 3, 6, 3, 2, 4, 6, 5, 9, 5, 4, 4, 6, 5, 2, 3, 4, 3, 2, 3, 0, 1, 4, 5, 3, 5, 2, 4, 4, 7, 6, 7, 6, 2, 5, 4, 9, 5, 7, 6, 7, 8, 5, 4, 4, 5, 3, 3, 1, 9, 5, 4, 5, 2, 5, 5, 3, 3, 2, 3, 5, 6, 3, 5, 1, 4, 6, 1, 3, 2, 10, 1, 4, 5, 7, 7, 3, 6, 2, 8, 6, 2, 6, 2, 4, 5, 9, 4, 4, 2, 3, 8, 2, 4, 4, 3, 6, 6, 7, 7, 3, 9, 4, 5, 4, 3, 5, 3, 4, 7, 8, 4, 3, 3, 4, 3, 5, 5, 2, 2, 5, 4, 5, 2, 5, 6, 1, 3, 8, 6, 4, 1, 3, 4, 5, 4, 5, 5, 2, 1, 12, 3, 3, 3, 7, 2, 2, 6, 2, 2, 6, 4, 5, 8, 5, 6, 9, 1, 6, 3, 3, 4, 7, 5, 1, 0, 5, 4, 1, 4, 2, 4, 2, 1, 3, 8, 8, 2, 3, 2, 4, 4, 3, 4, 6, 6, 1, 4, 3, 2, 4, 3, 4, 3, 7, 6, 5, 6, 2, 2, 4, 4, 6, 3, 2, 5, 3, 8, 3, 1, 4, 3, 4, 5, 4, 3, 4, 5, 4, 4, 2, 6, 4, 2, 3, 3, 5, 3, 7, 4, 9, 4, 3, 2, 4, 2, 2, 1, 2, 3, 4, 4, 1, 2, 3, 2, 2, 4, 6, 1, 3, 4, 3, 5, 9, 4, 4, 4, 3, 2, 7, 5, 3, 6, 3, 6, 1, 2, 0, 2, 2, 8, 5, 3, 5, 3, 5, 3, 5, 4, 3, 1, 2, 5, 1, 7, 3, 2, 3, 8, 5, 1, 3, 4, 4, 5, 0, 3, 4, 5, 5, 3, 6, 3, 5, 1, 3, 4, 2, 7, 6, 2, 4, 3, 4, 4, 3, 9, 0, 6, 2, 6, 4, 4, 2, 4, 4, 3, 3, 4, 2, 8, 3, 6, 5, 2, 3, 3, 6, 2, 1, 2, 3, 4, 5, 7, 2, 7, 2, 1, 4, 7, 1, 7, 1, 2, 1, 4, 7, 7, 4, 3, 5, 2, 7, 4, 4, 6, 5, 5, 5, 7, 3, 2, 5, 4, 1, 8, 2, 6, 9, 3, 6, 6, 3, 4, 6, 5, 4, 4, 3, 2, 7, 5, 2, 6, 4, 10, 4, 6, 5, 5, 5, 7, 5, 3, 2, 3, 6, 6, 3, 5, 1, 2, 2, 5, 1, 7, 5, 4, 1, 1, 6, 3, 7, 6, 5, 3, 1, 4, 6, 5, 4, 4, 2, 3, 5, 5, 2, 4, 7, 4, 4, 6, 3, 6, 3, 5, 4, 1, 4, 7, 8, 4, 3, 5, 6, 4, 4, 6, 5, 1, 5, 2, 4, 4, 5, 5, 6, 5, 1, 4, 8, 5, 7, 5, 1, 3, 4, 0, 2, 6, 1, 3, 5, 2, 7, 5, 4, 4, 6, 8, 8, 5, 7, 3, 2, 4, 7, 2, 3, 3, 7, 3, 5, 6, 1]\n",
            "[1, 1, 1, 1, 1, 1, 1, 1, 1, 1, 1, 1, 1, 1, 1, 2, 1, 1, 0, 1, 1, 1, 1, 1, 1, 1, 1, 1, 1, 1, 1, 1, 1, 1, 1, 1, 2, 1, 1, 1, 1, 1, 1, 1, 0, 1, 1, 1, 1, 1, 1, 1, 1, 1, 1, 1, 1, 1, 1, 1, 1, 1, 1, 1, 1, 1, 1, 1, 1, 1, 1, 1, 1, 1, 1, 1, 1, 1, 1, 1, 1, 1, 1, 1, 1, 1, 2, 1, 1, 1, 1, 1, 1, 1, 1, 1, 1, 1, 2, 1, 1, 1, 1, 1, 1, 1, 1, 1, 1, 0, 1, 1, 1, 1, 1, 1, 1, 1, 1, 1, 1, 1, 1, 1, 1, 1, 1, 1, 1, 1, 1, 1, 1, 2, 1, 1, 1, 1, 1, 1, 1, 1, 1, 1, 2, 1, 1, 1, 1, 1, 1, 1, 1, 1, 1, 1, 1, 1, 1, 1, 1, 1, 1, 1, 1, 1, 1, 1, 1, 1, 1, 1, 1, 1, 1, 1, 1, 1, 1, 1, 1, 1, 1, 1, 1, 1, 1, 1, 1, 1, 1, 1, 1, 1, 1, 1, 1, 1, 1, 1, 1, 1, 1, 1, 1, 1, 1, 1, 1, 1, 1, 1, 1, 1, 1, 1, 1, 1, 1, 1, 1, 1, 1, 1, 1, 1, 1, 1, 1, 1, 1, 2, 1, 1, 1, 1, 1, 1, 1, 1, 1, 1, 1, 1, 1, 1, 1, 1, 1, 1, 1, 1, 2, 1, 1, 1, 1, 1, 1, 1, 1, 1, 1, 1, 1, 1, 1, 1, 1, 1, 1, 1, 1, 1, 1, 1, 1, 1, 1, 1, 1, 1, 1, 1, 1, 1, 1, 1, 1, 1, 1, 1, 1, 0, 1, 1, 1, 1, 1, 1, 1, 1, 1, 1, 1, 1, 1, 1, 1, 1, 1, 1, 1, 1, 1, 1, 1, 1, 1, 0, 1, 1, 1, 1, 1, 1, 1, 1, 1, 1, 1, 1, 1, 1, 1, 1, 1, 1, 1, 1, 1, 1, 1, 1, 1, 1, 1, 1, 1, 1, 1, 1, 1, 1, 1, 1, 1, 1, 1, 1, 1, 1, 1, 1, 1, 1, 1, 1, 1, 1, 1, 1, 1, 2, 1, 1, 1, 2, 1, 1, 1, 1, 1, 1, 1, 1, 1, 1, 1, 1, 1, 1, 1, 1, 1, 1, 1, 1, 1, 1, 1, 1, 1, 1, 1, 1, 1, 1, 1, 1, 1, 1, 1, 1, 1, 1, 1, 1, 2, 1, 1, 1, 1, 1, 1, 1, 1, 1, 1, 1, 1, 1, 1, 1, 1, 1, 1, 1, 0, 1, 1, 1, 1, 1, 1, 1, 1, 1, 1, 1, 1, 0, 1, 1, 1, 1, 1, 1, 2, 1, 1, 1, 1, 1, 1, 1, 1, 1, 1, 1, 1, 1, 1, 1, 1, 1, 1, 1, 1, 1, 1, 2, 1, 1, 1, 1, 1, 1, 1, 1, 1, 1, 1, 1, 1, 1, 1, 1, 1, 1, 1, 1, 1, 1, 1, 1, 1, 1, 1, 1, 1, 1, 1, 0, 1, 1, 1, 1, 1, 1, 2, 1, 1, 1, 1, 1, 1, 1, 1, 1, 1, 1, 1, 1, 1, 1, 1, 1, 1, 1, 1, 1, 2, 1, 1, 1, 1, 1, 1, 1, 1, 1, 1, 1, 1, 1, 1, 1, 1, 1, 1, 1, 1, 1, 1, 1, 1, 1, 1, 1, 1, 1, 1, 2, 1, 1, 1, 1, 1, 1, 1, 1, 1, 1, 1, 1, 1, 1, 1, 1, 1, 1, 1, 1, 1, 1, 2, 1, 1, 1, 1, 1, 1, 1, 1, 1, 1, 1, 1, 1, 1, 1, 1, 1, 1, 1, 1, 1, 1, 1, 1, 1, 1, 1, 1, 1, 1, 1, 1, 1, 1, 1, 1, 1, 1, 1, 1, 1, 1, 1, 1, 1, 1, 1, 1, 2, 1, 1, 1, 1, 1, 1, 1, 1, 1, 2, 1, 1, 0, 1, 1, 1, 1, 1, 1, 1, 1, 1, 1, 1, 1, 1, 1, 1, 1, 1, 1, 1, 1, 1, 1, 1, 1, 1, 1, 1, 1, 1, 1, 1, 1, 1, 1, 1, 1, 1, 1, 1, 1, 1, 1, 1, 1, 1, 1, 1, 1, 1, 1, 1, 1, 1, 1, 1, 1, 1, 1, 1, 1, 1, 1, 1, 1, 1, 1, 1, 1, 1, 1, 1, 1, 1, 1, 1, 1, 1, 1, 1, 1, 1, 1, 1, 1, 1, 1, 1, 1, 1, 1, 1, 1, 1, 1, 1, 1, 1, 1, 1, 1, 1, 1, 0, 1, 1, 1, 1, 1, 1, 1, 1, 1, 1, 1, 1, 1, 1, 1, 1, 1, 1, 1, 1, 1, 1, 1, 1, 1, 1, 1, 0, 1, 1, 1, 1, 1, 1, 1, 1, 1, 1, 1, 1, 1, 1, 1, 1, 1, 1, 1, 1, 1, 0, 1, 1, 1, 1, 1, 1, 1, 1, 1, 1, 1, 1, 1, 1, 1, 1, 1, 1, 1, 1, 1, 1, 1, 1, 1, 1, 1, 1, 1, 1, 1, 1, 1, 1, 1, 1, 1, 1, 2, 1, 1, 1, 1, 1, 1, 1, 1, 1, 1, 1, 1, 1, 1, 1, 1, 1, 1, 1, 2, 1, 1, 1, 1, 1, 1, 1, 1, 1, 1, 1, 1, 1, 1, 1, 1, 1, 1, 1, 1, 1, 1, 1, 1, 1, 1, 1, 1, 1, 1, 1, 1, 1, 1, 1, 1, 1, 1, 1, 1, 1, 1, 1, 1, 1, 1, 1, 1, 1, 1, 1, 1, 1, 1, 1, 1, 1, 1, 1, 1, 1, 1, 1, 1, 1, 1, 1, 1, 1, 1, 1, 1, 1, 1, 1, 1, 1, 1, 2, 1, 1, 1, 1, 1, 1, 1, 1, 1, 1, 1, 1, 1, 1, 1, 1, 1, 1, 1, 1, 1, 1, 0, 1, 1, 1, 1, 1, 1, 1, 1, 1, 1, 1, 1, 1, 2, 1, 1, 1, 1, 1, 1, 1, 1, 1, 1, 1, 1, 1]\n"
          ]
        }
      ]
    },
    {
      "cell_type": "markdown",
      "source": [
        "#### vs Suppression"
      ],
      "metadata": {
        "id": "gnlcF6F36Cm6"
      }
    },
    {
      "cell_type": "code",
      "source": [
        "dp_better_5_v_k95_l1=0\n",
        "for i in errs_dp_5_counts_1:\n",
        "  if i<err_counts_1_adj_95:\n",
        "    dp_better_5_v_k95_l1+=1\n",
        "dp_better_5_v_k95_l1=(dp_better_5_v_k95_l1/1000)*100\n",
        "print(dp_better_5_v_k95_l1)"
      ],
      "metadata": {
        "colab": {
          "base_uri": "https://localhost:8080/"
        },
        "outputId": "56dce401-7249-440a-a6ef-39eaaf3348dd",
        "id": "fyecuojZ6E1R"
      },
      "execution_count": null,
      "outputs": [
        {
          "output_type": "stream",
          "name": "stdout",
          "text": [
            "0.0\n"
          ]
        }
      ]
    },
    {
      "cell_type": "code",
      "source": [
        "dp_better_5_v_k95_fair=0\n",
        "for i in fair_errs_dp_5_counts_1:\n",
        "  if i<fair_err_counts_1_adj_95:\n",
        "    dp_better_5_v_k95_fair+=1\n",
        "dp_better_5_v_k95_fair=(dp_better_5_v_k95_fair/1000)*100\n",
        "print(dp_better_5_v_k95_fair)"
      ],
      "metadata": {
        "colab": {
          "base_uri": "https://localhost:8080/"
        },
        "outputId": "90c1131a-185a-499e-8d03-68b72a3ef87e",
        "id": "NZHT833P6E1S"
      },
      "execution_count": null,
      "outputs": [
        {
          "output_type": "stream",
          "name": "stdout",
          "text": [
            "0.0\n"
          ]
        }
      ]
    },
    {
      "cell_type": "code",
      "source": [
        "dp_better_5_v_k90_l1=0\n",
        "for i in errs_dp_5_counts_1:\n",
        "  if i<err_counts_1_adj_90:\n",
        "    dp_better_5_v_k90_l1+=1\n",
        "dp_better_5_v_k90_l1=(dp_better_5_v_k90_l1/1000)*100\n",
        "print(dp_better_5_v_k90_l1)"
      ],
      "metadata": {
        "colab": {
          "base_uri": "https://localhost:8080/"
        },
        "outputId": "9f620f10-07a6-46dd-93b3-65903ec6313e",
        "id": "ZLNdtxRk6E1S"
      },
      "execution_count": null,
      "outputs": [
        {
          "output_type": "stream",
          "name": "stdout",
          "text": [
            "0.0\n"
          ]
        }
      ]
    },
    {
      "cell_type": "code",
      "source": [
        "dp_better_2_v_k90_fair=0\n",
        "for i in fair_errs_dp_5_counts_1:\n",
        "  if i<fair_err_counts_1_adj_87:\n",
        "    dp_better_2_v_k90_fair+=1\n",
        "dp_better_2_v_k90_fair=(dp_better_2_v_k90_fair/1000)*100\n",
        "print(dp_better_2_v_k90_fair)"
      ],
      "metadata": {
        "colab": {
          "base_uri": "https://localhost:8080/"
        },
        "outputId": "3cbe0538-f8a9-4f70-c086-b8f0502bd4c4",
        "id": "8UpdiYFz6E1S"
      },
      "execution_count": null,
      "outputs": [
        {
          "output_type": "stream",
          "name": "stdout",
          "text": [
            "100.0\n"
          ]
        }
      ]
    },
    {
      "cell_type": "code",
      "source": [
        "dp_better_1_v_k95_l1=0\n",
        "for i in errs_dp_5_counts_1:\n",
        "  if i<err_counts_1_adj_80:\n",
        "    dp_better_1_v_k95_l1+=1\n",
        "dp_better_1_v_k95_l1=(dp_better_1_v_k95_l1/1000)*100\n",
        "print(dp_better_1_v_k95_l1)"
      ],
      "metadata": {
        "colab": {
          "base_uri": "https://localhost:8080/"
        },
        "outputId": "827af157-506d-430c-ddb5-2e61ba82e0d6",
        "id": "_K8ZGDxD6E1S"
      },
      "execution_count": null,
      "outputs": [
        {
          "output_type": "stream",
          "name": "stdout",
          "text": [
            "100.0\n"
          ]
        }
      ]
    },
    {
      "cell_type": "code",
      "source": [
        "dp_better_1_v_k95_fair=0\n",
        "for i in fair_errs_dp_1_counts_1:\n",
        "  if i<fair_err_counts_1_adj_95:\n",
        "    dp_better_1_v_k95_fair+=1\n",
        "dp_better_1_v_k95_fair=(dp_better_1_v_k95_fair/1000)*100\n",
        "print(dp_better_1_v_k95_fair)"
      ],
      "metadata": {
        "colab": {
          "base_uri": "https://localhost:8080/"
        },
        "outputId": "5a993413-cb67-4fcc-9739-905be80b6e31",
        "id": "F0vZNThh6E1S"
      },
      "execution_count": null,
      "outputs": [
        {
          "output_type": "stream",
          "name": "stdout",
          "text": [
            "0.0\n"
          ]
        }
      ]
    },
    {
      "cell_type": "code",
      "source": [
        "dp_better_5_v_k87_l1=0\n",
        "for i in errs_dp_5_counts_1:\n",
        "  if i<err_counts_1_adj_87:\n",
        "    dp_better_5_v_k87_l1+=1\n",
        "dp_better_5_v_k87_l1=(dp_better_5_v_k87_l1/1000)*100\n",
        "print(dp_better_5_v_k87_l1)"
      ],
      "metadata": {
        "colab": {
          "base_uri": "https://localhost:8080/"
        },
        "outputId": "7fc697b9-5cd3-4b12-d5ea-4f29685609f3",
        "id": "7zubPCMB6E1T"
      },
      "execution_count": null,
      "outputs": [
        {
          "output_type": "stream",
          "name": "stdout",
          "text": [
            "100.0\n"
          ]
        }
      ]
    },
    {
      "cell_type": "code",
      "source": [
        "dp_better_5_v_k87_fair=0\n",
        "for i in fair_errs_dp_5_counts_1:\n",
        "  if i<fair_err_counts_1_adj_87:\n",
        "    dp_better_5_v_k87_fair+=1\n",
        "dp_better_5_v_k87_fair=(dp_better_5_v_k87_fair/1000)*100\n",
        "print(dp_better_5_v_k87_fair)"
      ],
      "metadata": {
        "colab": {
          "base_uri": "https://localhost:8080/"
        },
        "outputId": "7bc3ee7a-6f32-442f-946c-d9438034a35a",
        "id": "F1DAi4ml6E1T"
      },
      "execution_count": null,
      "outputs": [
        {
          "output_type": "stream",
          "name": "stdout",
          "text": [
            "100.0\n"
          ]
        }
      ]
    },
    {
      "cell_type": "markdown",
      "source": [
        "##Random Merging for $k$-Anonymity"
      ],
      "metadata": {
        "id": "kVvOF18o39WF"
      }
    },
    {
      "cell_type": "code",
      "source": [
        "#95th percentile\n",
        "errs_randomk_95_counts_1=[]\n",
        "fair_errs_randomk_95_counts_1=[]\n",
        "for i in range(1000):\n",
        "  k_counts_1=syr.spread_k_anonymise(counts_1,k=k_95)\n",
        "  errs_randomk_95_counts_1.append(sum(abs(np.array(k_counts_1)-counts_1)))\n",
        "  fair_errs_randomk_95_counts_1.append(max(abs(np.array(k_counts_1)-counts_1))-min(abs(np.array(k_counts_1)-counts_1)))"
      ],
      "metadata": {
        "id": "fkGj5s-E4D5C"
      },
      "execution_count": null,
      "outputs": []
    },
    {
      "cell_type": "code",
      "source": [
        "print(errs_randomk_95_counts_1)\n",
        "print(fair_errs_randomk_95_counts_1)"
      ],
      "metadata": {
        "id": "OzCujg1y6D8V",
        "colab": {
          "base_uri": "https://localhost:8080/"
        },
        "outputId": "131010f8-02d6-44cb-f9c9-87b2570e3f58"
      },
      "execution_count": null,
      "outputs": [
        {
          "output_type": "stream",
          "name": "stdout",
          "text": [
            "[0, 0, 0, 0, 0, 0, 0, 0, 0, 0, 0, 0, 0, 0, 0, 0, 0, 0, 0, 0, 0, 0, 0, 0, 0, 0, 0, 0, 0, 0, 0, 0, 0, 0, 0, 0, 0, 0, 0, 0, 0, 0, 0, 0, 0, 0, 0, 0, 0, 0, 0, 0, 0, 0, 0, 0, 0, 0, 0, 0, 0, 0, 0, 0, 0, 0, 0, 0, 0, 0, 0, 0, 0, 0, 0, 0, 0, 0, 0, 0, 0, 0, 0, 0, 0, 0, 0, 0, 0, 0, 0, 0, 0, 0, 0, 0, 0, 0, 0, 0, 0, 0, 0, 0, 0, 0, 0, 0, 0, 0, 0, 0, 0, 0, 0, 0, 0, 0, 0, 0, 0, 0, 0, 0, 0, 0, 0, 0, 0, 0, 0, 0, 0, 0, 0, 0, 0, 0, 0, 0, 0, 0, 0, 0, 0, 0, 0, 0, 0, 0, 0, 0, 0, 0, 0, 0, 0, 0, 0, 0, 0, 0, 0, 0, 0, 0, 0, 0, 0, 0, 0, 0, 0, 0, 0, 0, 0, 0, 0, 0, 0, 0, 0, 0, 0, 0, 0, 0, 0, 0, 0, 0, 0, 0, 0, 0, 0, 0, 0, 0, 0, 0, 0, 0, 0, 0, 0, 0, 0, 0, 0, 0, 0, 0, 0, 0, 0, 0, 0, 0, 0, 0, 0, 0, 0, 0, 0, 0, 0, 0, 0, 0, 0, 0, 0, 0, 0, 0, 0, 0, 0, 0, 0, 0, 0, 0, 0, 0, 0, 0, 0, 0, 0, 0, 0, 0, 0, 0, 0, 0, 0, 0, 0, 0, 0, 0, 0, 0, 0, 0, 0, 0, 0, 0, 0, 0, 0, 0, 0, 0, 0, 0, 0, 0, 0, 0, 0, 0, 0, 0, 0, 0, 0, 0, 0, 0, 0, 0, 0, 0, 0, 0, 0, 0, 0, 0, 0, 0, 0, 0, 0, 0, 0, 0, 0, 0, 0, 0, 0, 0, 0, 0, 0, 0, 0, 0, 0, 0, 0, 0, 0, 0, 0, 0, 0, 0, 0, 0, 0, 0, 0, 0, 0, 0, 0, 0, 0, 0, 0, 0, 0, 0, 0, 0, 0, 0, 0, 0, 0, 0, 0, 0, 0, 0, 0, 0, 0, 0, 0, 0, 0, 0, 0, 0, 0, 0, 0, 0, 0, 0, 0, 0, 0, 0, 0, 0, 0, 0, 0, 0, 0, 0, 0, 0, 0, 0, 0, 0, 0, 0, 0, 0, 0, 0, 0, 0, 0, 0, 0, 0, 0, 0, 0, 0, 0, 0, 0, 0, 0, 0, 0, 0, 0, 0, 0, 0, 0, 0, 0, 0, 0, 0, 0, 0, 0, 0, 0, 0, 0, 0, 0, 0, 0, 0, 0, 0, 0, 0, 0, 0, 0, 0, 0, 0, 0, 0, 0, 0, 0, 0, 0, 0, 0, 0, 0, 0, 0, 0, 0, 0, 0, 0, 0, 0, 0, 0, 0, 0, 0, 0, 0, 0, 0, 0, 0, 0, 0, 0, 0, 0, 0, 0, 0, 0, 0, 0, 0, 0, 0, 0, 0, 0, 0, 0, 0, 0, 0, 0, 0, 0, 0, 0, 0, 0, 0, 0, 0, 0, 0, 0, 0, 0, 0, 0, 0, 0, 0, 0, 0, 0, 0, 0, 0, 0, 0, 0, 0, 0, 0, 0, 0, 0, 0, 0, 0, 0, 0, 0, 0, 0, 0, 0, 0, 0, 0, 0, 0, 0, 0, 0, 0, 0, 0, 0, 0, 0, 0, 0, 0, 0, 0, 0, 0, 0, 0, 0, 0, 0, 0, 0, 0, 0, 0, 0, 0, 0, 0, 0, 0, 0, 0, 0, 0, 0, 0, 0, 0, 0, 0, 0, 0, 0, 0, 0, 0, 0, 0, 0, 0, 0, 0, 0, 0, 0, 0, 0, 0, 0, 0, 0, 0, 0, 0, 0, 0, 0, 0, 0, 0, 0, 0, 0, 0, 0, 0, 0, 0, 0, 0, 0, 0, 0, 0, 0, 0, 0, 0, 0, 0, 0, 0, 0, 0, 0, 0, 0, 0, 0, 0, 0, 0, 0, 0, 0, 0, 0, 0, 0, 0, 0, 0, 0, 0, 0, 0, 0, 0, 0, 0, 0, 0, 0, 0, 0, 0, 0, 0, 0, 0, 0, 0, 0, 0, 0, 0, 0, 0, 0, 0, 0, 0, 0, 0, 0, 0, 0, 0, 0, 0, 0, 0, 0, 0, 0, 0, 0, 0, 0, 0, 0, 0, 0, 0, 0, 0, 0, 0, 0, 0, 0, 0, 0, 0, 0, 0, 0, 0, 0, 0, 0, 0, 0, 0, 0, 0, 0, 0, 0, 0, 0, 0, 0, 0, 0, 0, 0, 0, 0, 0, 0, 0, 0, 0, 0, 0, 0, 0, 0, 0, 0, 0, 0, 0, 0, 0, 0, 0, 0, 0, 0, 0, 0, 0, 0, 0, 0, 0, 0, 0, 0, 0, 0, 0, 0, 0, 0, 0, 0, 0, 0, 0, 0, 0, 0, 0, 0, 0, 0, 0, 0, 0, 0, 0, 0, 0, 0, 0, 0, 0, 0, 0, 0, 0, 0, 0, 0, 0, 0, 0, 0, 0, 0, 0, 0, 0, 0, 0, 0, 0, 0, 0, 0, 0, 0, 0, 0, 0, 0, 0, 0, 0, 0, 0, 0, 0, 0, 0, 0, 0, 0, 0, 0, 0, 0, 0, 0, 0, 0, 0, 0, 0, 0, 0, 0, 0, 0, 0, 0, 0, 0, 0, 0, 0, 0, 0, 0, 0, 0, 0, 0, 0, 0, 0, 0, 0, 0, 0, 0, 0, 0, 0, 0, 0, 0, 0, 0, 0, 0, 0, 0, 0, 0, 0, 0, 0, 0, 0, 0, 0, 0, 0, 0, 0, 0, 0, 0, 0, 0, 0, 0, 0, 0, 0, 0, 0, 0, 0, 0, 0, 0, 0, 0, 0, 0, 0, 0, 0, 0, 0, 0, 0, 0, 0, 0, 0, 0, 0, 0, 0, 0, 0, 0, 0, 0, 0, 0, 0, 0, 0, 0, 0, 0, 0, 0, 0, 0, 0, 0, 0, 0, 0, 0, 0, 0, 0, 0, 0, 0, 0, 0, 0, 0, 0, 0, 0, 0, 0, 0, 0, 0]\n",
            "[0, 0, 0, 0, 0, 0, 0, 0, 0, 0, 0, 0, 0, 0, 0, 0, 0, 0, 0, 0, 0, 0, 0, 0, 0, 0, 0, 0, 0, 0, 0, 0, 0, 0, 0, 0, 0, 0, 0, 0, 0, 0, 0, 0, 0, 0, 0, 0, 0, 0, 0, 0, 0, 0, 0, 0, 0, 0, 0, 0, 0, 0, 0, 0, 0, 0, 0, 0, 0, 0, 0, 0, 0, 0, 0, 0, 0, 0, 0, 0, 0, 0, 0, 0, 0, 0, 0, 0, 0, 0, 0, 0, 0, 0, 0, 0, 0, 0, 0, 0, 0, 0, 0, 0, 0, 0, 0, 0, 0, 0, 0, 0, 0, 0, 0, 0, 0, 0, 0, 0, 0, 0, 0, 0, 0, 0, 0, 0, 0, 0, 0, 0, 0, 0, 0, 0, 0, 0, 0, 0, 0, 0, 0, 0, 0, 0, 0, 0, 0, 0, 0, 0, 0, 0, 0, 0, 0, 0, 0, 0, 0, 0, 0, 0, 0, 0, 0, 0, 0, 0, 0, 0, 0, 0, 0, 0, 0, 0, 0, 0, 0, 0, 0, 0, 0, 0, 0, 0, 0, 0, 0, 0, 0, 0, 0, 0, 0, 0, 0, 0, 0, 0, 0, 0, 0, 0, 0, 0, 0, 0, 0, 0, 0, 0, 0, 0, 0, 0, 0, 0, 0, 0, 0, 0, 0, 0, 0, 0, 0, 0, 0, 0, 0, 0, 0, 0, 0, 0, 0, 0, 0, 0, 0, 0, 0, 0, 0, 0, 0, 0, 0, 0, 0, 0, 0, 0, 0, 0, 0, 0, 0, 0, 0, 0, 0, 0, 0, 0, 0, 0, 0, 0, 0, 0, 0, 0, 0, 0, 0, 0, 0, 0, 0, 0, 0, 0, 0, 0, 0, 0, 0, 0, 0, 0, 0, 0, 0, 0, 0, 0, 0, 0, 0, 0, 0, 0, 0, 0, 0, 0, 0, 0, 0, 0, 0, 0, 0, 0, 0, 0, 0, 0, 0, 0, 0, 0, 0, 0, 0, 0, 0, 0, 0, 0, 0, 0, 0, 0, 0, 0, 0, 0, 0, 0, 0, 0, 0, 0, 0, 0, 0, 0, 0, 0, 0, 0, 0, 0, 0, 0, 0, 0, 0, 0, 0, 0, 0, 0, 0, 0, 0, 0, 0, 0, 0, 0, 0, 0, 0, 0, 0, 0, 0, 0, 0, 0, 0, 0, 0, 0, 0, 0, 0, 0, 0, 0, 0, 0, 0, 0, 0, 0, 0, 0, 0, 0, 0, 0, 0, 0, 0, 0, 0, 0, 0, 0, 0, 0, 0, 0, 0, 0, 0, 0, 0, 0, 0, 0, 0, 0, 0, 0, 0, 0, 0, 0, 0, 0, 0, 0, 0, 0, 0, 0, 0, 0, 0, 0, 0, 0, 0, 0, 0, 0, 0, 0, 0, 0, 0, 0, 0, 0, 0, 0, 0, 0, 0, 0, 0, 0, 0, 0, 0, 0, 0, 0, 0, 0, 0, 0, 0, 0, 0, 0, 0, 0, 0, 0, 0, 0, 0, 0, 0, 0, 0, 0, 0, 0, 0, 0, 0, 0, 0, 0, 0, 0, 0, 0, 0, 0, 0, 0, 0, 0, 0, 0, 0, 0, 0, 0, 0, 0, 0, 0, 0, 0, 0, 0, 0, 0, 0, 0, 0, 0, 0, 0, 0, 0, 0, 0, 0, 0, 0, 0, 0, 0, 0, 0, 0, 0, 0, 0, 0, 0, 0, 0, 0, 0, 0, 0, 0, 0, 0, 0, 0, 0, 0, 0, 0, 0, 0, 0, 0, 0, 0, 0, 0, 0, 0, 0, 0, 0, 0, 0, 0, 0, 0, 0, 0, 0, 0, 0, 0, 0, 0, 0, 0, 0, 0, 0, 0, 0, 0, 0, 0, 0, 0, 0, 0, 0, 0, 0, 0, 0, 0, 0, 0, 0, 0, 0, 0, 0, 0, 0, 0, 0, 0, 0, 0, 0, 0, 0, 0, 0, 0, 0, 0, 0, 0, 0, 0, 0, 0, 0, 0, 0, 0, 0, 0, 0, 0, 0, 0, 0, 0, 0, 0, 0, 0, 0, 0, 0, 0, 0, 0, 0, 0, 0, 0, 0, 0, 0, 0, 0, 0, 0, 0, 0, 0, 0, 0, 0, 0, 0, 0, 0, 0, 0, 0, 0, 0, 0, 0, 0, 0, 0, 0, 0, 0, 0, 0, 0, 0, 0, 0, 0, 0, 0, 0, 0, 0, 0, 0, 0, 0, 0, 0, 0, 0, 0, 0, 0, 0, 0, 0, 0, 0, 0, 0, 0, 0, 0, 0, 0, 0, 0, 0, 0, 0, 0, 0, 0, 0, 0, 0, 0, 0, 0, 0, 0, 0, 0, 0, 0, 0, 0, 0, 0, 0, 0, 0, 0, 0, 0, 0, 0, 0, 0, 0, 0, 0, 0, 0, 0, 0, 0, 0, 0, 0, 0, 0, 0, 0, 0, 0, 0, 0, 0, 0, 0, 0, 0, 0, 0, 0, 0, 0, 0, 0, 0, 0, 0, 0, 0, 0, 0, 0, 0, 0, 0, 0, 0, 0, 0, 0, 0, 0, 0, 0, 0, 0, 0, 0, 0, 0, 0, 0, 0, 0, 0, 0, 0, 0, 0, 0, 0, 0, 0, 0, 0, 0, 0, 0, 0, 0, 0, 0, 0, 0, 0, 0, 0, 0, 0, 0, 0, 0, 0, 0, 0, 0, 0, 0, 0, 0, 0, 0, 0, 0, 0, 0, 0, 0, 0, 0, 0, 0, 0, 0, 0, 0, 0, 0, 0, 0, 0, 0, 0, 0, 0, 0, 0, 0, 0, 0, 0, 0, 0, 0, 0, 0, 0, 0, 0, 0, 0, 0, 0, 0, 0, 0, 0, 0, 0, 0, 0, 0, 0, 0, 0, 0, 0, 0, 0, 0, 0, 0, 0, 0, 0, 0, 0, 0, 0, 0, 0, 0, 0, 0, 0, 0, 0, 0, 0, 0, 0, 0, 0, 0, 0, 0, 0, 0, 0, 0, 0, 0, 0, 0, 0, 0, 0, 0, 0, 0, 0, 0, 0, 0, 0, 0, 0, 0, 0, 0, 0, 0, 0, 0, 0, 0, 0, 0, 0, 0, 0, 0, 0, 0, 0, 0, 0, 0, 0, 0, 0, 0, 0, 0, 0]\n"
          ]
        }
      ]
    },
    {
      "cell_type": "code",
      "source": [
        "#90th percentile\n",
        "errs_randomk_90_counts_1=[]\n",
        "fair_errs_randomk_90_counts_1=[]\n",
        "for i in range(1000):\n",
        "  k_counts_1=syr.spread_k_anonymise(counts_1,k=k_90)\n",
        "  errs_randomk_90_counts_1.append(sum(abs(np.array(k_counts_1)-counts_1)))\n",
        "  fair_errs_randomk_90_counts_1.append(max(abs(np.array(k_counts_1)-counts_1))-min(abs(np.array(k_counts_1)-counts_1)))"
      ],
      "metadata": {
        "id": "1V0_MS9v6Rh7"
      },
      "execution_count": null,
      "outputs": []
    },
    {
      "cell_type": "code",
      "source": [
        "print(errs_randomk_90_counts_1)\n",
        "print(fair_errs_randomk_90_counts_1)"
      ],
      "metadata": {
        "id": "8afpi84g6bQH",
        "colab": {
          "base_uri": "https://localhost:8080/"
        },
        "outputId": "5a8e688f-27ea-448e-fd6a-8e182f71978d"
      },
      "execution_count": null,
      "outputs": [
        {
          "output_type": "stream",
          "name": "stdout",
          "text": [
            "[0, 0, 0, 0, 0, 0, 0, 0, 0, 0, 0, 0, 0, 0, 0, 0, 0, 0, 0, 0, 0, 0, 0, 0, 0, 0, 0, 0, 0, 0, 0, 0, 0, 0, 0, 0, 0, 0, 0, 0, 0, 0, 0, 0, 0, 0, 0, 0, 0, 0, 0, 0, 0, 0, 0, 0, 0, 0, 0, 0, 0, 0, 0, 0, 0, 0, 0, 0, 0, 0, 0, 0, 0, 0, 0, 0, 0, 0, 0, 0, 0, 0, 0, 0, 0, 0, 0, 0, 0, 0, 0, 0, 0, 0, 0, 0, 0, 0, 0, 0, 0, 0, 0, 0, 0, 0, 0, 0, 0, 0, 0, 0, 0, 0, 0, 0, 0, 0, 0, 0, 0, 0, 0, 0, 0, 0, 0, 0, 0, 0, 0, 0, 0, 0, 0, 0, 0, 0, 0, 0, 0, 0, 0, 0, 0, 0, 0, 0, 0, 0, 0, 0, 0, 0, 0, 0, 0, 0, 0, 0, 0, 0, 0, 0, 0, 0, 0, 0, 0, 0, 0, 0, 0, 0, 0, 0, 0, 0, 0, 0, 0, 0, 0, 0, 0, 0, 0, 0, 0, 0, 0, 0, 0, 0, 0, 0, 0, 0, 0, 0, 0, 0, 0, 0, 0, 0, 0, 0, 0, 0, 0, 0, 0, 0, 0, 0, 0, 0, 0, 0, 0, 0, 0, 0, 0, 0, 0, 0, 0, 0, 0, 0, 0, 0, 0, 0, 0, 0, 0, 0, 0, 0, 0, 0, 0, 0, 0, 0, 0, 0, 0, 0, 0, 0, 0, 0, 0, 0, 0, 0, 0, 0, 0, 0, 0, 0, 0, 0, 0, 0, 0, 0, 0, 0, 0, 0, 0, 0, 0, 0, 0, 0, 0, 0, 0, 0, 0, 0, 0, 0, 0, 0, 0, 0, 0, 0, 0, 0, 0, 0, 0, 0, 0, 0, 0, 0, 0, 0, 0, 0, 0, 0, 0, 0, 0, 0, 0, 0, 0, 0, 0, 0, 0, 0, 0, 0, 0, 0, 0, 0, 0, 0, 0, 0, 0, 0, 0, 0, 0, 0, 0, 0, 0, 0, 0, 0, 0, 0, 0, 0, 0, 0, 0, 0, 0, 0, 0, 0, 0, 0, 0, 0, 0, 0, 0, 0, 0, 0, 0, 0, 0, 0, 0, 0, 0, 0, 0, 0, 0, 0, 0, 0, 0, 0, 0, 0, 0, 0, 0, 0, 0, 0, 0, 0, 0, 0, 0, 0, 0, 0, 0, 0, 0, 0, 0, 0, 0, 0, 0, 0, 0, 0, 0, 0, 0, 0, 0, 0, 0, 0, 0, 0, 0, 0, 0, 0, 0, 0, 0, 0, 0, 0, 0, 0, 0, 0, 0, 0, 0, 0, 0, 0, 0, 0, 0, 0, 0, 0, 0, 0, 0, 0, 0, 0, 0, 0, 0, 0, 0, 0, 0, 0, 0, 0, 0, 0, 0, 0, 0, 0, 0, 0, 0, 0, 0, 0, 0, 0, 0, 0, 0, 0, 0, 0, 0, 0, 0, 0, 0, 0, 0, 0, 0, 0, 0, 0, 0, 0, 0, 0, 0, 0, 0, 0, 0, 0, 0, 0, 0, 0, 0, 0, 0, 0, 0, 0, 0, 0, 0, 0, 0, 0, 0, 0, 0, 0, 0, 0, 0, 0, 0, 0, 0, 0, 0, 0, 0, 0, 0, 0, 0, 0, 0, 0, 0, 0, 0, 0, 0, 0, 0, 0, 0, 0, 0, 0, 0, 0, 0, 0, 0, 0, 0, 0, 0, 0, 0, 0, 0, 0, 0, 0, 0, 0, 0, 0, 0, 0, 0, 0, 0, 0, 0, 0, 0, 0, 0, 0, 0, 0, 0, 0, 0, 0, 0, 0, 0, 0, 0, 0, 0, 0, 0, 0, 0, 0, 0, 0, 0, 0, 0, 0, 0, 0, 0, 0, 0, 0, 0, 0, 0, 0, 0, 0, 0, 0, 0, 0, 0, 0, 0, 0, 0, 0, 0, 0, 0, 0, 0, 0, 0, 0, 0, 0, 0, 0, 0, 0, 0, 0, 0, 0, 0, 0, 0, 0, 0, 0, 0, 0, 0, 0, 0, 0, 0, 0, 0, 0, 0, 0, 0, 0, 0, 0, 0, 0, 0, 0, 0, 0, 0, 0, 0, 0, 0, 0, 0, 0, 0, 0, 0, 0, 0, 0, 0, 0, 0, 0, 0, 0, 0, 0, 0, 0, 0, 0, 0, 0, 0, 0, 0, 0, 0, 0, 0, 0, 0, 0, 0, 0, 0, 0, 0, 0, 0, 0, 0, 0, 0, 0, 0, 0, 0, 0, 0, 0, 0, 0, 0, 0, 0, 0, 0, 0, 0, 0, 0, 0, 0, 0, 0, 0, 0, 0, 0, 0, 0, 0, 0, 0, 0, 0, 0, 0, 0, 0, 0, 0, 0, 0, 0, 0, 0, 0, 0, 0, 0, 0, 0, 0, 0, 0, 0, 0, 0, 0, 0, 0, 0, 0, 0, 0, 0, 0, 0, 0, 0, 0, 0, 0, 0, 0, 0, 0, 0, 0, 0, 0, 0, 0, 0, 0, 0, 0, 0, 0, 0, 0, 0, 0, 0, 0, 0, 0, 0, 0, 0, 0, 0, 0, 0, 0, 0, 0, 0, 0, 0, 0, 0, 0, 0, 0, 0, 0, 0, 0, 0, 0, 0, 0, 0, 0, 0, 0, 0, 0, 0, 0, 0, 0, 0, 0, 0, 0, 0, 0, 0, 0, 0, 0, 0, 0, 0, 0, 0, 0, 0, 0, 0, 0, 0, 0, 0, 0, 0, 0, 0, 0, 0, 0, 0, 0, 0, 0, 0, 0, 0, 0, 0, 0, 0, 0, 0, 0, 0, 0, 0, 0, 0, 0, 0, 0, 0, 0, 0, 0, 0, 0, 0, 0, 0, 0, 0, 0, 0, 0, 0, 0, 0, 0, 0, 0, 0, 0, 0, 0, 0, 0, 0, 0, 0, 0, 0, 0, 0, 0, 0, 0, 0, 0, 0, 0, 0, 0, 0, 0, 0, 0, 0, 0, 0, 0, 0, 0, 0, 0, 0, 0, 0, 0, 0, 0, 0, 0, 0, 0, 0, 0, 0, 0, 0, 0, 0, 0, 0, 0, 0, 0, 0, 0, 0, 0, 0, 0, 0, 0, 0, 0, 0, 0]\n",
            "[0, 0, 0, 0, 0, 0, 0, 0, 0, 0, 0, 0, 0, 0, 0, 0, 0, 0, 0, 0, 0, 0, 0, 0, 0, 0, 0, 0, 0, 0, 0, 0, 0, 0, 0, 0, 0, 0, 0, 0, 0, 0, 0, 0, 0, 0, 0, 0, 0, 0, 0, 0, 0, 0, 0, 0, 0, 0, 0, 0, 0, 0, 0, 0, 0, 0, 0, 0, 0, 0, 0, 0, 0, 0, 0, 0, 0, 0, 0, 0, 0, 0, 0, 0, 0, 0, 0, 0, 0, 0, 0, 0, 0, 0, 0, 0, 0, 0, 0, 0, 0, 0, 0, 0, 0, 0, 0, 0, 0, 0, 0, 0, 0, 0, 0, 0, 0, 0, 0, 0, 0, 0, 0, 0, 0, 0, 0, 0, 0, 0, 0, 0, 0, 0, 0, 0, 0, 0, 0, 0, 0, 0, 0, 0, 0, 0, 0, 0, 0, 0, 0, 0, 0, 0, 0, 0, 0, 0, 0, 0, 0, 0, 0, 0, 0, 0, 0, 0, 0, 0, 0, 0, 0, 0, 0, 0, 0, 0, 0, 0, 0, 0, 0, 0, 0, 0, 0, 0, 0, 0, 0, 0, 0, 0, 0, 0, 0, 0, 0, 0, 0, 0, 0, 0, 0, 0, 0, 0, 0, 0, 0, 0, 0, 0, 0, 0, 0, 0, 0, 0, 0, 0, 0, 0, 0, 0, 0, 0, 0, 0, 0, 0, 0, 0, 0, 0, 0, 0, 0, 0, 0, 0, 0, 0, 0, 0, 0, 0, 0, 0, 0, 0, 0, 0, 0, 0, 0, 0, 0, 0, 0, 0, 0, 0, 0, 0, 0, 0, 0, 0, 0, 0, 0, 0, 0, 0, 0, 0, 0, 0, 0, 0, 0, 0, 0, 0, 0, 0, 0, 0, 0, 0, 0, 0, 0, 0, 0, 0, 0, 0, 0, 0, 0, 0, 0, 0, 0, 0, 0, 0, 0, 0, 0, 0, 0, 0, 0, 0, 0, 0, 0, 0, 0, 0, 0, 0, 0, 0, 0, 0, 0, 0, 0, 0, 0, 0, 0, 0, 0, 0, 0, 0, 0, 0, 0, 0, 0, 0, 0, 0, 0, 0, 0, 0, 0, 0, 0, 0, 0, 0, 0, 0, 0, 0, 0, 0, 0, 0, 0, 0, 0, 0, 0, 0, 0, 0, 0, 0, 0, 0, 0, 0, 0, 0, 0, 0, 0, 0, 0, 0, 0, 0, 0, 0, 0, 0, 0, 0, 0, 0, 0, 0, 0, 0, 0, 0, 0, 0, 0, 0, 0, 0, 0, 0, 0, 0, 0, 0, 0, 0, 0, 0, 0, 0, 0, 0, 0, 0, 0, 0, 0, 0, 0, 0, 0, 0, 0, 0, 0, 0, 0, 0, 0, 0, 0, 0, 0, 0, 0, 0, 0, 0, 0, 0, 0, 0, 0, 0, 0, 0, 0, 0, 0, 0, 0, 0, 0, 0, 0, 0, 0, 0, 0, 0, 0, 0, 0, 0, 0, 0, 0, 0, 0, 0, 0, 0, 0, 0, 0, 0, 0, 0, 0, 0, 0, 0, 0, 0, 0, 0, 0, 0, 0, 0, 0, 0, 0, 0, 0, 0, 0, 0, 0, 0, 0, 0, 0, 0, 0, 0, 0, 0, 0, 0, 0, 0, 0, 0, 0, 0, 0, 0, 0, 0, 0, 0, 0, 0, 0, 0, 0, 0, 0, 0, 0, 0, 0, 0, 0, 0, 0, 0, 0, 0, 0, 0, 0, 0, 0, 0, 0, 0, 0, 0, 0, 0, 0, 0, 0, 0, 0, 0, 0, 0, 0, 0, 0, 0, 0, 0, 0, 0, 0, 0, 0, 0, 0, 0, 0, 0, 0, 0, 0, 0, 0, 0, 0, 0, 0, 0, 0, 0, 0, 0, 0, 0, 0, 0, 0, 0, 0, 0, 0, 0, 0, 0, 0, 0, 0, 0, 0, 0, 0, 0, 0, 0, 0, 0, 0, 0, 0, 0, 0, 0, 0, 0, 0, 0, 0, 0, 0, 0, 0, 0, 0, 0, 0, 0, 0, 0, 0, 0, 0, 0, 0, 0, 0, 0, 0, 0, 0, 0, 0, 0, 0, 0, 0, 0, 0, 0, 0, 0, 0, 0, 0, 0, 0, 0, 0, 0, 0, 0, 0, 0, 0, 0, 0, 0, 0, 0, 0, 0, 0, 0, 0, 0, 0, 0, 0, 0, 0, 0, 0, 0, 0, 0, 0, 0, 0, 0, 0, 0, 0, 0, 0, 0, 0, 0, 0, 0, 0, 0, 0, 0, 0, 0, 0, 0, 0, 0, 0, 0, 0, 0, 0, 0, 0, 0, 0, 0, 0, 0, 0, 0, 0, 0, 0, 0, 0, 0, 0, 0, 0, 0, 0, 0, 0, 0, 0, 0, 0, 0, 0, 0, 0, 0, 0, 0, 0, 0, 0, 0, 0, 0, 0, 0, 0, 0, 0, 0, 0, 0, 0, 0, 0, 0, 0, 0, 0, 0, 0, 0, 0, 0, 0, 0, 0, 0, 0, 0, 0, 0, 0, 0, 0, 0, 0, 0, 0, 0, 0, 0, 0, 0, 0, 0, 0, 0, 0, 0, 0, 0, 0, 0, 0, 0, 0, 0, 0, 0, 0, 0, 0, 0, 0, 0, 0, 0, 0, 0, 0, 0, 0, 0, 0, 0, 0, 0, 0, 0, 0, 0, 0, 0, 0, 0, 0, 0, 0, 0, 0, 0, 0, 0, 0, 0, 0, 0, 0, 0, 0, 0, 0, 0, 0, 0, 0, 0, 0, 0, 0, 0, 0, 0, 0, 0, 0, 0, 0, 0, 0, 0, 0, 0, 0, 0, 0, 0, 0, 0, 0, 0, 0, 0, 0, 0, 0, 0, 0, 0, 0, 0, 0, 0, 0, 0, 0, 0, 0, 0, 0, 0, 0, 0, 0, 0, 0, 0, 0, 0, 0, 0, 0, 0, 0, 0, 0, 0, 0, 0, 0, 0, 0, 0, 0, 0, 0, 0, 0, 0, 0, 0, 0, 0, 0, 0, 0, 0, 0, 0, 0, 0, 0, 0, 0, 0, 0, 0, 0, 0, 0, 0, 0, 0, 0, 0, 0, 0, 0, 0, 0, 0, 0, 0, 0, 0, 0, 0, 0, 0, 0, 0, 0, 0, 0, 0, 0, 0, 0, 0]\n"
          ]
        }
      ]
    },
    {
      "cell_type": "code",
      "source": [
        "plt.boxplot(errs_randomk_90_counts_1)"
      ],
      "metadata": {
        "id": "HhGR7MXwIA7y",
        "colab": {
          "base_uri": "https://localhost:8080/",
          "height": 404
        },
        "outputId": "d789723c-79bb-4978-f525-c6686a46c9c7"
      },
      "execution_count": null,
      "outputs": [
        {
          "output_type": "execute_result",
          "data": {
            "text/plain": [
              "{'boxes': [<matplotlib.lines.Line2D at 0x7f659d1775d0>],\n",
              " 'caps': [<matplotlib.lines.Line2D at 0x7f659d17d690>,\n",
              "  <matplotlib.lines.Line2D at 0x7f659d17dbd0>],\n",
              " 'fliers': [<matplotlib.lines.Line2D at 0x7f659d1846d0>],\n",
              " 'means': [],\n",
              " 'medians': [<matplotlib.lines.Line2D at 0x7f659d184190>],\n",
              " 'whiskers': [<matplotlib.lines.Line2D at 0x7f659d177bd0>,\n",
              "  <matplotlib.lines.Line2D at 0x7f659d17d150>]}"
            ]
          },
          "metadata": {},
          "execution_count": 451
        },
        {
          "output_type": "display_data",
          "data": {
            "text/plain": [
              "<Figure size 432x288 with 1 Axes>"
            ],
            "image/png": "[encoded data removed]"
          },
          "metadata": {
            "needs_background": "light"
          }
        }
      ]
    },
    {
      "cell_type": "code",
      "source": [
        "plt.boxplot(fair_errs_randomk_90_counts_1)"
      ],
      "metadata": {
        "colab": {
          "base_uri": "https://localhost:8080/",
          "height": 404
        },
        "id": "PH3QceX0PKCu",
        "outputId": "58ecb4a8-9ba8-41ba-c51a-7b3685184635"
      },
      "execution_count": null,
      "outputs": [
        {
          "output_type": "execute_result",
          "data": {
            "text/plain": [
              "{'boxes': [<matplotlib.lines.Line2D at 0x7f659d0df9d0>],\n",
              " 'caps': [<matplotlib.lines.Line2D at 0x7f659d0e5a50>,\n",
              "  <matplotlib.lines.Line2D at 0x7f659d0e5f90>],\n",
              " 'fliers': [<matplotlib.lines.Line2D at 0x7f659d0eea90>],\n",
              " 'means': [],\n",
              " 'medians': [<matplotlib.lines.Line2D at 0x7f659d0ee550>],\n",
              " 'whiskers': [<matplotlib.lines.Line2D at 0x7f659d0dff90>,\n",
              "  <matplotlib.lines.Line2D at 0x7f659d0e5510>]}"
            ]
          },
          "metadata": {},
          "execution_count": 452
        },
        {
          "output_type": "display_data",
          "data": {
            "text/plain": [
              "<Figure size 432x288 with 1 Axes>"
            ],
            "image/png": "[encoded data removed]"
          },
          "metadata": {
            "needs_background": "light"
          }
        }
      ]
    },
    {
      "cell_type": "code",
      "source": [
        "#87th percentile\n",
        "errs_randomk_87_counts_1=[]\n",
        "fair_errs_randomk_87_counts_1=[]\n",
        "for i in range(1000):\n",
        "  k_counts_1=syr.spread_k_anonymise(counts_1,k=k_80)\n",
        "  errs_randomk_87_counts_1.append(sum(abs(np.array(k_counts_1)-counts_1)))\n",
        "  fair_errs_randomk_87_counts_1.append(max(abs(np.array(k_counts_1)-counts_1))-min(abs(np.array(k_counts_1)-counts_1)))"
      ],
      "metadata": {
        "id": "VcxXGaLB6ZvE"
      },
      "execution_count": null,
      "outputs": []
    },
    {
      "cell_type": "code",
      "source": [
        "plt.boxplot(errs_randomk_87_counts_1)"
      ],
      "metadata": {
        "colab": {
          "base_uri": "https://localhost:8080/",
          "height": 404
        },
        "id": "Z8TYrkDHPST7",
        "outputId": "f2a9c6c0-7de4-429c-b822-092f41d51c7e"
      },
      "execution_count": null,
      "outputs": [
        {
          "output_type": "execute_result",
          "data": {
            "text/plain": [
              "{'boxes': [<matplotlib.lines.Line2D at 0x7f659d0cd410>],\n",
              " 'caps': [<matplotlib.lines.Line2D at 0x7f659d0544d0>,\n",
              "  <matplotlib.lines.Line2D at 0x7f659d054a10>],\n",
              " 'fliers': [<matplotlib.lines.Line2D at 0x7f659d05c510>],\n",
              " 'means': [],\n",
              " 'medians': [<matplotlib.lines.Line2D at 0x7f659d054f90>],\n",
              " 'whiskers': [<matplotlib.lines.Line2D at 0x7f659d0cda10>,\n",
              "  <matplotlib.lines.Line2D at 0x7f659d0cdf50>]}"
            ]
          },
          "metadata": {},
          "execution_count": 454
        },
        {
          "output_type": "display_data",
          "data": {
            "text/plain": [
              "<Figure size 432x288 with 1 Axes>"
            ],
            "image/png": "[encoded data removed]"
          },
          "metadata": {
            "needs_background": "light"
          }
        }
      ]
    },
    {
      "cell_type": "code",
      "source": [
        "plt.boxplot(fair_errs_randomk_87_counts_1)"
      ],
      "metadata": {
        "colab": {
          "base_uri": "https://localhost:8080/",
          "height": 404
        },
        "id": "7hf2jbknPL0i",
        "outputId": "3f98642b-2c85-4063-cbdd-d0e69831eb19"
      },
      "execution_count": null,
      "outputs": [
        {
          "output_type": "execute_result",
          "data": {
            "text/plain": [
              "{'boxes': [<matplotlib.lines.Line2D at 0x7f659d03f990>],\n",
              " 'caps': [<matplotlib.lines.Line2D at 0x7f659d044a10>,\n",
              "  <matplotlib.lines.Line2D at 0x7f659d044f50>],\n",
              " 'fliers': [<matplotlib.lines.Line2D at 0x7f659d049a50>],\n",
              " 'means': [],\n",
              " 'medians': [<matplotlib.lines.Line2D at 0x7f659d049510>],\n",
              " 'whiskers': [<matplotlib.lines.Line2D at 0x7f659d03ff50>,\n",
              "  <matplotlib.lines.Line2D at 0x7f659d0444d0>]}"
            ]
          },
          "metadata": {},
          "execution_count": 455
        },
        {
          "output_type": "display_data",
          "data": {
            "text/plain": [
              "<Figure size 432x288 with 1 Axes>"
            ],
            "image/png": "[encoded data removed]"
          },
          "metadata": {
            "needs_background": "light"
          }
        }
      ]
    },
    {
      "cell_type": "code",
      "source": [
        "print(errs_randomk_87_counts_1)\n",
        "print(fair_errs_randomk_87_counts_1)"
      ],
      "metadata": {
        "id": "KdtdhTHs7DqO",
        "colab": {
          "base_uri": "https://localhost:8080/"
        },
        "outputId": "3fa6e1b0-9aaf-4950-a6cf-e6ef7a723198"
      },
      "execution_count": null,
      "outputs": [
        {
          "output_type": "stream",
          "name": "stdout",
          "text": [
            "[274, 444, 470, 420, 216, 583, 157, 126, 397, 194, 519, 1048, 565, 619, 214, 541, 147, 997, 572, 187, 1072, 193, 867, 632, 1288, 315, 203, 331, 328, 975, 480, 203, 469, 696, 491, 473, 247, 974, 459, 184, 1039, 518, 483, 329, 1296, 201, 954, 401, 574, 384, 667, 664, 637, 925, 294, 294, 117, 323, 685, 1054, 196, 175, 181, 508, 291, 953, 654, 177, 273, 842, 764, 1243, 1188, 354, 728, 448, 274, 876, 599, 485, 506, 397, 508, 241, 831, 286, 1167, 721, 139, 603, 884, 238, 883, 436, 542, 559, 1094, 696, 560, 693, 683, 360, 366, 903, 250, 419, 218, 407, 521, 820, 448, 585, 551, 571, 840, 419, 576, 850, 993, 479, 436, 586, 508, 232, 478, 1120, 325, 1209, 338, 302, 710, 267, 927, 289, 693, 407, 564, 298, 220, 259, 1091, 127, 167, 365, 1156, 1174, 201, 607, 600, 243, 1009, 459, 186, 452, 511, 217, 504, 594, 798, 813, 155, 826, 421, 637, 209, 226, 1052, 572, 387, 612, 747, 664, 217, 520, 538, 400, 507, 615, 367, 221, 183, 621, 269, 719, 309, 366, 159, 635, 258, 238, 819, 477, 562, 377, 353, 228, 756, 1256, 218, 410, 922, 426, 532, 537, 1048, 258, 1063, 293, 383, 242, 914, 353, 387, 216, 597, 945, 463, 845, 140, 280, 337, 515, 557, 482, 186, 207, 560, 371, 914, 514, 690, 575, 137, 609, 469, 1021, 281, 382, 410, 508, 270, 150, 406, 501, 460, 495, 457, 529, 692, 1094, 464, 207, 355, 495, 690, 138, 1157, 444, 473, 826, 501, 283, 492, 184, 205, 212, 462, 494, 470, 163, 457, 1025, 648, 184, 928, 819, 286, 272, 562, 1504, 716, 287, 491, 642, 1059, 394, 571, 622, 1450, 204, 471, 351, 330, 736, 558, 230, 387, 306, 197, 512, 446, 171, 421, 360, 426, 372, 369, 952, 968, 164, 462, 297, 610, 457, 322, 730, 273, 270, 774, 309, 226, 263, 234, 1353, 224, 674, 645, 652, 592, 510, 520, 672, 443, 529, 320, 1130, 366, 523, 217, 1473, 209, 674, 201, 642, 466, 219, 467, 953, 861, 305, 561, 866, 269, 283, 340, 278, 741, 497, 352, 675, 212, 416, 919, 644, 655, 432, 330, 121, 362, 303, 520, 340, 494, 349, 215, 825, 905, 252, 938, 191, 1027, 586, 186, 557, 322, 677, 513, 312, 336, 196, 213, 866, 558, 813, 988, 457, 739, 294, 385, 453, 190, 605, 230, 716, 256, 448, 319, 310, 358, 878, 1153, 173, 400, 214, 500, 582, 219, 387, 594, 280, 607, 824, 909, 189, 278, 694, 210, 432, 661, 844, 567, 627, 179, 988, 335, 259, 483, 993, 1181, 128, 368, 928, 414, 251, 447, 391, 516, 739, 323, 507, 259, 988, 519, 205, 1077, 230, 215, 176, 182, 1167, 1069, 296, 494, 203, 409, 975, 229, 398, 583, 230, 419, 1239, 215, 597, 139, 508, 305, 417, 294, 570, 223, 663, 594, 211, 400, 931, 1407, 237, 655, 610, 491, 694, 281, 1189, 886, 678, 526, 551, 270, 988, 658, 469, 175, 244, 273, 265, 592, 379, 305, 502, 211, 1008, 777, 169, 940, 791, 696, 689, 196, 304, 395, 567, 572, 177, 422, 613, 602, 506, 909, 714, 698, 286, 385, 343, 442, 922, 619, 201, 599, 372, 348, 185, 236, 731, 415, 839, 328, 619, 175, 270, 183, 368, 649, 409, 958, 530, 268, 988, 254, 1005, 218, 215, 643, 231, 409, 850, 417, 568, 265, 278, 1029, 372, 1114, 565, 141, 531, 694, 737, 202, 578, 607, 237, 232, 493, 1028, 529, 315, 651, 423, 307, 822, 373, 402, 385, 766, 233, 506, 505, 618, 416, 430, 250, 939, 375, 672, 668, 426, 307, 219, 249, 258, 484, 498, 215, 696, 417, 305, 454, 314, 864, 333, 606, 212, 304, 393, 759, 558, 515, 411, 523, 291, 481, 540, 278, 1153, 387, 440, 665, 636, 394, 226, 472, 231, 416, 447, 222, 509, 378, 886, 1163, 277, 199, 415, 740, 981, 802, 569, 259, 406, 764, 421, 1036, 404, 797, 1158, 629, 992, 359, 512, 726, 206, 671, 991, 665, 492, 468, 244, 362, 228, 442, 515, 619, 328, 625, 142, 524, 575, 488, 607, 358, 230, 263, 272, 228, 566, 499, 859, 272, 248, 825, 261, 999, 479, 159, 744, 522, 620, 749, 572, 522, 157, 661, 591, 536, 801, 550, 499, 663, 498, 495, 603, 257, 193, 589, 538, 200, 822, 156, 1009, 256, 407, 675, 563, 885, 619, 972, 401, 273, 535, 371, 460, 230, 229, 543, 289, 228, 567, 381, 573, 271, 679, 872, 460, 574, 554, 220, 761, 444, 433, 907, 510, 473, 578, 402, 667, 418, 354, 387, 533, 1023, 808, 358, 143, 469, 759, 569, 535, 243, 226, 379, 175, 1019, 366, 186, 596, 312, 230, 597, 191, 547, 233, 739, 273, 584, 137, 333, 654, 145, 827, 277, 623, 1082, 144, 480, 156, 657, 583, 405, 458, 673, 934, 513, 215, 479, 388, 173, 319, 206, 272, 294, 408, 438, 488, 511, 188, 370, 209, 256, 298, 180, 131, 678, 862, 1191, 233, 582, 598, 322, 549, 141, 306, 264, 152, 264, 535, 423, 381, 343, 219, 379, 228, 215, 798, 473, 350, 213, 696, 316, 319, 290, 585, 517, 232, 920, 408, 405, 537, 611, 384, 539, 329, 208, 486, 285, 579, 585, 540, 715, 146, 408, 268, 239, 728, 181, 697, 223, 269, 472, 309, 208, 263, 413, 250, 246, 229, 296, 1041, 490, 251, 224, 426, 1027, 229, 697, 357, 654, 292, 289, 1196, 558, 229, 171, 124, 286, 385, 1037, 242, 192, 366, 1014, 1098, 1075, 673, 704, 230, 422, 211, 394, 204, 531, 601, 262, 479, 189, 238, 149, 248, 988, 449, 904, 1085, 614, 813, 561, 605, 306, 660, 475, 225, 137, 715, 418, 988, 504, 470, 660, 723, 323, 601, 427, 168, 908, 473, 318, 348, 366, 432, 596, 522, 596, 197, 302, 505, 674, 402, 709, 643, 171, 169, 466, 1236, 308, 152, 343, 534, 263, 413, 488, 959, 734, 988, 162, 532, 625, 758, 533, 228, 272, 623, 552]\n",
            "[96, 148, 210, 158, 61, 188, 41, 23, 187, 53, 228, 519, 214, 297, 60, 210, 41, 501, 187, 35, 467, 66, 246, 216, 413, 89, 63, 89, 106, 410, 169, 48, 210, 297, 228, 228, 54, 278, 170, 53, 519, 240, 155, 106, 501, 63, 410, 155, 278, 175, 188, 297, 246, 467, 66, 96, 15, 132, 284, 519, 64, 57, 61, 240, 98, 456, 284, 63, 92, 410, 216, 519, 306, 98, 214, 170, 66, 256, 169, 188, 253, 158, 228, 64, 410, 106, 410, 284, 30, 278, 410, 56, 410, 175, 210, 189, 519, 278, 273, 188, 273, 132, 157, 456, 63, 188, 61, 103, 187, 410, 210, 246, 210, 256, 413, 170, 278, 410, 413, 164, 170, 246, 188, 48, 148, 501, 89, 519, 103, 98, 273, 64, 456, 89, 278, 155, 273, 103, 61, 53, 501, 21, 33, 164, 519, 519, 53, 297, 295, 89, 456, 210, 64, 188, 240, 75, 188, 214, 306, 214, 23, 410, 188, 295, 48, 63, 519, 240, 175, 228, 284, 240, 70, 240, 210, 157, 228, 306, 98, 61, 70, 283, 80, 306, 89, 103, 33, 246, 75, 78, 228, 210, 278, 170, 158, 89, 216, 467, 52, 157, 273, 189, 250, 189, 519, 106, 519, 96, 169, 103, 278, 89, 157, 54, 297, 283, 132, 413, 33, 106, 92, 170, 278, 158, 54, 48, 256, 103, 456, 169, 295, 283, 33, 273, 157, 501, 60, 164, 175, 240, 77, 33, 169, 214, 216, 169, 170, 188, 306, 278, 132, 61, 132, 228, 188, 23, 456, 210, 228, 410, 188, 63, 188, 63, 66, 81, 175, 228, 189, 53, 232, 467, 246, 58, 246, 410, 64, 98, 250, 501, 278, 106, 228, 306, 501, 89, 283, 297, 519, 53, 148, 132, 148, 188, 278, 48, 98, 87, 70, 175, 189, 58, 148, 78, 210, 164, 92, 456, 467, 48, 148, 92, 297, 188, 87, 188, 77, 78, 295, 70, 57, 116, 58, 501, 88, 189, 189, 297, 216, 210, 246, 240, 188, 169, 98, 501, 155, 228, 80, 467, 77, 188, 70, 240, 187, 54, 210, 297, 256, 89, 278, 413, 103, 75, 103, 103, 374, 189, 155, 188, 52, 158, 410, 306, 306, 189, 132, 18, 148, 98, 240, 88, 250, 92, 60, 413, 456, 57, 413, 41, 519, 284, 56, 273, 132, 256, 246, 96, 148, 48, 63, 250, 187, 214, 501, 170, 283, 98, 103, 188, 53, 284, 61, 297, 77, 157, 87, 89, 77, 284, 410, 50, 188, 50, 228, 246, 57, 103, 240, 103, 256, 413, 456, 58, 66, 273, 77, 157, 214, 413, 188, 306, 53, 501, 155, 87, 188, 467, 467, 17, 157, 456, 189, 56, 175, 89, 155, 306, 92, 246, 75, 501, 246, 54, 306, 52, 50, 48, 53, 519, 519, 81, 240, 54, 164, 410, 88, 188, 278, 60, 187, 410, 57, 240, 28, 188, 81, 188, 89, 250, 53, 188, 246, 48, 132, 410, 519, 57, 297, 295, 169, 188, 70, 456, 283, 189, 256, 273, 75, 501, 170, 148, 29, 58, 75, 106, 278, 164, 87, 187, 91, 501, 240, 48, 284, 216, 295, 188, 54, 132, 189, 273, 278, 48, 175, 158, 246, 246, 456, 295, 278, 88, 175, 132, 188, 467, 306, 36, 297, 98, 105, 54, 88, 273, 106, 410, 89, 250, 61, 75, 50, 170, 295, 188, 278, 216, 70, 501, 81, 467, 63, 63, 297, 87, 187, 413, 164, 278, 88, 84, 410, 96, 519, 278, 33, 188, 306, 273, 52, 189, 188, 92, 81, 210, 456, 256, 78, 278, 175, 92, 413, 158, 189, 155, 295, 78, 189, 214, 216, 188, 188, 48, 410, 88, 175, 188, 188, 77, 75, 89, 87, 164, 228, 64, 297, 188, 75, 188, 63, 413, 92, 297, 75, 92, 175, 246, 256, 189, 188, 250, 64, 228, 210, 75, 519, 175, 175, 278, 273, 157, 70, 214, 70, 158, 210, 70, 246, 170, 413, 456, 77, 56, 189, 297, 413, 306, 278, 66, 175, 228, 187, 501, 188, 216, 501, 169, 501, 96, 250, 306, 61, 273, 410, 284, 155, 214, 60, 106, 63, 189, 214, 284, 75, 188, 33, 175, 283, 189, 175, 158, 63, 88, 96, 77, 273, 240, 278, 89, 89, 410, 60, 501, 228, 33, 188, 246, 306, 273, 283, 228, 28, 278, 284, 188, 256, 170, 216, 283, 210, 240, 155, 57, 54, 250, 246, 75, 246, 33, 467, 63, 187, 284, 250, 284, 297, 250, 175, 66, 246, 66, 157, 48, 89, 188, 64, 70, 278, 170, 188, 75, 175, 278, 188, 228, 256, 85, 295, 188, 188, 456, 164, 189, 283, 188, 306, 188, 170, 175, 188, 456, 283, 98, 35, 158, 295, 283, 216, 78, 78, 158, 64, 456, 164, 48, 273, 80, 77, 256, 48, 210, 87, 295, 66, 284, 18, 148, 246, 21, 413, 66, 295, 467, 23, 210, 33, 297, 283, 187, 157, 341, 456, 250, 88, 216, 157, 33, 77, 64, 81, 75, 188, 175, 148, 175, 41, 169, 80, 92, 81, 61, 23, 240, 413, 519, 61, 273, 228, 106, 187, 21, 103, 96, 33, 78, 214, 158, 164, 89, 80, 158, 89, 75, 273, 228, 78, 70, 188, 89, 103, 52, 246, 188, 57, 456, 187, 188, 175, 295, 175, 256, 148, 64, 228, 80, 246, 278, 175, 297, 28, 188, 81, 89, 297, 57, 188, 63, 61, 175, 66, 66, 70, 214, 87, 81, 50, 89, 501, 214, 63, 80, 188, 519, 53, 246, 106, 164, 64, 147, 413, 189, 52, 36, 21, 132, 175, 467, 96, 50, 169, 467, 501, 467, 188, 297, 75, 157, 66, 169, 48, 169, 278, 92, 132, 66, 64, 23, 60, 501, 214, 456, 519, 278, 410, 278, 295, 132, 278, 157, 89, 20, 273, 187, 467, 155, 216, 283, 188, 106, 295, 188, 35, 456, 175, 89, 155, 170, 188, 295, 250, 297, 61, 132, 214, 278, 170, 297, 306, 53, 54, 188, 467, 103, 33, 89, 250, 106, 189, 189, 467, 188, 501, 48, 250, 216, 297, 256, 66, 89, 228, 273]\n"
          ]
        }
      ]
    },
    {
      "cell_type": "markdown",
      "source": [
        "#Marginal Query 2\n",
        "Try Poverty Buckets"
      ],
      "metadata": {
        "id": "IV-Qp8Uz0oRe"
      }
    },
    {
      "cell_type": "markdown",
      "source": [
        "#Decision Trees on Different PUMAS"
      ],
      "metadata": {
        "id": "ceRD88hVv-s-"
      }
    },
    {
      "cell_type": "code",
      "source": [
        "df['PUMA'].unique()"
      ],
      "metadata": {
        "colab": {
          "base_uri": "https://localhost:8080/"
        },
        "id": "5tZcPgHoxYoU",
        "outputId": "eaebfc74-6cc4-4ddc-b2ca-05f6e5dfc5a4"
      },
      "execution_count": null,
      "outputs": [
        {
          "output_type": "execute_result",
          "data": {
            "text/plain": [
              "array(['1-1301', '6-8507', '6-7502', '8-803', '13-4600', '17-3529',\n",
              "       '17-3531', '19-1700', '24-1004', '26-2702', '28-1100', '29-1901',\n",
              "       '30-600', '32-405', '36-4010', '36-3710', '38-100', '40-200',\n",
              "       '51-51255', '51-1301'], dtype=object)"
            ]
          },
          "metadata": {},
          "execution_count": 457
        }
      ]
    },
    {
      "cell_type": "markdown",
      "source": [
        "## PUMA 1"
      ],
      "metadata": {
        "id": "otVarMfwxM-m"
      }
    },
    {
      "cell_type": "code",
      "source": [
        "df[df['PUMA']=='29-1901']['INCTOT'].value_counts()"
      ],
      "metadata": {
        "colab": {
          "base_uri": "https://localhost:8080/"
        },
        "id": "yh-e8af6Xvzu",
        "outputId": "538e1e7d-01af-4d42-9f3c-d58c6b5a6b61"
      },
      "execution_count": null,
      "outputs": [
        {
          "output_type": "execute_result",
          "data": {
            "text/plain": [
              "0          128\n",
              "9999999    104\n",
              "12000       22\n",
              "50000       14\n",
              "35000       13\n",
              "          ... \n",
              "291500       1\n",
              "267000       1\n",
              "16400        1\n",
              "44100        1\n",
              "11960        1\n",
              "Name: INCTOT, Length: 355, dtype: int64"
            ]
          },
          "metadata": {},
          "execution_count": 458
        }
      ]
    },
    {
      "cell_type": "code",
      "source": [
        "puma='38-100'\n",
        "puma_1_df=df[df['PUMA']==puma]"
      ],
      "metadata": {
        "id": "2BnLOCz0xO9e"
      },
      "execution_count": null,
      "outputs": []
    },
    {
      "cell_type": "code",
      "source": [
        "puma_1_df"
      ],
      "metadata": {
        "colab": {
          "base_uri": "https://localhost:8080/",
          "height": 424
        },
        "id": "OFp2JrQNxwbx",
        "outputId": "966f5f9b-1f88-45c3-9b13-c9ec968274c1"
      },
      "execution_count": null,
      "outputs": [
        {
          "output_type": "execute_result",
          "data": {
            "text/plain": [
              "       Unnamed: 0    PUMA  GQ  OWNERSHP  FAMSIZE  NCHILD  AGE  SEX  MARST  \\\n",
              "20866     2205687  38-100   4         0        1       0   18    2      6   \n",
              "20867     2205688  38-100   3         0        1       0   34    1      6   \n",
              "20868     2205691  38-100   3         0        1       0   90    2      5   \n",
              "20869     2205693  38-100   3         0        1       0   22    1      6   \n",
              "20870     2205696  38-100   3         0        1       0   84    2      5   \n",
              "...           ...     ...  ..       ...      ...     ...  ...  ...    ...   \n",
              "23159     2213635  38-100   1         2        6       0    1    1      6   \n",
              "23160     2213636  38-100   1         1        2       0   66    1      1   \n",
              "23161     2213637  38-100   1         1        2       0   65    2      1   \n",
              "23162     2213640  38-100   1         1        2       0   55    1      1   \n",
              "23163     2213641  38-100   1         1        2       0   53    2      1   \n",
              "\n",
              "       RACE  ...  INCTOT_DECILE  POVERTY DENSITY  VETDISAB  DIFFREM  DIFFPHYS  \\\n",
              "20866     2  ...              3        0    73.0         0        1         1   \n",
              "20867     1  ...              0        0    73.0         0        2         1   \n",
              "20868     1  ...              5        0    73.0         0        2         2   \n",
              "20869     3  ...              1        0    73.0         0        1         1   \n",
              "20870     1  ...              1        0    73.0         0        2         2   \n",
              "...     ...  ...            ...      ...     ...       ...      ...       ...   \n",
              "23159     1  ...              9      384    73.0         0        0         0   \n",
              "23160     1  ...              8      501    73.0         0        1         1   \n",
              "23161     1  ...              1      501    73.0         0        1         1   \n",
              "23162     1  ...              7      501    73.0         0        1         1   \n",
              "23163     1  ...              2      501    73.0         0        1         1   \n",
              "\n",
              "       DIFFEYE  DIFFHEAR   HHWT  PERWT  \n",
              "20866        1         1   54.0   54.0  \n",
              "20867        1         1   98.0   98.0  \n",
              "20868        2         2  161.0  161.0  \n",
              "20869        1         1   31.0   31.0  \n",
              "20870        1         1   46.0   46.0  \n",
              "...        ...       ...    ...    ...  \n",
              "23159        1         1  136.0  115.0  \n",
              "23160        1         1   32.0   33.0  \n",
              "23161        1         1   32.0   64.0  \n",
              "23162        1         1   11.0   10.0  \n",
              "23163        1         1   11.0   22.0  \n",
              "\n",
              "[2298 rows x 25 columns]"
            ],
            "text/html": [
              "\n",
              "  <div id=\"df-60e3cbd8-1a12-40a9-8840-33cf606e149a\">\n",
              "    <div class=\"colab-df-container\">\n",
              "      <div>\n",
              "<style scoped>\n",
              "    .dataframe tbody tr th:only-of-type {\n",
              "        vertical-align: middle;\n",
              "    }\n",
              "\n",
              "    .dataframe tbody tr th {\n",
              "        vertical-align: top;\n",
              "    }\n",
              "\n",
              "    .dataframe thead th {\n",
              "        text-align: right;\n",
              "    }\n",
              "</style>\n",
              "<table border=\"1\" class=\"dataframe\">\n",
              "  <thead>\n",
              "    <tr style=\"text-align: right;\">\n",
              "      <th></th>\n",
              "      <th>Unnamed: 0</th>\n",
              "      <th>PUMA</th>\n",
              "      <th>GQ</th>\n",
              "      <th>OWNERSHP</th>\n",
              "      <th>FAMSIZE</th>\n",
              "      <th>NCHILD</th>\n",
              "      <th>AGE</th>\n",
              "      <th>SEX</th>\n",
              "      <th>MARST</th>\n",
              "      <th>RACE</th>\n",
              "      <th>...</th>\n",
              "      <th>INCTOT_DECILE</th>\n",
              "      <th>POVERTY</th>\n",
              "      <th>DENSITY</th>\n",
              "      <th>VETDISAB</th>\n",
              "      <th>DIFFREM</th>\n",
              "      <th>DIFFPHYS</th>\n",
              "      <th>DIFFEYE</th>\n",
              "      <th>DIFFHEAR</th>\n",
              "      <th>HHWT</th>\n",
              "      <th>PERWT</th>\n",
              "    </tr>\n",
              "  </thead>\n",
              "  <tbody>\n",
              "    <tr>\n",
              "      <th>20866</th>\n",
              "      <td>2205687</td>\n",
              "      <td>38-100</td>\n",
              "      <td>4</td>\n",
              "      <td>0</td>\n",
              "      <td>1</td>\n",
              "      <td>0</td>\n",
              "      <td>18</td>\n",
              "      <td>2</td>\n",
              "      <td>6</td>\n",
              "      <td>2</td>\n",
              "      <td>...</td>\n",
              "      <td>3</td>\n",
              "      <td>0</td>\n",
              "      <td>73.0</td>\n",
              "      <td>0</td>\n",
              "      <td>1</td>\n",
              "      <td>1</td>\n",
              "      <td>1</td>\n",
              "      <td>1</td>\n",
              "      <td>54.0</td>\n",
              "      <td>54.0</td>\n",
              "    </tr>\n",
              "    <tr>\n",
              "      <th>20867</th>\n",
              "      <td>2205688</td>\n",
              "      <td>38-100</td>\n",
              "      <td>3</td>\n",
              "      <td>0</td>\n",
              "      <td>1</td>\n",
              "      <td>0</td>\n",
              "      <td>34</td>\n",
              "      <td>1</td>\n",
              "      <td>6</td>\n",
              "      <td>1</td>\n",
              "      <td>...</td>\n",
              "      <td>0</td>\n",
              "      <td>0</td>\n",
              "      <td>73.0</td>\n",
              "      <td>0</td>\n",
              "      <td>2</td>\n",
              "      <td>1</td>\n",
              "      <td>1</td>\n",
              "      <td>1</td>\n",
              "      <td>98.0</td>\n",
              "      <td>98.0</td>\n",
              "    </tr>\n",
              "    <tr>\n",
              "      <th>20868</th>\n",
              "      <td>2205691</td>\n",
              "      <td>38-100</td>\n",
              "      <td>3</td>\n",
              "      <td>0</td>\n",
              "      <td>1</td>\n",
              "      <td>0</td>\n",
              "      <td>90</td>\n",
              "      <td>2</td>\n",
              "      <td>5</td>\n",
              "      <td>1</td>\n",
              "      <td>...</td>\n",
              "      <td>5</td>\n",
              "      <td>0</td>\n",
              "      <td>73.0</td>\n",
              "      <td>0</td>\n",
              "      <td>2</td>\n",
              "      <td>2</td>\n",
              "      <td>2</td>\n",
              "      <td>2</td>\n",
              "      <td>161.0</td>\n",
              "      <td>161.0</td>\n",
              "    </tr>\n",
              "    <tr>\n",
              "      <th>20869</th>\n",
              "      <td>2205693</td>\n",
              "      <td>38-100</td>\n",
              "      <td>3</td>\n",
              "      <td>0</td>\n",
              "      <td>1</td>\n",
              "      <td>0</td>\n",
              "      <td>22</td>\n",
              "      <td>1</td>\n",
              "      <td>6</td>\n",
              "      <td>3</td>\n",
              "      <td>...</td>\n",
              "      <td>1</td>\n",
              "      <td>0</td>\n",
              "      <td>73.0</td>\n",
              "      <td>0</td>\n",
              "      <td>1</td>\n",
              "      <td>1</td>\n",
              "      <td>1</td>\n",
              "      <td>1</td>\n",
              "      <td>31.0</td>\n",
              "      <td>31.0</td>\n",
              "    </tr>\n",
              "    <tr>\n",
              "      <th>20870</th>\n",
              "      <td>2205696</td>\n",
              "      <td>38-100</td>\n",
              "      <td>3</td>\n",
              "      <td>0</td>\n",
              "      <td>1</td>\n",
              "      <td>0</td>\n",
              "      <td>84</td>\n",
              "      <td>2</td>\n",
              "      <td>5</td>\n",
              "      <td>1</td>\n",
              "      <td>...</td>\n",
              "      <td>1</td>\n",
              "      <td>0</td>\n",
              "      <td>73.0</td>\n",
              "      <td>0</td>\n",
              "      <td>2</td>\n",
              "      <td>2</td>\n",
              "      <td>1</td>\n",
              "      <td>1</td>\n",
              "      <td>46.0</td>\n",
              "      <td>46.0</td>\n",
              "    </tr>\n",
              "    <tr>\n",
              "      <th>...</th>\n",
              "      <td>...</td>\n",
              "      <td>...</td>\n",
              "      <td>...</td>\n",
              "      <td>...</td>\n",
              "      <td>...</td>\n",
              "      <td>...</td>\n",
              "      <td>...</td>\n",
              "      <td>...</td>\n",
              "      <td>...</td>\n",
              "      <td>...</td>\n",
              "      <td>...</td>\n",
              "      <td>...</td>\n",
              "      <td>...</td>\n",
              "      <td>...</td>\n",
              "      <td>...</td>\n",
              "      <td>...</td>\n",
              "      <td>...</td>\n",
              "      <td>...</td>\n",
              "      <td>...</td>\n",
              "      <td>...</td>\n",
              "      <td>...</td>\n",
              "    </tr>\n",
              "    <tr>\n",
              "      <th>23159</th>\n",
              "      <td>2213635</td>\n",
              "      <td>38-100</td>\n",
              "      <td>1</td>\n",
              "      <td>2</td>\n",
              "      <td>6</td>\n",
              "      <td>0</td>\n",
              "      <td>1</td>\n",
              "      <td>1</td>\n",
              "      <td>6</td>\n",
              "      <td>1</td>\n",
              "      <td>...</td>\n",
              "      <td>9</td>\n",
              "      <td>384</td>\n",
              "      <td>73.0</td>\n",
              "      <td>0</td>\n",
              "      <td>0</td>\n",
              "      <td>0</td>\n",
              "      <td>1</td>\n",
              "      <td>1</td>\n",
              "      <td>136.0</td>\n",
              "      <td>115.0</td>\n",
              "    </tr>\n",
              "    <tr>\n",
              "      <th>23160</th>\n",
              "      <td>2213636</td>\n",
              "      <td>38-100</td>\n",
              "      <td>1</td>\n",
              "      <td>1</td>\n",
              "      <td>2</td>\n",
              "      <td>0</td>\n",
              "      <td>66</td>\n",
              "      <td>1</td>\n",
              "      <td>1</td>\n",
              "      <td>1</td>\n",
              "      <td>...</td>\n",
              "      <td>8</td>\n",
              "      <td>501</td>\n",
              "      <td>73.0</td>\n",
              "      <td>0</td>\n",
              "      <td>1</td>\n",
              "      <td>1</td>\n",
              "      <td>1</td>\n",
              "      <td>1</td>\n",
              "      <td>32.0</td>\n",
              "      <td>33.0</td>\n",
              "    </tr>\n",
              "    <tr>\n",
              "      <th>23161</th>\n",
              "      <td>2213637</td>\n",
              "      <td>38-100</td>\n",
              "      <td>1</td>\n",
              "      <td>1</td>\n",
              "      <td>2</td>\n",
              "      <td>0</td>\n",
              "      <td>65</td>\n",
              "      <td>2</td>\n",
              "      <td>1</td>\n",
              "      <td>1</td>\n",
              "      <td>...</td>\n",
              "      <td>1</td>\n",
              "      <td>501</td>\n",
              "      <td>73.0</td>\n",
              "      <td>0</td>\n",
              "      <td>1</td>\n",
              "      <td>1</td>\n",
              "      <td>1</td>\n",
              "      <td>1</td>\n",
              "      <td>32.0</td>\n",
              "      <td>64.0</td>\n",
              "    </tr>\n",
              "    <tr>\n",
              "      <th>23162</th>\n",
              "      <td>2213640</td>\n",
              "      <td>38-100</td>\n",
              "      <td>1</td>\n",
              "      <td>1</td>\n",
              "      <td>2</td>\n",
              "      <td>0</td>\n",
              "      <td>55</td>\n",
              "      <td>1</td>\n",
              "      <td>1</td>\n",
              "      <td>1</td>\n",
              "      <td>...</td>\n",
              "      <td>7</td>\n",
              "      <td>501</td>\n",
              "      <td>73.0</td>\n",
              "      <td>0</td>\n",
              "      <td>1</td>\n",
              "      <td>1</td>\n",
              "      <td>1</td>\n",
              "      <td>1</td>\n",
              "      <td>11.0</td>\n",
              "      <td>10.0</td>\n",
              "    </tr>\n",
              "    <tr>\n",
              "      <th>23163</th>\n",
              "      <td>2213641</td>\n",
              "      <td>38-100</td>\n",
              "      <td>1</td>\n",
              "      <td>1</td>\n",
              "      <td>2</td>\n",
              "      <td>0</td>\n",
              "      <td>53</td>\n",
              "      <td>2</td>\n",
              "      <td>1</td>\n",
              "      <td>1</td>\n",
              "      <td>...</td>\n",
              "      <td>2</td>\n",
              "      <td>501</td>\n",
              "      <td>73.0</td>\n",
              "      <td>0</td>\n",
              "      <td>1</td>\n",
              "      <td>1</td>\n",
              "      <td>1</td>\n",
              "      <td>1</td>\n",
              "      <td>11.0</td>\n",
              "      <td>22.0</td>\n",
              "    </tr>\n",
              "  </tbody>\n",
              "</table>\n",
              "<p>2298 rows × 25 columns</p>\n",
              "</div>\n",
              "      <button class=\"colab-df-convert\" onclick=\"convertToInteractive('df-60e3cbd8-1a12-40a9-8840-33cf606e149a')\"\n",
              "              title=\"Convert this dataframe to an interactive table.\"\n",
              "              style=\"display:none;\">\n",
              "        \n",
              "  <svg xmlns=\"http://www.w3.org/2000/svg\" height=\"24px\"viewBox=\"0 0 24 24\"\n",
              "       width=\"24px\">\n",
              "    <path d=\"M0 0h24v24H0V0z\" fill=\"none\"/>\n",
              "    <path d=\"M18.56 5.44l.94 2.06.94-2.06 2.06-.94-2.06-.94-.94-2.06-.94 2.06-2.06.94zm-11 1L8.5 8.5l.94-2.06 2.06-.94-2.06-.94L8.5 2.5l-.94 2.06-2.06.94zm10 10l.94 2.06.94-2.06 2.06-.94-2.06-.94-.94-2.06-.94 2.06-2.06.94z\"/><path d=\"M17.41 7.96l-1.37-1.37c-.4-.4-.92-.59-1.43-.59-.52 0-1.04.2-1.43.59L10.3 9.45l-7.72 7.72c-.78.78-.78 2.05 0 2.83L4 21.41c.39.39.9.59 1.41.59.51 0 1.02-.2 1.41-.59l7.78-7.78 2.81-2.81c.8-.78.8-2.07 0-2.86zM5.41 20L4 18.59l7.72-7.72 1.47 1.35L5.41 20z\"/>\n",
              "  </svg>\n",
              "      </button>\n",
              "      \n",
              "  <style>\n",
              "    .colab-df-container {\n",
              "      display:flex;\n",
              "      flex-wrap:wrap;\n",
              "      gap: 12px;\n",
              "    }\n",
              "\n",
              "    .colab-df-convert {\n",
              "      background-color: #E8F0FE;\n",
              "      border: none;\n",
              "      border-radius: 50%;\n",
              "      cursor: pointer;\n",
              "      display: none;\n",
              "      fill: #1967D2;\n",
              "      height: 32px;\n",
              "      padding: 0 0 0 0;\n",
              "      width: 32px;\n",
              "    }\n",
              "\n",
              "    .colab-df-convert:hover {\n",
              "      background-color: #E2EBFA;\n",
              "      box-shadow: 0px 1px 2px rgba(60, 64, 67, 0.3), 0px 1px 3px 1px rgba(60, 64, 67, 0.15);\n",
              "      fill: #174EA6;\n",
              "    }\n",
              "\n",
              "    [theme=dark] .colab-df-convert {\n",
              "      background-color: #3B4455;\n",
              "      fill: #D2E3FC;\n",
              "    }\n",
              "\n",
              "    [theme=dark] .colab-df-convert:hover {\n",
              "      background-color: #434B5C;\n",
              "      box-shadow: 0px 1px 3px 1px rgba(0, 0, 0, 0.15);\n",
              "      filter: drop-shadow(0px 1px 2px rgba(0, 0, 0, 0.3));\n",
              "      fill: #FFFFFF;\n",
              "    }\n",
              "  </style>\n",
              "\n",
              "      <script>\n",
              "        const buttonEl =\n",
              "          document.querySelector('#df-60e3cbd8-1a12-40a9-8840-33cf606e149a button.colab-df-convert');\n",
              "        buttonEl.style.display =\n",
              "          google.colab.kernel.accessAllowed ? 'block' : 'none';\n",
              "\n",
              "        async function convertToInteractive(key) {\n",
              "          const element = document.querySelector('#df-60e3cbd8-1a12-40a9-8840-33cf606e149a');\n",
              "          const dataTable =\n",
              "            await google.colab.kernel.invokeFunction('convertToInteractive',\n",
              "                                                     [key], {});\n",
              "          if (!dataTable) return;\n",
              "\n",
              "          const docLinkHtml = 'Like what you see? Visit the ' +\n",
              "            '<a target=\"_blank\" href=https://colab.research.google.com/notebooks/data_table.ipynb>data table notebook</a>'\n",
              "            + ' to learn more about interactive tables.';\n",
              "          element.innerHTML = '';\n",
              "          dataTable['output_type'] = 'display_data';\n",
              "          await google.colab.output.renderOutput(dataTable, element);\n",
              "          const docLink = document.createElement('div');\n",
              "          docLink.innerHTML = docLinkHtml;\n",
              "          element.appendChild(docLink);\n",
              "        }\n",
              "      </script>\n",
              "    </div>\n",
              "  </div>\n",
              "  "
            ]
          },
          "metadata": {},
          "execution_count": 483
        }
      ]
    },
    {
      "cell_type": "code",
      "source": [
        "'''\n",
        "feature_cols=df.columns.tolist()\n",
        "feature_cols.remove('INCTOT')\n",
        "feature_cols.remove('PUMA')\n",
        "feature_cols.remove('INCTOT_DECILE')\n",
        "feature_cols.remove('INDNAICS')\n",
        "feature_cols.remove('Unnamed: 0')\n",
        "X=puma_1_df[feature_cols]\n",
        "y=puma_1_df['INCTOT']\n",
        "print(feature_cols)\n",
        "'''"
      ],
      "metadata": {
        "colab": {
          "base_uri": "https://localhost:8080/",
          "height": 53
        },
        "id": "Kf9aPqFNx3hG",
        "outputId": "3470a614-75b5-4b45-a440-14e632d42dcf"
      },
      "execution_count": null,
      "outputs": [
        {
          "output_type": "execute_result",
          "data": {
            "text/plain": [
              "\"\\nfeature_cols=df.columns.tolist()\\nfeature_cols.remove('INCTOT')\\nfeature_cols.remove('PUMA')\\nfeature_cols.remove('INCTOT_DECILE')\\nfeature_cols.remove('INDNAICS')\\nfeature_cols.remove('Unnamed: 0')\\nX=puma_1_df[feature_cols]\\ny=puma_1_df['INCTOT']\\nprint(feature_cols)\\n\""
            ],
            "application/vnd.google.colaboratory.intrinsic+json": {
              "type": "string"
            }
          },
          "metadata": {},
          "execution_count": 484
        }
      ]
    },
    {
      "cell_type": "code",
      "source": [
        "#feature_cols=['OWNERSHP','FAMSIZE','NCHILD','AGE','SEX','RACE','EDUC','SECTOR']\n",
        "feature_cols=['AGE','FAMSIZE','SEX','RACE','EDUC']\n",
        "X=puma_1_df[feature_cols]\n",
        "y=puma_1_df['INCTOT']\n",
        "print(feature_cols)"
      ],
      "metadata": {
        "colab": {
          "base_uri": "https://localhost:8080/"
        },
        "id": "PGlsEtLfIYQc",
        "outputId": "daeb3473-4526-42cb-bb35-3cc7a9b84f6b"
      },
      "execution_count": null,
      "outputs": [
        {
          "output_type": "stream",
          "name": "stdout",
          "text": [
            "['AGE', 'FAMSIZE', 'SEX', 'RACE', 'EDUC']\n"
          ]
        }
      ]
    },
    {
      "cell_type": "code",
      "source": [
        "X_train, X_test,y_train,y_test=train_test_split(X,y,test_size=0.3)"
      ],
      "metadata": {
        "id": "_j4SBKZK1bK-"
      },
      "execution_count": null,
      "outputs": []
    },
    {
      "cell_type": "code",
      "source": [
        "np.random.seed(0)\n",
        "dt_1=DecisionTreeClassifier(random_state=0)\n",
        "dt_1=dt_1.fit(X_train,y_train)"
      ],
      "metadata": {
        "id": "_cKAFap61yoj"
      },
      "execution_count": null,
      "outputs": []
    },
    {
      "cell_type": "code",
      "source": [
        "y_pred=dt_1.predict(X_test)"
      ],
      "metadata": {
        "id": "y9fYF4B22MGu"
      },
      "execution_count": null,
      "outputs": []
    },
    {
      "cell_type": "code",
      "source": [
        "print(\"Accuracy for PUMA \",puma,\" is \",metrics.accuracy_score(y_test,y_pred)*100)"
      ],
      "metadata": {
        "colab": {
          "base_uri": "https://localhost:8080/"
        },
        "id": "PEKzrFRL2RoE",
        "outputId": "5c57bb86-1389-45f5-93e5-3ab79677a9eb"
      },
      "execution_count": null,
      "outputs": [
        {
          "output_type": "stream",
          "name": "stdout",
          "text": [
            "Accuracy for PUMA  38-100  is  21.15942028985507\n"
          ]
        }
      ]
    },
    {
      "cell_type": "code",
      "source": [
        "print(1+dt_1.tree_.max_depth)"
      ],
      "metadata": {
        "colab": {
          "base_uri": "https://localhost:8080/"
        },
        "id": "nqKU6QBQ_MtE",
        "outputId": "db780ac0-6d48-4ebe-a3fe-cfe35b111b28"
      },
      "execution_count": null,
      "outputs": [
        {
          "output_type": "stream",
          "name": "stdout",
          "text": [
            "28\n"
          ]
        }
      ]
    },
    {
      "cell_type": "code",
      "source": [
        "def dt_height(tree):\n",
        "  return max([dt_height(subtree) for subtree in tree.subtrees])"
      ],
      "metadata": {
        "id": "pjBZGfAm-X9e"
      },
      "execution_count": null,
      "outputs": []
    },
    {
      "cell_type": "markdown",
      "source": [
        "### Demographic %s"
      ],
      "metadata": {
        "id": "rOZRpKHFLUam"
      }
    },
    {
      "cell_type": "code",
      "source": [
        "#black\n",
        "puma_1_df_black=puma_1_df[(puma_1_df['RACE']==2)]# & (puma_1_df['RACE']==2)]\n",
        "print(\"Percentage = \",(len(puma_1_df_black.index)/len(puma_1_df)*100))"
      ],
      "metadata": {
        "colab": {
          "base_uri": "https://localhost:8080/"
        },
        "id": "_U-emY71LX8z",
        "outputId": "4ef9bbb9-e4b1-47cc-defe-8319e6193e98"
      },
      "execution_count": null,
      "outputs": [
        {
          "output_type": "stream",
          "name": "stdout",
          "text": [
            "Percentage =  0.6962576153176675\n"
          ]
        }
      ]
    },
    {
      "cell_type": "code",
      "source": [
        "#not white\n",
        "#puma_1_df_nw=puma_1_df[puma_1_df['RACE']!=1]\n",
        "puma_1_df_nw=puma_1_df[puma_1_df['AGE']>60]\n",
        "print(\"Percentage = \",(len(puma_1_df_nw.index)/len(puma_1_df)*100))"
      ],
      "metadata": {
        "colab": {
          "base_uri": "https://localhost:8080/"
        },
        "id": "juUYJF0SL0uZ",
        "outputId": "c4bae664-e831-4b25-9227-119eb5230baf"
      },
      "execution_count": null,
      "outputs": [
        {
          "output_type": "stream",
          "name": "stdout",
          "text": [
            "Percentage =  27.54569190600522\n"
          ]
        }
      ]
    },
    {
      "cell_type": "markdown",
      "source": [
        "## PUMA 2"
      ],
      "metadata": {
        "id": "NkuzobAJJPW4"
      }
    },
    {
      "cell_type": "code",
      "source": [
        "puma_2_df=df[df['PUMA']=='48-2102']"
      ],
      "metadata": {
        "id": "UEF1dXuTJPW5"
      },
      "execution_count": null,
      "outputs": []
    },
    {
      "cell_type": "code",
      "source": [
        "puma_2_df"
      ],
      "metadata": {
        "colab": {
          "base_uri": "https://localhost:8080/",
          "height": 79
        },
        "outputId": "6ee916de-ea9f-4949-968d-db622a2516f1",
        "id": "njhjM6wfJPW5"
      },
      "execution_count": null,
      "outputs": [
        {
          "output_type": "execute_result",
          "data": {
            "text/plain": [
              "Empty DataFrame\n",
              "Columns: [Unnamed: 0, PUMA, GQ, OWNERSHP, FAMSIZE, NCHILD, AGE, SEX, MARST, RACE, HISPAN, EDUC, INDNAICS, SECTOR, INCTOT, INCTOT_DECILE, POVERTY, DENSITY, VETDISAB, DIFFREM, DIFFPHYS, DIFFEYE, DIFFHEAR, HHWT, PERWT]\n",
              "Index: []\n",
              "\n",
              "[0 rows x 25 columns]"
            ],
            "text/html": [
              "\n",
              "  <div id=\"df-36892caf-af52-47d1-ae9c-c2973a4236eb\">\n",
              "    <div class=\"colab-df-container\">\n",
              "      <div>\n",
              "<style scoped>\n",
              "    .dataframe tbody tr th:only-of-type {\n",
              "        vertical-align: middle;\n",
              "    }\n",
              "\n",
              "    .dataframe tbody tr th {\n",
              "        vertical-align: top;\n",
              "    }\n",
              "\n",
              "    .dataframe thead th {\n",
              "        text-align: right;\n",
              "    }\n",
              "</style>\n",
              "<table border=\"1\" class=\"dataframe\">\n",
              "  <thead>\n",
              "    <tr style=\"text-align: right;\">\n",
              "      <th></th>\n",
              "      <th>Unnamed: 0</th>\n",
              "      <th>PUMA</th>\n",
              "      <th>GQ</th>\n",
              "      <th>OWNERSHP</th>\n",
              "      <th>FAMSIZE</th>\n",
              "      <th>NCHILD</th>\n",
              "      <th>AGE</th>\n",
              "      <th>SEX</th>\n",
              "      <th>MARST</th>\n",
              "      <th>RACE</th>\n",
              "      <th>...</th>\n",
              "      <th>INCTOT_DECILE</th>\n",
              "      <th>POVERTY</th>\n",
              "      <th>DENSITY</th>\n",
              "      <th>VETDISAB</th>\n",
              "      <th>DIFFREM</th>\n",
              "      <th>DIFFPHYS</th>\n",
              "      <th>DIFFEYE</th>\n",
              "      <th>DIFFHEAR</th>\n",
              "      <th>HHWT</th>\n",
              "      <th>PERWT</th>\n",
              "    </tr>\n",
              "  </thead>\n",
              "  <tbody>\n",
              "  </tbody>\n",
              "</table>\n",
              "<p>0 rows × 25 columns</p>\n",
              "</div>\n",
              "      <button class=\"colab-df-convert\" onclick=\"convertToInteractive('df-36892caf-af52-47d1-ae9c-c2973a4236eb')\"\n",
              "              title=\"Convert this dataframe to an interactive table.\"\n",
              "              style=\"display:none;\">\n",
              "        \n",
              "  <svg xmlns=\"http://www.w3.org/2000/svg\" height=\"24px\"viewBox=\"0 0 24 24\"\n",
              "       width=\"24px\">\n",
              "    <path d=\"M0 0h24v24H0V0z\" fill=\"none\"/>\n",
              "    <path d=\"M18.56 5.44l.94 2.06.94-2.06 2.06-.94-2.06-.94-.94-2.06-.94 2.06-2.06.94zm-11 1L8.5 8.5l.94-2.06 2.06-.94-2.06-.94L8.5 2.5l-.94 2.06-2.06.94zm10 10l.94 2.06.94-2.06 2.06-.94-2.06-.94-.94-2.06-.94 2.06-2.06.94z\"/><path d=\"M17.41 7.96l-1.37-1.37c-.4-.4-.92-.59-1.43-.59-.52 0-1.04.2-1.43.59L10.3 9.45l-7.72 7.72c-.78.78-.78 2.05 0 2.83L4 21.41c.39.39.9.59 1.41.59.51 0 1.02-.2 1.41-.59l7.78-7.78 2.81-2.81c.8-.78.8-2.07 0-2.86zM5.41 20L4 18.59l7.72-7.72 1.47 1.35L5.41 20z\"/>\n",
              "  </svg>\n",
              "      </button>\n",
              "      \n",
              "  <style>\n",
              "    .colab-df-container {\n",
              "      display:flex;\n",
              "      flex-wrap:wrap;\n",
              "      gap: 12px;\n",
              "    }\n",
              "\n",
              "    .colab-df-convert {\n",
              "      background-color: #E8F0FE;\n",
              "      border: none;\n",
              "      border-radius: 50%;\n",
              "      cursor: pointer;\n",
              "      display: none;\n",
              "      fill: #1967D2;\n",
              "      height: 32px;\n",
              "      padding: 0 0 0 0;\n",
              "      width: 32px;\n",
              "    }\n",
              "\n",
              "    .colab-df-convert:hover {\n",
              "      background-color: #E2EBFA;\n",
              "      box-shadow: 0px 1px 2px rgba(60, 64, 67, 0.3), 0px 1px 3px 1px rgba(60, 64, 67, 0.15);\n",
              "      fill: #174EA6;\n",
              "    }\n",
              "\n",
              "    [theme=dark] .colab-df-convert {\n",
              "      background-color: #3B4455;\n",
              "      fill: #D2E3FC;\n",
              "    }\n",
              "\n",
              "    [theme=dark] .colab-df-convert:hover {\n",
              "      background-color: #434B5C;\n",
              "      box-shadow: 0px 1px 3px 1px rgba(0, 0, 0, 0.15);\n",
              "      filter: drop-shadow(0px 1px 2px rgba(0, 0, 0, 0.3));\n",
              "      fill: #FFFFFF;\n",
              "    }\n",
              "  </style>\n",
              "\n",
              "      <script>\n",
              "        const buttonEl =\n",
              "          document.querySelector('#df-36892caf-af52-47d1-ae9c-c2973a4236eb button.colab-df-convert');\n",
              "        buttonEl.style.display =\n",
              "          google.colab.kernel.accessAllowed ? 'block' : 'none';\n",
              "\n",
              "        async function convertToInteractive(key) {\n",
              "          const element = document.querySelector('#df-36892caf-af52-47d1-ae9c-c2973a4236eb');\n",
              "          const dataTable =\n",
              "            await google.colab.kernel.invokeFunction('convertToInteractive',\n",
              "                                                     [key], {});\n",
              "          if (!dataTable) return;\n",
              "\n",
              "          const docLinkHtml = 'Like what you see? Visit the ' +\n",
              "            '<a target=\"_blank\" href=https://colab.research.google.com/notebooks/data_table.ipynb>data table notebook</a>'\n",
              "            + ' to learn more about interactive tables.';\n",
              "          element.innerHTML = '';\n",
              "          dataTable['output_type'] = 'display_data';\n",
              "          await google.colab.output.renderOutput(dataTable, element);\n",
              "          const docLink = document.createElement('div');\n",
              "          docLink.innerHTML = docLinkHtml;\n",
              "          element.appendChild(docLink);\n",
              "        }\n",
              "      </script>\n",
              "    </div>\n",
              "  </div>\n",
              "  "
            ]
          },
          "metadata": {},
          "execution_count": 495
        }
      ]
    },
    {
      "cell_type": "code",
      "source": [
        "feature_cols=df.columns.tolist()\n",
        "feature_cols.remove('INCTOT')\n",
        "feature_cols.remove('PUMA')\n",
        "feature_cols.remove('INCTOT_DECILE')\n",
        "feature_cols.remove('INDNAICS')\n",
        "feature_cols.remove('Unnamed: 0')\n",
        "X=puma_2_df[feature_cols]\n",
        "y=puma_2_df['INCTOT']\n",
        "print(feature_cols)"
      ],
      "metadata": {
        "colab": {
          "base_uri": "https://localhost:8080/"
        },
        "outputId": "95ad2872-0d3e-4196-c885-fae454dcf0cc",
        "id": "_MGv8YQOJPW6"
      },
      "execution_count": null,
      "outputs": [
        {
          "output_type": "stream",
          "name": "stdout",
          "text": [
            "['GQ', 'OWNERSHP', 'FAMSIZE', 'NCHILD', 'AGE', 'SEX', 'MARST', 'RACE', 'HISPAN', 'EDUC', 'SECTOR', 'POVERTY', 'DENSITY', 'VETDISAB', 'DIFFREM', 'DIFFPHYS', 'DIFFEYE', 'DIFFHEAR', 'HHWT', 'PERWT']\n"
          ]
        }
      ]
    },
    {
      "cell_type": "code",
      "source": [
        "#feature_cols=['OWNERSHP','FAMSIZE','NCHILD','AGE','SEX','RACE','EDUC','SECTOR']\n",
        "feature_cols=['AGE','FAMSIZE','SEX','RACE','EDUC']\n",
        "X=df[feature_cols]\n",
        "y=df['INCTOT']\n",
        "print(feature_cols)"
      ],
      "metadata": {
        "colab": {
          "base_uri": "https://localhost:8080/"
        },
        "outputId": "a7d60939-769c-48c7-c0dd-169854adb3c9",
        "id": "vsIUYg8OJPW7"
      },
      "execution_count": null,
      "outputs": [
        {
          "output_type": "stream",
          "name": "stdout",
          "text": [
            "['AGE', 'FAMSIZE', 'SEX', 'RACE', 'EDUC']\n"
          ]
        }
      ]
    },
    {
      "cell_type": "code",
      "source": [
        "X_train, X_test,y_train,y_test=train_test_split(X,y,test_size=0.3)"
      ],
      "metadata": {
        "id": "ew3HmilgJPW8"
      },
      "execution_count": null,
      "outputs": []
    },
    {
      "cell_type": "code",
      "source": [
        "dt_2=DecisionTreeClassifier()\n",
        "dt_2=dt_2.fit(X_train,y_train)"
      ],
      "metadata": {
        "id": "HAX2Ty3PJPW8"
      },
      "execution_count": null,
      "outputs": []
    },
    {
      "cell_type": "code",
      "source": [
        "y_pred=dt_2.predict(X_test)"
      ],
      "metadata": {
        "id": "HanUmVfgJPW9"
      },
      "execution_count": null,
      "outputs": []
    },
    {
      "cell_type": "code",
      "source": [
        "print(\"Accuracy for PUMA 48-2510 is \",metrics.accuracy_score(y_test,y_pred))"
      ],
      "metadata": {
        "colab": {
          "base_uri": "https://localhost:8080/"
        },
        "outputId": "95fd6c77-8151-4668-9a97-2ae4833587d4",
        "id": "XKPvwDvcJPW9"
      },
      "execution_count": null,
      "outputs": [
        {
          "output_type": "stream",
          "name": "stdout",
          "text": [
            "Accuracy for PUMA 48-2510 is  0.22064579256360078\n"
          ]
        }
      ]
    },
    {
      "cell_type": "code",
      "source": [
        "print(dt_2.tree_.max_depth)"
      ],
      "metadata": {
        "colab": {
          "base_uri": "https://localhost:8080/"
        },
        "outputId": "ee1d201a-49a9-417d-9636-1c4a7266b2bf",
        "id": "j5mbWQHrJPW-"
      },
      "execution_count": null,
      "outputs": [
        {
          "output_type": "stream",
          "name": "stdout",
          "text": [
            "28\n"
          ]
        }
      ]
    },
    {
      "cell_type": "code",
      "source": [
        "def dt_height(tree):\n",
        "  return max([dt_height(subtree) for subtree in tree.subtrees])"
      ],
      "metadata": {
        "id": "dqasyslCJPW-"
      },
      "execution_count": null,
      "outputs": []
    }
  ]
}