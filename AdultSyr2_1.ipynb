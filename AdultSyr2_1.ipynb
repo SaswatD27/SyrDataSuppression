{
  "cells": [
    {
      "cell_type": "markdown",
      "metadata": {
        "id": "view-in-github",
        "colab_type": "text"
      },
      "source": [
        "<a href=\"https://colab.research.google.com/github/SaswatD27/SyrDataSuppression/blob/main/AdultSyr2_1.ipynb\" target=\"_parent\"><img src=\"https://colab.research.google.com/assets/colab-badge.svg\" alt=\"Open In Colab\"/></a>"
      ]
    },
    {
      "cell_type": "code",
      "execution_count": 75,
      "metadata": {
        "id": "-1SyTG5C7ur1"
      },
      "outputs": [],
      "source": [
        "import numpy as np\n",
        "import pandas as pd\n",
        "import seaborn as sns\n",
        "import matplotlib.pyplot as plt\n",
        "#import pipeline_dp as pdp\n",
        "import math\n",
        "import random"
      ]
    },
    {
      "cell_type": "code",
      "execution_count": 76,
      "metadata": {
        "id": "H8RjgUcj8Li1"
      },
      "outputs": [],
      "source": [
        "df=pd.read_csv(\"adult.csv\")"
      ]
    },
    {
      "cell_type": "code",
      "execution_count": 77,
      "metadata": {
        "colab": {
          "base_uri": "https://localhost:8080/",
          "height": 800
        },
        "id": "dFChCvMRTbKd",
        "outputId": "8f4a7d6f-993a-4ccf-be5e-9e38e669e0d8"
      },
      "outputs": [
        {
          "output_type": "execute_result",
          "data": {
            "text/plain": [
              "       age     workclass  fnlwgt     education  educational-num  \\\n",
              "0       25       Private  226802          11th                7   \n",
              "1       38       Private   89814       HS-grad                9   \n",
              "2       28     Local-gov  336951    Assoc-acdm               12   \n",
              "3       44       Private  160323  Some-college               10   \n",
              "4       18             ?  103497  Some-college               10   \n",
              "...    ...           ...     ...           ...              ...   \n",
              "48837   27       Private  257302    Assoc-acdm               12   \n",
              "48838   40       Private  154374       HS-grad                9   \n",
              "48839   58       Private  151910       HS-grad                9   \n",
              "48840   22       Private  201490       HS-grad                9   \n",
              "48841   52  Self-emp-inc  287927       HS-grad                9   \n",
              "\n",
              "           marital-status         occupation relationship   race  gender  \\\n",
              "0           Never-married  Machine-op-inspct    Own-child  Black    Male   \n",
              "1      Married-civ-spouse    Farming-fishing      Husband  White    Male   \n",
              "2      Married-civ-spouse    Protective-serv      Husband  White    Male   \n",
              "3      Married-civ-spouse  Machine-op-inspct      Husband  Black    Male   \n",
              "4           Never-married                  ?    Own-child  White  Female   \n",
              "...                   ...                ...          ...    ...     ...   \n",
              "48837  Married-civ-spouse       Tech-support         Wife  White  Female   \n",
              "48838  Married-civ-spouse  Machine-op-inspct      Husband  White    Male   \n",
              "48839             Widowed       Adm-clerical    Unmarried  White  Female   \n",
              "48840       Never-married       Adm-clerical    Own-child  White    Male   \n",
              "48841  Married-civ-spouse    Exec-managerial         Wife  White  Female   \n",
              "\n",
              "       capital-gain  capital-loss  hours-per-week native-country income  \n",
              "0                 0             0              40  United-States  <=50K  \n",
              "1                 0             0              50  United-States  <=50K  \n",
              "2                 0             0              40  United-States   >50K  \n",
              "3              7688             0              40  United-States   >50K  \n",
              "4                 0             0              30  United-States  <=50K  \n",
              "...             ...           ...             ...            ...    ...  \n",
              "48837             0             0              38  United-States  <=50K  \n",
              "48838             0             0              40  United-States   >50K  \n",
              "48839             0             0              40  United-States  <=50K  \n",
              "48840             0             0              20  United-States  <=50K  \n",
              "48841         15024             0              40  United-States   >50K  \n",
              "\n",
              "[48842 rows x 15 columns]"
            ],
            "text/html": [
              "\n",
              "  <div id=\"df-ebfa5772-520d-4388-9807-045903ab9310\">\n",
              "    <div class=\"colab-df-container\">\n",
              "      <div>\n",
              "<style scoped>\n",
              "    .dataframe tbody tr th:only-of-type {\n",
              "        vertical-align: middle;\n",
              "    }\n",
              "\n",
              "    .dataframe tbody tr th {\n",
              "        vertical-align: top;\n",
              "    }\n",
              "\n",
              "    .dataframe thead th {\n",
              "        text-align: right;\n",
              "    }\n",
              "</style>\n",
              "<table border=\"1\" class=\"dataframe\">\n",
              "  <thead>\n",
              "    <tr style=\"text-align: right;\">\n",
              "      <th></th>\n",
              "      <th>age</th>\n",
              "      <th>workclass</th>\n",
              "      <th>fnlwgt</th>\n",
              "      <th>education</th>\n",
              "      <th>educational-num</th>\n",
              "      <th>marital-status</th>\n",
              "      <th>occupation</th>\n",
              "      <th>relationship</th>\n",
              "      <th>race</th>\n",
              "      <th>gender</th>\n",
              "      <th>capital-gain</th>\n",
              "      <th>capital-loss</th>\n",
              "      <th>hours-per-week</th>\n",
              "      <th>native-country</th>\n",
              "      <th>income</th>\n",
              "    </tr>\n",
              "  </thead>\n",
              "  <tbody>\n",
              "    <tr>\n",
              "      <th>0</th>\n",
              "      <td>25</td>\n",
              "      <td>Private</td>\n",
              "      <td>226802</td>\n",
              "      <td>11th</td>\n",
              "      <td>7</td>\n",
              "      <td>Never-married</td>\n",
              "      <td>Machine-op-inspct</td>\n",
              "      <td>Own-child</td>\n",
              "      <td>Black</td>\n",
              "      <td>Male</td>\n",
              "      <td>0</td>\n",
              "      <td>0</td>\n",
              "      <td>40</td>\n",
              "      <td>United-States</td>\n",
              "      <td>&lt;=50K</td>\n",
              "    </tr>\n",
              "    <tr>\n",
              "      <th>1</th>\n",
              "      <td>38</td>\n",
              "      <td>Private</td>\n",
              "      <td>89814</td>\n",
              "      <td>HS-grad</td>\n",
              "      <td>9</td>\n",
              "      <td>Married-civ-spouse</td>\n",
              "      <td>Farming-fishing</td>\n",
              "      <td>Husband</td>\n",
              "      <td>White</td>\n",
              "      <td>Male</td>\n",
              "      <td>0</td>\n",
              "      <td>0</td>\n",
              "      <td>50</td>\n",
              "      <td>United-States</td>\n",
              "      <td>&lt;=50K</td>\n",
              "    </tr>\n",
              "    <tr>\n",
              "      <th>2</th>\n",
              "      <td>28</td>\n",
              "      <td>Local-gov</td>\n",
              "      <td>336951</td>\n",
              "      <td>Assoc-acdm</td>\n",
              "      <td>12</td>\n",
              "      <td>Married-civ-spouse</td>\n",
              "      <td>Protective-serv</td>\n",
              "      <td>Husband</td>\n",
              "      <td>White</td>\n",
              "      <td>Male</td>\n",
              "      <td>0</td>\n",
              "      <td>0</td>\n",
              "      <td>40</td>\n",
              "      <td>United-States</td>\n",
              "      <td>&gt;50K</td>\n",
              "    </tr>\n",
              "    <tr>\n",
              "      <th>3</th>\n",
              "      <td>44</td>\n",
              "      <td>Private</td>\n",
              "      <td>160323</td>\n",
              "      <td>Some-college</td>\n",
              "      <td>10</td>\n",
              "      <td>Married-civ-spouse</td>\n",
              "      <td>Machine-op-inspct</td>\n",
              "      <td>Husband</td>\n",
              "      <td>Black</td>\n",
              "      <td>Male</td>\n",
              "      <td>7688</td>\n",
              "      <td>0</td>\n",
              "      <td>40</td>\n",
              "      <td>United-States</td>\n",
              "      <td>&gt;50K</td>\n",
              "    </tr>\n",
              "    <tr>\n",
              "      <th>4</th>\n",
              "      <td>18</td>\n",
              "      <td>?</td>\n",
              "      <td>103497</td>\n",
              "      <td>Some-college</td>\n",
              "      <td>10</td>\n",
              "      <td>Never-married</td>\n",
              "      <td>?</td>\n",
              "      <td>Own-child</td>\n",
              "      <td>White</td>\n",
              "      <td>Female</td>\n",
              "      <td>0</td>\n",
              "      <td>0</td>\n",
              "      <td>30</td>\n",
              "      <td>United-States</td>\n",
              "      <td>&lt;=50K</td>\n",
              "    </tr>\n",
              "    <tr>\n",
              "      <th>...</th>\n",
              "      <td>...</td>\n",
              "      <td>...</td>\n",
              "      <td>...</td>\n",
              "      <td>...</td>\n",
              "      <td>...</td>\n",
              "      <td>...</td>\n",
              "      <td>...</td>\n",
              "      <td>...</td>\n",
              "      <td>...</td>\n",
              "      <td>...</td>\n",
              "      <td>...</td>\n",
              "      <td>...</td>\n",
              "      <td>...</td>\n",
              "      <td>...</td>\n",
              "      <td>...</td>\n",
              "    </tr>\n",
              "    <tr>\n",
              "      <th>48837</th>\n",
              "      <td>27</td>\n",
              "      <td>Private</td>\n",
              "      <td>257302</td>\n",
              "      <td>Assoc-acdm</td>\n",
              "      <td>12</td>\n",
              "      <td>Married-civ-spouse</td>\n",
              "      <td>Tech-support</td>\n",
              "      <td>Wife</td>\n",
              "      <td>White</td>\n",
              "      <td>Female</td>\n",
              "      <td>0</td>\n",
              "      <td>0</td>\n",
              "      <td>38</td>\n",
              "      <td>United-States</td>\n",
              "      <td>&lt;=50K</td>\n",
              "    </tr>\n",
              "    <tr>\n",
              "      <th>48838</th>\n",
              "      <td>40</td>\n",
              "      <td>Private</td>\n",
              "      <td>154374</td>\n",
              "      <td>HS-grad</td>\n",
              "      <td>9</td>\n",
              "      <td>Married-civ-spouse</td>\n",
              "      <td>Machine-op-inspct</td>\n",
              "      <td>Husband</td>\n",
              "      <td>White</td>\n",
              "      <td>Male</td>\n",
              "      <td>0</td>\n",
              "      <td>0</td>\n",
              "      <td>40</td>\n",
              "      <td>United-States</td>\n",
              "      <td>&gt;50K</td>\n",
              "    </tr>\n",
              "    <tr>\n",
              "      <th>48839</th>\n",
              "      <td>58</td>\n",
              "      <td>Private</td>\n",
              "      <td>151910</td>\n",
              "      <td>HS-grad</td>\n",
              "      <td>9</td>\n",
              "      <td>Widowed</td>\n",
              "      <td>Adm-clerical</td>\n",
              "      <td>Unmarried</td>\n",
              "      <td>White</td>\n",
              "      <td>Female</td>\n",
              "      <td>0</td>\n",
              "      <td>0</td>\n",
              "      <td>40</td>\n",
              "      <td>United-States</td>\n",
              "      <td>&lt;=50K</td>\n",
              "    </tr>\n",
              "    <tr>\n",
              "      <th>48840</th>\n",
              "      <td>22</td>\n",
              "      <td>Private</td>\n",
              "      <td>201490</td>\n",
              "      <td>HS-grad</td>\n",
              "      <td>9</td>\n",
              "      <td>Never-married</td>\n",
              "      <td>Adm-clerical</td>\n",
              "      <td>Own-child</td>\n",
              "      <td>White</td>\n",
              "      <td>Male</td>\n",
              "      <td>0</td>\n",
              "      <td>0</td>\n",
              "      <td>20</td>\n",
              "      <td>United-States</td>\n",
              "      <td>&lt;=50K</td>\n",
              "    </tr>\n",
              "    <tr>\n",
              "      <th>48841</th>\n",
              "      <td>52</td>\n",
              "      <td>Self-emp-inc</td>\n",
              "      <td>287927</td>\n",
              "      <td>HS-grad</td>\n",
              "      <td>9</td>\n",
              "      <td>Married-civ-spouse</td>\n",
              "      <td>Exec-managerial</td>\n",
              "      <td>Wife</td>\n",
              "      <td>White</td>\n",
              "      <td>Female</td>\n",
              "      <td>15024</td>\n",
              "      <td>0</td>\n",
              "      <td>40</td>\n",
              "      <td>United-States</td>\n",
              "      <td>&gt;50K</td>\n",
              "    </tr>\n",
              "  </tbody>\n",
              "</table>\n",
              "<p>48842 rows × 15 columns</p>\n",
              "</div>\n",
              "      <button class=\"colab-df-convert\" onclick=\"convertToInteractive('df-ebfa5772-520d-4388-9807-045903ab9310')\"\n",
              "              title=\"Convert this dataframe to an interactive table.\"\n",
              "              style=\"display:none;\">\n",
              "        \n",
              "  <svg xmlns=\"http://www.w3.org/2000/svg\" height=\"24px\"viewBox=\"0 0 24 24\"\n",
              "       width=\"24px\">\n",
              "    <path d=\"M0 0h24v24H0V0z\" fill=\"none\"/>\n",
              "    <path d=\"M18.56 5.44l.94 2.06.94-2.06 2.06-.94-2.06-.94-.94-2.06-.94 2.06-2.06.94zm-11 1L8.5 8.5l.94-2.06 2.06-.94-2.06-.94L8.5 2.5l-.94 2.06-2.06.94zm10 10l.94 2.06.94-2.06 2.06-.94-2.06-.94-.94-2.06-.94 2.06-2.06.94z\"/><path d=\"M17.41 7.96l-1.37-1.37c-.4-.4-.92-.59-1.43-.59-.52 0-1.04.2-1.43.59L10.3 9.45l-7.72 7.72c-.78.78-.78 2.05 0 2.83L4 21.41c.39.39.9.59 1.41.59.51 0 1.02-.2 1.41-.59l7.78-7.78 2.81-2.81c.8-.78.8-2.07 0-2.86zM5.41 20L4 18.59l7.72-7.72 1.47 1.35L5.41 20z\"/>\n",
              "  </svg>\n",
              "      </button>\n",
              "      \n",
              "  <style>\n",
              "    .colab-df-container {\n",
              "      display:flex;\n",
              "      flex-wrap:wrap;\n",
              "      gap: 12px;\n",
              "    }\n",
              "\n",
              "    .colab-df-convert {\n",
              "      background-color: #E8F0FE;\n",
              "      border: none;\n",
              "      border-radius: 50%;\n",
              "      cursor: pointer;\n",
              "      display: none;\n",
              "      fill: #1967D2;\n",
              "      height: 32px;\n",
              "      padding: 0 0 0 0;\n",
              "      width: 32px;\n",
              "    }\n",
              "\n",
              "    .colab-df-convert:hover {\n",
              "      background-color: #E2EBFA;\n",
              "      box-shadow: 0px 1px 2px rgba(60, 64, 67, 0.3), 0px 1px 3px 1px rgba(60, 64, 67, 0.15);\n",
              "      fill: #174EA6;\n",
              "    }\n",
              "\n",
              "    [theme=dark] .colab-df-convert {\n",
              "      background-color: #3B4455;\n",
              "      fill: #D2E3FC;\n",
              "    }\n",
              "\n",
              "    [theme=dark] .colab-df-convert:hover {\n",
              "      background-color: #434B5C;\n",
              "      box-shadow: 0px 1px 3px 1px rgba(0, 0, 0, 0.15);\n",
              "      filter: drop-shadow(0px 1px 2px rgba(0, 0, 0, 0.3));\n",
              "      fill: #FFFFFF;\n",
              "    }\n",
              "  </style>\n",
              "\n",
              "      <script>\n",
              "        const buttonEl =\n",
              "          document.querySelector('#df-ebfa5772-520d-4388-9807-045903ab9310 button.colab-df-convert');\n",
              "        buttonEl.style.display =\n",
              "          google.colab.kernel.accessAllowed ? 'block' : 'none';\n",
              "\n",
              "        async function convertToInteractive(key) {\n",
              "          const element = document.querySelector('#df-ebfa5772-520d-4388-9807-045903ab9310');\n",
              "          const dataTable =\n",
              "            await google.colab.kernel.invokeFunction('convertToInteractive',\n",
              "                                                     [key], {});\n",
              "          if (!dataTable) return;\n",
              "\n",
              "          const docLinkHtml = 'Like what you see? Visit the ' +\n",
              "            '<a target=\"_blank\" href=https://colab.research.google.com/notebooks/data_table.ipynb>data table notebook</a>'\n",
              "            + ' to learn more about interactive tables.';\n",
              "          element.innerHTML = '';\n",
              "          dataTable['output_type'] = 'display_data';\n",
              "          await google.colab.output.renderOutput(dataTable, element);\n",
              "          const docLink = document.createElement('div');\n",
              "          docLink.innerHTML = docLinkHtml;\n",
              "          element.appendChild(docLink);\n",
              "        }\n",
              "      </script>\n",
              "    </div>\n",
              "  </div>\n",
              "  "
            ]
          },
          "metadata": {},
          "execution_count": 77
        }
      ],
      "source": [
        "pd.read_csv(\"adult.csv\")"
      ]
    },
    {
      "cell_type": "markdown",
      "source": [
        "## Function Testing"
      ],
      "metadata": {
        "id": "CHsmdkQfkFBN"
      }
    },
    {
      "cell_type": "code",
      "source": [
        "def suppress_merge(df,colvec): #colvec: list of columns to merge\n",
        "  data_suppressed=df.copy()\n",
        "  data_suppressed=data_suppressed.drop(columns=colvec)\n",
        "  #Then add a hybrid column with tuples\n",
        "  #A column needs a name!\n",
        "  colname=\"\"\n",
        "  for c in colvec:\n",
        "    colname=colname+str(c)\n",
        "  data_suppressed[str(colname)]=df[colvec].astype(str).agg('-'.join, axis=1)\n",
        "  return data_suppressed"
      ],
      "metadata": {
        "id": "fW1D40y6gUWa"
      },
      "execution_count": 78,
      "outputs": []
    },
    {
      "cell_type": "code",
      "source": [
        "suppress_merge(df,[\"marital-status\",'fnlwgt'])"
      ],
      "metadata": {
        "colab": {
          "base_uri": "https://localhost:8080/",
          "height": 835
        },
        "id": "5We7T3IYgX6N",
        "outputId": "f67635e9-e121-47f1-f0f3-c5c0fde95e5e"
      },
      "execution_count": 79,
      "outputs": [
        {
          "output_type": "execute_result",
          "data": {
            "text/plain": [
              "       age     workclass     education  educational-num         occupation  \\\n",
              "0       25       Private          11th                7  Machine-op-inspct   \n",
              "1       38       Private       HS-grad                9    Farming-fishing   \n",
              "2       28     Local-gov    Assoc-acdm               12    Protective-serv   \n",
              "3       44       Private  Some-college               10  Machine-op-inspct   \n",
              "4       18             ?  Some-college               10                  ?   \n",
              "...    ...           ...           ...              ...                ...   \n",
              "48837   27       Private    Assoc-acdm               12       Tech-support   \n",
              "48838   40       Private       HS-grad                9  Machine-op-inspct   \n",
              "48839   58       Private       HS-grad                9       Adm-clerical   \n",
              "48840   22       Private       HS-grad                9       Adm-clerical   \n",
              "48841   52  Self-emp-inc       HS-grad                9    Exec-managerial   \n",
              "\n",
              "      relationship   race  gender  capital-gain  capital-loss  hours-per-week  \\\n",
              "0        Own-child  Black    Male             0             0              40   \n",
              "1          Husband  White    Male             0             0              50   \n",
              "2          Husband  White    Male             0             0              40   \n",
              "3          Husband  Black    Male          7688             0              40   \n",
              "4        Own-child  White  Female             0             0              30   \n",
              "...            ...    ...     ...           ...           ...             ...   \n",
              "48837         Wife  White  Female             0             0              38   \n",
              "48838      Husband  White    Male             0             0              40   \n",
              "48839    Unmarried  White  Female             0             0              40   \n",
              "48840    Own-child  White    Male             0             0              20   \n",
              "48841         Wife  White  Female         15024             0              40   \n",
              "\n",
              "      native-country income       marital-statusfnlwgt  \n",
              "0      United-States  <=50K       Never-married-226802  \n",
              "1      United-States  <=50K   Married-civ-spouse-89814  \n",
              "2      United-States   >50K  Married-civ-spouse-336951  \n",
              "3      United-States   >50K  Married-civ-spouse-160323  \n",
              "4      United-States  <=50K       Never-married-103497  \n",
              "...              ...    ...                        ...  \n",
              "48837  United-States  <=50K  Married-civ-spouse-257302  \n",
              "48838  United-States   >50K  Married-civ-spouse-154374  \n",
              "48839  United-States  <=50K             Widowed-151910  \n",
              "48840  United-States  <=50K       Never-married-201490  \n",
              "48841  United-States   >50K  Married-civ-spouse-287927  \n",
              "\n",
              "[48842 rows x 14 columns]"
            ],
            "text/html": [
              "\n",
              "  <div id=\"df-a0650e3a-525b-4c74-994c-5ba187a8eb0d\">\n",
              "    <div class=\"colab-df-container\">\n",
              "      <div>\n",
              "<style scoped>\n",
              "    .dataframe tbody tr th:only-of-type {\n",
              "        vertical-align: middle;\n",
              "    }\n",
              "\n",
              "    .dataframe tbody tr th {\n",
              "        vertical-align: top;\n",
              "    }\n",
              "\n",
              "    .dataframe thead th {\n",
              "        text-align: right;\n",
              "    }\n",
              "</style>\n",
              "<table border=\"1\" class=\"dataframe\">\n",
              "  <thead>\n",
              "    <tr style=\"text-align: right;\">\n",
              "      <th></th>\n",
              "      <th>age</th>\n",
              "      <th>workclass</th>\n",
              "      <th>education</th>\n",
              "      <th>educational-num</th>\n",
              "      <th>occupation</th>\n",
              "      <th>relationship</th>\n",
              "      <th>race</th>\n",
              "      <th>gender</th>\n",
              "      <th>capital-gain</th>\n",
              "      <th>capital-loss</th>\n",
              "      <th>hours-per-week</th>\n",
              "      <th>native-country</th>\n",
              "      <th>income</th>\n",
              "      <th>marital-statusfnlwgt</th>\n",
              "    </tr>\n",
              "  </thead>\n",
              "  <tbody>\n",
              "    <tr>\n",
              "      <th>0</th>\n",
              "      <td>25</td>\n",
              "      <td>Private</td>\n",
              "      <td>11th</td>\n",
              "      <td>7</td>\n",
              "      <td>Machine-op-inspct</td>\n",
              "      <td>Own-child</td>\n",
              "      <td>Black</td>\n",
              "      <td>Male</td>\n",
              "      <td>0</td>\n",
              "      <td>0</td>\n",
              "      <td>40</td>\n",
              "      <td>United-States</td>\n",
              "      <td>&lt;=50K</td>\n",
              "      <td>Never-married-226802</td>\n",
              "    </tr>\n",
              "    <tr>\n",
              "      <th>1</th>\n",
              "      <td>38</td>\n",
              "      <td>Private</td>\n",
              "      <td>HS-grad</td>\n",
              "      <td>9</td>\n",
              "      <td>Farming-fishing</td>\n",
              "      <td>Husband</td>\n",
              "      <td>White</td>\n",
              "      <td>Male</td>\n",
              "      <td>0</td>\n",
              "      <td>0</td>\n",
              "      <td>50</td>\n",
              "      <td>United-States</td>\n",
              "      <td>&lt;=50K</td>\n",
              "      <td>Married-civ-spouse-89814</td>\n",
              "    </tr>\n",
              "    <tr>\n",
              "      <th>2</th>\n",
              "      <td>28</td>\n",
              "      <td>Local-gov</td>\n",
              "      <td>Assoc-acdm</td>\n",
              "      <td>12</td>\n",
              "      <td>Protective-serv</td>\n",
              "      <td>Husband</td>\n",
              "      <td>White</td>\n",
              "      <td>Male</td>\n",
              "      <td>0</td>\n",
              "      <td>0</td>\n",
              "      <td>40</td>\n",
              "      <td>United-States</td>\n",
              "      <td>&gt;50K</td>\n",
              "      <td>Married-civ-spouse-336951</td>\n",
              "    </tr>\n",
              "    <tr>\n",
              "      <th>3</th>\n",
              "      <td>44</td>\n",
              "      <td>Private</td>\n",
              "      <td>Some-college</td>\n",
              "      <td>10</td>\n",
              "      <td>Machine-op-inspct</td>\n",
              "      <td>Husband</td>\n",
              "      <td>Black</td>\n",
              "      <td>Male</td>\n",
              "      <td>7688</td>\n",
              "      <td>0</td>\n",
              "      <td>40</td>\n",
              "      <td>United-States</td>\n",
              "      <td>&gt;50K</td>\n",
              "      <td>Married-civ-spouse-160323</td>\n",
              "    </tr>\n",
              "    <tr>\n",
              "      <th>4</th>\n",
              "      <td>18</td>\n",
              "      <td>?</td>\n",
              "      <td>Some-college</td>\n",
              "      <td>10</td>\n",
              "      <td>?</td>\n",
              "      <td>Own-child</td>\n",
              "      <td>White</td>\n",
              "      <td>Female</td>\n",
              "      <td>0</td>\n",
              "      <td>0</td>\n",
              "      <td>30</td>\n",
              "      <td>United-States</td>\n",
              "      <td>&lt;=50K</td>\n",
              "      <td>Never-married-103497</td>\n",
              "    </tr>\n",
              "    <tr>\n",
              "      <th>...</th>\n",
              "      <td>...</td>\n",
              "      <td>...</td>\n",
              "      <td>...</td>\n",
              "      <td>...</td>\n",
              "      <td>...</td>\n",
              "      <td>...</td>\n",
              "      <td>...</td>\n",
              "      <td>...</td>\n",
              "      <td>...</td>\n",
              "      <td>...</td>\n",
              "      <td>...</td>\n",
              "      <td>...</td>\n",
              "      <td>...</td>\n",
              "      <td>...</td>\n",
              "    </tr>\n",
              "    <tr>\n",
              "      <th>48837</th>\n",
              "      <td>27</td>\n",
              "      <td>Private</td>\n",
              "      <td>Assoc-acdm</td>\n",
              "      <td>12</td>\n",
              "      <td>Tech-support</td>\n",
              "      <td>Wife</td>\n",
              "      <td>White</td>\n",
              "      <td>Female</td>\n",
              "      <td>0</td>\n",
              "      <td>0</td>\n",
              "      <td>38</td>\n",
              "      <td>United-States</td>\n",
              "      <td>&lt;=50K</td>\n",
              "      <td>Married-civ-spouse-257302</td>\n",
              "    </tr>\n",
              "    <tr>\n",
              "      <th>48838</th>\n",
              "      <td>40</td>\n",
              "      <td>Private</td>\n",
              "      <td>HS-grad</td>\n",
              "      <td>9</td>\n",
              "      <td>Machine-op-inspct</td>\n",
              "      <td>Husband</td>\n",
              "      <td>White</td>\n",
              "      <td>Male</td>\n",
              "      <td>0</td>\n",
              "      <td>0</td>\n",
              "      <td>40</td>\n",
              "      <td>United-States</td>\n",
              "      <td>&gt;50K</td>\n",
              "      <td>Married-civ-spouse-154374</td>\n",
              "    </tr>\n",
              "    <tr>\n",
              "      <th>48839</th>\n",
              "      <td>58</td>\n",
              "      <td>Private</td>\n",
              "      <td>HS-grad</td>\n",
              "      <td>9</td>\n",
              "      <td>Adm-clerical</td>\n",
              "      <td>Unmarried</td>\n",
              "      <td>White</td>\n",
              "      <td>Female</td>\n",
              "      <td>0</td>\n",
              "      <td>0</td>\n",
              "      <td>40</td>\n",
              "      <td>United-States</td>\n",
              "      <td>&lt;=50K</td>\n",
              "      <td>Widowed-151910</td>\n",
              "    </tr>\n",
              "    <tr>\n",
              "      <th>48840</th>\n",
              "      <td>22</td>\n",
              "      <td>Private</td>\n",
              "      <td>HS-grad</td>\n",
              "      <td>9</td>\n",
              "      <td>Adm-clerical</td>\n",
              "      <td>Own-child</td>\n",
              "      <td>White</td>\n",
              "      <td>Male</td>\n",
              "      <td>0</td>\n",
              "      <td>0</td>\n",
              "      <td>20</td>\n",
              "      <td>United-States</td>\n",
              "      <td>&lt;=50K</td>\n",
              "      <td>Never-married-201490</td>\n",
              "    </tr>\n",
              "    <tr>\n",
              "      <th>48841</th>\n",
              "      <td>52</td>\n",
              "      <td>Self-emp-inc</td>\n",
              "      <td>HS-grad</td>\n",
              "      <td>9</td>\n",
              "      <td>Exec-managerial</td>\n",
              "      <td>Wife</td>\n",
              "      <td>White</td>\n",
              "      <td>Female</td>\n",
              "      <td>15024</td>\n",
              "      <td>0</td>\n",
              "      <td>40</td>\n",
              "      <td>United-States</td>\n",
              "      <td>&gt;50K</td>\n",
              "      <td>Married-civ-spouse-287927</td>\n",
              "    </tr>\n",
              "  </tbody>\n",
              "</table>\n",
              "<p>48842 rows × 14 columns</p>\n",
              "</div>\n",
              "      <button class=\"colab-df-convert\" onclick=\"convertToInteractive('df-a0650e3a-525b-4c74-994c-5ba187a8eb0d')\"\n",
              "              title=\"Convert this dataframe to an interactive table.\"\n",
              "              style=\"display:none;\">\n",
              "        \n",
              "  <svg xmlns=\"http://www.w3.org/2000/svg\" height=\"24px\"viewBox=\"0 0 24 24\"\n",
              "       width=\"24px\">\n",
              "    <path d=\"M0 0h24v24H0V0z\" fill=\"none\"/>\n",
              "    <path d=\"M18.56 5.44l.94 2.06.94-2.06 2.06-.94-2.06-.94-.94-2.06-.94 2.06-2.06.94zm-11 1L8.5 8.5l.94-2.06 2.06-.94-2.06-.94L8.5 2.5l-.94 2.06-2.06.94zm10 10l.94 2.06.94-2.06 2.06-.94-2.06-.94-.94-2.06-.94 2.06-2.06.94z\"/><path d=\"M17.41 7.96l-1.37-1.37c-.4-.4-.92-.59-1.43-.59-.52 0-1.04.2-1.43.59L10.3 9.45l-7.72 7.72c-.78.78-.78 2.05 0 2.83L4 21.41c.39.39.9.59 1.41.59.51 0 1.02-.2 1.41-.59l7.78-7.78 2.81-2.81c.8-.78.8-2.07 0-2.86zM5.41 20L4 18.59l7.72-7.72 1.47 1.35L5.41 20z\"/>\n",
              "  </svg>\n",
              "      </button>\n",
              "      \n",
              "  <style>\n",
              "    .colab-df-container {\n",
              "      display:flex;\n",
              "      flex-wrap:wrap;\n",
              "      gap: 12px;\n",
              "    }\n",
              "\n",
              "    .colab-df-convert {\n",
              "      background-color: #E8F0FE;\n",
              "      border: none;\n",
              "      border-radius: 50%;\n",
              "      cursor: pointer;\n",
              "      display: none;\n",
              "      fill: #1967D2;\n",
              "      height: 32px;\n",
              "      padding: 0 0 0 0;\n",
              "      width: 32px;\n",
              "    }\n",
              "\n",
              "    .colab-df-convert:hover {\n",
              "      background-color: #E2EBFA;\n",
              "      box-shadow: 0px 1px 2px rgba(60, 64, 67, 0.3), 0px 1px 3px 1px rgba(60, 64, 67, 0.15);\n",
              "      fill: #174EA6;\n",
              "    }\n",
              "\n",
              "    [theme=dark] .colab-df-convert {\n",
              "      background-color: #3B4455;\n",
              "      fill: #D2E3FC;\n",
              "    }\n",
              "\n",
              "    [theme=dark] .colab-df-convert:hover {\n",
              "      background-color: #434B5C;\n",
              "      box-shadow: 0px 1px 3px 1px rgba(0, 0, 0, 0.15);\n",
              "      filter: drop-shadow(0px 1px 2px rgba(0, 0, 0, 0.3));\n",
              "      fill: #FFFFFF;\n",
              "    }\n",
              "  </style>\n",
              "\n",
              "      <script>\n",
              "        const buttonEl =\n",
              "          document.querySelector('#df-a0650e3a-525b-4c74-994c-5ba187a8eb0d button.colab-df-convert');\n",
              "        buttonEl.style.display =\n",
              "          google.colab.kernel.accessAllowed ? 'block' : 'none';\n",
              "\n",
              "        async function convertToInteractive(key) {\n",
              "          const element = document.querySelector('#df-a0650e3a-525b-4c74-994c-5ba187a8eb0d');\n",
              "          const dataTable =\n",
              "            await google.colab.kernel.invokeFunction('convertToInteractive',\n",
              "                                                     [key], {});\n",
              "          if (!dataTable) return;\n",
              "\n",
              "          const docLinkHtml = 'Like what you see? Visit the ' +\n",
              "            '<a target=\"_blank\" href=https://colab.research.google.com/notebooks/data_table.ipynb>data table notebook</a>'\n",
              "            + ' to learn more about interactive tables.';\n",
              "          element.innerHTML = '';\n",
              "          dataTable['output_type'] = 'display_data';\n",
              "          await google.colab.output.renderOutput(dataTable, element);\n",
              "          const docLink = document.createElement('div');\n",
              "          docLink.innerHTML = docLinkHtml;\n",
              "          element.appendChild(docLink);\n",
              "        }\n",
              "      </script>\n",
              "    </div>\n",
              "  </div>\n",
              "  "
            ]
          },
          "metadata": {},
          "execution_count": 79
        }
      ]
    },
    {
      "cell_type": "markdown",
      "metadata": {
        "id": "XV57_pZaAzJE"
      },
      "source": [
        "##Target Attributes\n",
        "* Age\n",
        "* Income\n",
        "* Hours per week\n",
        "\n",
        " (Maybe gender)"
      ]
    },
    {
      "cell_type": "code",
      "execution_count": 80,
      "metadata": {
        "id": "fMHrp03sQZTd"
      },
      "outputs": [],
      "source": [
        "mar_df=pd.DataFrame()"
      ]
    },
    {
      "cell_type": "code",
      "execution_count": 81,
      "metadata": {
        "id": "qSBYwzYbRk0_"
      },
      "outputs": [],
      "source": [
        "max_age=df[\"age\"].max()"
      ]
    },
    {
      "cell_type": "code",
      "execution_count": 82,
      "metadata": {
        "id": "B4F-RSFcS_7i"
      },
      "outputs": [],
      "source": [
        "for i in range(int(max_age/10)):\n",
        "  df2=df[(df['age']<=(i+1)*10) & (df['age']>i*10) & (df['income']==\">50K\") & (df['hours-per-week'] >30)]# & (df['native-country']=='United-States')]\n",
        "  #print(df2.head())\n",
        "  mar_df=mar_df.append(df2, ignore_index=True)\n",
        "  #print(mar_df.head())"
      ]
    },
    {
      "cell_type": "code",
      "execution_count": 83,
      "metadata": {
        "colab": {
          "base_uri": "https://localhost:8080/",
          "height": 444
        },
        "id": "_DK742tUT7_o",
        "outputId": "2c47ad48-a632-49fe-a421-6b85a9951083",
        "scrolled": true
      },
      "outputs": [
        {
          "output_type": "execute_result",
          "data": {
            "text/plain": [
              "   age  workclass  fnlwgt   education  educational-num      marital-status  \\\n",
              "0   20    Private  325033        12th                8       Never-married   \n",
              "1   19    Private  323605     7th-8th                4       Never-married   \n",
              "2   19          ?  200790        12th                8  Married-civ-spouse   \n",
              "3   28  Local-gov  336951  Assoc-acdm               12  Married-civ-spouse   \n",
              "4   28    Private  242832   Assoc-voc               11  Married-civ-spouse   \n",
              "\n",
              "        occupation    relationship   race  gender  capital-gain  capital-loss  \\\n",
              "0    Other-service       Own-child  Black    Male             0             0   \n",
              "1    Other-service   Not-in-family  White    Male             0             0   \n",
              "2                ?  Other-relative  White  Female         15024             0   \n",
              "3  Protective-serv         Husband  White    Male             0             0   \n",
              "4   Prof-specialty            Wife  White  Female             0             0   \n",
              "\n",
              "   hours-per-week native-country income  \n",
              "0              35  United-States   >50K  \n",
              "1              60  United-States   >50K  \n",
              "2              40  United-States   >50K  \n",
              "3              40  United-States   >50K  \n",
              "4              36  United-States   >50K  "
            ],
            "text/html": [
              "\n",
              "  <div id=\"df-48ff56f3-f0fd-4cd4-8900-5d790e037f6a\">\n",
              "    <div class=\"colab-df-container\">\n",
              "      <div>\n",
              "<style scoped>\n",
              "    .dataframe tbody tr th:only-of-type {\n",
              "        vertical-align: middle;\n",
              "    }\n",
              "\n",
              "    .dataframe tbody tr th {\n",
              "        vertical-align: top;\n",
              "    }\n",
              "\n",
              "    .dataframe thead th {\n",
              "        text-align: right;\n",
              "    }\n",
              "</style>\n",
              "<table border=\"1\" class=\"dataframe\">\n",
              "  <thead>\n",
              "    <tr style=\"text-align: right;\">\n",
              "      <th></th>\n",
              "      <th>age</th>\n",
              "      <th>workclass</th>\n",
              "      <th>fnlwgt</th>\n",
              "      <th>education</th>\n",
              "      <th>educational-num</th>\n",
              "      <th>marital-status</th>\n",
              "      <th>occupation</th>\n",
              "      <th>relationship</th>\n",
              "      <th>race</th>\n",
              "      <th>gender</th>\n",
              "      <th>capital-gain</th>\n",
              "      <th>capital-loss</th>\n",
              "      <th>hours-per-week</th>\n",
              "      <th>native-country</th>\n",
              "      <th>income</th>\n",
              "    </tr>\n",
              "  </thead>\n",
              "  <tbody>\n",
              "    <tr>\n",
              "      <th>0</th>\n",
              "      <td>20</td>\n",
              "      <td>Private</td>\n",
              "      <td>325033</td>\n",
              "      <td>12th</td>\n",
              "      <td>8</td>\n",
              "      <td>Never-married</td>\n",
              "      <td>Other-service</td>\n",
              "      <td>Own-child</td>\n",
              "      <td>Black</td>\n",
              "      <td>Male</td>\n",
              "      <td>0</td>\n",
              "      <td>0</td>\n",
              "      <td>35</td>\n",
              "      <td>United-States</td>\n",
              "      <td>&gt;50K</td>\n",
              "    </tr>\n",
              "    <tr>\n",
              "      <th>1</th>\n",
              "      <td>19</td>\n",
              "      <td>Private</td>\n",
              "      <td>323605</td>\n",
              "      <td>7th-8th</td>\n",
              "      <td>4</td>\n",
              "      <td>Never-married</td>\n",
              "      <td>Other-service</td>\n",
              "      <td>Not-in-family</td>\n",
              "      <td>White</td>\n",
              "      <td>Male</td>\n",
              "      <td>0</td>\n",
              "      <td>0</td>\n",
              "      <td>60</td>\n",
              "      <td>United-States</td>\n",
              "      <td>&gt;50K</td>\n",
              "    </tr>\n",
              "    <tr>\n",
              "      <th>2</th>\n",
              "      <td>19</td>\n",
              "      <td>?</td>\n",
              "      <td>200790</td>\n",
              "      <td>12th</td>\n",
              "      <td>8</td>\n",
              "      <td>Married-civ-spouse</td>\n",
              "      <td>?</td>\n",
              "      <td>Other-relative</td>\n",
              "      <td>White</td>\n",
              "      <td>Female</td>\n",
              "      <td>15024</td>\n",
              "      <td>0</td>\n",
              "      <td>40</td>\n",
              "      <td>United-States</td>\n",
              "      <td>&gt;50K</td>\n",
              "    </tr>\n",
              "    <tr>\n",
              "      <th>3</th>\n",
              "      <td>28</td>\n",
              "      <td>Local-gov</td>\n",
              "      <td>336951</td>\n",
              "      <td>Assoc-acdm</td>\n",
              "      <td>12</td>\n",
              "      <td>Married-civ-spouse</td>\n",
              "      <td>Protective-serv</td>\n",
              "      <td>Husband</td>\n",
              "      <td>White</td>\n",
              "      <td>Male</td>\n",
              "      <td>0</td>\n",
              "      <td>0</td>\n",
              "      <td>40</td>\n",
              "      <td>United-States</td>\n",
              "      <td>&gt;50K</td>\n",
              "    </tr>\n",
              "    <tr>\n",
              "      <th>4</th>\n",
              "      <td>28</td>\n",
              "      <td>Private</td>\n",
              "      <td>242832</td>\n",
              "      <td>Assoc-voc</td>\n",
              "      <td>11</td>\n",
              "      <td>Married-civ-spouse</td>\n",
              "      <td>Prof-specialty</td>\n",
              "      <td>Wife</td>\n",
              "      <td>White</td>\n",
              "      <td>Female</td>\n",
              "      <td>0</td>\n",
              "      <td>0</td>\n",
              "      <td>36</td>\n",
              "      <td>United-States</td>\n",
              "      <td>&gt;50K</td>\n",
              "    </tr>\n",
              "  </tbody>\n",
              "</table>\n",
              "</div>\n",
              "      <button class=\"colab-df-convert\" onclick=\"convertToInteractive('df-48ff56f3-f0fd-4cd4-8900-5d790e037f6a')\"\n",
              "              title=\"Convert this dataframe to an interactive table.\"\n",
              "              style=\"display:none;\">\n",
              "        \n",
              "  <svg xmlns=\"http://www.w3.org/2000/svg\" height=\"24px\"viewBox=\"0 0 24 24\"\n",
              "       width=\"24px\">\n",
              "    <path d=\"M0 0h24v24H0V0z\" fill=\"none\"/>\n",
              "    <path d=\"M18.56 5.44l.94 2.06.94-2.06 2.06-.94-2.06-.94-.94-2.06-.94 2.06-2.06.94zm-11 1L8.5 8.5l.94-2.06 2.06-.94-2.06-.94L8.5 2.5l-.94 2.06-2.06.94zm10 10l.94 2.06.94-2.06 2.06-.94-2.06-.94-.94-2.06-.94 2.06-2.06.94z\"/><path d=\"M17.41 7.96l-1.37-1.37c-.4-.4-.92-.59-1.43-.59-.52 0-1.04.2-1.43.59L10.3 9.45l-7.72 7.72c-.78.78-.78 2.05 0 2.83L4 21.41c.39.39.9.59 1.41.59.51 0 1.02-.2 1.41-.59l7.78-7.78 2.81-2.81c.8-.78.8-2.07 0-2.86zM5.41 20L4 18.59l7.72-7.72 1.47 1.35L5.41 20z\"/>\n",
              "  </svg>\n",
              "      </button>\n",
              "      \n",
              "  <style>\n",
              "    .colab-df-container {\n",
              "      display:flex;\n",
              "      flex-wrap:wrap;\n",
              "      gap: 12px;\n",
              "    }\n",
              "\n",
              "    .colab-df-convert {\n",
              "      background-color: #E8F0FE;\n",
              "      border: none;\n",
              "      border-radius: 50%;\n",
              "      cursor: pointer;\n",
              "      display: none;\n",
              "      fill: #1967D2;\n",
              "      height: 32px;\n",
              "      padding: 0 0 0 0;\n",
              "      width: 32px;\n",
              "    }\n",
              "\n",
              "    .colab-df-convert:hover {\n",
              "      background-color: #E2EBFA;\n",
              "      box-shadow: 0px 1px 2px rgba(60, 64, 67, 0.3), 0px 1px 3px 1px rgba(60, 64, 67, 0.15);\n",
              "      fill: #174EA6;\n",
              "    }\n",
              "\n",
              "    [theme=dark] .colab-df-convert {\n",
              "      background-color: #3B4455;\n",
              "      fill: #D2E3FC;\n",
              "    }\n",
              "\n",
              "    [theme=dark] .colab-df-convert:hover {\n",
              "      background-color: #434B5C;\n",
              "      box-shadow: 0px 1px 3px 1px rgba(0, 0, 0, 0.15);\n",
              "      filter: drop-shadow(0px 1px 2px rgba(0, 0, 0, 0.3));\n",
              "      fill: #FFFFFF;\n",
              "    }\n",
              "  </style>\n",
              "\n",
              "      <script>\n",
              "        const buttonEl =\n",
              "          document.querySelector('#df-48ff56f3-f0fd-4cd4-8900-5d790e037f6a button.colab-df-convert');\n",
              "        buttonEl.style.display =\n",
              "          google.colab.kernel.accessAllowed ? 'block' : 'none';\n",
              "\n",
              "        async function convertToInteractive(key) {\n",
              "          const element = document.querySelector('#df-48ff56f3-f0fd-4cd4-8900-5d790e037f6a');\n",
              "          const dataTable =\n",
              "            await google.colab.kernel.invokeFunction('convertToInteractive',\n",
              "                                                     [key], {});\n",
              "          if (!dataTable) return;\n",
              "\n",
              "          const docLinkHtml = 'Like what you see? Visit the ' +\n",
              "            '<a target=\"_blank\" href=https://colab.research.google.com/notebooks/data_table.ipynb>data table notebook</a>'\n",
              "            + ' to learn more about interactive tables.';\n",
              "          element.innerHTML = '';\n",
              "          dataTable['output_type'] = 'display_data';\n",
              "          await google.colab.output.renderOutput(dataTable, element);\n",
              "          const docLink = document.createElement('div');\n",
              "          docLink.innerHTML = docLinkHtml;\n",
              "          element.appendChild(docLink);\n",
              "        }\n",
              "      </script>\n",
              "    </div>\n",
              "  </div>\n",
              "  "
            ]
          },
          "metadata": {},
          "execution_count": 83
        }
      ],
      "source": [
        "mar_df.head()"
      ]
    },
    {
      "cell_type": "code",
      "execution_count": 84,
      "metadata": {
        "colab": {
          "base_uri": "https://localhost:8080/",
          "height": 295
        },
        "id": "6VmHQFBz3lxE",
        "outputId": "106bd663-21b0-4b80-89f9-e480e3a1a311"
      },
      "outputs": [
        {
          "output_type": "display_data",
          "data": {
            "text/plain": [
              "<Figure size 432x288 with 1 Axes>"
            ],
            "image/png": "[encoded data removed]"
          },
          "metadata": {
            "needs_background": "light"
          }
        }
      ],
      "source": [
        "plt.hist(mar_df['age'])\n",
        "plt.title('Marginal Query Hist')\n",
        "plt.xlabel('Ages')\n",
        "plt.show()"
      ]
    },
    {
      "cell_type": "code",
      "execution_count": 85,
      "metadata": {
        "id": "q2-hb4CREPat"
      },
      "outputs": [],
      "source": [
        "counts=[]\n",
        "for i in range(int(max_age/10)):\n",
        "  add_df=mar_df[(mar_df['age']>i*10) & (mar_df['age']<=(i+1)*10)]['age']\n",
        "  counts.append(add_df.count())"
      ]
    },
    {
      "cell_type": "code",
      "execution_count": 86,
      "metadata": {
        "colab": {
          "base_uri": "https://localhost:8080/"
        },
        "id": "LDoad0_EFi9m",
        "outputId": "20b1497d-2d17-4fcf-e1a9-b289ecd9a74c"
      },
      "outputs": [
        {
          "output_type": "stream",
          "name": "stdout",
          "text": [
            "[0, 3, 955, 3487, 3860, 2170, 591, 75, 20]\n",
            "['0 to 10', '10 to 20', '20 to 30', '30 to 40', '40 to 50', '50 to 60', '60 to 70', '70 to 80', '80 to 90']\n"
          ]
        }
      ],
      "source": [
        "print(counts)\n",
        "ages=[str(i*10)+\" to \"+str((i+1)*10) for i in range(int(max_age/10))]\n",
        "print(ages)"
      ]
    },
    {
      "cell_type": "code",
      "execution_count": 87,
      "metadata": {
        "colab": {
          "base_uri": "https://localhost:8080/"
        },
        "id": "IxP6LCcCXCqk",
        "outputId": "d1d8081f-f9d8-41b1-a7f5-beefb3570486"
      },
      "outputs": [
        {
          "output_type": "stream",
          "name": "stdout",
          "text": [
            "484755\n",
            "490472\n",
            "1804\n"
          ]
        }
      ],
      "source": [
        "#Age sum approximation from bins\n",
        "est_bin_age_sum=list(map(lambda a: ((a*10)+5)*counts[a], range(len(counts))))\n",
        "print(sum(est_bin_age_sum))\n",
        "#Actual age sum\n",
        "act_age_sum=mar_df['age'].sum()\n",
        "print(act_age_sum)\n",
        "#Minorities' age sum (0<age<=20 and age>80)\n",
        "min_age_sum=mar_df[(mar_df['age']<=20) | (mar_df['age']>80)]['age'].sum()\n",
        "print(min_age_sum)\n",
        "#Two types of error analyses shall be considered: one based purely on counts, \n",
        "#another on estimated age sums (the latter is because otherwise, \n",
        "#we shall not be able to calculate the error for k anonymity using counts purely.)"
      ]
    },
    {
      "cell_type": "code",
      "execution_count": 88,
      "metadata": {
        "colab": {
          "base_uri": "https://localhost:8080/",
          "height": 327
        },
        "id": "w58sEdNtFKVq",
        "outputId": "d19d25ce-e89e-47c6-bbce-61db59bf107d"
      },
      "outputs": [
        {
          "output_type": "display_data",
          "data": {
            "text/plain": [
              "<Figure size 432x288 with 1 Axes>"
            ],
            "image/png": "[encoded data removed]"
          },
          "metadata": {
            "needs_background": "light"
          }
        }
      ],
      "source": [
        "plt.bar(ages,counts)\n",
        "plt.xticks(rotation=90)\n",
        "plt.title('Marginal Query: Raw Counts')\n",
        "plt.xlabel('Ages')\n",
        "plt.ylabel('Counts')\n",
        "plt.show()\n",
        "#Better representation"
      ]
    },
    {
      "cell_type": "markdown",
      "metadata": {
        "id": "yaq_mHTD4iD0"
      },
      "source": [
        "## Anonymisation!! Reallocation first\n",
        "* Threshold = 40\n",
        "\n",
        "So let's say that we have $k$-anonymity with $1\\leq k\\leq 40$, then the following behaviour should be the same in this context."
      ]
    },
    {
      "cell_type": "code",
      "execution_count": 89,
      "metadata": {
        "colab": {
          "base_uri": "https://localhost:8080/",
          "height": 88
        },
        "id": "KYkPIiGS86uI",
        "outputId": "4c59cad0-ef97-4413-f90c-53718bc999b9"
      },
      "outputs": [
        {
          "output_type": "execute_result",
          "data": {
            "text/plain": [
              "'\\ncounts_2=counts[:]\\ncounts_2.append(-1)\\nanon_counts=counts_2[:]\\ni=0\\nwhile anon_counts[i]!=-1:\\n  if anon_counts[i]<40 and anon_counts[i+1]!=-1:\\n    anon_counts[i+1]=anon_counts[i]+anon_counts[i+1]\\n    counts_2[i+1]=counts_2[i]+counts_2[i+1]\\n    del anon_counts[i]\\n    del counts_2[i]\\n    i=0\\n  elif anon_counts[i]<40 and anon_counts[i+1]==-1:\\n    anon_counts[i-1]=anon_counts[i-1]+anon_counts[i]\\n    del anon_counts[i]\\n    i=0\\n'"
            ],
            "application/vnd.google.colaboratory.intrinsic+json": {
              "type": "string"
            }
          },
          "metadata": {},
          "execution_count": 89
        }
      ],
      "source": [
        "'''\n",
        "counts_2=counts[:]\n",
        "counts_2.append(-1)\n",
        "anon_counts=counts_2[:]\n",
        "i=0\n",
        "while anon_counts[i]!=-1:\n",
        "  if anon_counts[i]<40 and anon_counts[i+1]!=-1:\n",
        "    anon_counts[i+1]=anon_counts[i]+anon_counts[i+1]\n",
        "    counts_2[i+1]=counts_2[i]+counts_2[i+1]\n",
        "    del anon_counts[i]\n",
        "    del counts_2[i]\n",
        "    i=0\n",
        "  elif anon_counts[i]<40 and anon_counts[i+1]==-1:\n",
        "    anon_counts[i-1]=anon_counts[i-1]+anon_counts[i]\n",
        "    del anon_counts[i]\n",
        "    i=0\n",
        "'''"
      ]
    },
    {
      "cell_type": "code",
      "execution_count": 90,
      "metadata": {
        "id": "LUaC_EBd1Q1K"
      },
      "outputs": [],
      "source": [
        "#Manually Reallocating\n",
        "#Raw: [0, 3, 955, 3487, 3860, 2170, 591, 75, 20]\n",
        "#Threshold, k = 40\n",
        "anon_40=[958, 3487, 3860, 2170, 591, 95]\n",
        "anon_20=[958, 3487, 3860, 2170, 591, 75, 20]"
      ]
    },
    {
      "cell_type": "code",
      "execution_count": 91,
      "metadata": {
        "colab": {
          "base_uri": "https://localhost:8080/"
        },
        "id": "7uXQ5vFgXCqm",
        "outputId": "bc532031-e1f0-4be1-ab0c-b89045e7ad9b"
      },
      "outputs": [
        {
          "output_type": "stream",
          "name": "stdout",
          "text": [
            "480270 479995\n"
          ]
        }
      ],
      "source": [
        "#Approximating bin age sums w.r.t. bin centres; it should make more sense to calculate starting from the 10 to 20 bracket\n",
        "#Bin centres times the number of minority individuals\n",
        "anon_age_sum_40=np.array([20,35,45,55,65,80])*anon_40\n",
        "anon_age_sum_20=np.array([20,35,45,55,65,75,85])*anon_20\n",
        "print(sum(anon_age_sum_40),sum(anon_age_sum_20))"
      ]
    },
    {
      "cell_type": "code",
      "execution_count": 92,
      "metadata": {
        "colab": {
          "base_uri": "https://localhost:8080/"
        },
        "id": "hBBW8ygfXCqm",
        "outputId": "4f074225-41b1-44d4-9809-1f16c6e0d3e5"
      },
      "outputs": [
        {
          "output_type": "stream",
          "name": "stdout",
          "text": [
            "k = 40 gives 1660 \n",
            "k = 20 gives 1760 \n",
            "Unperturbed bins give  1745 \n",
            "Actual min age sum is  1804\n"
          ]
        }
      ],
      "source": [
        "#Manually calculating minority age sums from these\n",
        "min_age_sum_k40=20*3+80*20\n",
        "min_age_sum_k20=20*3+85*20\n",
        "min_age_sum_bin=15*3+85*20\n",
        "print(\"k = 40 gives\",min_age_sum_k40,\"\\nk = 20 gives\",min_age_sum_k20,\"\\nUnperturbed bins give \",min_age_sum_bin,\"\\nActual min age sum is \",min_age_sum)"
      ]
    },
    {
      "cell_type": "markdown",
      "metadata": {
        "id": "XTcCn_WL9GVS"
      },
      "source": [
        "## Suppression\n",
        "* Threshold = 20"
      ]
    },
    {
      "cell_type": "code",
      "execution_count": 93,
      "metadata": {
        "id": "4C0-1g8S9Ml6"
      },
      "outputs": [],
      "source": [
        "#Suppression\n",
        "supp_counts_20=list(map(lambda a: a if a==max([a,20]) else 0, counts))"
      ]
    },
    {
      "cell_type": "code",
      "execution_count": 94,
      "metadata": {
        "colab": {
          "base_uri": "https://localhost:8080/"
        },
        "id": "XQvvadR29zZT",
        "outputId": "725a3b76-c0b1-4b0c-f049-a3fd091294fc"
      },
      "outputs": [
        {
          "output_type": "stream",
          "name": "stdout",
          "text": [
            "[0, 0, 955, 3487, 3860, 2170, 591, 75, 20]\n"
          ]
        }
      ],
      "source": [
        "print(supp_counts_20)"
      ]
    },
    {
      "cell_type": "code",
      "execution_count": 95,
      "metadata": {
        "colab": {
          "base_uri": "https://localhost:8080/"
        },
        "id": "Gr_huVZr_gsE",
        "outputId": "945c12ef-a98c-4fab-a1e2-6b1f41e1f959"
      },
      "outputs": [
        {
          "output_type": "stream",
          "name": "stdout",
          "text": [
            "3\n"
          ]
        }
      ],
      "source": [
        "#Absolute Error\n",
        "supp_counts_20=np.array(supp_counts_20)\n",
        "counts_np=np.array(counts)\n",
        "abs_err_supp_20_counts=(counts_np-supp_counts_20).sum()\n",
        "print(abs_err_supp_20_counts)"
      ]
    },
    {
      "cell_type": "code",
      "execution_count": 96,
      "metadata": {
        "colab": {
          "base_uri": "https://localhost:8080/"
        },
        "id": "ytoIW-9oXCqn",
        "outputId": "5b28f241-8a34-4e9f-b824-859377987659"
      },
      "outputs": [
        {
          "output_type": "stream",
          "name": "stdout",
          "text": [
            "For a threshold of 20, the minority age sum is  1700\n",
            "484710\n"
          ]
        }
      ],
      "source": [
        "min_age_sum_supp_20=85*20\n",
        "print(\"For a threshold of 20, the minority age sum is \",min_age_sum_supp_20)\n",
        "age_sum_supp_20=sum(list(map(lambda a: ((a*10)+5)*supp_counts_20[a], range(len(supp_counts_20)))))\n",
        "print(age_sum_supp_20)"
      ]
    },
    {
      "cell_type": "code",
      "source": [
        "plt.bar(ages,supp_counts_20)\n",
        "plt.title('Suppression (t=20) : Counts')\n",
        "plt.xlabel('Ages')\n",
        "plt.xticks(rotation=90)\n",
        "plt.show()"
      ],
      "metadata": {
        "colab": {
          "base_uri": "https://localhost:8080/",
          "height": 327
        },
        "id": "m4BfJnt09gh1",
        "outputId": "47be6fec-9276-49ca-9ab7-71412f73f45b"
      },
      "execution_count": 97,
      "outputs": [
        {
          "output_type": "display_data",
          "data": {
            "text/plain": [
              "<Figure size 432x288 with 1 Axes>"
            ],
            "image/png": "[encoded data removed]"
          },
          "metadata": {
            "needs_background": "light"
          }
        }
      ]
    },
    {
      "cell_type": "markdown",
      "metadata": {
        "id": "PeAOkDLtACMD"
      },
      "source": [
        "* Threshold = 40"
      ]
    },
    {
      "cell_type": "code",
      "execution_count": 98,
      "metadata": {
        "colab": {
          "base_uri": "https://localhost:8080/"
        },
        "id": "d7xheILqAFej",
        "outputId": "e8831f45-ecc2-423f-fedb-90f4ad6991bd"
      },
      "outputs": [
        {
          "output_type": "stream",
          "name": "stdout",
          "text": [
            "[0, 0, 955, 3487, 3860, 2170, 591, 75, 0]\n"
          ]
        }
      ],
      "source": [
        "#Suppression\n",
        "supp_counts_40=list(map(lambda a: a if a==max([a,40]) else 0, counts))\n",
        "print(supp_counts_40)"
      ]
    },
    {
      "cell_type": "code",
      "execution_count": 189,
      "metadata": {
        "colab": {
          "base_uri": "https://localhost:8080/"
        },
        "id": "vnaQWQBtAdQw",
        "outputId": "0ebd6160-8b50-4ded-baff-140d64c12664"
      },
      "outputs": [
        {
          "output_type": "stream",
          "name": "stdout",
          "text": [
            "23\n"
          ]
        }
      ],
      "source": [
        "#Absolute Error\n",
        "supp_counts_40=np.array(supp_counts_40)\n",
        "abs_err_supp_40_counts=(abs(counts_np-supp_counts_40)).sum()\n",
        "print(abs_err_supp_40_counts)"
      ]
    },
    {
      "cell_type": "code",
      "execution_count": 100,
      "metadata": {
        "colab": {
          "base_uri": "https://localhost:8080/"
        },
        "id": "ePJTJQ7kXCqo",
        "outputId": "936d9243-797e-4fec-8fc8-1bc94c3f41c5"
      },
      "outputs": [
        {
          "output_type": "stream",
          "name": "stdout",
          "text": [
            "For a threshold of 40, the minority age sum is  0\n",
            "483010\n"
          ]
        }
      ],
      "source": [
        "min_age_sum_supp_40=0\n",
        "print(\"For a threshold of 40, the minority age sum is \",min_age_sum_supp_40)\n",
        "age_sum_supp_40=sum(list(map(lambda a: ((a*10)+5)*supp_counts_40[a], range(len(supp_counts_40)))))\n",
        "print(age_sum_supp_40)"
      ]
    },
    {
      "cell_type": "code",
      "source": [
        "plt.bar(ages,supp_counts_40)\n",
        "plt.title('Suppression (t=40) : Counts')\n",
        "plt.xlabel('Ages')\n",
        "plt.xticks(rotation=90)\n",
        "plt.show()"
      ],
      "metadata": {
        "colab": {
          "base_uri": "https://localhost:8080/",
          "height": 327
        },
        "id": "F1SXgjDqArko",
        "outputId": "1006e83f-3750-4a74-bd36-e443c3306e45"
      },
      "execution_count": 101,
      "outputs": [
        {
          "output_type": "display_data",
          "data": {
            "text/plain": [
              "<Figure size 432x288 with 1 Axes>"
            ],
            "image/png": "[encoded data removed]"
          },
          "metadata": {
            "needs_background": "light"
          }
        }
      ]
    },
    {
      "cell_type": "markdown",
      "metadata": {
        "id": "xEjWkMjQ4n9G"
      },
      "source": [
        "## Enter the Discrete Laplace/Geometric Mechanism :)"
      ]
    },
    {
      "cell_type": "code",
      "execution_count": 102,
      "metadata": {
        "id": "cE-PdkSND38H"
      },
      "outputs": [],
      "source": [
        "eps=1"
      ]
    },
    {
      "cell_type": "code",
      "execution_count": 103,
      "metadata": {
        "id": "7bqrgrAXhOMV"
      },
      "outputs": [],
      "source": [
        "import random"
      ]
    },
    {
      "cell_type": "code",
      "execution_count": 104,
      "metadata": {
        "id": "JwKzfFibgcTO"
      },
      "outputs": [],
      "source": [
        "#Code Block Credits : Andrew Reed (https://mathoverflow.net/questions/213221/what-is-a-two-sided-geometric-distribution)\n",
        "def zeroProb(p):\n",
        "#                    this is the chance of \"staying put at 0\"\n",
        "  if random.random()<(1.0 - p)/(1.0 + p):\n",
        "    return 0\n",
        "  else:\n",
        "    return 1\n",
        "    # Coin flip to determine if the result is negative or positive.\n",
        "    # This only applies when we \"leave 0.\"\n",
        "def signProb():\n",
        "  if random.random() < 0.5:\n",
        "    return -1\n",
        "  else:\n",
        "    return 1\n",
        "\n",
        "def twoSidedGeoDist(p):\n",
        "#      (1) Did we \"leave 0\"? [Y=1|N=0]          (3) +/-\n",
        "  return zeroProb(p) * np.random.geometric(1-p) * signProb()\n",
        "def mech_disclaplace(eps,sens=1):\n",
        "  return twoSidedGeoDist(math.e**(-eps))"
      ]
    },
    {
      "cell_type": "code",
      "execution_count": 105,
      "metadata": {
        "id": "hFPCIzFhXNMM"
      },
      "outputs": [],
      "source": [
        "dp_counts=[]\n",
        "for i in range(len(counts)):\n",
        "  dp_counts.append(counts[i]+twoSidedGeoDist(math.e**(-eps)))\n",
        "  #dp_counts.append(counts[i]+np.random.laplace(1/eps))\n",
        "  #dp_counts.append(counts[i]+np.random.geometric(((math.e**eps)-1)/(2*((math.e**2)-1))))"
      ]
    },
    {
      "cell_type": "code",
      "execution_count": 106,
      "metadata": {
        "colab": {
          "base_uri": "https://localhost:8080/"
        },
        "id": "nmgD5TH-ZkoI",
        "outputId": "08da1406-1387-4fcf-aec8-ec2b89597c07",
        "scrolled": true
      },
      "outputs": [
        {
          "output_type": "stream",
          "name": "stdout",
          "text": [
            "[1, 2, 958, 3486, 3862, 2171, 591, 75, 21]\n"
          ]
        }
      ],
      "source": [
        "print(dp_counts)"
      ]
    },
    {
      "cell_type": "code",
      "execution_count": 107,
      "metadata": {
        "colab": {
          "base_uri": "https://localhost:8080/"
        },
        "id": "L2NO3IaeZyJv",
        "outputId": "56d2ce7c-96e8-44d4-d182-305c86d94bfd"
      },
      "outputs": [
        {
          "output_type": "execute_result",
          "data": {
            "text/plain": [
              "11167"
            ]
          },
          "metadata": {},
          "execution_count": 107
        }
      ],
      "source": [
        "sum(dp_counts)\n",
        "#sum(counts)"
      ]
    },
    {
      "cell_type": "code",
      "execution_count": 108,
      "metadata": {
        "colab": {
          "base_uri": "https://localhost:8080/",
          "height": 266
        },
        "id": "baMjFkkuZWA9",
        "outputId": "867f790a-3a20-4397-eb03-6d2b78381a65"
      },
      "outputs": [
        {
          "output_type": "display_data",
          "data": {
            "text/plain": [
              "<Figure size 432x288 with 1 Axes>"
            ],
            "image/png": "[encoded data removed]"
          },
          "metadata": {
            "needs_background": "light"
          }
        }
      ],
      "source": [
        "#First run of the Discrete Laplace Mech. Works!\n",
        "plt.bar(ages,dp_counts)\n",
        "plt.show()"
      ]
    },
    {
      "cell_type": "markdown",
      "metadata": {
        "id": "plpTZRK5mDv5"
      },
      "source": [
        "### Errors. Errors everywhere.\n",
        "#### DP\n",
        "1. For $\\epsilon=1$."
      ]
    },
    {
      "cell_type": "code",
      "execution_count": 109,
      "metadata": {
        "colab": {
          "base_uri": "https://localhost:8080/"
        },
        "id": "zyYR841smNML",
        "outputId": "50f6e347-df7e-4022-d556-a8c655324338"
      },
      "outputs": [
        {
          "output_type": "stream",
          "name": "stdout",
          "text": [
            "6\n"
          ]
        }
      ],
      "source": [
        "eps=1\n",
        "counts_np=np.array(counts)\n",
        "dp_counts_np=np.array(dp_counts)\n",
        "err_dp=(counts_np-dp_counts_np).sum()\n",
        "print(abs(err_dp))"
      ]
    },
    {
      "cell_type": "markdown",
      "metadata": {
        "id": "sS1zxb_Rmu3M"
      },
      "source": [
        "#### Looks great. Multiple iterations now.\n",
        "\n",
        "100 iterations. Focus on the 5-10 worst error values.\n",
        "\n",
        "Edit: 1000 iterations!"
      ]
    },
    {
      "cell_type": "code",
      "execution_count": 110,
      "metadata": {
        "id": "mZQBGL2mm2sj"
      },
      "outputs": [],
      "source": [
        "eps=1\n",
        "error_vec_1=[]\n",
        "dp_count_vec_1=[]\n",
        "dp_counts_sum_1=np.zeros(len(counts))\n",
        "err_worst_dp_1=[[0 for col in range(len(counts))] for row in range(10)]\n",
        "for i in range(1000):\n",
        "  dp_counts_1=[]\n",
        "  for i in range(len(counts)):\n",
        "    dp_counts_1.append(counts[i]+twoSidedGeoDist(math.e**(-eps)))\n",
        "  dp_counts_np_1=np.array(dp_counts_1)\n",
        "  dp_count_vec_1.append(dp_counts_np_1)\n",
        "  counts_np=np.array(counts)\n",
        "  err_dp=(abs(counts_np-dp_counts_np_1)).sum()\n",
        "  error_vec_1.append(err_dp)\n",
        "  dp_counts_sum_1=dp_counts_sum_1+dp_counts_np_1\n",
        "dp_avg_counts_1=dp_counts_sum_1/1000"
      ]
    },
    {
      "cell_type": "code",
      "execution_count": 111,
      "metadata": {
        "colab": {
          "base_uri": "https://localhost:8080/"
        },
        "id": "3NZAutRxoLd2",
        "outputId": "1eb474c5-bf6f-4be1-f35c-f12e72a13a23",
        "scrolled": true
      },
      "outputs": [
        {
          "output_type": "stream",
          "name": "stdout",
          "text": [
            "[ 0  0  0  1  1  1  1  1  1  1  1  2  2  2  2  2  2  2  2  2  2  2  2  2\n",
            "  2  2  2  2  2  2  2  2  2  2  3  3  3  3  3  3  3  3  3  3  3  3  3  3\n",
            "  3  3  3  3  3  3  3  3  3  3  3  3  3  3  3  3  3  3  3  3  3  3  3  3\n",
            "  3  3  3  3  3  3  4  4  4  4  4  4  4  4  4  4  4  4  4  4  4  4  4  4\n",
            "  4  4  4  4  4  4  4  4  4  4  4  4  4  4  4  4  4  4  4  4  4  4  4  4\n",
            "  4  4  4  4  4  4  4  4  4  4  4  4  4  4  4  4  4  4  4  4  4  4  4  4\n",
            "  4  4  4  4  4  4  4  4  4  4  4  4  4  4  5  5  5  5  5  5  5  5  5  5\n",
            "  5  5  5  5  5  5  5  5  5  5  5  5  5  5  5  5  5  5  5  5  5  5  5  5\n",
            "  5  5  5  5  5  5  5  5  5  5  5  5  5  5  5  5  5  5  5  5  5  5  5  5\n",
            "  5  5  5  5  5  5  5  5  5  5  5  5  5  5  5  5  5  5  5  5  5  5  5  5\n",
            "  5  5  5  5  5  5  5  5  5  5  5  5  5  5  5  5  5  5  5  5  5  5  5  5\n",
            "  5  5  5  5  5  6  6  6  6  6  6  6  6  6  6  6  6  6  6  6  6  6  6  6\n",
            "  6  6  6  6  6  6  6  6  6  6  6  6  6  6  6  6  6  6  6  6  6  6  6  6\n",
            "  6  6  6  6  6  6  6  6  6  6  6  6  6  6  6  6  6  6  6  6  6  6  6  6\n",
            "  6  6  6  6  6  6  6  6  6  6  6  6  6  6  6  6  6  6  6  6  6  6  6  6\n",
            "  6  6  6  6  6  6  6  6  6  6  6  6  6  6  6  6  6  6  6  6  6  6  6  6\n",
            "  6  6  6  6  6  6  6  6  6  6  6  6  6  6  7  7  7  7  7  7  7  7  7  7\n",
            "  7  7  7  7  7  7  7  7  7  7  7  7  7  7  7  7  7  7  7  7  7  7  7  7\n",
            "  7  7  7  7  7  7  7  7  7  7  7  7  7  7  7  7  7  7  7  7  7  7  7  7\n",
            "  7  7  7  7  7  7  7  7  7  7  7  7  7  7  7  7  7  7  7  7  7  7  7  7\n",
            "  7  7  7  7  7  7  7  7  7  7  7  7  7  7  7  7  7  7  7  7  7  7  7  7\n",
            "  7  7  7  7  7  7  7  7  7  7  7  7  7  7  7  8  8  8  8  8  8  8  8  8\n",
            "  8  8  8  8  8  8  8  8  8  8  8  8  8  8  8  8  8  8  8  8  8  8  8  8\n",
            "  8  8  8  8  8  8  8  8  8  8  8  8  8  8  8  8  8  8  8  8  8  8  8  8\n",
            "  8  8  8  8  8  8  8  8  8  8  8  8  8  8  8  8  8  8  8  8  8  8  8  8\n",
            "  8  8  8  8  8  8  8  8  8  8  8  8  8  8  8  8  8  8  8  8  8  8  8  8\n",
            "  8  8  8  8  8  8  8  8  8  8  8  8  8  8  8  8  8  8  8  8  8  8  8  8\n",
            "  8  8  8  8  8  8  8  8  8  8  9  9  9  9  9  9  9  9  9  9  9  9  9  9\n",
            "  9  9  9  9  9  9  9  9  9  9  9  9  9  9  9  9  9  9  9  9  9  9  9  9\n",
            "  9  9  9  9  9  9  9  9  9  9  9  9  9  9  9  9  9  9  9  9  9  9  9  9\n",
            "  9  9  9  9  9  9  9  9  9  9  9  9  9  9  9  9  9  9  9  9  9  9  9  9\n",
            "  9  9  9  9  9  9 10 10 10 10 10 10 10 10 10 10 10 10 10 10 10 10 10 10\n",
            " 10 10 10 10 10 10 10 10 10 10 10 10 10 10 10 10 10 10 10 10 10 10 10 10\n",
            " 10 10 10 10 10 10 10 10 10 10 10 10 10 10 10 10 10 10 10 10 10 10 10 10\n",
            " 10 10 10 10 11 11 11 11 11 11 11 11 11 11 11 11 11 11 11 11 11 11 11 11\n",
            " 11 11 11 11 11 11 11 11 11 11 11 11 11 11 11 11 11 11 11 11 11 11 11 11\n",
            " 11 11 11 11 11 11 11 11 11 11 11 11 11 11 11 11 11 11 11 11 11 11 11 11\n",
            " 11 12 12 12 12 12 12 12 12 12 12 12 12 12 12 12 12 12 12 12 12 12 12 12\n",
            " 12 12 12 12 12 12 12 12 12 12 12 12 12 12 12 13 13 13 13 13 13 13 13 13\n",
            " 13 13 13 13 13 13 13 13 13 13 13 13 13 13 13 13 13 13 13 13 14 14 14 14\n",
            " 14 14 14 14 14 14 14 14 14 14 14 14 14 14 14 14 14 15 15 15 15 15 15 15\n",
            " 15 15 15 16 16 17 17 17 17 17 17 17 19 19 19 21]\n"
          ]
        }
      ],
      "source": [
        "#Absolute error vector\n",
        "error_vec_1=abs(np.array(error_vec_1))\n",
        "error_vec_1.sort()\n",
        "print(error_vec_1)"
      ]
    },
    {
      "cell_type": "code",
      "execution_count": 112,
      "metadata": {
        "colab": {
          "base_uri": "https://localhost:8080/"
        },
        "id": "lvzjOLa5qa33",
        "outputId": "381f0b90-529c-4d37-d1c2-e846fbeecd70"
      },
      "outputs": [
        {
          "output_type": "stream",
          "name": "stdout",
          "text": [
            "[17 17 17 17 17 17 19 19 19 21]\n",
            "18.0\n"
          ]
        }
      ],
      "source": [
        "#extracting the worst absolute errors (count)\n",
        "err_worst_dp_1=error_vec_1[-10:]\n",
        "print(err_worst_dp_1)\n",
        "print(sum(err_worst_dp_1)/len(err_worst_dp_1))"
      ]
    },
    {
      "cell_type": "code",
      "execution_count": 153,
      "metadata": {
        "id": "VnfU13lWXCqq",
        "colab": {
          "base_uri": "https://localhost:8080/"
        },
        "outputId": "9f6fe6af-9c93-4003-9ee4-70ba9a975615"
      },
      "outputs": [
        {
          "output_type": "stream",
          "name": "stdout",
          "text": [
            "11\n"
          ]
        }
      ],
      "source": [
        "#Least amount of error to make it onto the naughty list; it only makes sense to have all the similarly ill performing histograms included\n",
        "dp_cutoff_1=abs(min(err_worst_dp_1))\n",
        "#print(dp_cutoff_1)\n",
        "dp_worst_vec_1=[]\n",
        "for i in range(len(dp_count_vec_1)):\n",
        "    c=sum(abs(dp_count_vec_1[i]-counts_np))\n",
        "    #print(c)\n",
        "    if (c>=dp_cutoff_1):\n",
        "        dp_worst_vec_1.append(dp_count_vec_1[i])\n",
        "print(len(dp_worst_vec_1))"
      ]
    },
    {
      "cell_type": "code",
      "source": [
        "dp_worst_sums_1=[]\n",
        "for i in range(len(dp_worst_vec_1)):\n",
        "  dp_worst_sums_1.append(sum(dp_worst_vec_1[i]*np.arange(5,86,10)))\n",
        "print(dp_worst_sums_1)"
      ],
      "metadata": {
        "colab": {
          "base_uri": "https://localhost:8080/"
        },
        "id": "n2GaYI4DZOwO",
        "outputId": "b14060e1-028d-4aee-d3ec-44731e9a0747"
      },
      "execution_count": 154,
      "outputs": [
        {
          "output_type": "stream",
          "name": "stdout",
          "text": [
            "[484380, 484930, 484340, 484830, 485190, 484220, 484950, 484670, 484490, 484650, 484970]\n"
          ]
        }
      ]
    },
    {
      "cell_type": "code",
      "execution_count": 155,
      "metadata": {
        "colab": {
          "base_uri": "https://localhost:8080/",
          "height": 279
        },
        "id": "R1nL8HsIrAyc",
        "outputId": "e8dae92a-7394-4c99-f3ee-a2e5d9378147",
        "scrolled": true
      },
      "outputs": [
        {
          "output_type": "display_data",
          "data": {
            "text/plain": [
              "<Figure size 432x288 with 1 Axes>"
            ],
            "image/png": "[encoded data removed]"
          },
          "metadata": {
            "needs_background": "light"
          }
        }
      ],
      "source": [
        "plt.hist(error_vec_1)\n",
        "plt.xlabel(\"Abs Error Sum Magnitude\")\n",
        "plt.ylabel(\"Occurrences\")\n",
        "plt.show()"
      ]
    },
    {
      "cell_type": "code",
      "execution_count": 156,
      "metadata": {
        "colab": {
          "base_uri": "https://localhost:8080/",
          "height": 295
        },
        "id": "1_jlOa-hxpSe",
        "outputId": "0aec0c61-3fc6-4b46-8f92-e75c0c932fa5"
      },
      "outputs": [
        {
          "output_type": "display_data",
          "data": {
            "text/plain": [
              "<Figure size 432x288 with 1 Axes>"
            ],
            "image/png": "[encoded data removed]"
          },
          "metadata": {
            "needs_background": "light"
          }
        }
      ],
      "source": [
        "# Vs Suppression\n",
        "abs_err_supp_arr_1=np.ones(len(err_worst_dp_1))*abs_err_supp_40_counts\n",
        "plt.scatter(range(len(err_worst_dp_1)),err_worst_dp_1-abs_err_supp_arr_1)\n",
        "plt.xlabel(\"Index of Runs\")\n",
        "plt.ylabel(\"DP Error Rel to Supp Error\")\n",
        "plt.title(\"DP vs Suppression - Error Analysis (eps=1)\")\n",
        "plt.show()\n",
        "#DP outperforms this very well"
      ]
    },
    {
      "cell_type": "code",
      "source": [
        "# Vs Suppression\n",
        "abs_err_supp_arr_1=np.ones(len(err_worst_dp_1))*abs_err_supp_20_counts\n",
        "plt.scatter(range(len(err_worst_dp_1)),err_worst_dp_1-abs_err_supp_arr_1)\n",
        "plt.xlabel(\"Index of Runs\")\n",
        "plt.ylabel(\"DP Error Rel to Supp Error\")\n",
        "plt.title(\"DP vs Suppression - Error Analysis (eps=1)\")\n",
        "plt.show()\n",
        "#DP outperforms this very well"
      ],
      "metadata": {
        "colab": {
          "base_uri": "https://localhost:8080/",
          "height": 295
        },
        "id": "Xl8lC4_8NCua",
        "outputId": "7a62adf6-69e2-48a9-da4d-b72fe33e2e22"
      },
      "execution_count": 190,
      "outputs": [
        {
          "output_type": "display_data",
          "data": {
            "text/plain": [
              "<Figure size 432x288 with 1 Axes>"
            ],
            "image/png": "[encoded data removed]"
          },
          "metadata": {
            "needs_background": "light"
          }
        }
      ]
    },
    {
      "cell_type": "code",
      "execution_count": 157,
      "metadata": {
        "colab": {
          "base_uri": "https://localhost:8080/"
        },
        "id": "aInfmqFxXCqs",
        "outputId": "8f9e59b2-dd8f-48ca-f705-ba7a38bee63f"
      },
      "outputs": [
        {
          "output_type": "stream",
          "name": "stdout",
          "text": [
            "484755.365\n",
            "1744.0549999999998\n"
          ]
        }
      ],
      "source": [
        "#Age sums\n",
        "age_sum_dp_1=sum(list(map(lambda a: ((a*10)+5)*dp_avg_counts_1[a], range(len(dp_avg_counts_1)))))\n",
        "print(age_sum_dp_1)\n",
        "#Minority Age Sum\n",
        "min_age_sum_dp_1=15*dp_avg_counts_1[1]+85*dp_avg_counts_1[-1]\n",
        "print(min_age_sum_dp_1)"
      ]
    },
    {
      "cell_type": "markdown",
      "metadata": {
        "id": "2GBrqdIrs3Tu"
      },
      "source": [
        "Great. Now for\n",
        "\n",
        "2. $\\epsilon=2$"
      ]
    },
    {
      "cell_type": "code",
      "execution_count": 197,
      "metadata": {
        "id": "ERj_Zw2ss3Tw"
      },
      "outputs": [],
      "source": [
        "error_vec_2=[]\n",
        "eps=2\n",
        "dp_count_vec_2=[]\n",
        "dp_counts_sum_2=np.zeros(len(counts))\n",
        "for i in range(1000):\n",
        "  dp_counts_2=[]\n",
        "  for i in range(len(counts)):\n",
        "    dp_counts_2.append(counts[i]+twoSidedGeoDist(math.e**(-eps)))\n",
        "  dp_counts_np_2=np.array(dp_counts_2)\n",
        "  dp_count_vec_2.append(dp_counts_np_2)\n",
        "  counts_np=np.array(counts)\n",
        "  err_dp=(abs(counts_np-dp_counts_np_2)).sum()\n",
        "  error_vec_2.append(err_dp)\n",
        "  dp_counts_sum_2=dp_counts_sum_2+dp_counts_np\n",
        "dp_avg_counts_2=dp_counts_sum_2/1000"
      ]
    },
    {
      "cell_type": "code",
      "execution_count": 198,
      "metadata": {
        "colab": {
          "base_uri": "https://localhost:8080/"
        },
        "id": "H71BoW82s3Ty",
        "outputId": "8005835a-35b8-4548-f44e-8a3fa82d9661"
      },
      "outputs": [
        {
          "output_type": "stream",
          "name": "stdout",
          "text": [
            "[0 0 0 0 0 0 0 0 0 0 0 0 0 0 0 0 0 0 0 0 0 0 0 0 0 0 0 0 0 0 0 0 0 0 0 0 0\n",
            " 0 0 0 0 0 0 0 0 0 0 0 0 0 0 0 0 0 0 0 0 0 0 0 0 0 0 0 0 0 0 0 0 0 0 0 0 0\n",
            " 0 0 1 1 1 1 1 1 1 1 1 1 1 1 1 1 1 1 1 1 1 1 1 1 1 1 1 1 1 1 1 1 1 1 1 1 1\n",
            " 1 1 1 1 1 1 1 1 1 1 1 1 1 1 1 1 1 1 1 1 1 1 1 1 1 1 1 1 1 1 1 1 1 1 1 1 1\n",
            " 1 1 1 1 1 1 1 1 1 1 1 1 1 1 1 1 1 1 1 1 1 1 1 1 1 1 1 1 1 1 1 1 1 1 1 1 1\n",
            " 1 1 1 1 1 1 1 1 1 1 1 1 1 1 1 1 1 1 1 1 1 1 1 1 1 1 1 1 1 1 1 1 1 1 1 1 1\n",
            " 1 1 1 1 1 1 1 1 1 1 1 1 1 1 1 1 1 1 1 1 1 1 1 1 1 1 1 1 1 1 1 1 1 1 1 1 1\n",
            " 1 1 1 1 1 1 1 1 1 1 1 1 1 1 1 1 1 2 2 2 2 2 2 2 2 2 2 2 2 2 2 2 2 2 2 2 2\n",
            " 2 2 2 2 2 2 2 2 2 2 2 2 2 2 2 2 2 2 2 2 2 2 2 2 2 2 2 2 2 2 2 2 2 2 2 2 2\n",
            " 2 2 2 2 2 2 2 2 2 2 2 2 2 2 2 2 2 2 2 2 2 2 2 2 2 2 2 2 2 2 2 2 2 2 2 2 2\n",
            " 2 2 2 2 2 2 2 2 2 2 2 2 2 2 2 2 2 2 2 2 2 2 2 2 2 2 2 2 2 2 2 2 2 2 2 2 2\n",
            " 2 2 2 2 2 2 2 2 2 2 2 2 2 2 2 2 2 2 2 2 2 2 2 2 2 2 2 2 2 2 2 2 2 2 2 2 2\n",
            " 2 2 2 2 2 2 2 2 2 2 2 2 2 2 2 2 2 2 2 2 2 2 2 2 2 2 2 2 2 2 2 2 2 2 2 2 2\n",
            " 2 2 2 2 2 2 2 2 2 2 2 2 2 2 2 2 2 2 2 2 2 2 2 2 2 2 2 2 2 2 2 2 2 2 2 2 2\n",
            " 2 2 2 2 2 2 2 2 2 2 2 2 2 2 2 2 2 2 2 2 2 2 2 2 2 2 2 2 2 2 3 3 3 3 3 3 3\n",
            " 3 3 3 3 3 3 3 3 3 3 3 3 3 3 3 3 3 3 3 3 3 3 3 3 3 3 3 3 3 3 3 3 3 3 3 3 3\n",
            " 3 3 3 3 3 3 3 3 3 3 3 3 3 3 3 3 3 3 3 3 3 3 3 3 3 3 3 3 3 3 3 3 3 3 3 3 3\n",
            " 3 3 3 3 3 3 3 3 3 3 3 3 3 3 3 3 3 3 3 3 3 3 3 3 3 3 3 3 3 3 3 3 3 3 3 3 3\n",
            " 3 3 3 3 3 3 3 3 3 3 3 3 3 3 3 3 3 3 3 3 3 3 3 3 3 3 3 3 3 3 3 3 3 3 3 3 3\n",
            " 3 3 3 3 3 3 3 3 3 3 3 3 3 3 3 3 3 3 3 3 3 3 3 3 3 3 3 3 3 3 3 3 3 3 3 3 3\n",
            " 3 3 3 3 3 3 3 3 3 3 3 3 4 4 4 4 4 4 4 4 4 4 4 4 4 4 4 4 4 4 4 4 4 4 4 4 4\n",
            " 4 4 4 4 4 4 4 4 4 4 4 4 4 4 4 4 4 4 4 4 4 4 4 4 4 4 4 4 4 4 4 4 4 4 4 4 4\n",
            " 4 4 4 4 4 4 4 4 4 4 4 4 4 4 4 4 4 4 4 4 4 4 4 4 4 4 4 4 4 4 4 4 4 4 4 4 4\n",
            " 4 4 4 4 4 4 4 4 4 4 4 4 4 4 4 4 4 4 4 4 4 4 4 4 4 4 4 4 4 4 4 4 4 4 4 4 4\n",
            " 4 4 4 4 5 5 5 5 5 5 5 5 5 5 5 5 5 5 5 5 5 5 5 5 5 5 5 5 5 5 5 5 5 5 5 5 5\n",
            " 5 5 5 5 5 5 5 5 5 5 5 5 5 5 5 5 5 5 5 5 5 5 5 5 5 5 5 5 6 6 6 6 6 6 6 6 6\n",
            " 6 6 6 6 6 6 6 6 6 6 6 6 6 6 6 6 6 6 6 6 6 6 7 7 7 7 7 7 7 7 7 7 7 8 8 8 8\n",
            " 8]\n"
          ]
        }
      ],
      "source": [
        "#Absolute error vector\n",
        "error_vec_2=abs(np.array(error_vec_2))\n",
        "error_vec_2.sort()\n",
        "print(error_vec_2)"
      ]
    },
    {
      "cell_type": "code",
      "execution_count": 199,
      "metadata": {
        "colab": {
          "base_uri": "https://localhost:8080/"
        },
        "id": "kegcM2FQs3T1",
        "outputId": "b7343ca2-2a3d-4dae-cfc4-e57d874df5d8"
      },
      "outputs": [
        {
          "output_type": "stream",
          "name": "stdout",
          "text": [
            "[7 7 7 7 7 8 8 8 8 8]\n",
            "7.5\n"
          ]
        }
      ],
      "source": [
        "#extracting the worst absolute errors\n",
        "err_worst_dp_2=error_vec_2[-10:]\n",
        "print(err_worst_dp_2)\n",
        "print(sum(err_worst_dp_2)/len(err_worst_dp_2))"
      ]
    },
    {
      "cell_type": "code",
      "source": [
        "#Least amount of error to make it onto the naughty list; it only makes sense to have all the similarly ill performing histograms included\n",
        "dp_cutoff_2=abs(min(err_worst_dp_2))\n",
        "print(dp_cutoff_2)\n",
        "#print(err_worst_dp_2)\n",
        "dp_worst_vec_2=[]\n",
        "for i in range(len(dp_count_vec_2)):\n",
        "    c=sum(abs((dp_count_vec_2[i]-counts_np)))\n",
        "    if (c>=dp_cutoff_2):\n",
        "        dp_worst_vec_2.append(dp_count_vec_2[i])\n",
        "print(len(dp_worst_vec_2))"
      ],
      "metadata": {
        "colab": {
          "base_uri": "https://localhost:8080/"
        },
        "id": "0pm9H73fcbiL",
        "outputId": "c74115f2-d1e0-41c1-bf54-c669ad720a36"
      },
      "execution_count": 225,
      "outputs": [
        {
          "output_type": "stream",
          "name": "stdout",
          "text": [
            "7\n",
            "16\n"
          ]
        }
      ]
    },
    {
      "cell_type": "code",
      "source": [
        "dp_worst_sums_2=[]\n",
        "for i in range(len(dp_worst_vec_2)):\n",
        "  dp_worst_sums_2.append(sum(dp_worst_vec_2[i]*np.arange(5,86,10)))\n",
        "print(dp_worst_sums_2)"
      ],
      "metadata": {
        "colab": {
          "base_uri": "https://localhost:8080/"
        },
        "id": "YvVdrRcCc2Bo",
        "outputId": "d8226823-394d-4b57-c7f8-7c3b47829057"
      },
      "execution_count": 226,
      "outputs": [
        {
          "output_type": "stream",
          "name": "stdout",
          "text": [
            "[484725, 485000, 484550, 484515, 484440, 484885, 485010, 484940, 484510, 484715, 484740, 484930, 484540, 484645, 484460, 484720]\n"
          ]
        }
      ]
    },
    {
      "cell_type": "code",
      "execution_count": 227,
      "metadata": {
        "colab": {
          "base_uri": "https://localhost:8080/",
          "height": 279
        },
        "id": "ISKHwfvxs3T2",
        "outputId": "45cbb18a-5fae-4767-d697-5030952d3510"
      },
      "outputs": [
        {
          "output_type": "display_data",
          "data": {
            "text/plain": [
              "<Figure size 432x288 with 1 Axes>"
            ],
            "image/png": "[encoded data removed]"
          },
          "metadata": {
            "needs_background": "light"
          }
        }
      ],
      "source": [
        "#Visualising empirical error : looks like a discrete Laplace distribution\n",
        "plt.hist(error_vec_2)\n",
        "plt.xlabel(\"Abs Error Sum Magnitude\")\n",
        "plt.ylabel(\"Occurrences\")\n",
        "plt.show()"
      ]
    },
    {
      "cell_type": "code",
      "execution_count": 228,
      "metadata": {
        "colab": {
          "base_uri": "https://localhost:8080/",
          "height": 295
        },
        "id": "HcMVqe01zto8",
        "outputId": "57dd1bf7-74fe-4027-aa0c-93a7caebd0fc"
      },
      "outputs": [
        {
          "output_type": "display_data",
          "data": {
            "text/plain": [
              "<Figure size 432x288 with 1 Axes>"
            ],
            "image/png": "[encoded data removed]"
          },
          "metadata": {
            "needs_background": "light"
          }
        }
      ],
      "source": [
        "# Vs Suppression\n",
        "abs_err_supp_arr_2=np.ones(len(err_worst_dp_2))*abs_err_supp_40_counts\n",
        "plt.scatter(range(len(err_worst_dp_2)),err_worst_dp_2-abs_err_supp_arr_2)\n",
        "plt.xlabel(\"Index of Runs\")\n",
        "plt.ylabel(\"DP Error Rel to Supp Error\")\n",
        "plt.title(\"DP vs Suppression - Error Analysis (eps=2)\")\n",
        "plt.show()"
      ]
    },
    {
      "cell_type": "code",
      "source": [
        "# Vs Suppression\n",
        "abs_err_supp_arr_2=np.ones(len(err_worst_dp_2))*abs_err_supp_20_counts\n",
        "plt.scatter(range(len(err_worst_dp_2)),err_worst_dp_2-abs_err_supp_arr_2)\n",
        "plt.xlabel(\"Index of Runs\")\n",
        "plt.ylabel(\"DP Error Rel to Supp Error\")\n",
        "plt.title(\"DP vs Suppression - Error Analysis (eps=2)\")\n",
        "plt.show()"
      ],
      "metadata": {
        "colab": {
          "base_uri": "https://localhost:8080/",
          "height": 295
        },
        "id": "Rm1y5EeZSP_d",
        "outputId": "9e180dbe-22a4-4f32-a1f1-24d60bf048b6"
      },
      "execution_count": 229,
      "outputs": [
        {
          "output_type": "display_data",
          "data": {
            "text/plain": [
              "<Figure size 432x288 with 1 Axes>"
            ],
            "image/png": "[encoded data removed]"
          },
          "metadata": {
            "needs_background": "light"
          }
        }
      ]
    },
    {
      "cell_type": "code",
      "execution_count": 205,
      "metadata": {
        "colab": {
          "base_uri": "https://localhost:8080/"
        },
        "id": "KJfasPG8XCqt",
        "outputId": "6bc63054-f20a-469d-85ec-9b0a73ac8fca"
      },
      "outputs": [
        {
          "output_type": "stream",
          "name": "stdout",
          "text": [
            "485015.0\n",
            "1815.0\n"
          ]
        }
      ],
      "source": [
        "#Age sums\n",
        "age_sum_dp_2=sum(list(map(lambda a: ((a*10)+5)*dp_avg_counts_2[a], range(len(dp_counts_2)))))\n",
        "print(age_sum_dp_2)\n",
        "#Minority Age Sum\n",
        "min_age_sum_dp_2=15*dp_avg_counts_2[1]+85*dp_avg_counts_2[-1]\n",
        "print(min_age_sum_dp_2)"
      ]
    },
    {
      "cell_type": "markdown",
      "metadata": {
        "id": "ChtoRe51tUBT"
      },
      "source": [
        "So far so good, everything is going as expected. Now for\n",
        "\n",
        "3. $\\epsilon=5$"
      ]
    },
    {
      "cell_type": "code",
      "execution_count": 193,
      "metadata": {
        "id": "aKtUnHzltb7J"
      },
      "outputs": [],
      "source": [
        "error_vec_5=[]\n",
        "dp_counts_sum_5=np.zeros(len(counts))\n",
        "eps=5\n",
        "dp_count_vec_5=[]\n",
        "for i in range(1000):\n",
        "  dp_counts_5=[]\n",
        "  for i in range(len(counts)):\n",
        "    dp_counts_5.append(counts[i]+twoSidedGeoDist(math.e**(-eps)))\n",
        "  dp_counts_np_5=np.array(dp_counts_5)\n",
        "  dp_count_vec_5.append(dp_counts_np_5)\n",
        "  counts_np=np.array(counts)\n",
        "  err_dp=(abs(counts_np-dp_counts_np_5)).sum()\n",
        "  error_vec_5.append(err_dp)\n",
        "  dp_counts_sum_5=dp_counts_sum_5+dp_counts_np_5\n",
        "dp_avg_counts_5=dp_counts_sum_5/1000"
      ]
    },
    {
      "cell_type": "code",
      "execution_count": 194,
      "metadata": {
        "colab": {
          "base_uri": "https://localhost:8080/"
        },
        "id": "RjpatEh8tb7K",
        "outputId": "aa95ae4a-c5db-4296-f54b-06b08639813e",
        "scrolled": true
      },
      "outputs": [
        {
          "output_type": "stream",
          "name": "stdout",
          "text": [
            "[0 0 0 0 0 0 0 0 0 0 0 0 0 0 0 0 0 0 0 0 0 0 0 0 0 0 0 0 0 0 0 0 0 0 0 0 0\n",
            " 0 0 0 0 0 0 0 0 0 0 0 0 0 0 0 0 0 0 0 0 0 0 0 0 0 0 0 0 0 0 0 0 0 0 0 0 0\n",
            " 0 0 0 0 0 0 0 0 0 0 0 0 0 0 0 0 0 0 0 0 0 0 0 0 0 0 0 0 0 0 0 0 0 0 0 0 0\n",
            " 0 0 0 0 0 0 0 0 0 0 0 0 0 0 0 0 0 0 0 0 0 0 0 0 0 0 0 0 0 0 0 0 0 0 0 0 0\n",
            " 0 0 0 0 0 0 0 0 0 0 0 0 0 0 0 0 0 0 0 0 0 0 0 0 0 0 0 0 0 0 0 0 0 0 0 0 0\n",
            " 0 0 0 0 0 0 0 0 0 0 0 0 0 0 0 0 0 0 0 0 0 0 0 0 0 0 0 0 0 0 0 0 0 0 0 0 0\n",
            " 0 0 0 0 0 0 0 0 0 0 0 0 0 0 0 0 0 0 0 0 0 0 0 0 0 0 0 0 0 0 0 0 0 0 0 0 0\n",
            " 0 0 0 0 0 0 0 0 0 0 0 0 0 0 0 0 0 0 0 0 0 0 0 0 0 0 0 0 0 0 0 0 0 0 0 0 0\n",
            " 0 0 0 0 0 0 0 0 0 0 0 0 0 0 0 0 0 0 0 0 0 0 0 0 0 0 0 0 0 0 0 0 0 0 0 0 0\n",
            " 0 0 0 0 0 0 0 0 0 0 0 0 0 0 0 0 0 0 0 0 0 0 0 0 0 0 0 0 0 0 0 0 0 0 0 0 0\n",
            " 0 0 0 0 0 0 0 0 0 0 0 0 0 0 0 0 0 0 0 0 0 0 0 0 0 0 0 0 0 0 0 0 0 0 0 0 0\n",
            " 0 0 0 0 0 0 0 0 0 0 0 0 0 0 0 0 0 0 0 0 0 0 0 0 0 0 0 0 0 0 0 0 0 0 0 0 0\n",
            " 0 0 0 0 0 0 0 0 0 0 0 0 0 0 0 0 0 0 0 0 0 0 0 0 0 0 0 0 0 0 0 0 0 0 0 0 0\n",
            " 0 0 0 0 0 0 0 0 0 0 0 0 0 0 0 0 0 0 0 0 0 0 0 0 0 0 0 0 0 0 0 0 0 0 0 0 0\n",
            " 0 0 0 0 0 0 0 0 0 0 0 0 0 0 0 0 0 0 0 0 0 0 0 0 0 0 0 0 0 0 0 0 0 0 0 0 0\n",
            " 0 0 0 0 0 0 0 0 0 0 0 0 0 0 0 0 0 0 0 0 0 0 0 0 0 0 0 0 0 0 0 0 0 0 0 0 0\n",
            " 0 0 0 0 0 0 0 0 0 0 0 0 0 0 0 0 0 0 0 0 0 0 0 0 0 0 0 0 0 0 0 0 0 0 0 0 0\n",
            " 0 0 0 0 0 0 0 0 0 0 0 0 0 0 0 0 0 0 0 0 0 0 0 0 0 0 0 0 0 0 0 0 0 0 0 0 0\n",
            " 0 0 0 0 0 0 0 0 0 0 0 0 0 0 0 0 0 0 0 0 0 0 0 0 0 0 0 0 0 0 0 0 0 0 0 0 0\n",
            " 0 0 0 0 0 0 0 0 0 0 0 0 0 0 0 0 0 0 0 0 0 0 0 0 0 0 0 0 0 0 0 0 0 0 0 0 0\n",
            " 0 0 0 0 0 0 0 0 0 0 0 0 0 0 0 0 0 0 0 0 0 0 0 0 0 0 0 0 0 0 0 0 0 0 0 0 0\n",
            " 0 0 0 0 0 0 0 0 0 0 0 0 0 0 0 0 0 0 0 0 0 0 0 0 0 0 0 0 0 0 0 0 0 0 0 0 0\n",
            " 0 0 0 0 0 0 0 0 0 0 0 0 0 0 0 0 0 0 0 0 0 0 0 0 0 0 0 0 0 0 0 0 0 0 0 0 0\n",
            " 0 0 0 0 0 0 0 0 0 0 0 0 0 0 0 0 0 0 0 0 0 0 0 0 0 0 0 0 0 0 1 1 1 1 1 1 1\n",
            " 1 1 1 1 1 1 1 1 1 1 1 1 1 1 1 1 1 1 1 1 1 1 1 1 1 1 1 1 1 1 1 1 1 1 1 1 1\n",
            " 1 1 1 1 1 1 1 1 1 1 1 1 1 1 1 1 1 1 1 1 1 1 1 1 1 1 1 1 1 1 1 1 1 1 1 1 1\n",
            " 1 1 1 1 1 1 1 1 1 1 1 1 1 1 1 1 1 1 1 1 1 1 1 1 1 1 1 1 1 1 1 2 2 2 2 2 2\n",
            " 2]\n"
          ]
        }
      ],
      "source": [
        "#Absolute error vector\n",
        "error_vec_5=abs(np.array(error_vec_5))\n",
        "error_vec_5.sort()\n",
        "print(error_vec_5)"
      ]
    },
    {
      "cell_type": "code",
      "execution_count": 195,
      "metadata": {
        "colab": {
          "base_uri": "https://localhost:8080/"
        },
        "id": "X5aJ4ra-tb7L",
        "outputId": "2a3e694e-d828-42ae-ee60-485ef06d09a8"
      },
      "outputs": [
        {
          "output_type": "stream",
          "name": "stdout",
          "text": [
            "[1 1 1 2 2 2 2 2 2 2]\n",
            "1.7\n"
          ]
        }
      ],
      "source": [
        "#extracting the worst absolute errors\n",
        "err_worst_dp_5=error_vec_5[-10:]\n",
        "print(err_worst_dp_5)\n",
        "print(sum(err_worst_dp_5)/len(err_worst_dp_5))"
      ]
    },
    {
      "cell_type": "code",
      "source": [
        "#Least amount of error to make it onto the naughty list; it only makes sense to have all the similarly ill performing histograms included\n",
        "dp_cutoff_5=abs(min(err_worst_dp_5))\n",
        "print(dp_cutoff_5)\n",
        "#print(err_worst_dp_5)\n",
        "dp_worst_vec_5=[]\n",
        "for i in range(len(dp_count_vec_5)):\n",
        "    c=sum(abs((dp_count_vec_5[i]-counts_np)))\n",
        "    if (c>=dp_cutoff_5):\n",
        "        dp_worst_vec_5.append(dp_count_vec_5[i])\n",
        "print(len(dp_worst_vec_5))"
      ],
      "metadata": {
        "id": "f8yF40XQga4-",
        "colab": {
          "base_uri": "https://localhost:8080/"
        },
        "outputId": "69a30c59-1e47-4b76-80b7-b6e13c0f9c8a"
      },
      "execution_count": 207,
      "outputs": [
        {
          "output_type": "stream",
          "name": "stdout",
          "text": [
            "1\n",
            "119\n"
          ]
        }
      ]
    },
    {
      "cell_type": "code",
      "source": [
        "dp_worst_sums_5=[]\n",
        "for i in range(len(dp_worst_vec_5)):\n",
        "  dp_worst_sums_5.append(sum(dp_worst_vec_5[i]*np.arange(5,86,10)))\n",
        "print(dp_worst_sums_5)"
      ],
      "metadata": {
        "id": "GvQTiJpuhEOd",
        "colab": {
          "base_uri": "https://localhost:8080/"
        },
        "outputId": "71a67146-1687-4801-dae7-6d016be7e0d9"
      },
      "execution_count": 208,
      "outputs": [
        {
          "output_type": "stream",
          "name": "stdout",
          "text": [
            "[484710, 484680, 484700, 484800, 484690, 484710, 484700, 484700, 484760, 484740, 484750, 484745, 484800, 484730, 484720, 484820, 484800, 484680, 484810, 484840, 484680, 484770, 484690, 484805, 484710, 484670, 484840, 484695, 484760, 484670, 484780, 484800, 484770, 484720, 484790, 484820, 484690, 484810, 484830, 484790, 484690, 484700, 484810, 484720, 484760, 484750, 484780, 484690, 484760, 484720, 484700, 484760, 484830, 484730, 484810, 484760, 484675, 484700, 484800, 484690, 484800, 484690, 484790, 484780, 484790, 484720, 484840, 484830, 484730, 484780, 484820, 484760, 484760, 484730, 484690, 484800, 484680, 484730, 484710, 484710, 484760, 484670, 484780, 484700, 484800, 484775, 484670, 484840, 484720, 484750, 484750, 484845, 484840, 484700, 484720, 484840, 484710, 484820, 484720, 484830, 484670, 484800, 484750, 484750, 484800, 484810, 484725, 484830, 484670, 484690, 484680, 484840, 484840, 484690, 484730, 484760, 484700, 484680, 484830]\n"
          ]
        }
      ]
    },
    {
      "cell_type": "code",
      "execution_count": 209,
      "metadata": {
        "colab": {
          "base_uri": "https://localhost:8080/",
          "height": 279
        },
        "id": "hEdetvwItb7M",
        "outputId": "277d856a-6b70-4a29-89ea-b2f3add6763a"
      },
      "outputs": [
        {
          "output_type": "display_data",
          "data": {
            "text/plain": [
              "<Figure size 432x288 with 1 Axes>"
            ],
            "image/png": "[encoded data removed]"
          },
          "metadata": {
            "needs_background": "light"
          }
        }
      ],
      "source": [
        "#Visualising empirical error : looks like a discrete Laplace distribution\n",
        "plt.hist(error_vec_5)\n",
        "plt.xlabel(\"Abs Error Magnitude\")\n",
        "plt.ylabel(\"Occurrences\")\n",
        "plt.show()"
      ]
    },
    {
      "cell_type": "code",
      "execution_count": 210,
      "metadata": {
        "colab": {
          "base_uri": "https://localhost:8080/",
          "height": 295
        },
        "id": "usIZ9YMf0mPl",
        "outputId": "b8dd6fb6-8dd9-4901-8261-ed33a518652b"
      },
      "outputs": [
        {
          "output_type": "display_data",
          "data": {
            "text/plain": [
              "<Figure size 432x288 with 1 Axes>"
            ],
            "image/png": "[encoded data removed]"
          },
          "metadata": {
            "needs_background": "light"
          }
        }
      ],
      "source": [
        "# DP (eps=5) Vs Suppression\n",
        "abs_err_supp_arr_5=np.ones(len(err_worst_dp_5))*abs_err_supp_40_counts\n",
        "plt.scatter(range(len(err_worst_dp_5)),err_worst_dp_5-abs_err_supp_arr_5)\n",
        "plt.xlabel(\"Index of Runs\")\n",
        "plt.ylabel(\"DP Error Rel to Supp Error\")\n",
        "plt.title(\"DP vs Suppression - Error Analysis (eps=5)\")\n",
        "plt.show()"
      ]
    },
    {
      "cell_type": "code",
      "source": [
        "# DP (eps=5) vs Anon (k=20)\n",
        "abs_err_supp_arr_5=np.ones(len(err_worst_dp_5))*abs_err_supp_20_counts\n",
        "plt.scatter(range(len(err_worst_dp_5)),err_worst_dp_5-abs_err_supp_arr_5)\n",
        "plt.xlabel(\"Index of Runs\")\n",
        "plt.ylabel(\"DP Error Rel to Supp Error\")\n",
        "plt.title(\"DP vs Suppression - Error Analysis (eps=5)\")\n",
        "plt.show()"
      ],
      "metadata": {
        "colab": {
          "base_uri": "https://localhost:8080/",
          "height": 295
        },
        "id": "LKxWpByPmQxB",
        "outputId": "806c2bff-ed01-4f06-909b-73536a062d55"
      },
      "execution_count": 230,
      "outputs": [
        {
          "output_type": "display_data",
          "data": {
            "text/plain": [
              "<Figure size 432x288 with 1 Axes>"
            ],
            "image/png": "[encoded data removed]"
          },
          "metadata": {
            "needs_background": "light"
          }
        }
      ]
    },
    {
      "cell_type": "code",
      "execution_count": 212,
      "metadata": {
        "colab": {
          "base_uri": "https://localhost:8080/"
        },
        "id": "H1i_MymhXCqu",
        "outputId": "22571e2d-1080-4a91-9512-372d70b798b3"
      },
      "outputs": [
        {
          "output_type": "stream",
          "name": "stdout",
          "text": [
            "484755\n",
            "1745.1000000000001\n"
          ]
        }
      ],
      "source": [
        "#Age sums\n",
        "age_sum_dp_5=sum(list(map(lambda a: ((a*10)+5)*dp_counts_5[a], range(len(dp_counts_5)))))\n",
        "print(age_sum_dp_5)\n",
        "#Minority Age Sum\n",
        "min_age_sum_dp_5=15*dp_avg_counts_5[1]+85*dp_avg_counts_5[-1]\n",
        "print(min_age_sum_dp_5)"
      ]
    },
    {
      "cell_type": "markdown",
      "metadata": {
        "id": "3O7lgMa1xX5Y"
      },
      "source": [
        "## Error Comparisons for Age Sums"
      ]
    },
    {
      "cell_type": "code",
      "execution_count": 213,
      "metadata": {
        "id": "NxoNw2lfxj4L",
        "scrolled": true,
        "colab": {
          "base_uri": "https://localhost:8080/"
        },
        "outputId": "f72fe583-defe-4f7e-ee37-266bde085d68"
      },
      "outputs": [
        {
          "output_type": "stream",
          "name": "stdout",
          "text": [
            "1745 45\n"
          ]
        }
      ],
      "source": [
        "#Suppression errors\n",
        "supp_sum_err_20=age_sum_supp_20-sum(est_bin_age_sum)\n",
        "supp_sum_err_40=age_sum_supp_40-sum(est_bin_age_sum)\n",
        "print(abs(supp_sum_err_40),abs(supp_sum_err_20))"
      ]
    },
    {
      "cell_type": "code",
      "execution_count": 214,
      "metadata": {
        "colab": {
          "base_uri": "https://localhost:8080/"
        },
        "id": "damzNfewXCqu",
        "outputId": "66b1f8f3-5b1b-4f8b-8678-541f9efb55f3"
      },
      "outputs": [
        {
          "output_type": "stream",
          "name": "stdout",
          "text": [
            "4485 4760\n"
          ]
        }
      ],
      "source": [
        "#Anonymisation error\n",
        "anon_sum_err_40=sum(anon_age_sum_40)-sum(est_bin_age_sum)\n",
        "anon_sum_err_20=sum(anon_age_sum_20)-sum(est_bin_age_sum)\n",
        "print(abs(anon_sum_err_40),abs(anon_sum_err_20))"
      ]
    },
    {
      "cell_type": "code",
      "execution_count": 215,
      "metadata": {
        "colab": {
          "base_uri": "https://localhost:8080/"
        },
        "id": "gExewNruXCqv",
        "outputId": "982b5a5e-09f9-4696-8621-b15612a8b79b"
      },
      "outputs": [
        {
          "output_type": "stream",
          "name": "stdout",
          "text": [
            "[375, 175, 415, 75, 435, 535, 195, 85, 265, 105, 215]\n"
          ]
        }
      ],
      "source": [
        "#DP Errors\n",
        "#For eps=1\n",
        "dp_errs_1=[]\n",
        "for i in range(len(dp_worst_sums_1)):\n",
        "  dp_errs_1.append(abs(dp_worst_sums_1[i]-sum(est_bin_age_sum)))\n",
        "print(dp_errs_1)"
      ]
    },
    {
      "cell_type": "code",
      "source": [
        "#For eps=2\n",
        "dp_errs_2=[]\n",
        "for i in range(len(dp_worst_sums_2)):\n",
        "  dp_errs_2.append(abs(dp_worst_sums_2[i]-sum(est_bin_age_sum)))\n",
        "print(dp_errs_2)\n",
        "#For eps=5\n",
        "dp_errs_5=[]\n",
        "for i in range(len(dp_worst_sums_5)):\n",
        "  dp_errs_5.append(abs(dp_worst_sums_5[i]-sum(est_bin_age_sum)))\n",
        "print(dp_errs_5)"
      ],
      "metadata": {
        "colab": {
          "base_uri": "https://localhost:8080/"
        },
        "id": "o_Lmhvyqb9Bl",
        "outputId": "64ac7658-f576-41b2-ac16-e58a30c61ce1"
      },
      "execution_count": 216,
      "outputs": [
        {
          "output_type": "stream",
          "name": "stdout",
          "text": [
            "[315]\n",
            "[45, 75, 55, 45, 65, 45, 55, 55, 5, 15, 5, 10, 45, 25, 35, 65, 45, 75, 55, 85, 75, 15, 65, 50, 45, 85, 85, 60, 5, 85, 25, 45, 15, 35, 35, 65, 65, 55, 75, 35, 65, 55, 55, 35, 5, 5, 25, 65, 5, 35, 55, 5, 75, 25, 55, 5, 80, 55, 45, 65, 45, 65, 35, 25, 35, 35, 85, 75, 25, 25, 65, 5, 5, 25, 65, 45, 75, 25, 45, 45, 5, 85, 25, 55, 45, 20, 85, 85, 35, 5, 5, 90, 85, 55, 35, 85, 45, 65, 35, 75, 85, 45, 5, 5, 45, 55, 30, 75, 85, 65, 75, 85, 85, 65, 25, 5, 55, 75, 75]\n"
          ]
        }
      ]
    },
    {
      "cell_type": "markdown",
      "source": [
        "### Just to be nice: graphical representations of sum errors"
      ],
      "metadata": {
        "id": "43OlNZflbQx5"
      }
    },
    {
      "cell_type": "code",
      "source": [
        "plt.scatter(np.arange(1,len(dp_errs_1)+1),dp_errs_1)\n",
        "plt.plot([0,max(len(dp_errs_1)+1,len(dp_errs_2)+1,len(dp_errs_5)+1)],abs(supp_sum_err_20)*np.ones(2))\n",
        "plt.plot([0,max(len(dp_errs_1)+1,len(dp_errs_2)+1,len(dp_errs_5)+1)],abs(supp_sum_err_40)*np.ones(2))\n",
        "plt.plot([0,max(len(dp_errs_1)+1,len(dp_errs_2)+1,len(dp_errs_5)+1)],abs(supp_sum_err_20)*np.ones(2))\n",
        "plt.plot([0,max(len(dp_errs_1)+1,len(dp_errs_2)+1,len(dp_errs_5)+1)],abs(anon_sum_err_20)*np.ones(2))\n",
        "plt.plot([0,max(len(dp_errs_1)+1,len(dp_errs_2)+1,len(dp_errs_5)+1)],abs(supp_sum_err_40)*np.ones(2))\n",
        "plt.scatter(np.arange(1,len(dp_errs_2)+1),dp_errs_2)\n",
        "plt.scatter(np.arange(1,len(dp_errs_5)+1),dp_errs_5)"
      ],
      "metadata": {
        "colab": {
          "base_uri": "https://localhost:8080/",
          "height": 282
        },
        "id": "Q6hHxcuAbVbw",
        "outputId": "4a37d4cf-e41a-4f79-f80d-335173083a11"
      },
      "execution_count": 269,
      "outputs": [
        {
          "output_type": "execute_result",
          "data": {
            "text/plain": [
              "<matplotlib.collections.PathCollection at 0x7f18ab1995d0>"
            ]
          },
          "metadata": {},
          "execution_count": 269
        },
        {
          "output_type": "display_data",
          "data": {
            "text/plain": [
              "<Figure size 432x288 with 1 Axes>"
            ],
            "image/png": "[encoded data removed]"
          },
          "metadata": {
            "needs_background": "light"
          }
        }
      ]
    },
    {
      "cell_type": "code",
      "source": [
        "plt.plot([0,max(len(dp_errs_1)+1,len(dp_errs_2)+1,len(dp_errs_5)+1)],abs(supp_sum_err_20)*np.ones(2))\n",
        "plt.plot([0,max(len(dp_errs_1)+1,len(dp_errs_2)+1,len(dp_errs_5)+1)],abs(supp_sum_err_40)*np.ones(2))\n",
        "plt.plot([0,max(len(dp_errs_1)+1,len(dp_errs_2)+1,len(dp_errs_5)+1)],abs(supp_sum_err_20)*np.ones(2))\n",
        "plt.plot([0,max(len(dp_errs_1)+1,len(dp_errs_2)+1,len(dp_errs_5)+1)],abs(anon_sum_err_20)*np.ones(2))\n",
        "plt.plot([0,max(len(dp_errs_1)+1,len(dp_errs_2)+1,len(dp_errs_5)+1)],abs(supp_sum_err_40)*np.ones(2))"
      ],
      "metadata": {
        "colab": {
          "base_uri": "https://localhost:8080/",
          "height": 282
        },
        "id": "B5bqOW-3lf2J",
        "outputId": "cb3de700-b29f-43ed-95ac-d3b89822b5a9"
      },
      "execution_count": 218,
      "outputs": [
        {
          "output_type": "execute_result",
          "data": {
            "text/plain": [
              "[<matplotlib.lines.Line2D at 0x7f18aa215150>]"
            ]
          },
          "metadata": {},
          "execution_count": 218
        },
        {
          "output_type": "display_data",
          "data": {
            "text/plain": [
              "<Figure size 432x288 with 1 Axes>"
            ],
            "image/png": "[encoded data removed]"
          },
          "metadata": {
            "needs_background": "light"
          }
        }
      ]
    },
    {
      "cell_type": "markdown",
      "source": [
        "## No. of times DP gets beaten (age sum)\n",
        "DP beats everything completely except for suppression with $k=20$ "
      ],
      "metadata": {
        "id": "9ktnITtstFHP"
      }
    },
    {
      "cell_type": "code",
      "source": [
        "agesum_supp_20_v_DP_1=[a for a in dp_errs_1 if a>abs(supp_sum_err_20)]\n",
        "print(len(agesum_supp_20_v_DP_1))\n",
        "print(len(dp_errs_1))"
      ],
      "metadata": {
        "colab": {
          "base_uri": "https://localhost:8080/"
        },
        "id": "ZeHc5jdGtI_-",
        "outputId": "8baa767b-4db9-432d-8be4-15b3917ef7f7"
      },
      "execution_count": 219,
      "outputs": [
        {
          "output_type": "stream",
          "name": "stdout",
          "text": [
            "11\n",
            "11\n"
          ]
        }
      ]
    },
    {
      "cell_type": "code",
      "source": [
        "agesum_supp_40_v_DP_1=[a for a in dp_errs_1 if a>abs(supp_sum_err_40)]\n",
        "print(len(agesum_supp_40_v_DP_1))\n",
        "print(len(dp_errs_1))"
      ],
      "metadata": {
        "colab": {
          "base_uri": "https://localhost:8080/"
        },
        "id": "wXBRGBlAvB_y",
        "outputId": "a16f8c08-1fc1-483d-c5f8-88360dacd70e"
      },
      "execution_count": 220,
      "outputs": [
        {
          "output_type": "stream",
          "name": "stdout",
          "text": [
            "0\n",
            "11\n"
          ]
        }
      ]
    },
    {
      "cell_type": "code",
      "source": [
        "agesum_supp_20_v_DP_2=[a for a in dp_errs_2 if a>abs(supp_sum_err_20)]\n",
        "print(len(agesum_supp_20_v_DP_2))\n",
        "print(len(dp_errs_2))"
      ],
      "metadata": {
        "colab": {
          "base_uri": "https://localhost:8080/"
        },
        "id": "uUWw0MEWx48w",
        "outputId": "4e5268f9-137c-4783-d02a-40b6425a2508"
      },
      "execution_count": 221,
      "outputs": [
        {
          "output_type": "stream",
          "name": "stdout",
          "text": [
            "1\n",
            "1\n"
          ]
        }
      ]
    },
    {
      "cell_type": "code",
      "source": [
        "agesum_supp_40_v_DP_2=[a for a in dp_errs_2 if a>abs(supp_sum_err_40)]\n",
        "print(len(agesum_supp_40_v_DP_2))\n",
        "print(len(dp_errs_2))"
      ],
      "metadata": {
        "colab": {
          "base_uri": "https://localhost:8080/"
        },
        "id": "yAdqbyldyWKp",
        "outputId": "42e16b35-e883-417a-de5c-0ef23341ada2"
      },
      "execution_count": 222,
      "outputs": [
        {
          "output_type": "stream",
          "name": "stdout",
          "text": [
            "0\n",
            "1\n"
          ]
        }
      ]
    },
    {
      "cell_type": "code",
      "source": [
        "agesum_supp_20_v_DP_5=[a for a in dp_errs_5 if a>abs(supp_sum_err_20)]\n",
        "print(len(agesum_supp_20_v_DP_5))\n",
        "print(len(dp_errs_5))"
      ],
      "metadata": {
        "colab": {
          "base_uri": "https://localhost:8080/"
        },
        "id": "xkZyggs-yumd",
        "outputId": "f5df69f3-8b50-4bcc-b6ba-96eca37992ab"
      },
      "execution_count": 223,
      "outputs": [
        {
          "output_type": "stream",
          "name": "stdout",
          "text": [
            "58\n",
            "119\n"
          ]
        }
      ]
    },
    {
      "cell_type": "code",
      "source": [
        "agesum_supp_40_v_DP_5=[a for a in dp_errs_5 if a>abs(supp_sum_err_40)]\n",
        "print(len(agesum_supp_40_v_DP_5))\n",
        "print(len(dp_errs_5))"
      ],
      "metadata": {
        "colab": {
          "base_uri": "https://localhost:8080/"
        },
        "id": "OGG2_0g2y2SI",
        "outputId": "7efcbdab-246e-4be8-915c-ba38fbe5df88"
      },
      "execution_count": 224,
      "outputs": [
        {
          "output_type": "stream",
          "name": "stdout",
          "text": [
            "0\n",
            "119\n"
          ]
        }
      ]
    },
    {
      "cell_type": "markdown",
      "source": [
        "## Fairness Errors"
      ],
      "metadata": {
        "id": "MVHImi-MhkCC"
      }
    },
    {
      "cell_type": "markdown",
      "source": [
        "### For counts"
      ],
      "metadata": {
        "id": "WUPDXbWjhnY-"
      }
    },
    {
      "cell_type": "code",
      "source": [
        "# eps=1\n",
        "print(len(dp_count_vec_1))\n",
        "fair_err_vec_1=[]\n",
        "for vec in dp_count_vec_1:\n",
        "  vec=np.array(vec)\n",
        "  diff_vec=abs(vec-counts_np)\n",
        "  fair_err_vec_1.append(max(diff_vec)-min(diff_vec))\n",
        "print(fair_err_vec_1)\n",
        "print(max(fair_err_vec_1),min(fair_err_vec_1))"
      ],
      "metadata": {
        "colab": {
          "base_uri": "https://localhost:8080/"
        },
        "id": "cH4-RNqChmE3",
        "outputId": "61bcc2ec-96c0-4cf2-ceed-58c0c13c4534"
      },
      "execution_count": 244,
      "outputs": [
        {
          "output_type": "stream",
          "name": "stdout",
          "text": [
            "1000\n",
            "[2, 3, 1, 5, 2, 1, 2, 3, 2, 2, 1, 3, 3, 2, 4, 3, 2, 2, 4, 2, 3, 3, 2, 1, 5, 3, 2, 3, 1, 2, 2, 5, 1, 3, 2, 3, 2, 2, 3, 1, 2, 4, 4, 2, 1, 6, 2, 1, 2, 1, 2, 2, 1, 4, 4, 2, 2, 3, 2, 3, 2, 5, 2, 1, 1, 4, 4, 2, 5, 4, 2, 2, 3, 2, 5, 4, 1, 2, 6, 2, 5, 1, 2, 2, 2, 4, 3, 3, 3, 1, 3, 4, 5, 1, 4, 5, 1, 8, 2, 2, 2, 3, 1, 3, 3, 3, 2, 3, 2, 2, 1, 1, 2, 4, 5, 3, 6, 3, 1, 1, 2, 2, 3, 2, 1, 3, 2, 1, 3, 1, 2, 2, 3, 2, 3, 1, 4, 3, 2, 2, 2, 1, 3, 2, 3, 3, 3, 2, 4, 3, 2, 2, 2, 1, 2, 2, 3, 1, 4, 2, 2, 2, 2, 3, 2, 2, 2, 3, 3, 1, 2, 3, 5, 3, 2, 1, 4, 3, 5, 2, 3, 2, 4, 3, 2, 4, 3, 2, 3, 2, 2, 5, 2, 3, 5, 5, 2, 1, 2, 3, 3, 1, 2, 2, 3, 4, 2, 2, 7, 6, 2, 4, 3, 2, 1, 2, 3, 2, 2, 4, 2, 2, 2, 2, 4, 5, 2, 2, 2, 3, 5, 1, 2, 2, 2, 4, 4, 3, 2, 2, 3, 2, 1, 3, 3, 6, 2, 2, 3, 4, 1, 1, 3, 1, 3, 3, 2, 2, 1, 1, 1, 4, 2, 2, 1, 3, 2, 2, 4, 2, 1, 3, 3, 2, 4, 3, 3, 4, 3, 3, 1, 1, 3, 6, 3, 4, 2, 3, 2, 2, 3, 2, 3, 2, 3, 4, 2, 4, 2, 2, 4, 4, 2, 2, 6, 5, 2, 2, 1, 2, 2, 2, 3, 2, 3, 5, 4, 6, 2, 4, 2, 2, 2, 3, 3, 3, 2, 3, 2, 4, 2, 3, 2, 2, 2, 2, 1, 2, 1, 2, 1, 2, 1, 2, 2, 5, 3, 2, 3, 3, 3, 2, 3, 3, 4, 3, 4, 2, 2, 2, 2, 2, 1, 2, 2, 3, 4, 3, 2, 3, 1, 2, 4, 2, 2, 1, 1, 2, 3, 1, 2, 2, 2, 1, 3, 3, 3, 2, 3, 1, 1, 2, 2, 3, 3, 1, 3, 4, 3, 3, 1, 2, 2, 3, 4, 3, 2, 2, 2, 3, 3, 3, 2, 2, 3, 2, 4, 3, 2, 1, 2, 1, 1, 2, 5, 6, 2, 2, 3, 1, 1, 1, 2, 2, 1, 3, 3, 3, 2, 2, 2, 6, 2, 3, 3, 2, 2, 3, 5, 2, 1, 4, 2, 2, 4, 2, 2, 3, 2, 3, 6, 2, 3, 4, 2, 2, 3, 2, 4, 2, 1, 3, 1, 5, 1, 2, 2, 4, 2, 2, 3, 2, 4, 5, 5, 2, 3, 2, 1, 3, 3, 1, 3, 4, 2, 1, 1, 2, 2, 2, 3, 4, 1, 1, 3, 3, 4, 3, 5, 2, 1, 2, 3, 2, 4, 3, 2, 3, 4, 5, 4, 0, 4, 3, 3, 4, 3, 2, 5, 3, 4, 3, 2, 3, 5, 4, 3, 2, 2, 4, 3, 2, 2, 3, 2, 2, 3, 3, 4, 1, 1, 2, 4, 5, 3, 2, 1, 2, 3, 2, 2, 2, 1, 2, 2, 2, 5, 3, 1, 3, 5, 3, 1, 2, 1, 4, 1, 2, 5, 5, 5, 2, 4, 2, 3, 6, 3, 2, 2, 8, 2, 3, 2, 3, 5, 2, 2, 3, 2, 2, 3, 8, 4, 3, 2, 3, 2, 2, 1, 2, 4, 2, 4, 3, 3, 4, 4, 2, 2, 4, 3, 2, 6, 1, 2, 4, 3, 2, 4, 4, 3, 3, 2, 4, 0, 1, 2, 3, 2, 2, 3, 2, 3, 2, 3, 2, 4, 1, 5, 4, 6, 2, 2, 3, 1, 6, 2, 4, 4, 1, 2, 3, 3, 2, 2, 1, 4, 3, 2, 3, 3, 3, 3, 2, 2, 2, 3, 3, 3, 3, 2, 3, 4, 2, 2, 3, 2, 2, 2, 3, 3, 4, 3, 2, 2, 2, 2, 2, 2, 3, 2, 2, 2, 5, 2, 2, 2, 5, 2, 3, 3, 3, 3, 3, 1, 1, 3, 5, 2, 7, 4, 3, 1, 3, 4, 3, 3, 2, 2, 2, 3, 3, 3, 4, 1, 1, 2, 1, 3, 2, 3, 5, 2, 3, 3, 4, 3, 3, 2, 2, 2, 3, 3, 3, 2, 4, 2, 1, 8, 1, 3, 3, 3, 2, 3, 1, 4, 2, 3, 6, 4, 2, 4, 2, 1, 3, 2, 2, 3, 2, 2, 4, 3, 3, 1, 3, 3, 1, 3, 4, 1, 3, 2, 2, 3, 3, 1, 1, 1, 4, 1, 4, 6, 2, 1, 1, 3, 2, 3, 4, 1, 3, 3, 1, 2, 3, 2, 2, 2, 4, 1, 4, 2, 3, 5, 3, 2, 2, 2, 2, 1, 1, 2, 4, 2, 3, 3, 2, 4, 2, 2, 1, 2, 2, 3, 2, 1, 2, 2, 3, 3, 5, 3, 1, 2, 2, 2, 1, 6, 3, 4, 3, 2, 2, 3, 1, 1, 5, 3, 2, 5, 2, 2, 2, 4, 2, 2, 2, 2, 2, 3, 3, 4, 4, 2, 1, 4, 1, 3, 2, 6, 3, 3, 2, 0, 2, 3, 3, 1, 4, 2, 5, 3, 1, 6, 1, 2, 1, 1, 2, 3, 2, 3, 5, 3, 3, 4, 2, 2, 2, 2, 1, 1, 3, 4, 1, 2, 1, 3, 3, 4, 2, 3, 4, 3, 3, 2, 3, 2, 3, 4, 2, 3, 4, 5, 2, 3, 4, 4, 1, 4, 3, 2, 3, 3, 4, 4, 1, 2, 1, 2, 2, 4, 2, 2, 2, 4, 8, 2, 4, 5, 3, 2, 1, 3, 3, 2, 2, 3, 1, 2, 2, 2, 2, 2, 5, 2, 2, 2, 2, 1, 2, 2, 2, 3, 1, 3, 4, 3, 4]\n",
            "8 0\n"
          ]
        }
      ]
    },
    {
      "cell_type": "code",
      "source": [
        "fair_err_vec_1.sort()\n",
        "plt.hist(fair_err_vec_1)\n",
        "plt.title('DP Fairness Errors; eps = 1')\n",
        "plt.xlabel('Fairness Error')\n",
        "plt.ylabel('No. of Occurrences')"
      ],
      "metadata": {
        "colab": {
          "base_uri": "https://localhost:8080/",
          "height": 312
        },
        "id": "2z1Ay1ntlFsj",
        "outputId": "df0df9f7-97e1-4577-87d2-b2d7437d0563"
      },
      "execution_count": 249,
      "outputs": [
        {
          "output_type": "execute_result",
          "data": {
            "text/plain": [
              "Text(0, 0.5, 'No. of Occurrences')"
            ]
          },
          "metadata": {},
          "execution_count": 249
        },
        {
          "output_type": "display_data",
          "data": {
            "text/plain": [
              "<Figure size 432x288 with 1 Axes>"
            ],
            "image/png": "[encoded data removed]"
          },
          "metadata": {
            "needs_background": "light"
          }
        }
      ]
    },
    {
      "cell_type": "code",
      "source": [
        "# eps=2\n",
        "print(len(dp_count_vec_2))\n",
        "fair_err_vec_2=[]\n",
        "for vec in dp_count_vec_2:\n",
        "  vec=np.array(vec)\n",
        "  diff_vec=abs(vec-counts_np)\n",
        "  fair_err_vec_2.append(max(diff_vec)-min(diff_vec))\n",
        "print(fair_err_vec_2)"
      ],
      "metadata": {
        "colab": {
          "base_uri": "https://localhost:8080/"
        },
        "id": "bGtAmkPYhtRZ",
        "outputId": "215210d4-5030-4834-d0fc-7652e3c66de6"
      },
      "execution_count": 235,
      "outputs": [
        {
          "output_type": "stream",
          "name": "stdout",
          "text": [
            "1000\n",
            "[1, 2, 1, 1, 2, 3, 1, 1, 1, 2, 1, 1, 1, 2, 2, 1, 3, 1, 1, 2, 2, 1, 1, 2, 1, 3, 0, 1, 1, 1, 1, 1, 1, 1, 1, 1, 1, 2, 2, 2, 1, 1, 1, 2, 1, 2, 1, 1, 1, 1, 1, 1, 1, 0, 1, 2, 1, 1, 2, 2, 2, 1, 1, 1, 1, 1, 3, 1, 1, 1, 2, 1, 1, 1, 1, 1, 1, 1, 1, 2, 1, 1, 0, 1, 1, 1, 0, 1, 2, 0, 1, 1, 1, 1, 1, 1, 1, 1, 1, 1, 2, 1, 1, 1, 1, 1, 0, 1, 1, 3, 0, 1, 1, 1, 1, 4, 1, 1, 1, 1, 1, 2, 1, 1, 2, 1, 1, 1, 1, 1, 2, 1, 2, 1, 2, 1, 1, 1, 2, 2, 1, 2, 2, 2, 2, 1, 1, 1, 1, 2, 1, 1, 1, 3, 0, 1, 0, 2, 1, 1, 1, 1, 3, 1, 1, 1, 1, 2, 1, 1, 2, 1, 1, 1, 1, 2, 0, 1, 1, 0, 1, 1, 1, 1, 2, 1, 1, 1, 1, 2, 1, 1, 1, 1, 2, 1, 1, 1, 2, 3, 1, 1, 1, 1, 3, 1, 1, 1, 1, 1, 1, 1, 1, 1, 2, 1, 1, 1, 1, 3, 1, 1, 1, 1, 1, 1, 1, 1, 1, 2, 2, 3, 2, 1, 1, 1, 1, 3, 1, 1, 1, 1, 2, 1, 1, 1, 1, 1, 1, 1, 1, 2, 1, 0, 1, 1, 1, 1, 0, 1, 2, 1, 1, 1, 1, 1, 1, 1, 2, 1, 1, 0, 1, 3, 2, 1, 1, 1, 2, 2, 1, 2, 1, 1, 1, 0, 1, 1, 2, 1, 1, 1, 1, 2, 1, 2, 1, 1, 1, 1, 2, 3, 1, 2, 1, 1, 1, 1, 1, 1, 1, 1, 1, 1, 1, 1, 0, 0, 1, 1, 2, 1, 1, 1, 1, 2, 1, 2, 1, 2, 1, 1, 1, 1, 2, 2, 1, 2, 0, 2, 1, 2, 1, 1, 1, 1, 1, 1, 2, 1, 0, 1, 2, 1, 1, 1, 0, 1, 1, 1, 2, 1, 1, 3, 2, 1, 1, 1, 1, 1, 1, 1, 1, 1, 1, 1, 2, 1, 2, 1, 1, 0, 1, 1, 1, 1, 2, 1, 1, 1, 1, 1, 1, 1, 1, 1, 1, 1, 1, 1, 1, 3, 1, 0, 1, 3, 0, 1, 0, 1, 2, 1, 0, 1, 1, 1, 1, 1, 1, 1, 1, 1, 1, 2, 4, 2, 2, 0, 1, 1, 1, 1, 1, 1, 0, 1, 1, 1, 1, 1, 1, 2, 1, 2, 3, 1, 1, 0, 1, 1, 2, 2, 2, 0, 1, 1, 2, 1, 1, 1, 1, 1, 1, 1, 1, 1, 1, 1, 1, 1, 1, 2, 1, 2, 1, 1, 1, 1, 1, 1, 2, 1, 1, 1, 1, 1, 1, 1, 1, 1, 1, 1, 2, 0, 2, 1, 2, 1, 0, 1, 2, 1, 3, 2, 3, 1, 2, 1, 0, 1, 1, 2, 2, 1, 1, 1, 1, 1, 2, 1, 1, 1, 0, 0, 1, 1, 1, 1, 2, 1, 1, 1, 2, 1, 2, 1, 1, 1, 0, 1, 1, 1, 1, 1, 1, 1, 1, 1, 0, 2, 2, 2, 1, 0, 1, 1, 1, 3, 1, 1, 1, 1, 1, 1, 1, 2, 1, 2, 0, 0, 2, 1, 1, 2, 2, 2, 0, 2, 2, 1, 1, 1, 1, 1, 1, 0, 2, 1, 2, 1, 1, 1, 1, 0, 1, 0, 1, 1, 1, 2, 1, 1, 2, 1, 1, 2, 2, 1, 1, 1, 1, 1, 1, 3, 1, 2, 2, 1, 1, 1, 1, 0, 2, 1, 2, 1, 1, 0, 1, 1, 1, 2, 2, 1, 1, 1, 1, 0, 1, 2, 1, 2, 1, 1, 1, 1, 2, 2, 1, 1, 1, 1, 2, 1, 2, 1, 2, 1, 3, 1, 1, 1, 2, 1, 1, 1, 2, 2, 1, 1, 1, 1, 1, 1, 1, 1, 1, 0, 1, 1, 0, 2, 1, 1, 0, 2, 1, 2, 1, 1, 1, 2, 2, 1, 2, 1, 2, 1, 2, 2, 0, 1, 3, 1, 2, 2, 0, 2, 1, 1, 2, 1, 1, 1, 2, 2, 1, 1, 1, 1, 1, 2, 1, 1, 1, 1, 1, 1, 2, 1, 1, 1, 1, 1, 0, 1, 1, 1, 1, 1, 1, 1, 1, 1, 1, 1, 1, 2, 2, 2, 1, 1, 0, 1, 1, 2, 1, 2, 1, 2, 2, 1, 0, 2, 1, 1, 1, 1, 1, 2, 1, 1, 1, 1, 1, 1, 2, 1, 1, 1, 2, 1, 1, 2, 2, 1, 1, 1, 3, 1, 1, 1, 1, 1, 1, 1, 1, 1, 1, 1, 1, 1, 2, 1, 2, 0, 1, 1, 2, 1, 1, 1, 2, 1, 1, 1, 3, 1, 0, 2, 1, 2, 1, 0, 1, 0, 1, 1, 1, 1, 1, 1, 2, 1, 0, 1, 1, 1, 1, 1, 2, 1, 1, 1, 0, 3, 1, 1, 1, 2, 1, 1, 2, 1, 2, 2, 2, 1, 2, 1, 1, 1, 1, 2, 0, 0, 2, 1, 2, 1, 2, 3, 1, 1, 0, 1, 2, 0, 1, 1, 2, 0, 1, 1, 2, 1, 1, 2, 2, 2, 1, 1, 1, 1, 1, 1, 2, 1, 1, 1, 1, 1, 0, 1, 2, 3, 2, 1, 3, 1, 1, 1, 1, 2, 1, 2, 1, 2, 2, 2, 2, 0, 1, 1, 2, 1, 2, 1, 0, 1, 2, 2, 1, 1, 1, 1, 1, 1, 1, 2, 1, 1, 1, 1, 0, 1, 1, 1, 0, 1, 1, 2, 0, 1, 2, 0, 2, 1, 0, 1, 1, 1, 1, 1, 1, 1, 1, 1, 1, 1, 0, 0, 1, 2, 1, 1, 1, 1, 1, 1, 1, 1, 1, 1, 2, 1, 2, 2, 1, 2, 1, 1, 2, 1, 2, 1, 1, 0, 1, 1]\n"
          ]
        }
      ]
    },
    {
      "cell_type": "code",
      "source": [
        "fair_err_vec_2.sort()\n",
        "plt.hist(fair_err_vec_2)\n",
        "plt.title('DP Fairness Errors; eps = 2')\n",
        "plt.xlabel('Fairness Error')\n",
        "plt.ylabel('No. of Occurrences')"
      ],
      "metadata": {
        "colab": {
          "base_uri": "https://localhost:8080/",
          "height": 312
        },
        "id": "44Yu6h5YoiHX",
        "outputId": "338b96ba-6e0a-4eec-d3a1-5816b4051e22"
      },
      "execution_count": 251,
      "outputs": [
        {
          "output_type": "execute_result",
          "data": {
            "text/plain": [
              "Text(0, 0.5, 'No. of Occurrences')"
            ]
          },
          "metadata": {},
          "execution_count": 251
        },
        {
          "output_type": "display_data",
          "data": {
            "text/plain": [
              "<Figure size 432x288 with 1 Axes>"
            ],
            "image/png": "[encoded data removed]"
          },
          "metadata": {
            "needs_background": "light"
          }
        }
      ]
    },
    {
      "cell_type": "code",
      "source": [
        "# eps=5\n",
        "print(len(dp_count_vec_5))\n",
        "fair_err_vec_5=[]\n",
        "for vec in dp_count_vec_5:\n",
        "  vec=np.array(vec)\n",
        "  diff_vec=abs(vec-counts_np)\n",
        "  fair_err_vec_5.append(max(diff_vec)-min(diff_vec))\n",
        "print(fair_err_vec_5)"
      ],
      "metadata": {
        "colab": {
          "base_uri": "https://localhost:8080/"
        },
        "id": "vY_7HLrUh0N4",
        "outputId": "12c4f0b9-965a-4e55-d80a-c4c4ca307a33"
      },
      "execution_count": 237,
      "outputs": [
        {
          "output_type": "stream",
          "name": "stdout",
          "text": [
            "1000\n",
            "[0, 0, 0, 0, 0, 0, 0, 0, 0, 0, 0, 0, 0, 0, 0, 0, 0, 0, 0, 0, 0, 0, 0, 0, 0, 0, 0, 0, 1, 1, 0, 0, 0, 1, 1, 0, 0, 0, 0, 0, 0, 0, 0, 0, 0, 0, 0, 0, 0, 0, 0, 0, 0, 0, 1, 0, 0, 0, 0, 0, 0, 0, 0, 0, 0, 0, 0, 0, 0, 0, 0, 0, 0, 0, 0, 0, 0, 0, 0, 0, 0, 1, 0, 0, 1, 0, 0, 0, 0, 0, 1, 0, 1, 0, 0, 0, 0, 0, 0, 1, 0, 0, 0, 0, 0, 0, 0, 0, 0, 0, 0, 0, 0, 0, 0, 0, 0, 0, 0, 0, 0, 1, 0, 0, 0, 0, 2, 1, 0, 0, 0, 0, 0, 0, 0, 0, 0, 0, 0, 0, 1, 0, 0, 0, 0, 0, 0, 0, 0, 0, 0, 0, 0, 0, 0, 0, 0, 0, 1, 0, 0, 0, 0, 0, 0, 0, 0, 1, 0, 0, 0, 0, 0, 0, 0, 0, 0, 0, 0, 0, 0, 0, 0, 0, 0, 0, 0, 0, 0, 0, 0, 0, 0, 0, 0, 0, 0, 0, 0, 0, 0, 0, 0, 1, 0, 0, 0, 0, 0, 0, 0, 0, 0, 1, 0, 1, 0, 0, 0, 0, 0, 1, 0, 0, 0, 0, 0, 0, 0, 0, 0, 0, 0, 0, 0, 0, 0, 0, 1, 0, 0, 0, 0, 0, 0, 0, 0, 0, 0, 1, 0, 0, 0, 0, 0, 0, 0, 0, 0, 0, 0, 0, 0, 0, 0, 1, 0, 0, 0, 0, 1, 0, 0, 0, 0, 0, 0, 0, 0, 0, 0, 0, 0, 0, 0, 0, 0, 0, 0, 1, 0, 1, 1, 0, 1, 0, 0, 0, 0, 0, 0, 0, 0, 0, 0, 0, 0, 1, 1, 0, 0, 0, 0, 0, 0, 1, 0, 0, 0, 0, 0, 1, 0, 0, 0, 0, 0, 0, 0, 0, 0, 0, 0, 1, 0, 0, 0, 0, 0, 0, 0, 0, 0, 0, 0, 0, 0, 0, 0, 1, 1, 0, 0, 0, 0, 1, 0, 0, 0, 0, 0, 0, 0, 0, 0, 0, 0, 0, 0, 0, 0, 0, 0, 0, 0, 0, 1, 0, 1, 0, 0, 0, 0, 0, 0, 0, 0, 0, 0, 0, 0, 1, 0, 0, 0, 1, 0, 0, 0, 0, 0, 1, 0, 0, 0, 0, 0, 1, 0, 0, 0, 0, 0, 0, 1, 0, 0, 0, 0, 0, 0, 1, 0, 1, 0, 0, 1, 0, 0, 0, 0, 1, 0, 0, 0, 0, 0, 0, 0, 0, 0, 0, 0, 0, 1, 0, 0, 0, 0, 0, 1, 0, 0, 1, 0, 0, 0, 0, 0, 0, 0, 0, 1, 0, 0, 0, 0, 0, 1, 0, 0, 0, 0, 0, 0, 0, 0, 0, 1, 0, 0, 0, 0, 0, 0, 1, 0, 0, 0, 0, 0, 0, 0, 0, 0, 0, 0, 0, 0, 0, 0, 0, 1, 0, 0, 0, 0, 0, 0, 0, 0, 0, 0, 0, 0, 0, 0, 0, 0, 0, 0, 0, 0, 0, 0, 0, 1, 0, 0, 1, 0, 0, 0, 0, 0, 0, 0, 0, 0, 0, 0, 0, 0, 1, 1, 1, 1, 0, 0, 0, 0, 0, 1, 0, 1, 0, 0, 0, 0, 0, 0, 0, 0, 0, 0, 0, 0, 0, 0, 0, 0, 0, 0, 0, 0, 0, 0, 0, 0, 0, 0, 0, 0, 0, 0, 0, 0, 0, 0, 0, 0, 0, 0, 0, 0, 0, 1, 0, 0, 0, 0, 0, 0, 0, 0, 0, 1, 0, 0, 1, 0, 0, 0, 0, 0, 1, 1, 0, 0, 0, 0, 0, 0, 0, 0, 0, 0, 1, 0, 0, 0, 0, 0, 0, 1, 0, 0, 0, 1, 0, 1, 1, 0, 0, 0, 0, 0, 0, 0, 0, 0, 0, 1, 1, 1, 0, 0, 0, 0, 1, 0, 0, 0, 0, 1, 0, 0, 0, 0, 0, 0, 1, 0, 1, 0, 0, 0, 0, 0, 0, 1, 0, 0, 0, 1, 0, 0, 0, 0, 0, 1, 0, 1, 0, 0, 0, 0, 0, 0, 0, 0, 0, 0, 0, 0, 0, 0, 0, 0, 0, 0, 0, 0, 0, 0, 0, 0, 0, 0, 0, 0, 0, 1, 0, 0, 0, 1, 0, 0, 0, 0, 0, 0, 0, 0, 0, 0, 0, 0, 0, 0, 0, 0, 0, 0, 0, 0, 0, 0, 0, 0, 0, 0, 0, 1, 1, 0, 1, 0, 0, 0, 0, 0, 1, 0, 0, 0, 0, 0, 0, 0, 0, 1, 0, 1, 0, 0, 0, 0, 0, 0, 0, 0, 0, 0, 0, 1, 0, 0, 0, 0, 1, 0, 1, 0, 0, 0, 0, 0, 0, 0, 0, 0, 0, 0, 0, 0, 0, 0, 0, 0, 1, 0, 0, 0, 0, 0, 0, 0, 0, 1, 1, 0, 0, 0, 0, 0, 0, 0, 0, 0, 0, 0, 0, 0, 0, 0, 1, 0, 0, 0, 0, 0, 0, 0, 0, 0, 1, 0, 0, 0, 0, 1, 0, 0, 0, 0, 0, 0, 1, 0, 0, 0, 0, 1, 1, 0, 0, 0, 0, 1, 0, 0, 0, 0, 0, 0, 0, 0, 0, 0, 0, 0, 0, 0, 1, 0, 0, 0, 0, 0, 0, 0, 0, 0, 0, 0, 0, 0, 0, 0, 0, 0, 0, 0, 0, 0, 0, 1, 0, 0, 0, 0, 0, 0, 0, 0, 0, 1, 0, 0, 0, 0, 0, 0, 1, 0, 0, 0, 0, 0, 1, 0, 0, 0, 0, 0, 0, 0, 0, 0, 0, 0, 0, 0, 1, 1, 0, 1, 0, 1, 0, 0, 0, 1, 0, 0, 0, 1, 0, 0, 0, 0, 0, 0, 0, 0, 0, 0, 0, 0, 0, 1, 0, 0, 0, 0, 0, 0, 0, 0, 0, 0, 0, 1, 0, 0, 0, 0, 0, 0, 0, 0, 0, 1, 0, 0, 0, 0, 0]\n"
          ]
        }
      ]
    },
    {
      "cell_type": "code",
      "source": [
        "fair_err_vec_5.sort()\n",
        "plt.hist(fair_err_vec_5)\n",
        "plt.title('DP Fairness Errors; eps = 5')\n",
        "plt.xlabel('Fairness Error')\n",
        "plt.ylabel('No. of Occurrences')"
      ],
      "metadata": {
        "colab": {
          "base_uri": "https://localhost:8080/",
          "height": 312
        },
        "id": "JoFfAjvjpaDf",
        "outputId": "7df1ff01-1671-4314-8426-5d0f99677100"
      },
      "execution_count": 260,
      "outputs": [
        {
          "output_type": "execute_result",
          "data": {
            "text/plain": [
              "Text(0, 0.5, 'No. of Occurrences')"
            ]
          },
          "metadata": {},
          "execution_count": 260
        },
        {
          "output_type": "display_data",
          "data": {
            "text/plain": [
              "<Figure size 432x288 with 1 Axes>"
            ],
            "image/png": "[encoded data removed]"
          },
          "metadata": {
            "needs_background": "light"
          }
        }
      ]
    },
    {
      "cell_type": "code",
      "source": [
        "#supp: t=20\n",
        "diff_vec=abs(supp_counts_20-counts_np)\n",
        "print(diff_vec)\n",
        "fair_err_supp20=max(diff_vec)-min(diff_vec)\n",
        "print(fair_err_supp20)"
      ],
      "metadata": {
        "colab": {
          "base_uri": "https://localhost:8080/"
        },
        "id": "uGkyy-qLiFyA",
        "outputId": "e6b8d72f-8673-4400-c128-7d0591ec1168"
      },
      "execution_count": 242,
      "outputs": [
        {
          "output_type": "stream",
          "name": "stdout",
          "text": [
            "[0 3 0 0 0 0 0 0 0]\n",
            "3\n"
          ]
        }
      ]
    },
    {
      "cell_type": "code",
      "source": [
        "#supp: t=40\n",
        "diff_vec=abs(supp_counts_40-counts_np)\n",
        "print(diff_vec)\n",
        "fair_err_supp40=max(diff_vec)-min(diff_vec)\n",
        "print(fair_err_supp40)"
      ],
      "metadata": {
        "colab": {
          "base_uri": "https://localhost:8080/"
        },
        "id": "kjryGPqri4Hc",
        "outputId": "66244efa-e957-40bc-b3f5-040b38e83a45"
      },
      "execution_count": 243,
      "outputs": [
        {
          "output_type": "stream",
          "name": "stdout",
          "text": [
            "[ 0  3  0  0  0  0  0  0 20]\n",
            "20\n"
          ]
        }
      ]
    },
    {
      "cell_type": "code",
      "source": [
        "dp1vsupp20fair=[a for a in fair_err_vec_1 if a<fair_err_supp20]\n",
        "print(len(dp1vsupp20fair)*100/1000)\n",
        "dp1vsupp40fair=[a for a in fair_err_vec_1 if a<fair_err_supp40]\n",
        "print(len(dp1vsupp40fair)*100/1000)\n",
        "dp2vsupp20fair=[a for a in fair_err_vec_2 if a<fair_err_supp20]\n",
        "print(len(dp2vsupp20fair)*100/1000)\n",
        "dp2vsupp40fair=[a for a in fair_err_vec_2 if a<fair_err_supp40]\n",
        "print(len(dp2vsupp40fair)*100/1000)\n",
        "dp5vsupp20fair=[a for a in fair_err_vec_5 if a<fair_err_supp20]\n",
        "print(len(dp5vsupp20fair)*100/1000)\n",
        "dp5vsupp40fair=[a for a in fair_err_vec_5 if a<fair_err_supp40]\n",
        "print(len(dp5vsupp40fair)*100/1000)"
      ],
      "metadata": {
        "colab": {
          "base_uri": "https://localhost:8080/"
        },
        "id": "6AdyFzUeyUST",
        "outputId": "d9d67703-05cf-42fb-b7e5-545a6c5c91fd"
      },
      "execution_count": 268,
      "outputs": [
        {
          "output_type": "stream",
          "name": "stdout",
          "text": [
            "52.8\n",
            "100.0\n",
            "96.8\n",
            "100.0\n",
            "100.0\n",
            "100.0\n"
          ]
        }
      ]
    },
    {
      "cell_type": "markdown",
      "source": [
        "## Random Merging"
      ],
      "metadata": {
        "id": "zKdk-h3x3Iug"
      }
    },
    {
      "cell_type": "code",
      "source": [
        "def merge_random(hist,col,k):\n",
        "  hist1=list(hist)\n",
        "  col2=0\n",
        "  #print(hist)\n",
        "  #print(hist[col]+hist[col2])\n",
        "  while hist[col]+hist[col2]<k:\n",
        "    col2=random.choice([*range(0,col),*range(col+1,len(hist))])\n",
        "  hist1.append(hist[col]+hist[col2])\n",
        "  del hist1[col]\n",
        "  del hist1[col2]\n",
        "  return hist1\n",
        "\n",
        "def k_anonymise_rand(hist,k):\n",
        "  hist=np.array(hist)\n",
        "  #print(hist<k)\n",
        "  while any(hist<k):\n",
        "    i=np.where(hist<k)\n",
        "    #print('i=',i[0][0])\n",
        "    hist=np.array(merge_random(hist,i[0][0],k))\n",
        "  return hist"
      ],
      "metadata": {
        "id": "2GmIeGvI3INY"
      },
      "execution_count": 353,
      "outputs": []
    },
    {
      "cell_type": "code",
      "source": [
        "any(counts_np<20)"
      ],
      "metadata": {
        "colab": {
          "base_uri": "https://localhost:8080/"
        },
        "id": "DE1h__sQENx_",
        "outputId": "7925e915-b9da-4ee6-f04c-ea13220a2a40"
      },
      "execution_count": 340,
      "outputs": [
        {
          "output_type": "execute_result",
          "data": {
            "text/plain": [
              "True"
            ]
          },
          "metadata": {},
          "execution_count": 340
        }
      ]
    },
    {
      "cell_type": "code",
      "source": [
        "#merge_random(counts_np,1,20)\n",
        "k_anonymise_rand(counts_np,40)"
      ],
      "metadata": {
        "colab": {
          "base_uri": "https://localhost:8080/"
        },
        "id": "FQVBN4HE-Z9F",
        "outputId": "22cdef88-42ca-4133-d50a-c108ec0af28a"
      },
      "execution_count": 355,
      "outputs": [
        {
          "output_type": "execute_result",
          "data": {
            "text/plain": [
              "array([ 955, 3487, 2170,  591,   75, 3487,   78])"
            ]
          },
          "metadata": {},
          "execution_count": 355
        }
      ]
    },
    {
      "cell_type": "markdown",
      "source": [
        "Errr... Counts will always report 0 l1 and fairness errors for k-anonymity. Age sums might be awkward for non adjacent merging."
      ],
      "metadata": {
        "id": "7Z39-2xhSmEn"
      }
    }
  ],
  "metadata": {
    "colab": {
      "collapsed_sections": [],
      "name": "AdultSyr2.1.ipynb",
      "provenance": [],
      "include_colab_link": true
    },
    "kernelspec": {
      "display_name": "Python 3",
      "language": "python",
      "name": "python3"
    },
    "language_info": {
      "codemirror_mode": {
        "name": "ipython",
        "version": 3
      },
      "file_extension": ".py",
      "mimetype": "text/x-python",
      "name": "python",
      "nbconvert_exporter": "python",
      "pygments_lexer": "ipython3",
      "version": "3.8.8"
    }
  },
  "nbformat": 4,
  "nbformat_minor": 0
}