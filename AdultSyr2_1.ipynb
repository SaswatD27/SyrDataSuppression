{
  "cells": [
    {
      "cell_type": "markdown",
      "metadata": {
        "id": "view-in-github",
        "colab_type": "text"
      },
      "source": [
        "<a href=\"https://colab.research.google.com/github/SaswatD27/SyrDataSuppression/blob/main/AdultSyr2_1.ipynb\" target=\"_parent\"><img src=\"https://colab.research.google.com/assets/colab-badge.svg\" alt=\"Open In Colab\"/></a>"
      ]
    },
    {
      "cell_type": "code",
      "execution_count": 139,
      "metadata": {
        "id": "-1SyTG5C7ur1"
      },
      "outputs": [],
      "source": [
        "import numpy as np\n",
        "import pandas as pd\n",
        "import seaborn as sns\n",
        "import matplotlib.pyplot as plt\n",
        "#import pipeline_dp as pdp\n",
        "import math"
      ]
    },
    {
      "cell_type": "code",
      "execution_count": 140,
      "metadata": {
        "id": "H8RjgUcj8Li1"
      },
      "outputs": [],
      "source": [
        "df=pd.read_csv(\"adult.csv\")"
      ]
    },
    {
      "cell_type": "code",
      "execution_count": 141,
      "metadata": {
        "colab": {
          "base_uri": "https://localhost:8080/",
          "height": 424
        },
        "id": "dFChCvMRTbKd",
        "outputId": "d0fee2ed-31de-4820-f913-ddbe39720037"
      },
      "outputs": [
        {
          "output_type": "execute_result",
          "data": {
            "text/plain": [
              "       age     workclass  fnlwgt     education  educational-num  \\\n",
              "0       25       Private  226802          11th                7   \n",
              "1       38       Private   89814       HS-grad                9   \n",
              "2       28     Local-gov  336951    Assoc-acdm               12   \n",
              "3       44       Private  160323  Some-college               10   \n",
              "4       18             ?  103497  Some-college               10   \n",
              "...    ...           ...     ...           ...              ...   \n",
              "48837   27       Private  257302    Assoc-acdm               12   \n",
              "48838   40       Private  154374       HS-grad                9   \n",
              "48839   58       Private  151910       HS-grad                9   \n",
              "48840   22       Private  201490       HS-grad                9   \n",
              "48841   52  Self-emp-inc  287927       HS-grad                9   \n",
              "\n",
              "           marital-status         occupation relationship   race  gender  \\\n",
              "0           Never-married  Machine-op-inspct    Own-child  Black    Male   \n",
              "1      Married-civ-spouse    Farming-fishing      Husband  White    Male   \n",
              "2      Married-civ-spouse    Protective-serv      Husband  White    Male   \n",
              "3      Married-civ-spouse  Machine-op-inspct      Husband  Black    Male   \n",
              "4           Never-married                  ?    Own-child  White  Female   \n",
              "...                   ...                ...          ...    ...     ...   \n",
              "48837  Married-civ-spouse       Tech-support         Wife  White  Female   \n",
              "48838  Married-civ-spouse  Machine-op-inspct      Husband  White    Male   \n",
              "48839             Widowed       Adm-clerical    Unmarried  White  Female   \n",
              "48840       Never-married       Adm-clerical    Own-child  White    Male   \n",
              "48841  Married-civ-spouse    Exec-managerial         Wife  White  Female   \n",
              "\n",
              "       capital-gain  capital-loss  hours-per-week native-country income  \n",
              "0                 0             0              40  United-States  <=50K  \n",
              "1                 0             0              50  United-States  <=50K  \n",
              "2                 0             0              40  United-States   >50K  \n",
              "3              7688             0              40  United-States   >50K  \n",
              "4                 0             0              30  United-States  <=50K  \n",
              "...             ...           ...             ...            ...    ...  \n",
              "48837             0             0              38  United-States  <=50K  \n",
              "48838             0             0              40  United-States   >50K  \n",
              "48839             0             0              40  United-States  <=50K  \n",
              "48840             0             0              20  United-States  <=50K  \n",
              "48841         15024             0              40  United-States   >50K  \n",
              "\n",
              "[48842 rows x 15 columns]"
            ],
            "text/html": [
              "\n",
              "  <div id=\"df-958b85cd-57d6-4b1e-8f82-631ca868adfc\">\n",
              "    <div class=\"colab-df-container\">\n",
              "      <div>\n",
              "<style scoped>\n",
              "    .dataframe tbody tr th:only-of-type {\n",
              "        vertical-align: middle;\n",
              "    }\n",
              "\n",
              "    .dataframe tbody tr th {\n",
              "        vertical-align: top;\n",
              "    }\n",
              "\n",
              "    .dataframe thead th {\n",
              "        text-align: right;\n",
              "    }\n",
              "</style>\n",
              "<table border=\"1\" class=\"dataframe\">\n",
              "  <thead>\n",
              "    <tr style=\"text-align: right;\">\n",
              "      <th></th>\n",
              "      <th>age</th>\n",
              "      <th>workclass</th>\n",
              "      <th>fnlwgt</th>\n",
              "      <th>education</th>\n",
              "      <th>educational-num</th>\n",
              "      <th>marital-status</th>\n",
              "      <th>occupation</th>\n",
              "      <th>relationship</th>\n",
              "      <th>race</th>\n",
              "      <th>gender</th>\n",
              "      <th>capital-gain</th>\n",
              "      <th>capital-loss</th>\n",
              "      <th>hours-per-week</th>\n",
              "      <th>native-country</th>\n",
              "      <th>income</th>\n",
              "    </tr>\n",
              "  </thead>\n",
              "  <tbody>\n",
              "    <tr>\n",
              "      <th>0</th>\n",
              "      <td>25</td>\n",
              "      <td>Private</td>\n",
              "      <td>226802</td>\n",
              "      <td>11th</td>\n",
              "      <td>7</td>\n",
              "      <td>Never-married</td>\n",
              "      <td>Machine-op-inspct</td>\n",
              "      <td>Own-child</td>\n",
              "      <td>Black</td>\n",
              "      <td>Male</td>\n",
              "      <td>0</td>\n",
              "      <td>0</td>\n",
              "      <td>40</td>\n",
              "      <td>United-States</td>\n",
              "      <td>&lt;=50K</td>\n",
              "    </tr>\n",
              "    <tr>\n",
              "      <th>1</th>\n",
              "      <td>38</td>\n",
              "      <td>Private</td>\n",
              "      <td>89814</td>\n",
              "      <td>HS-grad</td>\n",
              "      <td>9</td>\n",
              "      <td>Married-civ-spouse</td>\n",
              "      <td>Farming-fishing</td>\n",
              "      <td>Husband</td>\n",
              "      <td>White</td>\n",
              "      <td>Male</td>\n",
              "      <td>0</td>\n",
              "      <td>0</td>\n",
              "      <td>50</td>\n",
              "      <td>United-States</td>\n",
              "      <td>&lt;=50K</td>\n",
              "    </tr>\n",
              "    <tr>\n",
              "      <th>2</th>\n",
              "      <td>28</td>\n",
              "      <td>Local-gov</td>\n",
              "      <td>336951</td>\n",
              "      <td>Assoc-acdm</td>\n",
              "      <td>12</td>\n",
              "      <td>Married-civ-spouse</td>\n",
              "      <td>Protective-serv</td>\n",
              "      <td>Husband</td>\n",
              "      <td>White</td>\n",
              "      <td>Male</td>\n",
              "      <td>0</td>\n",
              "      <td>0</td>\n",
              "      <td>40</td>\n",
              "      <td>United-States</td>\n",
              "      <td>&gt;50K</td>\n",
              "    </tr>\n",
              "    <tr>\n",
              "      <th>3</th>\n",
              "      <td>44</td>\n",
              "      <td>Private</td>\n",
              "      <td>160323</td>\n",
              "      <td>Some-college</td>\n",
              "      <td>10</td>\n",
              "      <td>Married-civ-spouse</td>\n",
              "      <td>Machine-op-inspct</td>\n",
              "      <td>Husband</td>\n",
              "      <td>Black</td>\n",
              "      <td>Male</td>\n",
              "      <td>7688</td>\n",
              "      <td>0</td>\n",
              "      <td>40</td>\n",
              "      <td>United-States</td>\n",
              "      <td>&gt;50K</td>\n",
              "    </tr>\n",
              "    <tr>\n",
              "      <th>4</th>\n",
              "      <td>18</td>\n",
              "      <td>?</td>\n",
              "      <td>103497</td>\n",
              "      <td>Some-college</td>\n",
              "      <td>10</td>\n",
              "      <td>Never-married</td>\n",
              "      <td>?</td>\n",
              "      <td>Own-child</td>\n",
              "      <td>White</td>\n",
              "      <td>Female</td>\n",
              "      <td>0</td>\n",
              "      <td>0</td>\n",
              "      <td>30</td>\n",
              "      <td>United-States</td>\n",
              "      <td>&lt;=50K</td>\n",
              "    </tr>\n",
              "    <tr>\n",
              "      <th>...</th>\n",
              "      <td>...</td>\n",
              "      <td>...</td>\n",
              "      <td>...</td>\n",
              "      <td>...</td>\n",
              "      <td>...</td>\n",
              "      <td>...</td>\n",
              "      <td>...</td>\n",
              "      <td>...</td>\n",
              "      <td>...</td>\n",
              "      <td>...</td>\n",
              "      <td>...</td>\n",
              "      <td>...</td>\n",
              "      <td>...</td>\n",
              "      <td>...</td>\n",
              "      <td>...</td>\n",
              "    </tr>\n",
              "    <tr>\n",
              "      <th>48837</th>\n",
              "      <td>27</td>\n",
              "      <td>Private</td>\n",
              "      <td>257302</td>\n",
              "      <td>Assoc-acdm</td>\n",
              "      <td>12</td>\n",
              "      <td>Married-civ-spouse</td>\n",
              "      <td>Tech-support</td>\n",
              "      <td>Wife</td>\n",
              "      <td>White</td>\n",
              "      <td>Female</td>\n",
              "      <td>0</td>\n",
              "      <td>0</td>\n",
              "      <td>38</td>\n",
              "      <td>United-States</td>\n",
              "      <td>&lt;=50K</td>\n",
              "    </tr>\n",
              "    <tr>\n",
              "      <th>48838</th>\n",
              "      <td>40</td>\n",
              "      <td>Private</td>\n",
              "      <td>154374</td>\n",
              "      <td>HS-grad</td>\n",
              "      <td>9</td>\n",
              "      <td>Married-civ-spouse</td>\n",
              "      <td>Machine-op-inspct</td>\n",
              "      <td>Husband</td>\n",
              "      <td>White</td>\n",
              "      <td>Male</td>\n",
              "      <td>0</td>\n",
              "      <td>0</td>\n",
              "      <td>40</td>\n",
              "      <td>United-States</td>\n",
              "      <td>&gt;50K</td>\n",
              "    </tr>\n",
              "    <tr>\n",
              "      <th>48839</th>\n",
              "      <td>58</td>\n",
              "      <td>Private</td>\n",
              "      <td>151910</td>\n",
              "      <td>HS-grad</td>\n",
              "      <td>9</td>\n",
              "      <td>Widowed</td>\n",
              "      <td>Adm-clerical</td>\n",
              "      <td>Unmarried</td>\n",
              "      <td>White</td>\n",
              "      <td>Female</td>\n",
              "      <td>0</td>\n",
              "      <td>0</td>\n",
              "      <td>40</td>\n",
              "      <td>United-States</td>\n",
              "      <td>&lt;=50K</td>\n",
              "    </tr>\n",
              "    <tr>\n",
              "      <th>48840</th>\n",
              "      <td>22</td>\n",
              "      <td>Private</td>\n",
              "      <td>201490</td>\n",
              "      <td>HS-grad</td>\n",
              "      <td>9</td>\n",
              "      <td>Never-married</td>\n",
              "      <td>Adm-clerical</td>\n",
              "      <td>Own-child</td>\n",
              "      <td>White</td>\n",
              "      <td>Male</td>\n",
              "      <td>0</td>\n",
              "      <td>0</td>\n",
              "      <td>20</td>\n",
              "      <td>United-States</td>\n",
              "      <td>&lt;=50K</td>\n",
              "    </tr>\n",
              "    <tr>\n",
              "      <th>48841</th>\n",
              "      <td>52</td>\n",
              "      <td>Self-emp-inc</td>\n",
              "      <td>287927</td>\n",
              "      <td>HS-grad</td>\n",
              "      <td>9</td>\n",
              "      <td>Married-civ-spouse</td>\n",
              "      <td>Exec-managerial</td>\n",
              "      <td>Wife</td>\n",
              "      <td>White</td>\n",
              "      <td>Female</td>\n",
              "      <td>15024</td>\n",
              "      <td>0</td>\n",
              "      <td>40</td>\n",
              "      <td>United-States</td>\n",
              "      <td>&gt;50K</td>\n",
              "    </tr>\n",
              "  </tbody>\n",
              "</table>\n",
              "<p>48842 rows × 15 columns</p>\n",
              "</div>\n",
              "      <button class=\"colab-df-convert\" onclick=\"convertToInteractive('df-958b85cd-57d6-4b1e-8f82-631ca868adfc')\"\n",
              "              title=\"Convert this dataframe to an interactive table.\"\n",
              "              style=\"display:none;\">\n",
              "        \n",
              "  <svg xmlns=\"http://www.w3.org/2000/svg\" height=\"24px\"viewBox=\"0 0 24 24\"\n",
              "       width=\"24px\">\n",
              "    <path d=\"M0 0h24v24H0V0z\" fill=\"none\"/>\n",
              "    <path d=\"M18.56 5.44l.94 2.06.94-2.06 2.06-.94-2.06-.94-.94-2.06-.94 2.06-2.06.94zm-11 1L8.5 8.5l.94-2.06 2.06-.94-2.06-.94L8.5 2.5l-.94 2.06-2.06.94zm10 10l.94 2.06.94-2.06 2.06-.94-2.06-.94-.94-2.06-.94 2.06-2.06.94z\"/><path d=\"M17.41 7.96l-1.37-1.37c-.4-.4-.92-.59-1.43-.59-.52 0-1.04.2-1.43.59L10.3 9.45l-7.72 7.72c-.78.78-.78 2.05 0 2.83L4 21.41c.39.39.9.59 1.41.59.51 0 1.02-.2 1.41-.59l7.78-7.78 2.81-2.81c.8-.78.8-2.07 0-2.86zM5.41 20L4 18.59l7.72-7.72 1.47 1.35L5.41 20z\"/>\n",
              "  </svg>\n",
              "      </button>\n",
              "      \n",
              "  <style>\n",
              "    .colab-df-container {\n",
              "      display:flex;\n",
              "      flex-wrap:wrap;\n",
              "      gap: 12px;\n",
              "    }\n",
              "\n",
              "    .colab-df-convert {\n",
              "      background-color: #E8F0FE;\n",
              "      border: none;\n",
              "      border-radius: 50%;\n",
              "      cursor: pointer;\n",
              "      display: none;\n",
              "      fill: #1967D2;\n",
              "      height: 32px;\n",
              "      padding: 0 0 0 0;\n",
              "      width: 32px;\n",
              "    }\n",
              "\n",
              "    .colab-df-convert:hover {\n",
              "      background-color: #E2EBFA;\n",
              "      box-shadow: 0px 1px 2px rgba(60, 64, 67, 0.3), 0px 1px 3px 1px rgba(60, 64, 67, 0.15);\n",
              "      fill: #174EA6;\n",
              "    }\n",
              "\n",
              "    [theme=dark] .colab-df-convert {\n",
              "      background-color: #3B4455;\n",
              "      fill: #D2E3FC;\n",
              "    }\n",
              "\n",
              "    [theme=dark] .colab-df-convert:hover {\n",
              "      background-color: #434B5C;\n",
              "      box-shadow: 0px 1px 3px 1px rgba(0, 0, 0, 0.15);\n",
              "      filter: drop-shadow(0px 1px 2px rgba(0, 0, 0, 0.3));\n",
              "      fill: #FFFFFF;\n",
              "    }\n",
              "  </style>\n",
              "\n",
              "      <script>\n",
              "        const buttonEl =\n",
              "          document.querySelector('#df-958b85cd-57d6-4b1e-8f82-631ca868adfc button.colab-df-convert');\n",
              "        buttonEl.style.display =\n",
              "          google.colab.kernel.accessAllowed ? 'block' : 'none';\n",
              "\n",
              "        async function convertToInteractive(key) {\n",
              "          const element = document.querySelector('#df-958b85cd-57d6-4b1e-8f82-631ca868adfc');\n",
              "          const dataTable =\n",
              "            await google.colab.kernel.invokeFunction('convertToInteractive',\n",
              "                                                     [key], {});\n",
              "          if (!dataTable) return;\n",
              "\n",
              "          const docLinkHtml = 'Like what you see? Visit the ' +\n",
              "            '<a target=\"_blank\" href=https://colab.research.google.com/notebooks/data_table.ipynb>data table notebook</a>'\n",
              "            + ' to learn more about interactive tables.';\n",
              "          element.innerHTML = '';\n",
              "          dataTable['output_type'] = 'display_data';\n",
              "          await google.colab.output.renderOutput(dataTable, element);\n",
              "          const docLink = document.createElement('div');\n",
              "          docLink.innerHTML = docLinkHtml;\n",
              "          element.appendChild(docLink);\n",
              "        }\n",
              "      </script>\n",
              "    </div>\n",
              "  </div>\n",
              "  "
            ]
          },
          "metadata": {},
          "execution_count": 141
        }
      ],
      "source": [
        "pd.read_csv(\"adult.csv\")"
      ]
    },
    {
      "cell_type": "markdown",
      "metadata": {
        "id": "XV57_pZaAzJE"
      },
      "source": [
        "##Target Attributes\n",
        "* Age\n",
        "* Income\n",
        "* Hours per week\n",
        "\n",
        " (Maybe gender)"
      ]
    },
    {
      "cell_type": "code",
      "execution_count": 142,
      "metadata": {
        "id": "fMHrp03sQZTd"
      },
      "outputs": [],
      "source": [
        "mar_df=pd.DataFrame()"
      ]
    },
    {
      "cell_type": "code",
      "execution_count": 143,
      "metadata": {
        "id": "qSBYwzYbRk0_"
      },
      "outputs": [],
      "source": [
        "max_age=df[\"age\"].max()"
      ]
    },
    {
      "cell_type": "code",
      "execution_count": 144,
      "metadata": {
        "id": "B4F-RSFcS_7i"
      },
      "outputs": [],
      "source": [
        "for i in range(int(max_age/10)):\n",
        "  df2=df[(df['age']<=(i+1)*10) & (df['age']>i*10) & (df['income']==\">50K\") & (df['hours-per-week'] >30)]\n",
        "  #print(df2.head())\n",
        "  mar_df=mar_df.append(df2, ignore_index=True)\n",
        "  #print(mar_df.head())"
      ]
    },
    {
      "cell_type": "code",
      "execution_count": 145,
      "metadata": {
        "colab": {
          "base_uri": "https://localhost:8080/",
          "height": 206
        },
        "id": "_DK742tUT7_o",
        "outputId": "5b05ed8a-0498-490c-90af-5ca6e65138f6",
        "scrolled": true
      },
      "outputs": [
        {
          "output_type": "execute_result",
          "data": {
            "text/plain": [
              "   age  workclass  fnlwgt   education  educational-num      marital-status  \\\n",
              "0   20    Private  325033        12th                8       Never-married   \n",
              "1   19    Private  323605     7th-8th                4       Never-married   \n",
              "2   19          ?  200790        12th                8  Married-civ-spouse   \n",
              "3   28  Local-gov  336951  Assoc-acdm               12  Married-civ-spouse   \n",
              "4   28    Private  242832   Assoc-voc               11  Married-civ-spouse   \n",
              "\n",
              "        occupation    relationship   race  gender  capital-gain  capital-loss  \\\n",
              "0    Other-service       Own-child  Black    Male             0             0   \n",
              "1    Other-service   Not-in-family  White    Male             0             0   \n",
              "2                ?  Other-relative  White  Female         15024             0   \n",
              "3  Protective-serv         Husband  White    Male             0             0   \n",
              "4   Prof-specialty            Wife  White  Female             0             0   \n",
              "\n",
              "   hours-per-week native-country income  \n",
              "0              35  United-States   >50K  \n",
              "1              60  United-States   >50K  \n",
              "2              40  United-States   >50K  \n",
              "3              40  United-States   >50K  \n",
              "4              36  United-States   >50K  "
            ],
            "text/html": [
              "\n",
              "  <div id=\"df-532bd62a-c74e-454a-a923-f443d72f065b\">\n",
              "    <div class=\"colab-df-container\">\n",
              "      <div>\n",
              "<style scoped>\n",
              "    .dataframe tbody tr th:only-of-type {\n",
              "        vertical-align: middle;\n",
              "    }\n",
              "\n",
              "    .dataframe tbody tr th {\n",
              "        vertical-align: top;\n",
              "    }\n",
              "\n",
              "    .dataframe thead th {\n",
              "        text-align: right;\n",
              "    }\n",
              "</style>\n",
              "<table border=\"1\" class=\"dataframe\">\n",
              "  <thead>\n",
              "    <tr style=\"text-align: right;\">\n",
              "      <th></th>\n",
              "      <th>age</th>\n",
              "      <th>workclass</th>\n",
              "      <th>fnlwgt</th>\n",
              "      <th>education</th>\n",
              "      <th>educational-num</th>\n",
              "      <th>marital-status</th>\n",
              "      <th>occupation</th>\n",
              "      <th>relationship</th>\n",
              "      <th>race</th>\n",
              "      <th>gender</th>\n",
              "      <th>capital-gain</th>\n",
              "      <th>capital-loss</th>\n",
              "      <th>hours-per-week</th>\n",
              "      <th>native-country</th>\n",
              "      <th>income</th>\n",
              "    </tr>\n",
              "  </thead>\n",
              "  <tbody>\n",
              "    <tr>\n",
              "      <th>0</th>\n",
              "      <td>20</td>\n",
              "      <td>Private</td>\n",
              "      <td>325033</td>\n",
              "      <td>12th</td>\n",
              "      <td>8</td>\n",
              "      <td>Never-married</td>\n",
              "      <td>Other-service</td>\n",
              "      <td>Own-child</td>\n",
              "      <td>Black</td>\n",
              "      <td>Male</td>\n",
              "      <td>0</td>\n",
              "      <td>0</td>\n",
              "      <td>35</td>\n",
              "      <td>United-States</td>\n",
              "      <td>&gt;50K</td>\n",
              "    </tr>\n",
              "    <tr>\n",
              "      <th>1</th>\n",
              "      <td>19</td>\n",
              "      <td>Private</td>\n",
              "      <td>323605</td>\n",
              "      <td>7th-8th</td>\n",
              "      <td>4</td>\n",
              "      <td>Never-married</td>\n",
              "      <td>Other-service</td>\n",
              "      <td>Not-in-family</td>\n",
              "      <td>White</td>\n",
              "      <td>Male</td>\n",
              "      <td>0</td>\n",
              "      <td>0</td>\n",
              "      <td>60</td>\n",
              "      <td>United-States</td>\n",
              "      <td>&gt;50K</td>\n",
              "    </tr>\n",
              "    <tr>\n",
              "      <th>2</th>\n",
              "      <td>19</td>\n",
              "      <td>?</td>\n",
              "      <td>200790</td>\n",
              "      <td>12th</td>\n",
              "      <td>8</td>\n",
              "      <td>Married-civ-spouse</td>\n",
              "      <td>?</td>\n",
              "      <td>Other-relative</td>\n",
              "      <td>White</td>\n",
              "      <td>Female</td>\n",
              "      <td>15024</td>\n",
              "      <td>0</td>\n",
              "      <td>40</td>\n",
              "      <td>United-States</td>\n",
              "      <td>&gt;50K</td>\n",
              "    </tr>\n",
              "    <tr>\n",
              "      <th>3</th>\n",
              "      <td>28</td>\n",
              "      <td>Local-gov</td>\n",
              "      <td>336951</td>\n",
              "      <td>Assoc-acdm</td>\n",
              "      <td>12</td>\n",
              "      <td>Married-civ-spouse</td>\n",
              "      <td>Protective-serv</td>\n",
              "      <td>Husband</td>\n",
              "      <td>White</td>\n",
              "      <td>Male</td>\n",
              "      <td>0</td>\n",
              "      <td>0</td>\n",
              "      <td>40</td>\n",
              "      <td>United-States</td>\n",
              "      <td>&gt;50K</td>\n",
              "    </tr>\n",
              "    <tr>\n",
              "      <th>4</th>\n",
              "      <td>28</td>\n",
              "      <td>Private</td>\n",
              "      <td>242832</td>\n",
              "      <td>Assoc-voc</td>\n",
              "      <td>11</td>\n",
              "      <td>Married-civ-spouse</td>\n",
              "      <td>Prof-specialty</td>\n",
              "      <td>Wife</td>\n",
              "      <td>White</td>\n",
              "      <td>Female</td>\n",
              "      <td>0</td>\n",
              "      <td>0</td>\n",
              "      <td>36</td>\n",
              "      <td>United-States</td>\n",
              "      <td>&gt;50K</td>\n",
              "    </tr>\n",
              "  </tbody>\n",
              "</table>\n",
              "</div>\n",
              "      <button class=\"colab-df-convert\" onclick=\"convertToInteractive('df-532bd62a-c74e-454a-a923-f443d72f065b')\"\n",
              "              title=\"Convert this dataframe to an interactive table.\"\n",
              "              style=\"display:none;\">\n",
              "        \n",
              "  <svg xmlns=\"http://www.w3.org/2000/svg\" height=\"24px\"viewBox=\"0 0 24 24\"\n",
              "       width=\"24px\">\n",
              "    <path d=\"M0 0h24v24H0V0z\" fill=\"none\"/>\n",
              "    <path d=\"M18.56 5.44l.94 2.06.94-2.06 2.06-.94-2.06-.94-.94-2.06-.94 2.06-2.06.94zm-11 1L8.5 8.5l.94-2.06 2.06-.94-2.06-.94L8.5 2.5l-.94 2.06-2.06.94zm10 10l.94 2.06.94-2.06 2.06-.94-2.06-.94-.94-2.06-.94 2.06-2.06.94z\"/><path d=\"M17.41 7.96l-1.37-1.37c-.4-.4-.92-.59-1.43-.59-.52 0-1.04.2-1.43.59L10.3 9.45l-7.72 7.72c-.78.78-.78 2.05 0 2.83L4 21.41c.39.39.9.59 1.41.59.51 0 1.02-.2 1.41-.59l7.78-7.78 2.81-2.81c.8-.78.8-2.07 0-2.86zM5.41 20L4 18.59l7.72-7.72 1.47 1.35L5.41 20z\"/>\n",
              "  </svg>\n",
              "      </button>\n",
              "      \n",
              "  <style>\n",
              "    .colab-df-container {\n",
              "      display:flex;\n",
              "      flex-wrap:wrap;\n",
              "      gap: 12px;\n",
              "    }\n",
              "\n",
              "    .colab-df-convert {\n",
              "      background-color: #E8F0FE;\n",
              "      border: none;\n",
              "      border-radius: 50%;\n",
              "      cursor: pointer;\n",
              "      display: none;\n",
              "      fill: #1967D2;\n",
              "      height: 32px;\n",
              "      padding: 0 0 0 0;\n",
              "      width: 32px;\n",
              "    }\n",
              "\n",
              "    .colab-df-convert:hover {\n",
              "      background-color: #E2EBFA;\n",
              "      box-shadow: 0px 1px 2px rgba(60, 64, 67, 0.3), 0px 1px 3px 1px rgba(60, 64, 67, 0.15);\n",
              "      fill: #174EA6;\n",
              "    }\n",
              "\n",
              "    [theme=dark] .colab-df-convert {\n",
              "      background-color: #3B4455;\n",
              "      fill: #D2E3FC;\n",
              "    }\n",
              "\n",
              "    [theme=dark] .colab-df-convert:hover {\n",
              "      background-color: #434B5C;\n",
              "      box-shadow: 0px 1px 3px 1px rgba(0, 0, 0, 0.15);\n",
              "      filter: drop-shadow(0px 1px 2px rgba(0, 0, 0, 0.3));\n",
              "      fill: #FFFFFF;\n",
              "    }\n",
              "  </style>\n",
              "\n",
              "      <script>\n",
              "        const buttonEl =\n",
              "          document.querySelector('#df-532bd62a-c74e-454a-a923-f443d72f065b button.colab-df-convert');\n",
              "        buttonEl.style.display =\n",
              "          google.colab.kernel.accessAllowed ? 'block' : 'none';\n",
              "\n",
              "        async function convertToInteractive(key) {\n",
              "          const element = document.querySelector('#df-532bd62a-c74e-454a-a923-f443d72f065b');\n",
              "          const dataTable =\n",
              "            await google.colab.kernel.invokeFunction('convertToInteractive',\n",
              "                                                     [key], {});\n",
              "          if (!dataTable) return;\n",
              "\n",
              "          const docLinkHtml = 'Like what you see? Visit the ' +\n",
              "            '<a target=\"_blank\" href=https://colab.research.google.com/notebooks/data_table.ipynb>data table notebook</a>'\n",
              "            + ' to learn more about interactive tables.';\n",
              "          element.innerHTML = '';\n",
              "          dataTable['output_type'] = 'display_data';\n",
              "          await google.colab.output.renderOutput(dataTable, element);\n",
              "          const docLink = document.createElement('div');\n",
              "          docLink.innerHTML = docLinkHtml;\n",
              "          element.appendChild(docLink);\n",
              "        }\n",
              "      </script>\n",
              "    </div>\n",
              "  </div>\n",
              "  "
            ]
          },
          "metadata": {},
          "execution_count": 145
        }
      ],
      "source": [
        "mar_df.head()"
      ]
    },
    {
      "cell_type": "code",
      "execution_count": 146,
      "metadata": {
        "colab": {
          "base_uri": "https://localhost:8080/",
          "height": 295
        },
        "id": "6VmHQFBz3lxE",
        "outputId": "80d92525-b99c-4460-f827-c31b031d80f6"
      },
      "outputs": [
        {
          "output_type": "display_data",
          "data": {
            "text/plain": [
              "<Figure size 432x288 with 1 Axes>"
            ],
            "image/png": "[encoded data removed]"
          },
          "metadata": {
            "needs_background": "light"
          }
        }
      ],
      "source": [
        "plt.hist(mar_df['age'])\n",
        "plt.title('Marginal Query Hist')\n",
        "plt.xlabel('Ages')\n",
        "plt.show()"
      ]
    },
    {
      "cell_type": "code",
      "execution_count": 147,
      "metadata": {
        "id": "q2-hb4CREPat"
      },
      "outputs": [],
      "source": [
        "counts=[]\n",
        "for i in range(int(max_age/10)):\n",
        "  add_df=mar_df[(mar_df['age']>i*10) & (mar_df['age']<=(i+1)*10)]['age']\n",
        "  counts.append(add_df.count())"
      ]
    },
    {
      "cell_type": "code",
      "execution_count": 148,
      "metadata": {
        "colab": {
          "base_uri": "https://localhost:8080/"
        },
        "id": "LDoad0_EFi9m",
        "outputId": "0107af44-4905-451c-e410-705b6b9b7f69"
      },
      "outputs": [
        {
          "output_type": "stream",
          "name": "stdout",
          "text": [
            "[0, 3, 955, 3487, 3860, 2170, 591, 75, 20]\n",
            "['0 to 10', '10 to 20', '20 to 30', '30 to 40', '40 to 50', '50 to 60', '60 to 70', '70 to 80', '80 to 90']\n"
          ]
        }
      ],
      "source": [
        "print(counts)\n",
        "ages=[str(i*10)+\" to \"+str((i+1)*10) for i in range(int(max_age/10))]\n",
        "print(ages)"
      ]
    },
    {
      "cell_type": "code",
      "execution_count": 149,
      "metadata": {
        "colab": {
          "base_uri": "https://localhost:8080/"
        },
        "id": "IxP6LCcCXCqk",
        "outputId": "ae133dd4-3e11-4dcd-aa26-5569ad381925"
      },
      "outputs": [
        {
          "output_type": "stream",
          "name": "stdout",
          "text": [
            "484755\n",
            "490472\n",
            "1804\n"
          ]
        }
      ],
      "source": [
        "#Age sum approximation from bins\n",
        "est_bin_age_sum=list(map(lambda a: ((a*10)+5)*counts[a], range(len(counts))))\n",
        "print(sum(est_bin_age_sum))\n",
        "#Actual age sum\n",
        "act_age_sum=mar_df['age'].sum()\n",
        "print(act_age_sum)\n",
        "#Minorities' age sum (0<age<=20 and age>80)\n",
        "min_age_sum=mar_df[(mar_df['age']<=20) | (mar_df['age']>80)]['age'].sum()\n",
        "print(min_age_sum)\n",
        "#Two types of error analyses shall be considered: one based purely on counts, \n",
        "#another on estimated age sums (the latter is because otherwise, \n",
        "#we shall not be able to calculate the error for k anonymity using counts purely.)"
      ]
    },
    {
      "cell_type": "code",
      "execution_count": 166,
      "metadata": {
        "colab": {
          "base_uri": "https://localhost:8080/",
          "height": 327
        },
        "id": "w58sEdNtFKVq",
        "outputId": "09954a2d-e26c-4c8a-c3a9-2a06f59da019"
      },
      "outputs": [
        {
          "output_type": "display_data",
          "data": {
            "text/plain": [
              "<Figure size 432x288 with 1 Axes>"
            ],
            "image/png": "[encoded data removed]"
          },
          "metadata": {
            "needs_background": "light"
          }
        }
      ],
      "source": [
        "plt.bar(ages,counts)\n",
        "plt.xticks(rotation=90)\n",
        "plt.title('Marginal Query: Raw Counts')\n",
        "plt.xlabel('Ages')\n",
        "plt.ylabel('Counts')\n",
        "plt.show()\n",
        "#Better representation"
      ]
    },
    {
      "cell_type": "markdown",
      "metadata": {
        "id": "yaq_mHTD4iD0"
      },
      "source": [
        "## Anonymisation!! Reallocation first\n",
        "* Threshold = 40\n",
        "\n",
        "So let's say that we have $k$-anonymity with $1\\leq k\\leq 40$, then the following behaviour should be the same in this context."
      ]
    },
    {
      "cell_type": "code",
      "execution_count": 151,
      "metadata": {
        "colab": {
          "base_uri": "https://localhost:8080/",
          "height": 70
        },
        "id": "KYkPIiGS86uI",
        "outputId": "ff5801f7-20e5-4664-ca3a-bfcd42a76352"
      },
      "outputs": [
        {
          "output_type": "execute_result",
          "data": {
            "text/plain": [
              "'\\ncounts_2=counts[:]\\ncounts_2.append(-1)\\nanon_counts=counts_2[:]\\ni=0\\nwhile anon_counts[i]!=-1:\\n  if anon_counts[i]<40 and anon_counts[i+1]!=-1:\\n    anon_counts[i+1]=anon_counts[i]+anon_counts[i+1]\\n    counts_2[i+1]=counts_2[i]+counts_2[i+1]\\n    del anon_counts[i]\\n    del counts_2[i]\\n    i=0\\n  elif anon_counts[i]<40 and anon_counts[i+1]==-1:\\n    anon_counts[i-1]=anon_counts[i-1]+anon_counts[i]\\n    del anon_counts[i]\\n    i=0\\n'"
            ],
            "application/vnd.google.colaboratory.intrinsic+json": {
              "type": "string"
            }
          },
          "metadata": {},
          "execution_count": 151
        }
      ],
      "source": [
        "'''\n",
        "counts_2=counts[:]\n",
        "counts_2.append(-1)\n",
        "anon_counts=counts_2[:]\n",
        "i=0\n",
        "while anon_counts[i]!=-1:\n",
        "  if anon_counts[i]<40 and anon_counts[i+1]!=-1:\n",
        "    anon_counts[i+1]=anon_counts[i]+anon_counts[i+1]\n",
        "    counts_2[i+1]=counts_2[i]+counts_2[i+1]\n",
        "    del anon_counts[i]\n",
        "    del counts_2[i]\n",
        "    i=0\n",
        "  elif anon_counts[i]<40 and anon_counts[i+1]==-1:\n",
        "    anon_counts[i-1]=anon_counts[i-1]+anon_counts[i]\n",
        "    del anon_counts[i]\n",
        "    i=0\n",
        "'''"
      ]
    },
    {
      "cell_type": "code",
      "execution_count": 152,
      "metadata": {
        "id": "LUaC_EBd1Q1K"
      },
      "outputs": [],
      "source": [
        "#Manually Reallocating\n",
        "#Raw: [0, 3, 955, 3487, 3860, 2170, 591, 75, 20]\n",
        "#Threshold, k = 40\n",
        "anon_40=[958, 3487, 3860, 2170, 591, 95]\n",
        "anon_20=[958, 3487, 3860, 2170, 591, 75, 20]"
      ]
    },
    {
      "cell_type": "code",
      "execution_count": 153,
      "metadata": {
        "colab": {
          "base_uri": "https://localhost:8080/"
        },
        "id": "7uXQ5vFgXCqm",
        "outputId": "66a3a1b9-9742-4a76-e172-36745822993e"
      },
      "outputs": [
        {
          "output_type": "stream",
          "name": "stdout",
          "text": [
            "480270 479995\n"
          ]
        }
      ],
      "source": [
        "#Approximating bin age sums w.r.t. bin centres; it should make more sense to calculate starting from the 10 to 20 bracket\n",
        "#Bin centres times the number of minority individuals\n",
        "anon_age_sum_40=np.array([20,35,45,55,65,80])*anon_40\n",
        "anon_age_sum_20=np.array([20,35,45,55,65,75,85])*anon_20\n",
        "print(sum(anon_age_sum_40),sum(anon_age_sum_20))"
      ]
    },
    {
      "cell_type": "code",
      "execution_count": 154,
      "metadata": {
        "colab": {
          "base_uri": "https://localhost:8080/"
        },
        "id": "hBBW8ygfXCqm",
        "outputId": "a4531c10-1534-46fe-d4e7-c5a9e06b9a61"
      },
      "outputs": [
        {
          "output_type": "stream",
          "name": "stdout",
          "text": [
            "k = 40 gives 1660 \n",
            "k = 20 gives 1760 \n",
            "Unperturbed bins give  1745 \n",
            "Actual min age sum is  1804\n"
          ]
        }
      ],
      "source": [
        "#Manually calculating minority age sums from these\n",
        "min_age_sum_k40=20*3+80*20\n",
        "min_age_sum_k20=20*3+85*20\n",
        "min_age_sum_bin=15*3+85*20\n",
        "print(\"k = 40 gives\",min_age_sum_k40,\"\\nk = 20 gives\",min_age_sum_k20,\"\\nUnperturbed bins give \",min_age_sum_bin,\"\\nActual min age sum is \",min_age_sum)"
      ]
    },
    {
      "cell_type": "markdown",
      "metadata": {
        "id": "XTcCn_WL9GVS"
      },
      "source": [
        "## Suppression\n",
        "* Threshold = 20"
      ]
    },
    {
      "cell_type": "code",
      "execution_count": 155,
      "metadata": {
        "id": "4C0-1g8S9Ml6"
      },
      "outputs": [],
      "source": [
        "#Suppression\n",
        "supp_counts_20=list(map(lambda a: a if a==max([a,20]) else 0, counts))"
      ]
    },
    {
      "cell_type": "code",
      "execution_count": 156,
      "metadata": {
        "colab": {
          "base_uri": "https://localhost:8080/"
        },
        "id": "XQvvadR29zZT",
        "outputId": "25a99ebf-b030-4705-f45f-1911394fd54a"
      },
      "outputs": [
        {
          "output_type": "stream",
          "name": "stdout",
          "text": [
            "[0, 0, 955, 3487, 3860, 2170, 591, 75, 20]\n"
          ]
        }
      ],
      "source": [
        "print(supp_counts_20)"
      ]
    },
    {
      "cell_type": "code",
      "execution_count": 157,
      "metadata": {
        "colab": {
          "base_uri": "https://localhost:8080/"
        },
        "id": "Gr_huVZr_gsE",
        "outputId": "60419a97-eca2-45c5-a36b-d73ef558acef"
      },
      "outputs": [
        {
          "output_type": "stream",
          "name": "stdout",
          "text": [
            "3\n"
          ]
        }
      ],
      "source": [
        "#Absolute Error\n",
        "supp_counts_20=np.array(supp_counts_20)\n",
        "counts_np=np.array(counts)\n",
        "abs_err_supp_20_counts=(counts_np-supp_counts_20).sum()\n",
        "print(abs_err_supp_20_counts)"
      ]
    },
    {
      "cell_type": "code",
      "execution_count": 158,
      "metadata": {
        "colab": {
          "base_uri": "https://localhost:8080/"
        },
        "id": "ytoIW-9oXCqn",
        "outputId": "8c957d5f-769f-4636-a578-efcbf8ba3abd"
      },
      "outputs": [
        {
          "output_type": "stream",
          "name": "stdout",
          "text": [
            "For a threshold of 20, the minority age sum is  1700\n",
            "484710\n"
          ]
        }
      ],
      "source": [
        "min_age_sum_supp_20=85*20\n",
        "print(\"For a threshold of 20, the minority age sum is \",min_age_sum_supp_20)\n",
        "age_sum_supp_20=sum(list(map(lambda a: ((a*10)+5)*supp_counts_20[a], range(len(supp_counts_20)))))\n",
        "print(age_sum_supp_20)"
      ]
    },
    {
      "cell_type": "code",
      "source": [
        "plt.bar(ages,supp_counts_20)\n",
        "plt.title('Suppression (t=20) : Counts')\n",
        "plt.xlabel('Ages')\n",
        "plt.xticks(rotation=90)\n",
        "plt.show()"
      ],
      "metadata": {
        "colab": {
          "base_uri": "https://localhost:8080/",
          "height": 327
        },
        "id": "m4BfJnt09gh1",
        "outputId": "d8017ce2-e782-4a79-a2ca-d92a3776d3e9"
      },
      "execution_count": 167,
      "outputs": [
        {
          "output_type": "display_data",
          "data": {
            "text/plain": [
              "<Figure size 432x288 with 1 Axes>"
            ],
            "image/png": "[encoded data removed]"
          },
          "metadata": {
            "needs_background": "light"
          }
        }
      ]
    },
    {
      "cell_type": "markdown",
      "metadata": {
        "id": "PeAOkDLtACMD"
      },
      "source": [
        "* Threshold = 40"
      ]
    },
    {
      "cell_type": "code",
      "execution_count": 168,
      "metadata": {
        "colab": {
          "base_uri": "https://localhost:8080/"
        },
        "id": "d7xheILqAFej",
        "outputId": "b7150266-2f56-47fb-e090-83ac113fa76c"
      },
      "outputs": [
        {
          "output_type": "stream",
          "name": "stdout",
          "text": [
            "[0, 0, 955, 3487, 3860, 2170, 591, 75, 0]\n"
          ]
        }
      ],
      "source": [
        "#Suppression\n",
        "supp_counts_40=list(map(lambda a: a if a==max([a,40]) else 0, counts))\n",
        "print(supp_counts_40)"
      ]
    },
    {
      "cell_type": "code",
      "execution_count": 169,
      "metadata": {
        "colab": {
          "base_uri": "https://localhost:8080/"
        },
        "id": "vnaQWQBtAdQw",
        "outputId": "71f7b3d3-9410-4648-e773-59c05be502a0"
      },
      "outputs": [
        {
          "output_type": "stream",
          "name": "stdout",
          "text": [
            "23\n"
          ]
        }
      ],
      "source": [
        "#Absolute Error\n",
        "supp_counts_40=np.array(supp_counts_40)\n",
        "abs_err_supp_40_counts=(counts_np-supp_counts_40).sum()\n",
        "print(abs_err_supp_40_counts)"
      ]
    },
    {
      "cell_type": "code",
      "execution_count": 170,
      "metadata": {
        "colab": {
          "base_uri": "https://localhost:8080/"
        },
        "id": "ePJTJQ7kXCqo",
        "outputId": "c6d8fd66-2ff2-4c69-c70c-d55ecd9f0199"
      },
      "outputs": [
        {
          "output_type": "stream",
          "name": "stdout",
          "text": [
            "For a threshold of 40, the minority age sum is  0\n",
            "483010\n"
          ]
        }
      ],
      "source": [
        "min_age_sum_supp_40=0\n",
        "print(\"For a threshold of 40, the minority age sum is \",min_age_sum_supp_40)\n",
        "age_sum_supp_40=sum(list(map(lambda a: ((a*10)+5)*supp_counts_40[a], range(len(supp_counts_40)))))\n",
        "print(age_sum_supp_40)"
      ]
    },
    {
      "cell_type": "code",
      "source": [
        "plt.bar(ages,supp_counts_40)\n",
        "plt.title('Suppression (t=40) : Counts')\n",
        "plt.xlabel('Ages')\n",
        "plt.xticks(rotation=90)\n",
        "plt.show()"
      ],
      "metadata": {
        "colab": {
          "base_uri": "https://localhost:8080/",
          "height": 327
        },
        "id": "F1SXgjDqArko",
        "outputId": "6e0bc738-ebe0-4383-8a15-fb1c2201a6bb"
      },
      "execution_count": 171,
      "outputs": [
        {
          "output_type": "display_data",
          "data": {
            "text/plain": [
              "<Figure size 432x288 with 1 Axes>"
            ],
            "image/png": "[encoded data removed]"
          },
          "metadata": {
            "needs_background": "light"
          }
        }
      ]
    },
    {
      "cell_type": "markdown",
      "metadata": {
        "id": "xEjWkMjQ4n9G"
      },
      "source": [
        "## Enter the Discrete Laplace/Geometric Mechanism :)"
      ]
    },
    {
      "cell_type": "code",
      "execution_count": 172,
      "metadata": {
        "id": "cE-PdkSND38H"
      },
      "outputs": [],
      "source": [
        "eps=1"
      ]
    },
    {
      "cell_type": "code",
      "execution_count": 173,
      "metadata": {
        "id": "7bqrgrAXhOMV"
      },
      "outputs": [],
      "source": [
        "import random"
      ]
    },
    {
      "cell_type": "code",
      "execution_count": 174,
      "metadata": {
        "id": "JwKzfFibgcTO"
      },
      "outputs": [],
      "source": [
        "#Code Block Credits : Andrew Reed (https://mathoverflow.net/questions/213221/what-is-a-two-sided-geometric-distribution)\n",
        "def zeroProb(p):\n",
        "#                    this is the chance of \"staying put at 0\"\n",
        "  if random.random()<(1.0 - p)/(1.0 + p):\n",
        "    return 0\n",
        "  else:\n",
        "    return 1\n",
        "    # Coin flip to determine if the result is negative or positive.\n",
        "    # This only applies when we \"leave 0.\"\n",
        "def signProb():\n",
        "  if random.random() < 0.5:\n",
        "    return -1\n",
        "  else:\n",
        "    return 1\n",
        "\n",
        "def twoSidedGeoDist(p):\n",
        "#      (1) Did we \"leave 0\"? [Y=1|N=0]          (3) +/-\n",
        "  return zeroProb(p) * np.random.geometric(1-p) * signProb()\n",
        "def mech_disclaplace(eps,sens=1):\n",
        "  return twoSidedGeoDist(math.e**(-eps))"
      ]
    },
    {
      "cell_type": "code",
      "execution_count": 175,
      "metadata": {
        "id": "hFPCIzFhXNMM"
      },
      "outputs": [],
      "source": [
        "dp_counts=[]\n",
        "for i in range(len(counts)):\n",
        "  dp_counts.append(counts[i]+twoSidedGeoDist(math.e**(-eps)))\n",
        "  #dp_counts.append(counts[i]+np.random.laplace(1/eps))\n",
        "  #dp_counts.append(counts[i]+np.random.geometric(((math.e**eps)-1)/(2*((math.e**2)-1))))"
      ]
    },
    {
      "cell_type": "code",
      "execution_count": 176,
      "metadata": {
        "colab": {
          "base_uri": "https://localhost:8080/"
        },
        "id": "nmgD5TH-ZkoI",
        "outputId": "5cfaf788-bcef-4966-9ba3-db84ab089803",
        "scrolled": true
      },
      "outputs": [
        {
          "output_type": "stream",
          "name": "stdout",
          "text": [
            "[0, 3, 955, 3487, 3858, 2166, 591, 77, 19]\n"
          ]
        }
      ],
      "source": [
        "print(dp_counts)"
      ]
    },
    {
      "cell_type": "code",
      "execution_count": 177,
      "metadata": {
        "colab": {
          "base_uri": "https://localhost:8080/"
        },
        "id": "L2NO3IaeZyJv",
        "outputId": "908bfdeb-0adb-4770-d310-4fefb4d60bb4"
      },
      "outputs": [
        {
          "output_type": "execute_result",
          "data": {
            "text/plain": [
              "11156"
            ]
          },
          "metadata": {},
          "execution_count": 177
        }
      ],
      "source": [
        "sum(dp_counts)\n",
        "#sum(counts)"
      ]
    },
    {
      "cell_type": "code",
      "execution_count": 178,
      "metadata": {
        "colab": {
          "base_uri": "https://localhost:8080/",
          "height": 267
        },
        "id": "baMjFkkuZWA9",
        "outputId": "89450987-c191-469e-876c-bcbf7fb57747"
      },
      "outputs": [
        {
          "output_type": "display_data",
          "data": {
            "text/plain": [
              "<Figure size 432x288 with 1 Axes>"
            ],
            "image/png": "[encoded data removed]"
          },
          "metadata": {
            "needs_background": "light"
          }
        }
      ],
      "source": [
        "#First run of the Discrete Laplace Mech. Works!\n",
        "plt.bar(ages,dp_counts)\n",
        "plt.show()"
      ]
    },
    {
      "cell_type": "markdown",
      "metadata": {
        "id": "plpTZRK5mDv5"
      },
      "source": [
        "### Errors. Errors everywhere.\n",
        "#### DP\n",
        "1. For $\\epsilon=1$."
      ]
    },
    {
      "cell_type": "code",
      "execution_count": 179,
      "metadata": {
        "colab": {
          "base_uri": "https://localhost:8080/"
        },
        "id": "zyYR841smNML",
        "outputId": "d7118e1f-084e-4432-9ad7-92aa0b20dcc6"
      },
      "outputs": [
        {
          "output_type": "stream",
          "name": "stdout",
          "text": [
            "5\n"
          ]
        }
      ],
      "source": [
        "eps=1\n",
        "counts_np=np.array(counts)\n",
        "dp_counts_np=np.array(dp_counts)\n",
        "err_dp=(counts_np-dp_counts_np).sum()\n",
        "print(abs(err_dp))"
      ]
    },
    {
      "cell_type": "markdown",
      "metadata": {
        "id": "sS1zxb_Rmu3M"
      },
      "source": [
        "#### Looks great. Multiple iterations now.\n",
        "\n",
        "100 iterations. Focus on the 5-10 worst error values.\n",
        "\n",
        "Edit: 1000 iterations!"
      ]
    },
    {
      "cell_type": "code",
      "execution_count": 180,
      "metadata": {
        "id": "mZQBGL2mm2sj"
      },
      "outputs": [],
      "source": [
        "eps=1\n",
        "error_vec_1=[]\n",
        "dp_count_vec_1=[]\n",
        "dp_counts_sum_1=np.zeros(len(counts))\n",
        "err_worst_dp_1=[[0 for col in range(len(counts))] for row in range(10)]\n",
        "for i in range(1000):\n",
        "  dp_counts_1=[]\n",
        "  for i in range(len(counts)):\n",
        "    dp_counts_1.append(counts[i]+twoSidedGeoDist(math.e**(-eps)))\n",
        "  dp_counts_np_1=np.array(dp_counts_1)\n",
        "  dp_count_vec_1.append(dp_counts_np_1)\n",
        "  counts_np=np.array(counts)\n",
        "  err_dp=((counts_np-dp_counts_np_1)).sum()\n",
        "  error_vec_1.append(err_dp)\n",
        "  dp_counts_sum_1=dp_counts_sum_1+dp_counts_np_1\n",
        "dp_avg_counts_1=dp_counts_sum_1/1000"
      ]
    },
    {
      "cell_type": "code",
      "execution_count": 181,
      "metadata": {
        "colab": {
          "base_uri": "https://localhost:8080/"
        },
        "id": "3NZAutRxoLd2",
        "outputId": "6f9468a9-a717-4555-a1b3-6afad9df8334",
        "scrolled": true
      },
      "outputs": [
        {
          "output_type": "stream",
          "name": "stdout",
          "text": [
            "[ 0  0  0  0  0  0  0  0  0  0  0  0  0  0  0  0  0  0  0  0  0  0  0  0\n",
            "  0  0  0  0  0  0  0  0  0  0  0  0  0  0  0  0  0  0  0  0  0  0  0  0\n",
            "  0  0  0  0  0  0  0  0  0  0  0  0  0  0  0  0  0  0  0  0  0  0  0  0\n",
            "  0  0  0  0  0  0  0  0  0  0  0  0  0  0  0  0  0  0  0  0  0  0  0  0\n",
            "  0  0  0  0  0  0  0  0  0  0  0  0  0  0  0  0  0  1  1  1  1  1  1  1\n",
            "  1  1  1  1  1  1  1  1  1  1  1  1  1  1  1  1  1  1  1  1  1  1  1  1\n",
            "  1  1  1  1  1  1  1  1  1  1  1  1  1  1  1  1  1  1  1  1  1  1  1  1\n",
            "  1  1  1  1  1  1  1  1  1  1  1  1  1  1  1  1  1  1  1  1  1  1  1  1\n",
            "  1  1  1  1  1  1  1  1  1  1  1  1  1  1  1  1  1  1  1  1  1  1  1  1\n",
            "  1  1  1  1  1  1  1  1  1  1  1  1  1  1  1  1  1  1  1  1  1  1  1  1\n",
            "  1  1  1  1  1  1  1  1  1  1  1  1  1  1  1  1  1  1  1  1  1  1  1  1\n",
            "  1  1  1  1  1  1  1  1  1  1  1  1  1  1  1  1  1  1  1  1  1  1  1  1\n",
            "  1  1  1  1  1  1  1  1  1  1  1  1  1  1  1  1  1  1  1  1  1  2  2  2\n",
            "  2  2  2  2  2  2  2  2  2  2  2  2  2  2  2  2  2  2  2  2  2  2  2  2\n",
            "  2  2  2  2  2  2  2  2  2  2  2  2  2  2  2  2  2  2  2  2  2  2  2  2\n",
            "  2  2  2  2  2  2  2  2  2  2  2  2  2  2  2  2  2  2  2  2  2  2  2  2\n",
            "  2  2  2  2  2  2  2  2  2  2  2  2  2  2  2  2  2  2  2  2  2  2  2  2\n",
            "  2  2  2  2  2  2  2  2  2  2  2  2  2  2  2  2  2  2  2  2  2  2  2  2\n",
            "  2  2  2  2  2  2  2  2  2  2  2  2  2  2  2  2  2  2  2  2  2  2  2  2\n",
            "  2  2  2  2  2  2  2  2  2  3  3  3  3  3  3  3  3  3  3  3  3  3  3  3\n",
            "  3  3  3  3  3  3  3  3  3  3  3  3  3  3  3  3  3  3  3  3  3  3  3  3\n",
            "  3  3  3  3  3  3  3  3  3  3  3  3  3  3  3  3  3  3  3  3  3  3  3  3\n",
            "  3  3  3  3  3  3  3  3  3  3  3  3  3  3  3  3  3  3  3  3  3  3  3  3\n",
            "  3  3  3  3  3  3  3  3  3  3  3  3  3  3  3  3  3  3  3  3  3  3  3  3\n",
            "  3  3  3  3  3  3  3  3  3  3  3  3  3  3  3  3  3  3  3  3  3  3  3  3\n",
            "  3  3  3  3  3  3  3  3  3  3  3  3  4  4  4  4  4  4  4  4  4  4  4  4\n",
            "  4  4  4  4  4  4  4  4  4  4  4  4  4  4  4  4  4  4  4  4  4  4  4  4\n",
            "  4  4  4  4  4  4  4  4  4  4  4  4  4  4  4  4  4  4  4  4  4  4  4  4\n",
            "  4  4  4  4  4  4  4  4  4  4  4  4  4  4  4  4  4  4  4  4  4  4  4  4\n",
            "  4  4  4  4  4  4  4  4  4  4  4  4  4  4  4  4  4  4  4  4  4  4  4  4\n",
            "  4  4  4  4  4  4  4  4  4  5  5  5  5  5  5  5  5  5  5  5  5  5  5  5\n",
            "  5  5  5  5  5  5  5  5  5  5  5  5  5  5  5  5  5  5  5  5  5  5  5  5\n",
            "  5  5  5  5  5  5  5  5  5  5  5  5  5  5  5  5  5  5  5  5  5  5  5  5\n",
            "  5  5  5  5  5  5  5  5  5  5  5  5  5  5  5  5  5  5  5  5  5  5  5  5\n",
            "  5  6  6  6  6  6  6  6  6  6  6  6  6  6  6  6  6  6  6  6  6  6  6  6\n",
            "  6  6  6  6  6  6  6  6  6  6  6  6  6  6  6  6  6  6  6  6  6  6  6  6\n",
            "  6  6  6  6  6  6  6  6  6  6  6  6  6  6  6  6  6  6  6  6  6  7  7  7\n",
            "  7  7  7  7  7  7  7  7  7  7  7  7  7  7  7  7  7  7  7  7  7  7  7  7\n",
            "  7  7  7  7  7  7  7  7  7  7  7  7  7  7  7  7  7  7  7  7  7  7  8  8\n",
            "  8  8  8  8  8  8  8  8  8  8  8  8  8  8  8  8  8  9  9  9  9  9  9  9\n",
            "  9  9  9  9  9  9  9  9  9  9  9 10 10 10 10 10 10 10 10 10 10 11 11 11\n",
            " 11 11 11 11 11 11 11 11 11 12 12 13 13 14 14 17]\n"
          ]
        }
      ],
      "source": [
        "#Absolute error vector\n",
        "error_vec_1=abs(np.array(error_vec_1))\n",
        "error_vec_1.sort()\n",
        "print(error_vec_1)"
      ]
    },
    {
      "cell_type": "code",
      "execution_count": 182,
      "metadata": {
        "colab": {
          "base_uri": "https://localhost:8080/"
        },
        "id": "lvzjOLa5qa33",
        "outputId": "01b7f2e6-ca68-4126-9f12-ac397fce6302"
      },
      "outputs": [
        {
          "output_type": "stream",
          "name": "stdout",
          "text": [
            "[11 11 11 12 12 13 13 14 14 17]\n",
            "12.8\n"
          ]
        }
      ],
      "source": [
        "#extracting the worst absolute errors (count)\n",
        "err_worst_dp_1=error_vec_1[-10:]\n",
        "print(err_worst_dp_1)\n",
        "print(sum(err_worst_dp_1)/len(err_worst_dp_1))"
      ]
    },
    {
      "cell_type": "code",
      "execution_count": 183,
      "metadata": {
        "id": "VnfU13lWXCqq"
      },
      "outputs": [],
      "source": [
        "#Least amount of error to make it onto the naughty list; it only makes sense to have all the similarly ill performing histograms included\n",
        "dp_cutoff_1=abs(min(err_worst_dp_1))\n",
        "#print(dp_cutoff_1)\n",
        "dp_worst_vec_1=[]\n",
        "for i in range(len(dp_count_vec_1)):\n",
        "    c=abs(sum(dp_count_vec_1[i]-counts_np))\n",
        "    if (c>=dp_cutoff_1):\n",
        "        dp_worst_vec_1.append(dp_count_vec_1[i])\n",
        "#print(len(dp_worst_vec_1))"
      ]
    },
    {
      "cell_type": "code",
      "source": [
        "dp_worst_sums_1=[]\n",
        "for i in range(len(dp_worst_vec_1)):\n",
        "  dp_worst_sums_1.append(sum(dp_worst_vec_1[i]*np.arange(5,86,10)))\n",
        "print(dp_worst_sums_1)"
      ],
      "metadata": {
        "colab": {
          "base_uri": "https://localhost:8080/"
        },
        "id": "n2GaYI4DZOwO",
        "outputId": "58ce0f59-bfdf-44c8-e200-3c49e558ff73"
      },
      "execution_count": 184,
      "outputs": [
        {
          "output_type": "stream",
          "name": "stdout",
          "text": [
            "[485150, 484440, 484045, 485200, 485190, 485520, 484290, 483950, 485170, 485255, 485475, 485270, 484390, 484510, 485330, 485240, 484160, 484330, 485485]\n"
          ]
        }
      ]
    },
    {
      "cell_type": "code",
      "execution_count": 185,
      "metadata": {
        "colab": {
          "base_uri": "https://localhost:8080/",
          "height": 279
        },
        "id": "R1nL8HsIrAyc",
        "outputId": "24775601-4b2c-4b87-d457-aed5ceb61c81",
        "scrolled": true
      },
      "outputs": [
        {
          "output_type": "display_data",
          "data": {
            "text/plain": [
              "<Figure size 432x288 with 1 Axes>"
            ],
            "image/png": "[encoded data removed]"
          },
          "metadata": {
            "needs_background": "light"
          }
        }
      ],
      "source": [
        "plt.hist(error_vec_1)\n",
        "plt.xlabel(\"Abs Error Magnitude\")\n",
        "plt.ylabel(\"Occurrences\")\n",
        "plt.show()"
      ]
    },
    {
      "cell_type": "code",
      "execution_count": 186,
      "metadata": {
        "colab": {
          "base_uri": "https://localhost:8080/",
          "height": 295
        },
        "id": "1_jlOa-hxpSe",
        "outputId": "615888d5-0378-45fc-b9ee-3f05bdd59ef5"
      },
      "outputs": [
        {
          "output_type": "display_data",
          "data": {
            "text/plain": [
              "<Figure size 432x288 with 1 Axes>"
            ],
            "image/png": "[encoded data removed]"
          },
          "metadata": {
            "needs_background": "light"
          }
        }
      ],
      "source": [
        "# Vs Suppression\n",
        "abs_err_supp_arr_1=np.ones(len(err_worst_dp_1))*abs_err_supp_40_counts\n",
        "plt.scatter(range(len(err_worst_dp_1)),err_worst_dp_1-abs_err_supp_arr_1)\n",
        "plt.xlabel(\"Index of Runs\")\n",
        "plt.ylabel(\"DP Error Rel to Supp Error\")\n",
        "plt.title(\"DP vs Suppression - Error Analysis (eps=1)\")\n",
        "plt.show()\n",
        "#DP outperforms this very well"
      ]
    },
    {
      "cell_type": "code",
      "execution_count": 187,
      "metadata": {
        "colab": {
          "base_uri": "https://localhost:8080/"
        },
        "id": "aInfmqFxXCqs",
        "outputId": "1e0e6132-d27a-47eb-c043-8c39944c6d2a"
      },
      "outputs": [
        {
          "output_type": "stream",
          "name": "stdout",
          "text": [
            "484762.70499999996\n",
            "1753.035\n"
          ]
        }
      ],
      "source": [
        "#Age sums\n",
        "age_sum_dp_1=sum(list(map(lambda a: ((a*10)+5)*dp_avg_counts_1[a], range(len(dp_avg_counts_1)))))\n",
        "print(age_sum_dp_1)\n",
        "#Minority Age Sum\n",
        "min_age_sum_dp_1=15*dp_avg_counts_1[1]+85*dp_avg_counts_1[-1]\n",
        "print(min_age_sum_dp_1)"
      ]
    },
    {
      "cell_type": "markdown",
      "metadata": {
        "id": "2GBrqdIrs3Tu"
      },
      "source": [
        "Great. Now for\n",
        "\n",
        "2. $\\epsilon=2$"
      ]
    },
    {
      "cell_type": "code",
      "execution_count": 188,
      "metadata": {
        "id": "ERj_Zw2ss3Tw"
      },
      "outputs": [],
      "source": [
        "error_vec_2=[]\n",
        "eps=2\n",
        "dp_count_vec_2=[]\n",
        "dp_counts_sum_2=np.zeros(len(counts))\n",
        "for i in range(1000):\n",
        "  dp_counts_2=[]\n",
        "  for i in range(len(counts)):\n",
        "    dp_counts_2.append(counts[i]+twoSidedGeoDist(math.e**(-eps)))\n",
        "  dp_counts_np_2=np.array(dp_counts_2)\n",
        "  dp_count_vec_2.append(dp_counts_np_2)\n",
        "  counts_np=np.array(counts)\n",
        "  err_dp=(counts_np-dp_counts_np_2).sum()\n",
        "  error_vec_2.append(err_dp)\n",
        "  dp_counts_sum_2=dp_counts_sum_2+dp_counts_np\n",
        "dp_avg_counts_2=dp_counts_sum_2/1000"
      ]
    },
    {
      "cell_type": "code",
      "execution_count": 189,
      "metadata": {
        "colab": {
          "base_uri": "https://localhost:8080/"
        },
        "id": "H71BoW82s3Ty",
        "outputId": "d3a455d6-10f1-468f-9b4e-1102f1b53ad1"
      },
      "outputs": [
        {
          "output_type": "stream",
          "name": "stdout",
          "text": [
            "[0 0 0 0 0 0 0 0 0 0 0 0 0 0 0 0 0 0 0 0 0 0 0 0 0 0 0 0 0 0 0 0 0 0 0 0 0\n",
            " 0 0 0 0 0 0 0 0 0 0 0 0 0 0 0 0 0 0 0 0 0 0 0 0 0 0 0 0 0 0 0 0 0 0 0 0 0\n",
            " 0 0 0 0 0 0 0 0 0 0 0 0 0 0 0 0 0 0 0 0 0 0 0 0 0 0 0 0 0 0 0 0 0 0 0 0 0\n",
            " 0 0 0 0 0 0 0 0 0 0 0 0 0 0 0 0 0 0 0 0 0 0 0 0 0 0 0 0 0 0 0 0 0 0 0 0 0\n",
            " 0 0 0 0 0 0 0 0 0 0 0 0 0 0 0 0 0 0 0 0 0 0 0 0 0 0 0 0 0 0 0 0 0 0 0 0 0\n",
            " 0 0 0 0 0 0 0 0 0 0 0 0 0 0 0 0 0 0 0 0 0 0 0 0 0 0 0 0 0 0 0 0 0 0 0 0 0\n",
            " 0 0 0 0 0 0 0 0 0 0 0 0 0 0 0 0 0 0 0 0 0 0 0 0 0 0 0 0 0 0 0 0 1 1 1 1 1\n",
            " 1 1 1 1 1 1 1 1 1 1 1 1 1 1 1 1 1 1 1 1 1 1 1 1 1 1 1 1 1 1 1 1 1 1 1 1 1\n",
            " 1 1 1 1 1 1 1 1 1 1 1 1 1 1 1 1 1 1 1 1 1 1 1 1 1 1 1 1 1 1 1 1 1 1 1 1 1\n",
            " 1 1 1 1 1 1 1 1 1 1 1 1 1 1 1 1 1 1 1 1 1 1 1 1 1 1 1 1 1 1 1 1 1 1 1 1 1\n",
            " 1 1 1 1 1 1 1 1 1 1 1 1 1 1 1 1 1 1 1 1 1 1 1 1 1 1 1 1 1 1 1 1 1 1 1 1 1\n",
            " 1 1 1 1 1 1 1 1 1 1 1 1 1 1 1 1 1 1 1 1 1 1 1 1 1 1 1 1 1 1 1 1 1 1 1 1 1\n",
            " 1 1 1 1 1 1 1 1 1 1 1 1 1 1 1 1 1 1 1 1 1 1 1 1 1 1 1 1 1 1 1 1 1 1 1 1 1\n",
            " 1 1 1 1 1 1 1 1 1 1 1 1 1 1 1 1 1 1 1 1 1 1 1 1 1 1 1 1 1 1 1 1 1 1 1 1 1\n",
            " 1 1 1 1 1 1 1 1 1 1 1 1 1 1 1 1 1 1 1 1 1 1 1 1 1 1 1 1 1 1 1 1 1 1 1 1 1\n",
            " 1 1 1 1 1 1 1 1 1 1 1 1 1 1 1 1 1 1 1 1 1 1 1 1 1 1 1 1 1 1 1 1 1 1 1 1 1\n",
            " 1 1 1 1 1 1 1 1 1 1 1 1 1 1 1 1 1 1 1 1 1 1 1 1 1 1 1 1 1 1 1 1 1 1 1 1 2\n",
            " 2 2 2 2 2 2 2 2 2 2 2 2 2 2 2 2 2 2 2 2 2 2 2 2 2 2 2 2 2 2 2 2 2 2 2 2 2\n",
            " 2 2 2 2 2 2 2 2 2 2 2 2 2 2 2 2 2 2 2 2 2 2 2 2 2 2 2 2 2 2 2 2 2 2 2 2 2\n",
            " 2 2 2 2 2 2 2 2 2 2 2 2 2 2 2 2 2 2 2 2 2 2 2 2 2 2 2 2 2 2 2 2 2 2 2 2 2\n",
            " 2 2 2 2 2 2 2 2 2 2 2 2 2 2 2 2 2 2 2 2 2 2 2 2 2 2 2 2 2 2 2 2 2 2 2 2 2\n",
            " 2 2 2 2 2 2 2 2 2 2 2 2 2 2 2 2 2 2 2 2 2 2 2 2 2 2 2 2 2 2 2 2 2 2 2 2 2\n",
            " 2 2 2 2 2 2 2 2 2 2 2 2 2 2 2 2 2 2 2 2 2 2 2 2 2 2 2 2 2 2 2 3 3 3 3 3 3\n",
            " 3 3 3 3 3 3 3 3 3 3 3 3 3 3 3 3 3 3 3 3 3 3 3 3 3 3 3 3 3 3 3 3 3 3 3 3 3\n",
            " 3 3 3 3 3 3 3 3 3 3 3 3 3 3 3 3 3 3 3 3 3 3 3 3 3 3 3 3 3 3 3 3 3 3 3 3 3\n",
            " 3 3 3 3 3 3 3 3 3 3 3 3 3 3 3 3 3 3 3 3 3 3 3 3 3 3 3 3 3 3 4 4 4 4 4 4 4\n",
            " 4 4 4 4 4 4 4 4 4 4 4 4 4 4 4 4 4 4 4 4 4 4 4 4 4 4 4 5 5 5 5 6 6 6 6 6 6\n",
            " 6]\n"
          ]
        }
      ],
      "source": [
        "#Absolute error vector\n",
        "error_vec_2=abs(np.array(error_vec_2))\n",
        "error_vec_2.sort()\n",
        "print(error_vec_2)"
      ]
    },
    {
      "cell_type": "code",
      "execution_count": 190,
      "metadata": {
        "colab": {
          "base_uri": "https://localhost:8080/"
        },
        "id": "kegcM2FQs3T1",
        "outputId": "6638e984-cea5-4705-9c2a-15ed17c92a42"
      },
      "outputs": [
        {
          "output_type": "stream",
          "name": "stdout",
          "text": [
            "[5 5 5 6 6 6 6 6 6 6]\n",
            "5.7\n"
          ]
        }
      ],
      "source": [
        "#extracting the worst absolute errors\n",
        "err_worst_dp_2=error_vec_2[-10:]\n",
        "print(err_worst_dp_2)\n",
        "print(sum(err_worst_dp_2)/len(err_worst_dp_2))"
      ]
    },
    {
      "cell_type": "code",
      "source": [
        "#Least amount of error to make it onto the naughty list; it only makes sense to have all the similarly ill performing histograms included\n",
        "dp_cutoff_2=abs(min(err_worst_dp_2))\n",
        "print(dp_cutoff_2)\n",
        "#print(err_worst_dp_2)\n",
        "dp_worst_vec_2=[]\n",
        "for i in range(len(dp_count_vec_2)):\n",
        "    c=abs(sum((dp_count_vec_2[i]-counts_np)))\n",
        "    if (c>=dp_cutoff_2):\n",
        "        dp_worst_vec_2.append(dp_count_vec_2[i])\n",
        "print(len(dp_worst_vec_2))"
      ],
      "metadata": {
        "colab": {
          "base_uri": "https://localhost:8080/"
        },
        "id": "0pm9H73fcbiL",
        "outputId": "7e78ac0a-21c6-4c11-f183-c1903d0d7307"
      },
      "execution_count": 191,
      "outputs": [
        {
          "output_type": "stream",
          "name": "stdout",
          "text": [
            "5\n",
            "11\n"
          ]
        }
      ]
    },
    {
      "cell_type": "code",
      "source": [
        "dp_worst_sums_2=[]\n",
        "for i in range(len(dp_worst_vec_2)):\n",
        "  dp_worst_sums_2.append(sum(dp_worst_vec_2[i]*np.arange(5,86,10)))\n",
        "print(dp_worst_sums_2)"
      ],
      "metadata": {
        "colab": {
          "base_uri": "https://localhost:8080/"
        },
        "id": "YvVdrRcCc2Bo",
        "outputId": "b8c0e979-62ab-427b-fdbe-1b8522498f1e"
      },
      "execution_count": 192,
      "outputs": [
        {
          "output_type": "stream",
          "name": "stdout",
          "text": [
            "[485125, 484655, 484950, 484880, 484530, 484535, 484930, 484855, 485035, 484505, 484385]\n"
          ]
        }
      ]
    },
    {
      "cell_type": "code",
      "execution_count": 193,
      "metadata": {
        "colab": {
          "base_uri": "https://localhost:8080/",
          "height": 279
        },
        "id": "ISKHwfvxs3T2",
        "outputId": "e48a5949-66cb-4678-ff14-1417aeb70f81"
      },
      "outputs": [
        {
          "output_type": "display_data",
          "data": {
            "text/plain": [
              "<Figure size 432x288 with 1 Axes>"
            ],
            "image/png": "[encoded data removed]"
          },
          "metadata": {
            "needs_background": "light"
          }
        }
      ],
      "source": [
        "#Visualising empirical error : looks like a discrete Laplace distribution\n",
        "plt.hist(error_vec_2)\n",
        "plt.xlabel(\"Abs Error Magnitude\")\n",
        "plt.ylabel(\"Occurrences\")\n",
        "plt.show()"
      ]
    },
    {
      "cell_type": "code",
      "execution_count": 194,
      "metadata": {
        "colab": {
          "base_uri": "https://localhost:8080/",
          "height": 295
        },
        "id": "HcMVqe01zto8",
        "outputId": "d966d6b6-70f4-4fc2-cbac-163ccfca8567"
      },
      "outputs": [
        {
          "output_type": "display_data",
          "data": {
            "text/plain": [
              "<Figure size 432x288 with 1 Axes>"
            ],
            "image/png": "[encoded data removed]"
          },
          "metadata": {
            "needs_background": "light"
          }
        }
      ],
      "source": [
        "# Vs Suppression\n",
        "abs_err_supp_arr_2=np.ones(len(err_worst_dp_2))*abs_err_supp_40_counts\n",
        "plt.scatter(range(len(err_worst_dp_2)),err_worst_dp_2-abs_err_supp_arr_2)\n",
        "plt.xlabel(\"Index of Runs\")\n",
        "plt.ylabel(\"DP Error Rel to Supp Error\")\n",
        "plt.title(\"DP vs Suppression - Error Analysis (eps=2)\")\n",
        "plt.show()"
      ]
    },
    {
      "cell_type": "code",
      "execution_count": 195,
      "metadata": {
        "colab": {
          "base_uri": "https://localhost:8080/"
        },
        "id": "KJfasPG8XCqt",
        "outputId": "42598ff4-9a63-4e64-92f4-0d996db4d098"
      },
      "outputs": [
        {
          "output_type": "stream",
          "name": "stdout",
          "text": [
            "484510.0\n",
            "1660.0\n"
          ]
        }
      ],
      "source": [
        "#Age sums\n",
        "age_sum_dp_2=sum(list(map(lambda a: ((a*10)+5)*dp_avg_counts_2[a], range(len(dp_counts_2)))))\n",
        "print(age_sum_dp_2)\n",
        "#Minority Age Sum\n",
        "min_age_sum_dp_2=15*dp_avg_counts_2[1]+85*dp_avg_counts_2[-1]\n",
        "print(min_age_sum_dp_2)"
      ]
    },
    {
      "cell_type": "markdown",
      "metadata": {
        "id": "ChtoRe51tUBT"
      },
      "source": [
        "So far so good, everything is going as expected. Now for\n",
        "\n",
        "3. $\\epsilon=5$"
      ]
    },
    {
      "cell_type": "code",
      "execution_count": 196,
      "metadata": {
        "id": "aKtUnHzltb7J"
      },
      "outputs": [],
      "source": [
        "error_vec_5=[]\n",
        "dp_counts_sum_5=np.zeros(len(counts))\n",
        "eps=5\n",
        "dp_count_vec_5=[]\n",
        "for i in range(1000):\n",
        "  dp_counts_5=[]\n",
        "  for i in range(len(counts)):\n",
        "    dp_counts_5.append(counts[i]+twoSidedGeoDist(math.e**(-eps)))\n",
        "  dp_counts_np_5=np.array(dp_counts_5)\n",
        "  dp_count_vec_5.append(dp_counts_np_5)\n",
        "  counts_np=np.array(counts)\n",
        "  err_dp=(counts_np-dp_counts_np_5).sum()\n",
        "  error_vec_5.append(err_dp)\n",
        "  dp_counts_sum_5=dp_counts_sum_5+dp_counts_np_5\n",
        "dp_avg_counts_5=dp_counts_sum_5/1000"
      ]
    },
    {
      "cell_type": "code",
      "execution_count": 197,
      "metadata": {
        "colab": {
          "base_uri": "https://localhost:8080/"
        },
        "id": "RjpatEh8tb7K",
        "outputId": "fc300796-80f3-4fcb-e6d9-22805d101ee9",
        "scrolled": true
      },
      "outputs": [
        {
          "output_type": "stream",
          "name": "stdout",
          "text": [
            "[0 0 0 0 0 0 0 0 0 0 0 0 0 0 0 0 0 0 0 0 0 0 0 0 0 0 0 0 0 0 0 0 0 0 0 0 0\n",
            " 0 0 0 0 0 0 0 0 0 0 0 0 0 0 0 0 0 0 0 0 0 0 0 0 0 0 0 0 0 0 0 0 0 0 0 0 0\n",
            " 0 0 0 0 0 0 0 0 0 0 0 0 0 0 0 0 0 0 0 0 0 0 0 0 0 0 0 0 0 0 0 0 0 0 0 0 0\n",
            " 0 0 0 0 0 0 0 0 0 0 0 0 0 0 0 0 0 0 0 0 0 0 0 0 0 0 0 0 0 0 0 0 0 0 0 0 0\n",
            " 0 0 0 0 0 0 0 0 0 0 0 0 0 0 0 0 0 0 0 0 0 0 0 0 0 0 0 0 0 0 0 0 0 0 0 0 0\n",
            " 0 0 0 0 0 0 0 0 0 0 0 0 0 0 0 0 0 0 0 0 0 0 0 0 0 0 0 0 0 0 0 0 0 0 0 0 0\n",
            " 0 0 0 0 0 0 0 0 0 0 0 0 0 0 0 0 0 0 0 0 0 0 0 0 0 0 0 0 0 0 0 0 0 0 0 0 0\n",
            " 0 0 0 0 0 0 0 0 0 0 0 0 0 0 0 0 0 0 0 0 0 0 0 0 0 0 0 0 0 0 0 0 0 0 0 0 0\n",
            " 0 0 0 0 0 0 0 0 0 0 0 0 0 0 0 0 0 0 0 0 0 0 0 0 0 0 0 0 0 0 0 0 0 0 0 0 0\n",
            " 0 0 0 0 0 0 0 0 0 0 0 0 0 0 0 0 0 0 0 0 0 0 0 0 0 0 0 0 0 0 0 0 0 0 0 0 0\n",
            " 0 0 0 0 0 0 0 0 0 0 0 0 0 0 0 0 0 0 0 0 0 0 0 0 0 0 0 0 0 0 0 0 0 0 0 0 0\n",
            " 0 0 0 0 0 0 0 0 0 0 0 0 0 0 0 0 0 0 0 0 0 0 0 0 0 0 0 0 0 0 0 0 0 0 0 0 0\n",
            " 0 0 0 0 0 0 0 0 0 0 0 0 0 0 0 0 0 0 0 0 0 0 0 0 0 0 0 0 0 0 0 0 0 0 0 0 0\n",
            " 0 0 0 0 0 0 0 0 0 0 0 0 0 0 0 0 0 0 0 0 0 0 0 0 0 0 0 0 0 0 0 0 0 0 0 0 0\n",
            " 0 0 0 0 0 0 0 0 0 0 0 0 0 0 0 0 0 0 0 0 0 0 0 0 0 0 0 0 0 0 0 0 0 0 0 0 0\n",
            " 0 0 0 0 0 0 0 0 0 0 0 0 0 0 0 0 0 0 0 0 0 0 0 0 0 0 0 0 0 0 0 0 0 0 0 0 0\n",
            " 0 0 0 0 0 0 0 0 0 0 0 0 0 0 0 0 0 0 0 0 0 0 0 0 0 0 0 0 0 0 0 0 0 0 0 0 0\n",
            " 0 0 0 0 0 0 0 0 0 0 0 0 0 0 0 0 0 0 0 0 0 0 0 0 0 0 0 0 0 0 0 0 0 0 0 0 0\n",
            " 0 0 0 0 0 0 0 0 0 0 0 0 0 0 0 0 0 0 0 0 0 0 0 0 0 0 0 0 0 0 0 0 0 0 0 0 0\n",
            " 0 0 0 0 0 0 0 0 0 0 0 0 0 0 0 0 0 0 0 0 0 0 0 0 0 0 0 0 0 0 0 0 0 0 0 0 0\n",
            " 0 0 0 0 0 0 0 0 0 0 0 0 0 0 0 0 0 0 0 0 0 0 0 0 0 0 0 0 0 0 0 0 0 0 0 0 0\n",
            " 0 0 0 0 0 0 0 0 0 0 0 0 0 0 0 0 0 0 0 0 0 0 0 0 0 0 0 0 0 0 0 0 0 0 0 0 0\n",
            " 0 0 0 0 0 0 0 0 0 0 0 0 0 0 0 0 0 0 0 0 0 0 0 0 0 0 0 0 0 0 0 0 0 0 0 0 0\n",
            " 0 0 0 0 0 0 0 0 0 0 0 0 0 0 0 0 0 0 0 0 0 0 0 0 0 0 0 0 0 0 0 0 0 0 0 0 0\n",
            " 0 0 0 0 0 0 0 0 0 1 1 1 1 1 1 1 1 1 1 1 1 1 1 1 1 1 1 1 1 1 1 1 1 1 1 1 1\n",
            " 1 1 1 1 1 1 1 1 1 1 1 1 1 1 1 1 1 1 1 1 1 1 1 1 1 1 1 1 1 1 1 1 1 1 1 1 1\n",
            " 1 1 1 1 1 1 1 1 1 1 1 1 1 1 1 1 1 1 1 1 1 1 1 1 1 1 1 1 1 1 1 1 1 1 1 2 2\n",
            " 2]\n"
          ]
        }
      ],
      "source": [
        "#Absolute error vector\n",
        "error_vec_5=abs(np.array(error_vec_5))\n",
        "error_vec_5.sort()\n",
        "print(error_vec_5)"
      ]
    },
    {
      "cell_type": "code",
      "execution_count": 198,
      "metadata": {
        "colab": {
          "base_uri": "https://localhost:8080/"
        },
        "id": "X5aJ4ra-tb7L",
        "outputId": "793299b5-37f2-429a-af95-41286041e1a9"
      },
      "outputs": [
        {
          "output_type": "stream",
          "name": "stdout",
          "text": [
            "[1 1 1 1 1 1 1 2 2 2]\n",
            "1.3\n"
          ]
        }
      ],
      "source": [
        "#extracting the worst absolute errors\n",
        "err_worst_dp_5=error_vec_5[-10:]\n",
        "print(err_worst_dp_5)\n",
        "print(sum(err_worst_dp_5)/len(err_worst_dp_5))"
      ]
    },
    {
      "cell_type": "code",
      "source": [
        "#Least amount of error to make it onto the naughty list; it only makes sense to have all the similarly ill performing histograms included\n",
        "dp_cutoff_5=abs(min(err_worst_dp_5))\n",
        "print(dp_cutoff_5)\n",
        "#print(err_worst_dp_5)\n",
        "dp_worst_vec_5=[]\n",
        "for i in range(len(dp_count_vec_5)):\n",
        "    c=abs(sum((dp_count_vec_5[i]-counts_np)))\n",
        "    if (c>=dp_cutoff_5):\n",
        "        dp_worst_vec_5.append(dp_count_vec_5[i])\n",
        "print(len(dp_worst_vec_5))"
      ],
      "metadata": {
        "id": "f8yF40XQga4-",
        "colab": {
          "base_uri": "https://localhost:8080/"
        },
        "outputId": "f041521c-725e-421f-df27-9a36b6dee5cc"
      },
      "execution_count": 199,
      "outputs": [
        {
          "output_type": "stream",
          "name": "stdout",
          "text": [
            "1\n",
            "103\n"
          ]
        }
      ]
    },
    {
      "cell_type": "code",
      "source": [
        "dp_worst_sums_5=[]\n",
        "for i in range(len(dp_worst_vec_5)):\n",
        "  dp_worst_sums_5.append(sum(dp_worst_vec_5[i]*np.arange(5,86,10)))\n",
        "print(dp_worst_sums_5)"
      ],
      "metadata": {
        "id": "GvQTiJpuhEOd",
        "colab": {
          "base_uri": "https://localhost:8080/"
        },
        "outputId": "904cb16b-78a6-4574-c3d2-245e65f6fda5"
      },
      "execution_count": 200,
      "outputs": [
        {
          "output_type": "stream",
          "name": "stdout",
          "text": [
            "[484820, 484730, 484770, 484820, 484820, 484710, 484770, 484770, 484680, 484790, 484680, 484740, 484820, 484680, 484750, 484690, 484720, 484750, 484720, 484700, 484730, 484690, 484670, 484670, 484760, 484840, 484810, 484730, 484810, 484700, 484790, 484780, 484740, 484760, 484730, 484670, 484690, 484820, 484700, 484810, 484720, 484760, 484770, 484680, 484670, 484820, 484720, 484680, 484740, 484690, 484760, 484830, 484915, 484820, 484780, 484840, 484690, 484700, 484840, 484740, 484740, 484800, 484730, 484820, 484840, 484720, 484800, 484820, 484740, 484680, 484700, 484780, 484830, 484770, 484820, 484750, 484840, 484820, 484720, 484645, 484790, 484790, 484690, 484680, 484830, 484810, 484820, 484790, 484820, 484810, 484700, 484710, 484690, 484770, 484715, 484780, 484830, 484750, 484720, 484740, 484670, 484820, 484770]\n"
          ]
        }
      ]
    },
    {
      "cell_type": "code",
      "execution_count": 201,
      "metadata": {
        "colab": {
          "base_uri": "https://localhost:8080/",
          "height": 279
        },
        "id": "hEdetvwItb7M",
        "outputId": "655e856e-c772-4ad2-e3cb-e7419a903104"
      },
      "outputs": [
        {
          "output_type": "display_data",
          "data": {
            "text/plain": [
              "<Figure size 432x288 with 1 Axes>"
            ],
            "image/png": "[encoded data removed]"
          },
          "metadata": {
            "needs_background": "light"
          }
        }
      ],
      "source": [
        "#Visualising empirical error : looks like a discrete Laplace distribution\n",
        "plt.hist(error_vec_5)\n",
        "plt.xlabel(\"Abs Error Magnitude\")\n",
        "plt.ylabel(\"Occurrences\")\n",
        "plt.show()"
      ]
    },
    {
      "cell_type": "code",
      "execution_count": 202,
      "metadata": {
        "colab": {
          "base_uri": "https://localhost:8080/",
          "height": 295
        },
        "id": "usIZ9YMf0mPl",
        "outputId": "bcfe3c4d-8a6e-4b55-9949-7fc79034414d"
      },
      "outputs": [
        {
          "output_type": "display_data",
          "data": {
            "text/plain": [
              "<Figure size 432x288 with 1 Axes>"
            ],
            "image/png": "[encoded data removed]"
          },
          "metadata": {
            "needs_background": "light"
          }
        }
      ],
      "source": [
        "# DP (eps=5) Vs Suppression\n",
        "abs_err_supp_arr_5=np.ones(len(err_worst_dp_5))*abs_err_supp_40_counts\n",
        "plt.scatter(range(len(err_worst_dp_5)),err_worst_dp_5-abs_err_supp_arr_5)\n",
        "plt.xlabel(\"Index of Runs\")\n",
        "plt.ylabel(\"DP Error Rel to Supp Error\")\n",
        "plt.title(\"DP vs Suppression - Error Analysis (eps=5)\")\n",
        "plt.show()"
      ]
    },
    {
      "cell_type": "code",
      "source": [
        "# DP (eps=5) vs Anon (k=20)\n",
        "abs_err_supp_arr_5=np.ones(len(err_worst_dp_5))*abs_err_supp_40_counts\n",
        "plt.scatter(range(len(err_worst_dp_5)),err_worst_dp_5-abs_err_supp_arr_5)\n",
        "plt.xlabel(\"Index of Runs\")\n",
        "plt.ylabel(\"DP Error Rel to Supp Error\")\n",
        "plt.title(\"DP vs Suppression - Error Analysis (eps=5)\")\n",
        "plt.show()"
      ],
      "metadata": {
        "colab": {
          "base_uri": "https://localhost:8080/",
          "height": 295
        },
        "id": "LKxWpByPmQxB",
        "outputId": "a097625c-9e82-40e2-c8fd-bbbbe42a0dc4"
      },
      "execution_count": 203,
      "outputs": [
        {
          "output_type": "display_data",
          "data": {
            "text/plain": [
              "<Figure size 432x288 with 1 Axes>"
            ],
            "image/png": "[encoded data removed]"
          },
          "metadata": {
            "needs_background": "light"
          }
        }
      ]
    },
    {
      "cell_type": "code",
      "execution_count": 204,
      "metadata": {
        "colab": {
          "base_uri": "https://localhost:8080/"
        },
        "id": "H1i_MymhXCqu",
        "outputId": "4ba018c1-3f27-4331-b913-fa5b1863d78b"
      },
      "outputs": [
        {
          "output_type": "stream",
          "name": "stdout",
          "text": [
            "484755\n",
            "1744.985\n"
          ]
        }
      ],
      "source": [
        "#Age sums\n",
        "age_sum_dp_5=sum(list(map(lambda a: ((a*10)+5)*dp_counts_5[a], range(len(dp_counts_5)))))\n",
        "print(age_sum_dp_5)\n",
        "#Minority Age Sum\n",
        "min_age_sum_dp_5=15*dp_avg_counts_5[1]+85*dp_avg_counts_5[-1]\n",
        "print(min_age_sum_dp_5)"
      ]
    },
    {
      "cell_type": "markdown",
      "metadata": {
        "id": "3O7lgMa1xX5Y"
      },
      "source": [
        "## Error Comparisons for Age Sums"
      ]
    },
    {
      "cell_type": "code",
      "execution_count": 205,
      "metadata": {
        "id": "NxoNw2lfxj4L",
        "scrolled": true,
        "colab": {
          "base_uri": "https://localhost:8080/"
        },
        "outputId": "74b2d650-76c1-4efd-d20d-c305e46a2b6e"
      },
      "outputs": [
        {
          "output_type": "stream",
          "name": "stdout",
          "text": [
            "1745 45\n"
          ]
        }
      ],
      "source": [
        "#Suppression errors\n",
        "supp_sum_err_20=age_sum_supp_20-sum(est_bin_age_sum)\n",
        "supp_sum_err_40=age_sum_supp_40-sum(est_bin_age_sum)\n",
        "print(abs(supp_sum_err_40),abs(supp_sum_err_20))"
      ]
    },
    {
      "cell_type": "code",
      "execution_count": 206,
      "metadata": {
        "colab": {
          "base_uri": "https://localhost:8080/"
        },
        "id": "damzNfewXCqu",
        "outputId": "d71f5d3b-71b4-42cf-a851-30d45bf76515"
      },
      "outputs": [
        {
          "output_type": "stream",
          "name": "stdout",
          "text": [
            "4485 4760\n"
          ]
        }
      ],
      "source": [
        "#Anonymisation error\n",
        "anon_sum_err_40=sum(anon_age_sum_40)-sum(est_bin_age_sum)\n",
        "anon_sum_err_20=sum(anon_age_sum_20)-sum(est_bin_age_sum)\n",
        "print(abs(anon_sum_err_40),abs(anon_sum_err_20))"
      ]
    },
    {
      "cell_type": "code",
      "execution_count": 207,
      "metadata": {
        "colab": {
          "base_uri": "https://localhost:8080/"
        },
        "id": "gExewNruXCqv",
        "outputId": "7800a3f3-b6ff-4704-e039-be98deb21b37"
      },
      "outputs": [
        {
          "output_type": "stream",
          "name": "stdout",
          "text": [
            "[395, 315, 710, 445, 435, 765, 465, 805, 415, 500, 720, 515, 365, 245, 575, 485, 595, 425, 730]\n"
          ]
        }
      ],
      "source": [
        "#DP Errors\n",
        "#For eps=1\n",
        "dp_errs_1=[]\n",
        "for i in range(len(dp_worst_sums_1)):\n",
        "  dp_errs_1.append(abs(dp_worst_sums_1[i]-sum(est_bin_age_sum)))\n",
        "print(dp_errs_1)"
      ]
    },
    {
      "cell_type": "code",
      "source": [
        "#For eps=2\n",
        "dp_errs_2=[]\n",
        "for i in range(len(dp_worst_sums_2)):\n",
        "  dp_errs_2.append(abs(dp_worst_sums_2[i]-sum(est_bin_age_sum)))\n",
        "print(dp_errs_2)\n",
        "#For eps=5\n",
        "dp_errs_5=[]\n",
        "for i in range(len(dp_worst_sums_5)):\n",
        "  dp_errs_5.append(abs(dp_worst_sums_5[i]-sum(est_bin_age_sum)))\n",
        "print(dp_errs_5)"
      ],
      "metadata": {
        "colab": {
          "base_uri": "https://localhost:8080/"
        },
        "id": "o_Lmhvyqb9Bl",
        "outputId": "64d3caa8-f086-4e7b-d28a-7419707cd7a0"
      },
      "execution_count": 208,
      "outputs": [
        {
          "output_type": "stream",
          "name": "stdout",
          "text": [
            "[370, 100, 195, 125, 225, 220, 175, 100, 280, 250, 370]\n",
            "[65, 25, 15, 65, 65, 45, 15, 15, 75, 35, 75, 15, 65, 75, 5, 65, 35, 5, 35, 55, 25, 65, 85, 85, 5, 85, 55, 25, 55, 55, 35, 25, 15, 5, 25, 85, 65, 65, 55, 55, 35, 5, 15, 75, 85, 65, 35, 75, 15, 65, 5, 75, 160, 65, 25, 85, 65, 55, 85, 15, 15, 45, 25, 65, 85, 35, 45, 65, 15, 75, 55, 25, 75, 15, 65, 5, 85, 65, 35, 110, 35, 35, 65, 75, 75, 55, 65, 35, 65, 55, 55, 45, 65, 15, 40, 25, 75, 5, 35, 15, 85, 65, 15]\n"
          ]
        }
      ]
    },
    {
      "cell_type": "markdown",
      "source": [
        "### Just to be nice: graphical representations of sum errors"
      ],
      "metadata": {
        "id": "43OlNZflbQx5"
      }
    },
    {
      "cell_type": "code",
      "source": [
        "plt.scatter(np.arange(1,len(dp_errs_1)+1),dp_errs_1)\n",
        "plt.plot([0,max(len(dp_errs_1)+1,len(dp_errs_2)+1,len(dp_errs_5)+1)],abs(supp_sum_err_20)*np.ones(2))\n",
        "plt.plot([0,max(len(dp_errs_1)+1,len(dp_errs_2)+1,len(dp_errs_5)+1)],abs(supp_sum_err_40)*np.ones(2))\n",
        "plt.plot([0,max(len(dp_errs_1)+1,len(dp_errs_2)+1,len(dp_errs_5)+1)],abs(supp_sum_err_20)*np.ones(2))\n",
        "plt.plot([0,max(len(dp_errs_1)+1,len(dp_errs_2)+1,len(dp_errs_5)+1)],abs(anon_sum_err_20)*np.ones(2))\n",
        "plt.plot([0,max(len(dp_errs_1)+1,len(dp_errs_2)+1,len(dp_errs_5)+1)],abs(supp_sum_err_40)*np.ones(2))\n",
        "plt.scatter(np.arange(1,len(dp_errs_2)+1),dp_errs_2)\n",
        "plt.scatter(np.arange(1,len(dp_errs_5)+1),dp_errs_5)"
      ],
      "metadata": {
        "colab": {
          "base_uri": "https://localhost:8080/",
          "height": 282
        },
        "id": "Q6hHxcuAbVbw",
        "outputId": "77f15668-9d71-4346-fcc5-ea66901d24f2"
      },
      "execution_count": 209,
      "outputs": [
        {
          "output_type": "execute_result",
          "data": {
            "text/plain": [
              "<matplotlib.collections.PathCollection at 0x7ffa011c37d0>"
            ]
          },
          "metadata": {},
          "execution_count": 209
        },
        {
          "output_type": "display_data",
          "data": {
            "text/plain": [
              "<Figure size 432x288 with 1 Axes>"
            ],
            "image/png": "[encoded data removed]"
          },
          "metadata": {
            "needs_background": "light"
          }
        }
      ]
    },
    {
      "cell_type": "code",
      "source": [
        "plt.plot([0,max(len(dp_errs_1)+1,len(dp_errs_2)+1,len(dp_errs_5)+1)],abs(supp_sum_err_20)*np.ones(2))\n",
        "plt.plot([0,max(len(dp_errs_1)+1,len(dp_errs_2)+1,len(dp_errs_5)+1)],abs(supp_sum_err_40)*np.ones(2))\n",
        "plt.plot([0,max(len(dp_errs_1)+1,len(dp_errs_2)+1,len(dp_errs_5)+1)],abs(supp_sum_err_20)*np.ones(2))\n",
        "plt.plot([0,max(len(dp_errs_1)+1,len(dp_errs_2)+1,len(dp_errs_5)+1)],abs(anon_sum_err_20)*np.ones(2))\n",
        "plt.plot([0,max(len(dp_errs_1)+1,len(dp_errs_2)+1,len(dp_errs_5)+1)],abs(supp_sum_err_40)*np.ones(2))"
      ],
      "metadata": {
        "colab": {
          "base_uri": "https://localhost:8080/",
          "height": 282
        },
        "id": "B5bqOW-3lf2J",
        "outputId": "c207f3d8-e948-4922-e4ae-e49ece40ff66"
      },
      "execution_count": 210,
      "outputs": [
        {
          "output_type": "execute_result",
          "data": {
            "text/plain": [
              "[<matplotlib.lines.Line2D at 0x7ffa011d1d90>]"
            ]
          },
          "metadata": {},
          "execution_count": 210
        },
        {
          "output_type": "display_data",
          "data": {
            "text/plain": [
              "<Figure size 432x288 with 1 Axes>"
            ],
            "image/png": "[encoded data removed]"
          },
          "metadata": {
            "needs_background": "light"
          }
        }
      ]
    },
    {
      "cell_type": "markdown",
      "source": [
        "## No. of times DP gets beaten (age sum)\n",
        "DP beats everything completely except for suppression with $k=20$ "
      ],
      "metadata": {
        "id": "9ktnITtstFHP"
      }
    },
    {
      "cell_type": "code",
      "source": [
        "agesum_supp_20_v_DP_1=[a for a in dp_errs_1 if a>abs(supp_sum_err_20)]\n",
        "print(len(agesum_supp_20_v_DP_1))\n",
        "print(len(dp_errs_1))"
      ],
      "metadata": {
        "colab": {
          "base_uri": "https://localhost:8080/"
        },
        "id": "ZeHc5jdGtI_-",
        "outputId": "c1994235-5ee6-4b06-ae74-0ecbd4bb11bb"
      },
      "execution_count": 211,
      "outputs": [
        {
          "output_type": "stream",
          "name": "stdout",
          "text": [
            "19\n",
            "19\n"
          ]
        }
      ]
    },
    {
      "cell_type": "code",
      "source": [
        "agesum_supp_40_v_DP_1=[a for a in dp_errs_1 if a>abs(supp_sum_err_40)]\n",
        "print(len(agesum_supp_40_v_DP_1))\n",
        "print(len(dp_errs_1))"
      ],
      "metadata": {
        "colab": {
          "base_uri": "https://localhost:8080/"
        },
        "id": "wXBRGBlAvB_y",
        "outputId": "52e7ca5e-3472-4670-c60f-d5406db698bb"
      },
      "execution_count": 212,
      "outputs": [
        {
          "output_type": "stream",
          "name": "stdout",
          "text": [
            "0\n",
            "19\n"
          ]
        }
      ]
    },
    {
      "cell_type": "code",
      "source": [
        "agesum_supp_20_v_DP_2=[a for a in dp_errs_2 if a>abs(supp_sum_err_20)]\n",
        "print(len(agesum_supp_20_v_DP_2))\n",
        "print(len(dp_errs_2))"
      ],
      "metadata": {
        "colab": {
          "base_uri": "https://localhost:8080/"
        },
        "id": "uUWw0MEWx48w",
        "outputId": "41f40cb5-15ed-40ed-a39c-bd464d84cbfe"
      },
      "execution_count": 213,
      "outputs": [
        {
          "output_type": "stream",
          "name": "stdout",
          "text": [
            "11\n",
            "11\n"
          ]
        }
      ]
    },
    {
      "cell_type": "code",
      "source": [
        "agesum_supp_40_v_DP_2=[a for a in dp_errs_2 if a>abs(supp_sum_err_40)]\n",
        "print(len(agesum_supp_40_v_DP_2))\n",
        "print(len(dp_errs_2))"
      ],
      "metadata": {
        "colab": {
          "base_uri": "https://localhost:8080/"
        },
        "id": "yAdqbyldyWKp",
        "outputId": "dda7e3ac-8955-468e-a127-bed4e69739ed"
      },
      "execution_count": 214,
      "outputs": [
        {
          "output_type": "stream",
          "name": "stdout",
          "text": [
            "0\n",
            "11\n"
          ]
        }
      ]
    },
    {
      "cell_type": "code",
      "source": [
        "agesum_supp_20_v_DP_5=[a for a in dp_errs_5 if a>abs(supp_sum_err_20)]\n",
        "print(len(agesum_supp_20_v_DP_5))\n",
        "print(len(dp_errs_5))"
      ],
      "metadata": {
        "colab": {
          "base_uri": "https://localhost:8080/"
        },
        "id": "xkZyggs-yumd",
        "outputId": "7a5a0659-3f50-403e-e528-3eb5ab56e095"
      },
      "execution_count": 215,
      "outputs": [
        {
          "output_type": "stream",
          "name": "stdout",
          "text": [
            "55\n",
            "103\n"
          ]
        }
      ]
    },
    {
      "cell_type": "code",
      "source": [
        "agesum_supp_40_v_DP_5=[a for a in dp_errs_5 if a>abs(supp_sum_err_40)]\n",
        "print(len(agesum_supp_40_v_DP_5))\n",
        "print(len(dp_errs_5))"
      ],
      "metadata": {
        "colab": {
          "base_uri": "https://localhost:8080/"
        },
        "id": "OGG2_0g2y2SI",
        "outputId": "b1bcfb0a-2f7d-4d5d-bb06-840b29daff8e"
      },
      "execution_count": 216,
      "outputs": [
        {
          "output_type": "stream",
          "name": "stdout",
          "text": [
            "0\n",
            "103\n"
          ]
        }
      ]
    }
  ],
  "metadata": {
    "colab": {
      "collapsed_sections": [],
      "name": "AdultSyr2.1.ipynb",
      "provenance": [],
      "include_colab_link": true
    },
    "kernelspec": {
      "display_name": "Python 3",
      "language": "python",
      "name": "python3"
    },
    "language_info": {
      "codemirror_mode": {
        "name": "ipython",
        "version": 3
      },
      "file_extension": ".py",
      "mimetype": "text/x-python",
      "name": "python",
      "nbconvert_exporter": "python",
      "pygments_lexer": "ipython3",
      "version": "3.8.8"
    }
  },
  "nbformat": 4,
  "nbformat_minor": 0
}